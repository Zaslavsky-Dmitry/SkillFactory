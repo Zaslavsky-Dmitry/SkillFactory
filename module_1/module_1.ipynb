{
 "cells": [
  {
   "cell_type": "code",
   "execution_count": 1,
   "metadata": {
    "_cell_guid": "b1076dfc-b9ad-4769-8c92-a6c4dae69d19",
    "_uuid": "8f2839f25d086af736a60e9eeb907d3b93b6e0e5",
    "colab": {},
    "colab_type": "code",
    "id": "U2D2gTdJVp90"
   },
   "outputs": [],
   "source": [
    "import numpy as np\n",
    "import pandas as pd\n",
    "import seaborn as sns\n",
    "import datetime as dt\n",
    "import matplotlib.pyplot as plt\n",
    "from datetime import datetime\n",
    "from collections import Counter\n",
    "from itertools import combinations"
   ]
  },
  {
   "cell_type": "code",
   "execution_count": 2,
   "metadata": {
    "_cell_guid": "79c7e3d0-c299-4dcb-8224-4455121ee9b0",
    "_uuid": "d629ff2d2480ee46fbb7e2d37f6b5fab8052498a",
    "colab": {},
    "colab_type": "code",
    "id": "oyGfxL3eVp9-"
   },
   "outputs": [
    {
     "data": {
      "text/html": [
       "<div>\n",
       "<style scoped>\n",
       "    .dataframe tbody tr th:only-of-type {\n",
       "        vertical-align: middle;\n",
       "    }\n",
       "\n",
       "    .dataframe tbody tr th {\n",
       "        vertical-align: top;\n",
       "    }\n",
       "\n",
       "    .dataframe thead th {\n",
       "        text-align: right;\n",
       "    }\n",
       "</style>\n",
       "<table border=\"1\" class=\"dataframe\">\n",
       "  <thead>\n",
       "    <tr style=\"text-align: right;\">\n",
       "      <th></th>\n",
       "      <th>imdb_id</th>\n",
       "      <th>budget</th>\n",
       "      <th>revenue</th>\n",
       "      <th>original_title</th>\n",
       "      <th>cast</th>\n",
       "      <th>director</th>\n",
       "      <th>tagline</th>\n",
       "      <th>overview</th>\n",
       "      <th>runtime</th>\n",
       "      <th>genres</th>\n",
       "      <th>production_companies</th>\n",
       "      <th>release_date</th>\n",
       "      <th>vote_average</th>\n",
       "      <th>release_year</th>\n",
       "    </tr>\n",
       "  </thead>\n",
       "  <tbody>\n",
       "    <tr>\n",
       "      <th>359</th>\n",
       "      <td>tt0458525</td>\n",
       "      <td>150000000</td>\n",
       "      <td>341131793</td>\n",
       "      <td>X-Men Origins: Wolverine</td>\n",
       "      <td>Hugh Jackman|Liev Schreiber|Danny Huston|Lynn ...</td>\n",
       "      <td>Gavin Hood</td>\n",
       "      <td>Witness the Origin.</td>\n",
       "      <td>After seeking to live a normal life, Logan set...</td>\n",
       "      <td>107</td>\n",
       "      <td>Adventure|Action|Thriller|Science Fiction</td>\n",
       "      <td>Ingenious Film Partners|Twentieth Century Fox ...</td>\n",
       "      <td>4/28/2009</td>\n",
       "      <td>6.2</td>\n",
       "      <td>2009</td>\n",
       "    </tr>\n",
       "    <tr>\n",
       "      <th>1216</th>\n",
       "      <td>tt2101441</td>\n",
       "      <td>5000000</td>\n",
       "      <td>31724284</td>\n",
       "      <td>Spring Breakers</td>\n",
       "      <td>James Franco|Selena Gomez|Vanessa Hudgens|Ashl...</td>\n",
       "      <td>Harmony Korine</td>\n",
       "      <td>A little sun can bring out your dark side.</td>\n",
       "      <td>After four college girls rob a restaurant to f...</td>\n",
       "      <td>94</td>\n",
       "      <td>Drama|Crime</td>\n",
       "      <td>RabbitBandini Productions|Division Films|Pop F...</td>\n",
       "      <td>1/24/2013</td>\n",
       "      <td>5.0</td>\n",
       "      <td>2013</td>\n",
       "    </tr>\n",
       "    <tr>\n",
       "      <th>109</th>\n",
       "      <td>tt3787590</td>\n",
       "      <td>6000000</td>\n",
       "      <td>11122090</td>\n",
       "      <td>We Are Your Friends</td>\n",
       "      <td>Zac Efron|Emily Ratajkowski|Wes Bentley|Nick R...</td>\n",
       "      <td>Max Joseph</td>\n",
       "      <td>The world is yours.</td>\n",
       "      <td>Young Cole Carter dreams of hitting the big ti...</td>\n",
       "      <td>96</td>\n",
       "      <td>Drama|Music|Romance</td>\n",
       "      <td>Working Title Films</td>\n",
       "      <td>8/26/2015</td>\n",
       "      <td>6.2</td>\n",
       "      <td>2015</td>\n",
       "    </tr>\n",
       "    <tr>\n",
       "      <th>1802</th>\n",
       "      <td>tt0162222</td>\n",
       "      <td>90000000</td>\n",
       "      <td>429632142</td>\n",
       "      <td>Cast Away</td>\n",
       "      <td>Tom Hanks|Helen Hunt|Chris Noth|Paul Sanchez|L...</td>\n",
       "      <td>Robert Zemeckis</td>\n",
       "      <td>At the edge of the world, his journey begins.</td>\n",
       "      <td>Chuck, a top international manager for FedEx, ...</td>\n",
       "      <td>143</td>\n",
       "      <td>Adventure|Drama</td>\n",
       "      <td>DreamWorks SKG|Twentieth Century Fox Film Corp...</td>\n",
       "      <td>12/22/2000</td>\n",
       "      <td>7.3</td>\n",
       "      <td>2000</td>\n",
       "    </tr>\n",
       "    <tr>\n",
       "      <th>1450</th>\n",
       "      <td>tt0452594</td>\n",
       "      <td>52000000</td>\n",
       "      <td>204999686</td>\n",
       "      <td>The Break-Up</td>\n",
       "      <td>Vince Vaughn|Jennifer Aniston|Joey Lauren Adam...</td>\n",
       "      <td>Peyton Reed</td>\n",
       "      <td>. . . pick a side.</td>\n",
       "      <td>Cohabitating couple Gary and Brooke find their...</td>\n",
       "      <td>106</td>\n",
       "      <td>Romance|Comedy</td>\n",
       "      <td>Universal Pictures|Mosaic Media Group|Wild Wes...</td>\n",
       "      <td>6/1/2006</td>\n",
       "      <td>5.5</td>\n",
       "      <td>2006</td>\n",
       "    </tr>\n",
       "  </tbody>\n",
       "</table>\n",
       "</div>"
      ],
      "text/plain": [
       "        imdb_id     budget    revenue            original_title  \\\n",
       "359   tt0458525  150000000  341131793  X-Men Origins: Wolverine   \n",
       "1216  tt2101441    5000000   31724284           Spring Breakers   \n",
       "109   tt3787590    6000000   11122090       We Are Your Friends   \n",
       "1802  tt0162222   90000000  429632142                 Cast Away   \n",
       "1450  tt0452594   52000000  204999686              The Break-Up   \n",
       "\n",
       "                                                   cast         director  \\\n",
       "359   Hugh Jackman|Liev Schreiber|Danny Huston|Lynn ...       Gavin Hood   \n",
       "1216  James Franco|Selena Gomez|Vanessa Hudgens|Ashl...   Harmony Korine   \n",
       "109   Zac Efron|Emily Ratajkowski|Wes Bentley|Nick R...       Max Joseph   \n",
       "1802  Tom Hanks|Helen Hunt|Chris Noth|Paul Sanchez|L...  Robert Zemeckis   \n",
       "1450  Vince Vaughn|Jennifer Aniston|Joey Lauren Adam...      Peyton Reed   \n",
       "\n",
       "                                            tagline  \\\n",
       "359                             Witness the Origin.   \n",
       "1216     A little sun can bring out your dark side.   \n",
       "109                             The world is yours.   \n",
       "1802  At the edge of the world, his journey begins.   \n",
       "1450                             . . . pick a side.   \n",
       "\n",
       "                                               overview  runtime  \\\n",
       "359   After seeking to live a normal life, Logan set...      107   \n",
       "1216  After four college girls rob a restaurant to f...       94   \n",
       "109   Young Cole Carter dreams of hitting the big ti...       96   \n",
       "1802  Chuck, a top international manager for FedEx, ...      143   \n",
       "1450  Cohabitating couple Gary and Brooke find their...      106   \n",
       "\n",
       "                                         genres  \\\n",
       "359   Adventure|Action|Thriller|Science Fiction   \n",
       "1216                                Drama|Crime   \n",
       "109                         Drama|Music|Romance   \n",
       "1802                            Adventure|Drama   \n",
       "1450                             Romance|Comedy   \n",
       "\n",
       "                                   production_companies release_date  \\\n",
       "359   Ingenious Film Partners|Twentieth Century Fox ...    4/28/2009   \n",
       "1216  RabbitBandini Productions|Division Films|Pop F...    1/24/2013   \n",
       "109                                 Working Title Films    8/26/2015   \n",
       "1802  DreamWorks SKG|Twentieth Century Fox Film Corp...   12/22/2000   \n",
       "1450  Universal Pictures|Mosaic Media Group|Wild Wes...     6/1/2006   \n",
       "\n",
       "      vote_average  release_year  \n",
       "359            6.2          2009  \n",
       "1216           5.0          2013  \n",
       "109            6.2          2015  \n",
       "1802           7.3          2000  \n",
       "1450           5.5          2006  "
      ]
     },
     "execution_count": 2,
     "metadata": {},
     "output_type": "execute_result"
    }
   ],
   "source": [
    "data = pd.read_csv('movie_bd_v5.csv')\n",
    "data.sample(5)"
   ]
  },
  {
   "cell_type": "code",
   "execution_count": 3,
   "metadata": {},
   "outputs": [
    {
     "data": {
      "text/html": [
       "<div>\n",
       "<style scoped>\n",
       "    .dataframe tbody tr th:only-of-type {\n",
       "        vertical-align: middle;\n",
       "    }\n",
       "\n",
       "    .dataframe tbody tr th {\n",
       "        vertical-align: top;\n",
       "    }\n",
       "\n",
       "    .dataframe thead th {\n",
       "        text-align: right;\n",
       "    }\n",
       "</style>\n",
       "<table border=\"1\" class=\"dataframe\">\n",
       "  <thead>\n",
       "    <tr style=\"text-align: right;\">\n",
       "      <th></th>\n",
       "      <th>budget</th>\n",
       "      <th>revenue</th>\n",
       "      <th>runtime</th>\n",
       "      <th>vote_average</th>\n",
       "      <th>release_year</th>\n",
       "    </tr>\n",
       "  </thead>\n",
       "  <tbody>\n",
       "    <tr>\n",
       "      <th>count</th>\n",
       "      <td>1.889000e+03</td>\n",
       "      <td>1.889000e+03</td>\n",
       "      <td>1889.000000</td>\n",
       "      <td>1889.000000</td>\n",
       "      <td>1889.000000</td>\n",
       "    </tr>\n",
       "    <tr>\n",
       "      <th>mean</th>\n",
       "      <td>5.431083e+07</td>\n",
       "      <td>1.553653e+08</td>\n",
       "      <td>109.658549</td>\n",
       "      <td>6.140762</td>\n",
       "      <td>2007.860773</td>\n",
       "    </tr>\n",
       "    <tr>\n",
       "      <th>std</th>\n",
       "      <td>4.858721e+07</td>\n",
       "      <td>2.146698e+08</td>\n",
       "      <td>18.017041</td>\n",
       "      <td>0.764763</td>\n",
       "      <td>4.468841</td>\n",
       "    </tr>\n",
       "    <tr>\n",
       "      <th>min</th>\n",
       "      <td>5.000000e+06</td>\n",
       "      <td>2.033165e+06</td>\n",
       "      <td>63.000000</td>\n",
       "      <td>3.300000</td>\n",
       "      <td>2000.000000</td>\n",
       "    </tr>\n",
       "    <tr>\n",
       "      <th>25%</th>\n",
       "      <td>2.000000e+07</td>\n",
       "      <td>3.456058e+07</td>\n",
       "      <td>97.000000</td>\n",
       "      <td>5.600000</td>\n",
       "      <td>2004.000000</td>\n",
       "    </tr>\n",
       "    <tr>\n",
       "      <th>50%</th>\n",
       "      <td>3.800000e+07</td>\n",
       "      <td>8.361541e+07</td>\n",
       "      <td>107.000000</td>\n",
       "      <td>6.100000</td>\n",
       "      <td>2008.000000</td>\n",
       "    </tr>\n",
       "    <tr>\n",
       "      <th>75%</th>\n",
       "      <td>7.200000e+07</td>\n",
       "      <td>1.782626e+08</td>\n",
       "      <td>120.000000</td>\n",
       "      <td>6.600000</td>\n",
       "      <td>2012.000000</td>\n",
       "    </tr>\n",
       "    <tr>\n",
       "      <th>max</th>\n",
       "      <td>3.800000e+08</td>\n",
       "      <td>2.781506e+09</td>\n",
       "      <td>214.000000</td>\n",
       "      <td>8.100000</td>\n",
       "      <td>2015.000000</td>\n",
       "    </tr>\n",
       "  </tbody>\n",
       "</table>\n",
       "</div>"
      ],
      "text/plain": [
       "             budget       revenue      runtime  vote_average  release_year\n",
       "count  1.889000e+03  1.889000e+03  1889.000000   1889.000000   1889.000000\n",
       "mean   5.431083e+07  1.553653e+08   109.658549      6.140762   2007.860773\n",
       "std    4.858721e+07  2.146698e+08    18.017041      0.764763      4.468841\n",
       "min    5.000000e+06  2.033165e+06    63.000000      3.300000   2000.000000\n",
       "25%    2.000000e+07  3.456058e+07    97.000000      5.600000   2004.000000\n",
       "50%    3.800000e+07  8.361541e+07   107.000000      6.100000   2008.000000\n",
       "75%    7.200000e+07  1.782626e+08   120.000000      6.600000   2012.000000\n",
       "max    3.800000e+08  2.781506e+09   214.000000      8.100000   2015.000000"
      ]
     },
     "execution_count": 3,
     "metadata": {},
     "output_type": "execute_result"
    }
   ],
   "source": [
    "data.describe()"
   ]
  },
  {
   "cell_type": "markdown",
   "metadata": {
    "colab_type": "text",
    "id": "DTIt7ezGVp-G"
   },
   "source": [
    "# Предобработка"
   ]
  },
  {
   "cell_type": "code",
   "execution_count": 4,
   "metadata": {
    "colab": {},
    "colab_type": "code",
    "id": "jNb40DwKVp-H",
    "scrolled": true
   },
   "outputs": [
    {
     "data": {
      "text/html": [
       "<div>\n",
       "<style scoped>\n",
       "    .dataframe tbody tr th:only-of-type {\n",
       "        vertical-align: middle;\n",
       "    }\n",
       "\n",
       "    .dataframe tbody tr th {\n",
       "        vertical-align: top;\n",
       "    }\n",
       "\n",
       "    .dataframe thead th {\n",
       "        text-align: right;\n",
       "    }\n",
       "</style>\n",
       "<table border=\"1\" class=\"dataframe\">\n",
       "  <thead>\n",
       "    <tr style=\"text-align: right;\">\n",
       "      <th></th>\n",
       "      <th>imdb_id</th>\n",
       "      <th>budget</th>\n",
       "      <th>revenue</th>\n",
       "      <th>original_title</th>\n",
       "      <th>cast</th>\n",
       "      <th>director</th>\n",
       "      <th>tagline</th>\n",
       "      <th>overview</th>\n",
       "      <th>runtime</th>\n",
       "      <th>genres</th>\n",
       "      <th>production_companies</th>\n",
       "      <th>release_date</th>\n",
       "      <th>vote_average</th>\n",
       "      <th>release_year</th>\n",
       "      <th>profit</th>\n",
       "    </tr>\n",
       "  </thead>\n",
       "  <tbody>\n",
       "    <tr>\n",
       "      <th>1471</th>\n",
       "      <td>tt0427229</td>\n",
       "      <td>50000000</td>\n",
       "      <td>88715192</td>\n",
       "      <td>Failure to Launch</td>\n",
       "      <td>Matthew McConaughey|Sarah Jessica Parker|Zooey...</td>\n",
       "      <td>Tom Dey</td>\n",
       "      <td>To leave the nest, some men just need a little...</td>\n",
       "      <td>Tripp, an attractive man in his thirties, is s...</td>\n",
       "      <td>97</td>\n",
       "      <td>Comedy</td>\n",
       "      <td>Paramount Pictures|Scott Rudin Productions|Fai...</td>\n",
       "      <td>2006-03-10</td>\n",
       "      <td>5.6</td>\n",
       "      <td>2006</td>\n",
       "      <td>38715192</td>\n",
       "    </tr>\n",
       "    <tr>\n",
       "      <th>1774</th>\n",
       "      <td>tt0465538</td>\n",
       "      <td>25000000</td>\n",
       "      <td>92991835</td>\n",
       "      <td>Michael Clayton</td>\n",
       "      <td>George Clooney|Tom Wilkinson|Tilda Swinton|Syd...</td>\n",
       "      <td>Tony Gilroy</td>\n",
       "      <td>The truth can be adjusted</td>\n",
       "      <td>A law firm brings in its 'fixer' to remedy the...</td>\n",
       "      <td>119</td>\n",
       "      <td>Drama|Mystery|Crime</td>\n",
       "      <td>Castle Rock Entertainment|Mirage Enterprises|S...</td>\n",
       "      <td>2007-09-28</td>\n",
       "      <td>6.3</td>\n",
       "      <td>2007</td>\n",
       "      <td>67991835</td>\n",
       "    </tr>\n",
       "    <tr>\n",
       "      <th>1263</th>\n",
       "      <td>tt0765446</td>\n",
       "      <td>40000000</td>\n",
       "      <td>74597643</td>\n",
       "      <td>Escape from Planet Earth</td>\n",
       "      <td>Brendan Fraser|Rob Corddry|Ricky Gervais|Jessi...</td>\n",
       "      <td>Callan Brunker</td>\n",
       "      <td>Earth's greatest secrets are about to break out!</td>\n",
       "      <td>Astronaut Scorch Supernova finds himself caugh...</td>\n",
       "      <td>89</td>\n",
       "      <td>Animation|Comedy|Adventure|Family|Science Fiction</td>\n",
       "      <td>Rainmaker Entertainment|Mainframe Entertainmen...</td>\n",
       "      <td>2013-02-14</td>\n",
       "      <td>5.8</td>\n",
       "      <td>2013</td>\n",
       "      <td>34597643</td>\n",
       "    </tr>\n",
       "    <tr>\n",
       "      <th>1425</th>\n",
       "      <td>tt0357507</td>\n",
       "      <td>20000000</td>\n",
       "      <td>67192859</td>\n",
       "      <td>Boogeyman</td>\n",
       "      <td>Emily Deschanel|Barry Watson|Skye McCole Bartu...</td>\n",
       "      <td>Stephen Kay</td>\n",
       "      <td>You thought it was just a story.</td>\n",
       "      <td>Every culture has one â€“ the horrible monster...</td>\n",
       "      <td>89</td>\n",
       "      <td>Thriller|Horror|Drama|Mystery</td>\n",
       "      <td>Ghost House Pictures|Senator International|Scr...</td>\n",
       "      <td>2005-02-04</td>\n",
       "      <td>4.5</td>\n",
       "      <td>2005</td>\n",
       "      <td>47192859</td>\n",
       "    </tr>\n",
       "    <tr>\n",
       "      <th>1412</th>\n",
       "      <td>tt0421054</td>\n",
       "      <td>50000000</td>\n",
       "      <td>22944502</td>\n",
       "      <td>Domino</td>\n",
       "      <td>Keira Knightley|Mickey Rourke|Edgar RamÃ­rez|D...</td>\n",
       "      <td>Tony Scott</td>\n",
       "      <td>Heads You Live... Tails You Die.</td>\n",
       "      <td>The daughter of actor, Laurence Harvey turns a...</td>\n",
       "      <td>127</td>\n",
       "      <td>Action|Crime</td>\n",
       "      <td>New Line Cinema|Davis-Films|Metropolitan Filme...</td>\n",
       "      <td>2005-09-22</td>\n",
       "      <td>6.1</td>\n",
       "      <td>2005</td>\n",
       "      <td>-27055498</td>\n",
       "    </tr>\n",
       "  </tbody>\n",
       "</table>\n",
       "</div>"
      ],
      "text/plain": [
       "        imdb_id    budget   revenue            original_title  \\\n",
       "1471  tt0427229  50000000  88715192         Failure to Launch   \n",
       "1774  tt0465538  25000000  92991835           Michael Clayton   \n",
       "1263  tt0765446  40000000  74597643  Escape from Planet Earth   \n",
       "1425  tt0357507  20000000  67192859                 Boogeyman   \n",
       "1412  tt0421054  50000000  22944502                    Domino   \n",
       "\n",
       "                                                   cast        director  \\\n",
       "1471  Matthew McConaughey|Sarah Jessica Parker|Zooey...         Tom Dey   \n",
       "1774  George Clooney|Tom Wilkinson|Tilda Swinton|Syd...     Tony Gilroy   \n",
       "1263  Brendan Fraser|Rob Corddry|Ricky Gervais|Jessi...  Callan Brunker   \n",
       "1425  Emily Deschanel|Barry Watson|Skye McCole Bartu...     Stephen Kay   \n",
       "1412  Keira Knightley|Mickey Rourke|Edgar RamÃ­rez|D...      Tony Scott   \n",
       "\n",
       "                                                tagline  \\\n",
       "1471  To leave the nest, some men just need a little...   \n",
       "1774                          The truth can be adjusted   \n",
       "1263   Earth's greatest secrets are about to break out!   \n",
       "1425                   You thought it was just a story.   \n",
       "1412                   Heads You Live... Tails You Die.   \n",
       "\n",
       "                                               overview  runtime  \\\n",
       "1471  Tripp, an attractive man in his thirties, is s...       97   \n",
       "1774  A law firm brings in its 'fixer' to remedy the...      119   \n",
       "1263  Astronaut Scorch Supernova finds himself caugh...       89   \n",
       "1425  Every culture has one â€“ the horrible monster...       89   \n",
       "1412  The daughter of actor, Laurence Harvey turns a...      127   \n",
       "\n",
       "                                                 genres  \\\n",
       "1471                                             Comedy   \n",
       "1774                                Drama|Mystery|Crime   \n",
       "1263  Animation|Comedy|Adventure|Family|Science Fiction   \n",
       "1425                      Thriller|Horror|Drama|Mystery   \n",
       "1412                                       Action|Crime   \n",
       "\n",
       "                                   production_companies release_date  \\\n",
       "1471  Paramount Pictures|Scott Rudin Productions|Fai...   2006-03-10   \n",
       "1774  Castle Rock Entertainment|Mirage Enterprises|S...   2007-09-28   \n",
       "1263  Rainmaker Entertainment|Mainframe Entertainmen...   2013-02-14   \n",
       "1425  Ghost House Pictures|Senator International|Scr...   2005-02-04   \n",
       "1412  New Line Cinema|Davis-Films|Metropolitan Filme...   2005-09-22   \n",
       "\n",
       "      vote_average  release_year    profit  \n",
       "1471           5.6          2006  38715192  \n",
       "1774           6.3          2007  67991835  \n",
       "1263           5.8          2013  34597643  \n",
       "1425           4.5          2005  47192859  \n",
       "1412           6.1          2005 -27055498  "
      ]
     },
     "metadata": {},
     "output_type": "display_data"
    },
    {
     "name": "stdout",
     "output_type": "stream",
     "text": [
      "<class 'pandas.core.frame.DataFrame'>\n",
      "RangeIndex: 1889 entries, 0 to 1888\n",
      "Data columns (total 15 columns):\n",
      " #   Column                Non-Null Count  Dtype         \n",
      "---  ------                --------------  -----         \n",
      " 0   imdb_id               1889 non-null   object        \n",
      " 1   budget                1889 non-null   int64         \n",
      " 2   revenue               1889 non-null   int64         \n",
      " 3   original_title        1889 non-null   object        \n",
      " 4   cast                  1889 non-null   object        \n",
      " 5   director              1889 non-null   object        \n",
      " 6   tagline               1889 non-null   object        \n",
      " 7   overview              1889 non-null   object        \n",
      " 8   runtime               1889 non-null   int64         \n",
      " 9   genres                1889 non-null   object        \n",
      " 10  production_companies  1889 non-null   object        \n",
      " 11  release_date          1889 non-null   datetime64[ns]\n",
      " 12  vote_average          1889 non-null   float64       \n",
      " 13  release_year          1889 non-null   int64         \n",
      " 14  profit                1889 non-null   int64         \n",
      "dtypes: datetime64[ns](1), float64(1), int64(5), object(8)\n",
      "memory usage: 221.5+ KB\n"
     ]
    },
    {
     "data": {
      "text/plain": [
       "None"
      ]
     },
     "metadata": {},
     "output_type": "display_data"
    }
   ],
   "source": [
    "answers = {} # создадим словарь для ответов\n",
    "\n",
    "data['profit'] = (data['revenue'] - data['budget']) # добавяем колонку 'profit' с прибылью от фильма\n",
    "data['release_date'] = pd.to_datetime(data['release_date']) # преобразовываем дату релиза\n",
    "\n",
    "display(data.sample(5)) # проверили что получилось\n",
    "\n",
    "display(data.info(verbose=True, null_counts=True)) # проверяем информацию о колонках датафрейма"
   ]
  },
  {
   "cell_type": "markdown",
   "metadata": {
    "colab_type": "text",
    "id": "YxZaH-nPVp-L"
   },
   "source": [
    "# 1. У какого фильма из списка самый большой бюджет?"
   ]
  },
  {
   "cell_type": "code",
   "execution_count": 5,
   "metadata": {
    "colab": {},
    "colab_type": "code",
    "id": "dZwb3m28Vp-S"
   },
   "outputs": [
    {
     "data": {
      "text/plain": [
       "'Pirates of the Caribbean: On Stranger Tides (tt1298650)'"
      ]
     },
     "metadata": {},
     "output_type": "display_data"
    }
   ],
   "source": [
    "\n",
    "i = data[data.budget == data.budget.max()] # находим фильм с максимальным бюджетом с помощью среза\n",
    "\n",
    "'''Следующий блок кода пригодится нам многократно для более\n",
    "читабельного вывода названия фильма: получив на вход строку датафрейма (i)\n",
    "на выходе мы получаем вывода формата \"название_фильма (идентификатор_imdb)\". '''\n",
    "title = str(i.original_title)    # переводим название фильма в строковую величину\n",
    "imdb = str(i.imdb_id)            # переводим идентификатор imdb в строковую величину\n",
    "i1 = title[title.find(' ') + 4 : title.find('\\nName:')]  # \"отсекаем\" лишние части строки\n",
    "i2 = imdb[imdb.find(' ') + 4 : imdb.find('\\nName:')]     # \"отсекаем\" лишние части строки\n",
    "outcome = ('{} ({})'.format(i1, i2))     # формируем итоговый вывод\n",
    "\n",
    "answers['1'] = outcome     \n",
    "\n",
    "display(answers['1'])"
   ]
  },
  {
   "cell_type": "markdown",
   "metadata": {
    "colab_type": "text",
    "id": "FNRbbI3vVp-c"
   },
   "source": [
    "# 2. Какой из фильмов самый длительный (в минутах)?"
   ]
  },
  {
   "cell_type": "code",
   "execution_count": 6,
   "metadata": {
    "colab": {},
    "colab_type": "code",
    "id": "ot-VX2XrVp-g"
   },
   "outputs": [
    {
     "data": {
      "text/plain": [
       "'Gods and Generals (tt0279111)'"
      ]
     },
     "metadata": {},
     "output_type": "display_data"
    }
   ],
   "source": [
    "i = data[data.runtime == data.runtime.max()]\n",
    "\n",
    "title = str(i.original_title)\n",
    "imdb = str(i.imdb_id)\n",
    "i1 = title[title.find(' ') + 4 : title.find('\\nName:')]\n",
    "i2 = imdb[imdb.find(' ') + 4 : imdb.find('\\nName:')]\n",
    "outcome = ('{} ({})'.format(i1, i2))\n",
    "\n",
    "answers['2'] = outcome     \n",
    "\n",
    "display(answers['2'])"
   ]
  },
  {
   "cell_type": "markdown",
   "metadata": {
    "colab_type": "text",
    "id": "bapLlpW8Vp-k"
   },
   "source": [
    "# 3. Какой из фильмов самый короткий (в минутах)?\n",
    "\n",
    "\n",
    "\n"
   ]
  },
  {
   "cell_type": "code",
   "execution_count": 7,
   "metadata": {
    "colab": {},
    "colab_type": "code",
    "id": "YBxaSHuAVp-l"
   },
   "outputs": [
    {
     "data": {
      "text/plain": [
       "'Winnie the Pooh (tt1449283)'"
      ]
     },
     "metadata": {},
     "output_type": "display_data"
    }
   ],
   "source": [
    "i = data[data.runtime == data.runtime.min()]\n",
    "\n",
    "title = str(i.original_title)\n",
    "imdb = str(i.imdb_id)\n",
    "i1 = title[title.find(' ') + 4 : title.find('\\nName:')]\n",
    "i2 = imdb[imdb.find(' ') + 4 : imdb.find('\\nName:')]\n",
    "outcome = ('{} ({})'.format(i1, i2))\n",
    "\n",
    "answers['3'] = outcome     \n",
    "\n",
    "display(answers['3'])"
   ]
  },
  {
   "cell_type": "markdown",
   "metadata": {
    "colab_type": "text",
    "id": "TfQbxbfNVp-p"
   },
   "source": [
    "# 4. Какова средняя длительность фильмов?\n"
   ]
  },
  {
   "cell_type": "code",
   "execution_count": 8,
   "metadata": {
    "colab": {},
    "colab_type": "code",
    "id": "5K6dKZYVVp-q"
   },
   "outputs": [
    {
     "data": {
      "text/plain": [
       "110"
      ]
     },
     "metadata": {},
     "output_type": "display_data"
    }
   ],
   "source": [
    "answers['4'] = round(data[\"runtime\"].mean())\n",
    "\n",
    "display(answers['4'])"
   ]
  },
  {
   "cell_type": "markdown",
   "metadata": {
    "colab_type": "text",
    "id": "r5TvbnT_Vp-u"
   },
   "source": [
    "# 5. Каково медианное значение длительности фильмов? "
   ]
  },
  {
   "cell_type": "code",
   "execution_count": 9,
   "metadata": {
    "colab": {},
    "colab_type": "code",
    "id": "iBROplKnVp-v"
   },
   "outputs": [
    {
     "data": {
      "text/plain": [
       "107"
      ]
     },
     "metadata": {},
     "output_type": "display_data"
    }
   ],
   "source": [
    "answers['5'] = round(data[\"runtime\"].median())\n",
    "\n",
    "display(answers['5'])"
   ]
  },
  {
   "cell_type": "markdown",
   "metadata": {
    "colab_type": "text",
    "id": "39P-deDSVp-y"
   },
   "source": [
    "# 6. Какой самый прибыльный фильм?\n",
    "#### Внимание! Здесь и далее под «прибылью» или «убытками» понимается разность между сборами и бюджетом фильма. (прибыль = сборы - бюджет) в нашем датасете это будет (profit = revenue - budget) "
   ]
  },
  {
   "cell_type": "code",
   "execution_count": 10,
   "metadata": {
    "colab": {},
    "colab_type": "code",
    "id": "UYZh4T9WVp-y"
   },
   "outputs": [
    {
     "data": {
      "text/plain": [
       "'Avatar (tt0499549)'"
      ]
     },
     "metadata": {},
     "output_type": "display_data"
    }
   ],
   "source": [
    "# лучше код получения столбца profit вынести в Предобработку что в начале\n",
    "\n",
    "i = data[data.profit == data.profit.max()]\n",
    "\n",
    "title = str(i.original_title)\n",
    "imdb = str(i.imdb_id)\n",
    "i1 = title[title.find(' ') + 4 : title.find('\\nName:')]\n",
    "i2 = imdb[imdb.find(' ') + 4 : imdb.find('\\nName:')]\n",
    "outcome = ('{} ({})'.format(i1, i2))\n",
    "\n",
    "answers['6'] = outcome     \n",
    "\n",
    "display(answers['6'])  "
   ]
  },
  {
   "cell_type": "markdown",
   "metadata": {
    "colab_type": "text",
    "id": "M99JmIX4Vp-2"
   },
   "source": [
    "# 7. Какой фильм самый убыточный? "
   ]
  },
  {
   "cell_type": "code",
   "execution_count": 11,
   "metadata": {
    "colab": {},
    "colab_type": "code",
    "id": "w-D2m4XPVp-3"
   },
   "outputs": [
    {
     "data": {
      "text/plain": [
       "'The Lone Ranger (tt1210819)'"
      ]
     },
     "metadata": {},
     "output_type": "display_data"
    }
   ],
   "source": [
    "i = data[data.profit == data.profit.min()]\n",
    "\n",
    "title = str(i.original_title)\n",
    "imdb = str(i.imdb_id)\n",
    "i1 = title[title.find(' ') + 4 : title.find('\\nName:')]\n",
    "i2 = imdb[imdb.find(' ') + 4 : imdb.find('\\nName:')]\n",
    "outcome = ('{} ({})'.format(i1, i2))\n",
    "\n",
    "answers['7'] = outcome     \n",
    "\n",
    "display(answers['7'])  "
   ]
  },
  {
   "cell_type": "markdown",
   "metadata": {
    "colab_type": "text",
    "id": "wEOM5ERVVp-6"
   },
   "source": [
    "# 8. У скольких фильмов из датасета объем сборов оказался выше бюджета?"
   ]
  },
  {
   "cell_type": "code",
   "execution_count": 12,
   "metadata": {
    "colab": {},
    "colab_type": "code",
    "id": "y00_7HD6Vp-7"
   },
   "outputs": [
    {
     "data": {
      "text/plain": [
       "1478"
      ]
     },
     "metadata": {},
     "output_type": "display_data"
    }
   ],
   "source": [
    "answers['8'] = len(data[data.profit > 0])\n",
    "\n",
    "display(answers['8'])  "
   ]
  },
  {
   "cell_type": "markdown",
   "metadata": {
    "colab_type": "text",
    "id": "xhpspA9KVp_A"
   },
   "source": [
    "# 9. Какой фильм оказался самым кассовым в 2008 году?"
   ]
  },
  {
   "cell_type": "code",
   "execution_count": 13,
   "metadata": {
    "colab": {},
    "colab_type": "code",
    "id": "MoUyQr9RVp_B"
   },
   "outputs": [
    {
     "data": {
      "text/plain": [
       "'The Dark Knight (tt0468569)'"
      ]
     },
     "metadata": {},
     "output_type": "display_data"
    }
   ],
   "source": [
    "i = data[data.revenue == data.query('release_year == 2008').revenue.max()]\n",
    "\n",
    "title = str(i.original_title)\n",
    "imdb = str(i.imdb_id)\n",
    "i1 = title[title.find(' ') + 4 : title.find('\\nName:')]\n",
    "i2 = imdb[imdb.find(' ') + 4 : imdb.find('\\nName:')]\n",
    "outcome = ('{} ({})'.format(i1, i2))\n",
    "\n",
    "answers['9'] = outcome     \n",
    "\n",
    "display(answers['9'])  "
   ]
  },
  {
   "cell_type": "markdown",
   "metadata": {
    "colab_type": "text",
    "id": "Zi4hDKidVp_F"
   },
   "source": [
    "# 10. Самый убыточный фильм за период с 2012 по 2014 г. (включительно)?"
   ]
  },
  {
   "cell_type": "code",
   "execution_count": 14,
   "metadata": {
    "colab": {},
    "colab_type": "code",
    "id": "XqyRmufJVp_F"
   },
   "outputs": [
    {
     "data": {
      "text/plain": [
       "'The Lone Ranger (tt1210819)'"
      ]
     },
     "metadata": {},
     "output_type": "display_data"
    }
   ],
   "source": [
    "i = data[data.profit == data.query('2012<=release_year & release_year<=2014').profit.min()]\n",
    "\n",
    "title = str(i.original_title)\n",
    "imdb = str(i.imdb_id)\n",
    "i1 = title[title.find(' ') + 4 : title.find('\\nName:')]\n",
    "i2 = imdb[imdb.find(' ') + 4 : imdb.find('\\nName:')]\n",
    "outcome = ('{} ({})'.format(i1, i2))\n",
    "\n",
    "answers['10'] = outcome     \n",
    "\n",
    "display(answers['10'])"
   ]
  },
  {
   "cell_type": "markdown",
   "metadata": {
    "colab_type": "text",
    "id": "EA7Sa9dkVp_I"
   },
   "source": [
    "# 11. Какого жанра фильмов больше всего?"
   ]
  },
  {
   "cell_type": "code",
   "execution_count": 15,
   "metadata": {},
   "outputs": [
    {
     "data": {
      "text/plain": [
       "'Drama'"
      ]
     },
     "metadata": {},
     "output_type": "display_data"
    }
   ],
   "source": [
    "'''В нашем датафрейме один фильм может принадлежать к нескольким жанрам, \n",
    "перечисленным через разделитель '|', из-за чего мы не можем просто работать с колонкой 'genres'.'''\n",
    "\n",
    "genres_list = data.genres.str.split('|').sum()  # заносим в общий список все жанры всех фильмов\n",
    "genres_series = pd.Series(genres_list)          # создаем pd.Series из списка\n",
    "genres_count = genres_series.value_counts()     # создаем упорядоченную по убыванию серию\n",
    "\n",
    "answers['11'] = genres_count.index[0]           # первый (максималный) элемент будет ответом\n",
    "\n",
    "display(answers['11'])\n"
   ]
  },
  {
   "cell_type": "markdown",
   "metadata": {
    "colab_type": "text",
    "id": "T9_bPWpkVp_Q"
   },
   "source": [
    "# 12. Фильмы какого жанра чаще всего становятся прибыльными? "
   ]
  },
  {
   "cell_type": "code",
   "execution_count": 16,
   "metadata": {
    "colab": {},
    "colab_type": "code",
    "id": "Tmt8MaK1Vp_R"
   },
   "outputs": [
    {
     "data": {
      "text/plain": [
       "'Drama'"
      ]
     },
     "metadata": {},
     "output_type": "display_data"
    }
   ],
   "source": [
    "'''Задача решается аналогично предыдущей, только для фильмов с прибылью ('profit') больше нуля'''\n",
    "\n",
    "genres_list = data[data['profit'] > 0].genres.str.split('|').sum()\n",
    "genres_series = pd.Series(genres_list) \n",
    "genres_count = genres_series.value_counts()\n",
    "\n",
    "answers['12'] = genres_count.index[0] \n",
    "\n",
    "display(answers['12'])"
   ]
  },
  {
   "cell_type": "markdown",
   "metadata": {
    "colab_type": "text",
    "id": "0F23bgsDVp_U"
   },
   "source": [
    "# 13. У какого режиссера самые большие суммарные кассовые сборы?"
   ]
  },
  {
   "cell_type": "markdown",
   "metadata": {},
   "source": [
    "Вариант 1:"
   ]
  },
  {
   "cell_type": "code",
   "execution_count": 17,
   "metadata": {},
   "outputs": [
    {
     "data": {
      "text/plain": [
       "'Peter Jackson'"
      ]
     },
     "metadata": {},
     "output_type": "display_data"
    }
   ],
   "source": [
    "directors_list = data.director.str.split('|').sum()  # создаем список всех режиссеров\n",
    "\n",
    "directors = []            # создаем список режиссеров и \"очищаем\" его от дубликатов\n",
    "for i in directors_list:\n",
    "    if i not in directors:\n",
    "        directors.append(i)\n",
    "\n",
    "director_revenue = {}     # создаем словарь куда будем вносить имя_режиссера:сумму_сборов\n",
    "for i in directors:\n",
    "    director_revenue[i] = data[data.director.str.contains(i)]['revenue'].sum()\n",
    "\n",
    "    \n",
    "# создаем pd.Series из словаря и выбираем элемент с максимальным значением\n",
    "answers['13'] = pd.Series(director_revenue).idxmax() \n",
    "\n",
    "display(answers['13'])"
   ]
  },
  {
   "cell_type": "markdown",
   "metadata": {},
   "source": [
    "Вариант 2:"
   ]
  },
  {
   "cell_type": "code",
   "execution_count": 18,
   "metadata": {
    "colab": {},
    "colab_type": "code",
    "id": "K6Z3J8ygVp_X",
    "scrolled": true
   },
   "outputs": [
    {
     "data": {
      "text/plain": [
       "'Peter Jackson'"
      ]
     },
     "metadata": {},
     "output_type": "display_data"
    }
   ],
   "source": [
    "# создаем список режиссеров с помощью .explode() и .tolist()\n",
    "directors = data.director.str.split('|').explode().value_counts().index.tolist()\n",
    "        \n",
    "directors_revenue = Counter() # для подсчета суммы сборов применяем счетчик вместо словаря\n",
    "for i in directors:\n",
    "    directors_revenue[i] = data.loc[data['director'].str.contains(i)]['revenue'].sum()\n",
    "\n",
    "answers['13'] = pd.Series(directors_revenue).idxmax() \n",
    "\n",
    "display(answers['13'])"
   ]
  },
  {
   "cell_type": "markdown",
   "metadata": {},
   "source": [
    "Вариант 3:"
   ]
  },
  {
   "cell_type": "code",
   "execution_count": 19,
   "metadata": {},
   "outputs": [
    {
     "data": {
      "text/plain": [
       "'Peter Jackson'"
      ]
     },
     "metadata": {},
     "output_type": "display_data"
    }
   ],
   "source": [
    "directors = data.copy()    # создаем копию исходного датафрейма, с которой будем работать\n",
    "\n",
    "directors['director'] = directors.director.str.split('|') # преобразуем перечень режиссеров в список\n",
    "directors=directors.explode('director')  # \"разбиваем\" список режиссеров для каждого фильма\n",
    "\n",
    "# группируем режиссеров по сумме прибыли, упорядочив по убыванию\n",
    "dirs_revenue = directors.groupby(['director'])['revenue'].sum().sort_values(ascending=False)\n",
    "\n",
    "answers['13'] = dirs_revenue.index[0] # первый (максималный) элемент будет ответом\n",
    "\n",
    "display(answers['13'])"
   ]
  },
  {
   "cell_type": "markdown",
   "metadata": {
    "colab_type": "text",
    "id": "PsYC9FgRVp_a"
   },
   "source": [
    "# 14. Какой режисер снял больше всего фильмов в стиле Action?"
   ]
  },
  {
   "cell_type": "code",
   "execution_count": 20,
   "metadata": {},
   "outputs": [
    {
     "data": {
      "text/plain": [
       "'Robert Rodriguez'"
      ]
     },
     "metadata": {},
     "output_type": "display_data"
    }
   ],
   "source": [
    "actions = data[data.genres.str.contains('Action')] # выбираем все экшены из датафрейма \n",
    "\n",
    "#создаем упорядоченную по убыванию серию с режиссерами\n",
    "actions_directors = actions.director.str.split('|').explode().value_counts()\n",
    "\n",
    "answers['14'] = actions_directors.index[0]        # первый (максималный) элемент будет ответом\n",
    "\n",
    "display(answers['14'])"
   ]
  },
  {
   "cell_type": "markdown",
   "metadata": {
    "colab_type": "text",
    "id": "PQ0KciD7Vp_f"
   },
   "source": [
    "# 15. Фильмы с каким актером принесли самые высокие кассовые сборы в 2012 году? "
   ]
  },
  {
   "cell_type": "markdown",
   "metadata": {},
   "source": [
    "Вариант 1:"
   ]
  },
  {
   "cell_type": "code",
   "execution_count": 21,
   "metadata": {
    "colab": {},
    "colab_type": "code",
    "id": "aga62oeKVp_g"
   },
   "outputs": [
    {
     "data": {
      "text/plain": [
       "'Chris Hemsworth'"
      ]
     },
     "metadata": {},
     "output_type": "display_data"
    }
   ],
   "source": [
    "films_2012 = data[data['release_year'] == 2012].copy()  # выбираем фильмы 2012 года \n",
    "\n",
    "# создаем список с именами всех актеров из фильмов 2012 года\n",
    "actors = films_2012.cast.str.split('|').explode().value_counts().index.tolist()\n",
    "\n",
    "actors_revenue = Counter() # создаем счетчик в котором будем суммировать сборы для актеров\n",
    "for i in actors:\n",
    "    actors_revenue[i] = films_2012.loc[data['cast'].str.contains(i)]['revenue'].sum()\n",
    "\n",
    "# создаем pd.Series из счетчика и выбираем 1й элемент (с максимальным значением)\n",
    "answers['15'] = pd.Series(actors_revenue).idxmax() \n",
    "\n",
    "display(answers['15'])"
   ]
  },
  {
   "cell_type": "markdown",
   "metadata": {},
   "source": [
    "Вариант 2:"
   ]
  },
  {
   "cell_type": "code",
   "execution_count": 22,
   "metadata": {},
   "outputs": [
    {
     "data": {
      "text/plain": [
       "'Chris Hemsworth'"
      ]
     },
     "metadata": {},
     "output_type": "display_data"
    }
   ],
   "source": [
    "films_2012 = data[data['release_year'] == 2012].copy()  # выбираем фильмы 2012 года \n",
    "\n",
    "films_2012['cast'] = films_2012.cast.str.split('|') # преобразуем перечень актеров в список\n",
    "films_2012=films_2012.explode('cast')   # \"разбиваем\" список актеров для каждого фильма\n",
    "\n",
    "# группируем актеров по сумме сборов, упорядочив по убыванию\n",
    "actors_profit = films_2012.groupby(['cast'])['revenue'].sum().sort_values(ascending=False)\n",
    "\n",
    "answers['15'] = actors_profit.index[0] # первый (максималный) элемент будет ответом\n",
    "\n",
    "display(answers['15'])"
   ]
  },
  {
   "cell_type": "markdown",
   "metadata": {
    "colab_type": "text",
    "id": "mWHyyL7QVp_j"
   },
   "source": [
    "# 16. Какой актер снялся в большем количестве высокобюджетных фильмов?\n",
    "#### Примечание: в фильмах, где бюджет выше среднего по данной выборке."
   ]
  },
  {
   "cell_type": "code",
   "execution_count": 23,
   "metadata": {
    "colab": {},
    "colab_type": "code",
    "id": "qQtmHKTFVp_k"
   },
   "outputs": [
    {
     "data": {
      "text/plain": [
       "'Matt Damon'"
      ]
     },
     "metadata": {},
     "output_type": "display_data"
    }
   ],
   "source": [
    "# создаем новый датафрейм с фильмами с бюджетом выше среднего\n",
    "high_b_films = data[data['budget'] > data['budget'].mean()]  \n",
    "\n",
    "#создаем упорядоченную по убыванию серию с актерами\n",
    "high_b_actors = high_b_films.cast.str.split('|').explode().value_counts()\n",
    "\n",
    "answers['16'] = high_b_actors.index[0]   # первый (максималный) элемент будет ответом\n",
    "\n",
    "display(answers['16'])"
   ]
  },
  {
   "cell_type": "markdown",
   "metadata": {
    "colab_type": "text",
    "id": "NIh6AaW5Vp_n"
   },
   "source": [
    "# 17. В фильмах какого жанра больше всего снимался Nicolas Cage? "
   ]
  },
  {
   "cell_type": "code",
   "execution_count": 24,
   "metadata": {
    "colab": {},
    "colab_type": "code",
    "id": "H74SJDIBVp_n"
   },
   "outputs": [
    {
     "data": {
      "text/plain": [
       "'Action'"
      ]
     },
     "metadata": {},
     "output_type": "display_data"
    }
   ],
   "source": [
    "# создаем новый датафрейм с фильмами с участием Николаса Кейджа\n",
    "n_cage = data[data.cast.str.contains('Nicolas Cage')] \n",
    "\n",
    "genres_list = n_cage.genres.str.split('|').sum()  # заносим в общий список все жанры фильмов\n",
    "genres_series = pd.Series(genres_list)            # создаем pd.Series из списка\n",
    "genres_count = genres_series.value_counts()       # создаем упорядоченную по убыванию серию\n",
    "\n",
    "answers['17'] = genres_count.index[0]             # первый (максималный) элемент будет ответом\n",
    "\n",
    "display(answers['17'])"
   ]
  },
  {
   "cell_type": "markdown",
   "metadata": {
    "colab_type": "text",
    "id": "RqOmPRfWVp_q"
   },
   "source": [
    "# 18. Самый убыточный фильм от Paramount Pictures"
   ]
  },
  {
   "cell_type": "code",
   "execution_count": 25,
   "metadata": {
    "colab": {},
    "colab_type": "code",
    "id": "9E_B0Y96Vp_r"
   },
   "outputs": [
    {
     "data": {
      "text/plain": [
       "'K-19: The Widowmaker (tt0267626)'"
      ]
     },
     "metadata": {},
     "output_type": "display_data"
    }
   ],
   "source": [
    "# создаем новый датафрейм с фильмами с от Paramount Pictures\n",
    "paramount = data[data.production_companies.str.contains('Paramount Pictures')]\n",
    "\n",
    "# выбираем фильм с наименьшей прибылью\n",
    "i = paramount[paramount.profit == paramount.profit.min()]\n",
    "\n",
    "title = str(i.original_title)\n",
    "imdb = str(i.imdb_id)\n",
    "i1 = title[title.find(' ') + 4 : title.find('\\nName:')]\n",
    "i2 = imdb[imdb.find(' ') + 4 : imdb.find('\\nName:')]\n",
    "outcome = ('{} ({})'.format(i1, i2))\n",
    "\n",
    "answers['18'] = outcome     \n",
    "\n",
    "display(answers['18'])  "
   ]
  },
  {
   "cell_type": "markdown",
   "metadata": {
    "colab_type": "text",
    "id": "vS8Ur6ddVp_u"
   },
   "source": [
    "# 19. Какой год стал самым успешным по суммарным кассовым сборам?"
   ]
  },
  {
   "cell_type": "code",
   "execution_count": 26,
   "metadata": {
    "colab": {},
    "colab_type": "code",
    "id": "Dnbt4GdIVp_v"
   },
   "outputs": [
    {
     "data": {
      "text/plain": [
       "2015"
      ]
     },
     "metadata": {},
     "output_type": "display_data"
    }
   ],
   "source": [
    "# группируем года выпуска фильмов по сумме сборов, упорядочив по убыванию\n",
    "years = data.groupby(['release_year'])['revenue'].sum().sort_values(ascending=False) \n",
    "\n",
    "answers['19'] = years.index[0]    # первый (максималный) элемент будет ответом\n",
    "\n",
    "display(answers['19'])  "
   ]
  },
  {
   "cell_type": "markdown",
   "metadata": {
    "colab_type": "text",
    "id": "JAzJh4QAVp_z"
   },
   "source": [
    "# 20. Какой самый прибыльный год для студии Warner Bros?"
   ]
  },
  {
   "cell_type": "code",
   "execution_count": 27,
   "metadata": {
    "colab": {},
    "colab_type": "code",
    "id": "wgVu02DEVp_0"
   },
   "outputs": [
    {
     "data": {
      "text/plain": [
       "2014"
      ]
     },
     "metadata": {},
     "output_type": "display_data"
    }
   ],
   "source": [
    "# создаем новый датафрейм с фильмами с от Warner Bros\n",
    "warner = data[data.production_companies.str.contains('Warner Bros')]\n",
    "\n",
    "# группируем года выпуска фильмов по сумме прибыли, упорядочив по убыванию\n",
    "years = warner.groupby(['release_year'])['profit'].sum().sort_values(ascending=False)\n",
    "\n",
    "answers['20'] = years.index[0]    # первый (максималный) элемент будет ответом\n",
    "\n",
    "display(answers['20'])  "
   ]
  },
  {
   "cell_type": "markdown",
   "metadata": {
    "colab_type": "text",
    "id": "8Im1S2HRVp_4"
   },
   "source": [
    "# 21. В каком месяце за все годы суммарно вышло больше всего фильмов?"
   ]
  },
  {
   "cell_type": "code",
   "execution_count": 28,
   "metadata": {
    "colab": {},
    "colab_type": "code",
    "id": "lev6TH7gVp_4"
   },
   "outputs": [
    {
     "data": {
      "text/plain": [
       "'Сентябрь'"
      ]
     },
     "metadata": {},
     "output_type": "display_data"
    }
   ],
   "source": [
    "# создаем список с месяцами релиза всех фильмов используя datetime.month\n",
    "months = []\n",
    "for i in range (len(data)):\n",
    "    months.append(data['release_date'][i].month)\n",
    "\n",
    "#создаем упорядоченную по убыванию серию с месяцами релиза\n",
    "months_count = pd.Series(months).value_counts()\n",
    "\n",
    "# первый (максималный) элемент будет ответом\n",
    "answer = months_count.index[0]\n",
    "\n",
    "# создаем список с \"прогумерованными\" названиями месяцев\n",
    "month_names= pd.Series([\"Январь\", \"Февраль\", \"Март\", \"Апрель\", \n",
    "                        \"Май\", \"Июнь\", \"Июль\", \"Август\", \n",
    "                        \"Сентябрь\", \"Октябрь\", \"Ноябрь\", \"Декабрь\"],\n",
    "                        index = range (1, 13))\n",
    "\n",
    "# первый (максималный) элемент будет ответом\n",
    "answers['21'] = month_names.loc[answer]    \n",
    "\n",
    "display(answers['21'])"
   ]
  },
  {
   "cell_type": "markdown",
   "metadata": {
    "colab_type": "text",
    "id": "uAJsZ_NeVp_7"
   },
   "source": [
    "# 22. Сколько суммарно вышло фильмов летом? (за июнь, июль, август)"
   ]
  },
  {
   "cell_type": "code",
   "execution_count": 29,
   "metadata": {
    "colab": {},
    "colab_type": "code",
    "id": "Aa-hEREoVp_8"
   },
   "outputs": [
    {
     "data": {
      "text/plain": [
       "450"
      ]
     },
     "metadata": {},
     "output_type": "display_data"
    }
   ],
   "source": [
    "# для решения будем использовать серию months_count, созданную на предыдущем шаге\n",
    "\n",
    "summer_films = 0\n",
    "for i in range (6, 9):   # просуммируем кол-во фильмов вышедших в 6, 7 и 8 месяц\n",
    "    summer_films += months_count.loc[i]\n",
    "    \n",
    "answers['22'] = summer_films\n",
    "\n",
    "display(answers['22'])"
   ]
  },
  {
   "cell_type": "markdown",
   "metadata": {
    "colab_type": "text",
    "id": "G94ppOY1VqAA"
   },
   "source": [
    "# 23. Для какого режиссера зима – самое продуктивное время года? "
   ]
  },
  {
   "cell_type": "code",
   "execution_count": 30,
   "metadata": {
    "colab": {},
    "colab_type": "code",
    "id": "RhNTsamuVqAB"
   },
   "outputs": [
    {
     "data": {
      "text/plain": [
       "'Peter Jackson'"
      ]
     },
     "metadata": {},
     "output_type": "display_data"
    }
   ],
   "source": [
    "# создаем запрос с перечислением зимних месяцев\n",
    "q = 'release_date.dt.month == 1 | release_date.dt.month == 2 | release_date.dt.month == 12'\n",
    "\n",
    "#создаем упорядоченную по убыванию серию с режиссерами\n",
    "winter_directors = data.query(q).director.str.split('|').explode().value_counts()\n",
    "\n",
    "answers['23'] = winter_directors.index[0]        # первый (максималный) элемент будет ответом\n",
    "\n",
    "display(answers['23'])"
   ]
  },
  {
   "cell_type": "markdown",
   "metadata": {
    "colab_type": "text",
    "id": "RBo0JVjVVqAF"
   },
   "source": [
    "# 24. Какая студия дает самые длинные названия своим фильмам по количеству символов?"
   ]
  },
  {
   "cell_type": "code",
   "execution_count": 31,
   "metadata": {
    "colab": {},
    "colab_type": "code",
    "id": "QRGS8L0iVqAG"
   },
   "outputs": [
    {
     "data": {
      "text/plain": [
       "'Four By Two Productions'"
      ]
     },
     "metadata": {},
     "output_type": "display_data"
    }
   ],
   "source": [
    "names = data.copy()    # создаем копию исходного датафрейма, с которой будем работать\n",
    "\n",
    "# заменяем колонку с названиями фильмов на их длины\n",
    "names['original_title'] = names.original_title.apply(lambda x: len(x))\n",
    "\n",
    "# превращаем перечень студий в список\n",
    "names['production_companies'] = names.production_companies.str.split('|')\n",
    "\n",
    "# \"разбиваем\" список студий для каждого фильма\n",
    "names = names.explode('production_companies')\n",
    "\n",
    "# создаем упорядоченную по убыванию серию со средними длинами названий фильмов каждой студии\n",
    "lengths = names.groupby(['production_companies'])['original_title'].mean()\\\n",
    "          .sort_values(ascending = False)\n",
    "\n",
    "answers['24'] = lengths.index[0]  # первый (максималный) элемент будет ответом\n",
    "\n",
    "display(answers['24'])"
   ]
  },
  {
   "cell_type": "markdown",
   "metadata": {
    "colab_type": "text",
    "id": "9G0hbvR7VqAK"
   },
   "source": [
    "# 25. Описание фильмов какой студии в среднем самые длинные по количеству слов?"
   ]
  },
  {
   "cell_type": "code",
   "execution_count": 32,
   "metadata": {
    "colab": {},
    "colab_type": "code",
    "id": "Ge2GsLNxVqAK"
   },
   "outputs": [
    {
     "data": {
      "text/plain": [
       "'Midnight Picture Show'"
      ]
     },
     "metadata": {},
     "output_type": "display_data"
    }
   ],
   "source": [
    "overviews = data.copy()    # создаем копию исходного датафрейма, с которой будем работать\n",
    "\n",
    "# заменяем колонку с описаниями фильмов на кол-во слов в них\n",
    "overviews['overview'] = overviews.overview.apply(lambda x: len(x.split()))\n",
    "\n",
    "# превращаем перечень студий в список\n",
    "overviews.production_companies = overviews.production_companies.str.split('|')\n",
    "\n",
    "# \"разбиваем\" список студий для каждого фильма\n",
    "overviews = overviews.explode('production_companies')\n",
    "\n",
    "# создаем упорядоченную по убыванию серию со средними длинами описаний фильмов каждой студии\n",
    "lengths = overviews.groupby(['production_companies'])['overview'].mean()\\\n",
    "          .sort_values(ascending = False)\n",
    "\n",
    "answers['25'] = lengths.index[0]  # первый (максималный) элемент будет ответом\n",
    "\n",
    "display(answers['25'])"
   ]
  },
  {
   "cell_type": "markdown",
   "metadata": {
    "colab_type": "text",
    "id": "FJ1AFt90VqAP"
   },
   "source": [
    "# 26. Какие фильмы входят в 1 процент лучших по рейтингу? \n",
    "по vote_average"
   ]
  },
  {
   "cell_type": "code",
   "execution_count": 33,
   "metadata": {
    "scrolled": true
   },
   "outputs": [
    {
     "data": {
      "text/plain": [
       "['Inside Out',\n",
       " 'Room',\n",
       " 'Interstellar',\n",
       " 'Guardians of the Galaxy',\n",
       " 'The Imitation Game',\n",
       " 'Gone Girl',\n",
       " 'The Grand Budapest Hotel',\n",
       " 'Inception',\n",
       " 'The Dark Knight',\n",
       " 'The Pianist',\n",
       " 'The Lord of the Rings: The Return of the King',\n",
       " 'The Wolf of Wall Street',\n",
       " '12 Years a Slave',\n",
       " 'Memento']"
      ]
     },
     "metadata": {},
     "output_type": "display_data"
    }
   ],
   "source": [
    "# вычисляем 99% квантиль рейтинга фильмов\n",
    "rate_99=data.quantile(0.99)['vote_average']\n",
    "\n",
    "# делаем выборку фильмов с рейтингом выше 99% квантиля\n",
    "best=data[data.vote_average > rate_99]\n",
    "\n",
    "# в качестве ответа берем список названий фильмов из выборки\n",
    "answers['26'] =  best.original_title.tolist()\n",
    "\n",
    "display(answers['26'])\n",
    "\n",
    "# В получившемся списке фильмов больше чем в вариантах ответа. Остается только\n",
    "# выбрать вариант, все фильмы которого содержатся в нашем списке"
   ]
  },
  {
   "cell_type": "markdown",
   "metadata": {
    "colab_type": "text",
    "id": "MdXsUXbCVqAV"
   },
   "source": [
    "# 27. Какие актеры чаще всего снимаются в одном фильме вместе?\n"
   ]
  },
  {
   "cell_type": "code",
   "execution_count": 34,
   "metadata": {},
   "outputs": [
    {
     "data": {
      "text/plain": [
       "[('Daniel Radcliffe', 'Rupert Grint'), ('Daniel Radcliffe', 'Emma Watson')]"
      ]
     },
     "metadata": {},
     "output_type": "display_data"
    }
   ],
   "source": [
    "actors = data.copy()    # создаем копию исходного датафрейма, с которой будем работать\n",
    "actors['cast'] = actors.cast.str.split('|')  # превращаем перечень актеров в список\n",
    "\n",
    "actor_pairs = []        # создаем список куда будем заносить пары актеров\n",
    "\n",
    "for i in range(len(actors)):\n",
    "    actor_pairs.extend(combinations(actors.loc[i].cast, 2))\n",
    "    \n",
    "pairs_series = pd.Series(actor_pairs) \n",
    "pairs_count = pairs_series.value_counts()\n",
    "pairs_df = pd.DataFrame(pairs_count, columns = ['counts'])\n",
    "pairs_max = pairs_df[pairs_df.counts == pairs_df.counts.max()]    \n",
    "\n",
    "# в качестве ответа берем список названий фильмов из выборки\n",
    "answers['27'] =  pairs_max.index.tolist()\n",
    "\n",
    "display(answers['27'])\n",
    "\n",
    "# Мы получили 2 пары актеров, снимавшихся вместе больше других, остается выбрать подходящую"
   ]
  },
  {
   "cell_type": "markdown",
   "metadata": {
    "colab_type": "text",
    "id": "U0nONFnGVqAX"
   },
   "source": [
    "# Submission"
   ]
  },
  {
   "cell_type": "code",
   "execution_count": 35,
   "metadata": {
    "colab": {},
    "colab_type": "code",
    "id": "IfcaRO9-VqAX",
    "outputId": "0f132912-32bb-4196-c98c-abfbc4ad5a5f"
   },
   "outputs": [
    {
     "data": {
      "text/plain": [
       "{'1': 'Pirates of the Caribbean: On Stranger Tides (tt1298650)',\n",
       " '2': 'Gods and Generals (tt0279111)',\n",
       " '3': 'Winnie the Pooh (tt1449283)',\n",
       " '4': 110,\n",
       " '5': 107,\n",
       " '6': 'Avatar (tt0499549)',\n",
       " '7': 'The Lone Ranger (tt1210819)',\n",
       " '8': 1478,\n",
       " '9': 'The Dark Knight (tt0468569)',\n",
       " '10': 'The Lone Ranger (tt1210819)',\n",
       " '11': 'Drama',\n",
       " '12': 'Drama',\n",
       " '13': 'Peter Jackson',\n",
       " '14': 'Robert Rodriguez',\n",
       " '15': 'Chris Hemsworth',\n",
       " '16': 'Matt Damon',\n",
       " '17': 'Action',\n",
       " '18': 'K-19: The Widowmaker (tt0267626)',\n",
       " '19': 2015,\n",
       " '20': 2014,\n",
       " '21': 'Сентябрь',\n",
       " '22': 450,\n",
       " '23': 'Peter Jackson',\n",
       " '24': 'Four By Two Productions',\n",
       " '25': 'Midnight Picture Show',\n",
       " '26': ['Inside Out',\n",
       "  'Room',\n",
       "  'Interstellar',\n",
       "  'Guardians of the Galaxy',\n",
       "  'The Imitation Game',\n",
       "  'Gone Girl',\n",
       "  'The Grand Budapest Hotel',\n",
       "  'Inception',\n",
       "  'The Dark Knight',\n",
       "  'The Pianist',\n",
       "  'The Lord of the Rings: The Return of the King',\n",
       "  'The Wolf of Wall Street',\n",
       "  '12 Years a Slave',\n",
       "  'Memento'],\n",
       " '27': [('Daniel Radcliffe', 'Rupert Grint'),\n",
       "  ('Daniel Radcliffe', 'Emma Watson')]}"
      ]
     },
     "metadata": {},
     "output_type": "display_data"
    }
   ],
   "source": [
    "# в конце можно посмотреть свои ответы к каждому вопросу\n",
    "display(answers)"
   ]
  },
  {
   "cell_type": "code",
   "execution_count": 36,
   "metadata": {
    "colab": {},
    "colab_type": "code",
    "id": "SiRmHPl8VqAd"
   },
   "outputs": [
    {
     "data": {
      "text/plain": [
       "27"
      ]
     },
     "execution_count": 36,
     "metadata": {},
     "output_type": "execute_result"
    }
   ],
   "source": [
    "# и убедиться что ни чего не пропустил)\n",
    "len(answers)"
   ]
  }
 ],
 "metadata": {
  "colab": {
   "name": "Copy of [SF-DST] Movies IMBD v4.1 TEMPLATE.ipynb",
   "provenance": []
  },
  "kernelspec": {
   "display_name": "Python 3",
   "language": "python",
   "name": "python3"
  },
  "language_info": {
   "codemirror_mode": {
    "name": "ipython",
    "version": 3
   },
   "file_extension": ".py",
   "mimetype": "text/x-python",
   "name": "python",
   "nbconvert_exporter": "python",
   "pygments_lexer": "ipython3",
   "version": "3.8.5"
  }
 },
 "nbformat": 4,
 "nbformat_minor": 1
}
