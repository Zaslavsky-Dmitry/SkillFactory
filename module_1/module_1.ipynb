{
 "cells": [
  {
   "cell_type": "code",
   "execution_count": 757,
   "metadata": {
    "_cell_guid": "b1076dfc-b9ad-4769-8c92-a6c4dae69d19",
    "_uuid": "8f2839f25d086af736a60e9eeb907d3b93b6e0e5",
    "colab": {},
    "colab_type": "code",
    "id": "U2D2gTdJVp90"
   },
   "outputs": [],
   "source": [
    "import numpy as np\n",
    "import pandas as pd\n",
    "import seaborn as sns\n",
    "import datetime as dt\n",
    "import matplotlib.pyplot as plt\n",
    "from datetime import datetime\n",
    "from collections import Counter\n",
    "from itertools import combinations"
   ]
  },
  {
   "cell_type": "code",
   "execution_count": 758,
   "metadata": {
    "_cell_guid": "79c7e3d0-c299-4dcb-8224-4455121ee9b0",
    "_uuid": "d629ff2d2480ee46fbb7e2d37f6b5fab8052498a",
    "colab": {},
    "colab_type": "code",
    "id": "oyGfxL3eVp9-"
   },
   "outputs": [
    {
     "data": {
      "text/html": [
       "<div>\n",
       "<style scoped>\n",
       "    .dataframe tbody tr th:only-of-type {\n",
       "        vertical-align: middle;\n",
       "    }\n",
       "\n",
       "    .dataframe tbody tr th {\n",
       "        vertical-align: top;\n",
       "    }\n",
       "\n",
       "    .dataframe thead th {\n",
       "        text-align: right;\n",
       "    }\n",
       "</style>\n",
       "<table border=\"1\" class=\"dataframe\">\n",
       "  <thead>\n",
       "    <tr style=\"text-align: right;\">\n",
       "      <th></th>\n",
       "      <th>imdb_id</th>\n",
       "      <th>budget</th>\n",
       "      <th>revenue</th>\n",
       "      <th>original_title</th>\n",
       "      <th>cast</th>\n",
       "      <th>director</th>\n",
       "      <th>tagline</th>\n",
       "      <th>overview</th>\n",
       "      <th>runtime</th>\n",
       "      <th>genres</th>\n",
       "      <th>production_companies</th>\n",
       "      <th>release_date</th>\n",
       "      <th>vote_average</th>\n",
       "      <th>release_year</th>\n",
       "    </tr>\n",
       "  </thead>\n",
       "  <tbody>\n",
       "    <tr>\n",
       "      <th>436</th>\n",
       "      <td>tt0964517</td>\n",
       "      <td>25000000</td>\n",
       "      <td>9190869</td>\n",
       "      <td>The Fighter</td>\n",
       "      <td>Mark Wahlberg|Christian Bale|Amy Adams|Melissa...</td>\n",
       "      <td>David O. Russell</td>\n",
       "      <td>Every dream deserves a fighting chance.</td>\n",
       "      <td>The Fighter, is a drama about boxer \"Irish\" Mi...</td>\n",
       "      <td>116</td>\n",
       "      <td>Drama</td>\n",
       "      <td>Paramount Pictures</td>\n",
       "      <td>12/17/2010</td>\n",
       "      <td>7.1</td>\n",
       "      <td>2010</td>\n",
       "    </tr>\n",
       "    <tr>\n",
       "      <th>1509</th>\n",
       "      <td>tt0469641</td>\n",
       "      <td>63000000</td>\n",
       "      <td>162945894</td>\n",
       "      <td>World Trade Center</td>\n",
       "      <td>Nicolas Cage|Maria Bello|Maggie Gyllenhaal|Mic...</td>\n",
       "      <td>Oliver Stone</td>\n",
       "      <td>The World Saw Evil That Day. Two Men Saw Somet...</td>\n",
       "      <td>On September, 11th 2001, after the terrorist a...</td>\n",
       "      <td>128</td>\n",
       "      <td>Drama|History|Thriller</td>\n",
       "      <td>Paramount Pictures|Double Feature Films|Interm...</td>\n",
       "      <td>8/9/2006</td>\n",
       "      <td>5.9</td>\n",
       "      <td>2006</td>\n",
       "    </tr>\n",
       "    <tr>\n",
       "      <th>886</th>\n",
       "      <td>tt0298203</td>\n",
       "      <td>41000000</td>\n",
       "      <td>215000000</td>\n",
       "      <td>8 Mile</td>\n",
       "      <td>Eminem|Mekhi Phifer|Brittany Murphy|Kim Basing...</td>\n",
       "      <td>Curtis Hanson</td>\n",
       "      <td>Every moment is another chance.</td>\n",
       "      <td>The setting is Detroit in 1995. The city is di...</td>\n",
       "      <td>110</td>\n",
       "      <td>Drama</td>\n",
       "      <td>Imagine Entertainment|Mikona Productions GmbH ...</td>\n",
       "      <td>11/8/2002</td>\n",
       "      <td>6.7</td>\n",
       "      <td>2002</td>\n",
       "    </tr>\n",
       "    <tr>\n",
       "      <th>1767</th>\n",
       "      <td>tt0419887</td>\n",
       "      <td>20000000</td>\n",
       "      <td>73276047</td>\n",
       "      <td>The Kite Runner</td>\n",
       "      <td>Khalid Abdalla|Atossa Leoni|Shaun Toub|Zekeria...</td>\n",
       "      <td>Marc Forster</td>\n",
       "      <td>There is a way to be good again.</td>\n",
       "      <td>The Kite Runner is a 2007 American drama film ...</td>\n",
       "      <td>128</td>\n",
       "      <td>Drama</td>\n",
       "      <td>DreamWorks SKG|MacDonald/Parkes Productions|Si...</td>\n",
       "      <td>10/14/2007</td>\n",
       "      <td>7.3</td>\n",
       "      <td>2007</td>\n",
       "    </tr>\n",
       "    <tr>\n",
       "      <th>768</th>\n",
       "      <td>tt1449283</td>\n",
       "      <td>30000000</td>\n",
       "      <td>14460000</td>\n",
       "      <td>Winnie the Pooh</td>\n",
       "      <td>Jim Cummings|Travis Oates|Jim Cummings|Bud Luc...</td>\n",
       "      <td>Stephen Anderson|Don Hall</td>\n",
       "      <td>Oh Pooh.</td>\n",
       "      <td>During an ordinary day in Hundred Acre Wood, W...</td>\n",
       "      <td>63</td>\n",
       "      <td>Animation|Family</td>\n",
       "      <td>Walt Disney Pictures|Walt Disney Animation Stu...</td>\n",
       "      <td>4/13/2011</td>\n",
       "      <td>6.8</td>\n",
       "      <td>2011</td>\n",
       "    </tr>\n",
       "  </tbody>\n",
       "</table>\n",
       "</div>"
      ],
      "text/plain": [
       "        imdb_id    budget    revenue      original_title  \\\n",
       "436   tt0964517  25000000    9190869         The Fighter   \n",
       "1509  tt0469641  63000000  162945894  World Trade Center   \n",
       "886   tt0298203  41000000  215000000              8 Mile   \n",
       "1767  tt0419887  20000000   73276047     The Kite Runner   \n",
       "768   tt1449283  30000000   14460000     Winnie the Pooh   \n",
       "\n",
       "                                                   cast  \\\n",
       "436   Mark Wahlberg|Christian Bale|Amy Adams|Melissa...   \n",
       "1509  Nicolas Cage|Maria Bello|Maggie Gyllenhaal|Mic...   \n",
       "886   Eminem|Mekhi Phifer|Brittany Murphy|Kim Basing...   \n",
       "1767  Khalid Abdalla|Atossa Leoni|Shaun Toub|Zekeria...   \n",
       "768   Jim Cummings|Travis Oates|Jim Cummings|Bud Luc...   \n",
       "\n",
       "                       director  \\\n",
       "436            David O. Russell   \n",
       "1509               Oliver Stone   \n",
       "886               Curtis Hanson   \n",
       "1767               Marc Forster   \n",
       "768   Stephen Anderson|Don Hall   \n",
       "\n",
       "                                                tagline  \\\n",
       "436             Every dream deserves a fighting chance.   \n",
       "1509  The World Saw Evil That Day. Two Men Saw Somet...   \n",
       "886                     Every moment is another chance.   \n",
       "1767                   There is a way to be good again.   \n",
       "768                                            Oh Pooh.   \n",
       "\n",
       "                                               overview  runtime  \\\n",
       "436   The Fighter, is a drama about boxer \"Irish\" Mi...      116   \n",
       "1509  On September, 11th 2001, after the terrorist a...      128   \n",
       "886   The setting is Detroit in 1995. The city is di...      110   \n",
       "1767  The Kite Runner is a 2007 American drama film ...      128   \n",
       "768   During an ordinary day in Hundred Acre Wood, W...       63   \n",
       "\n",
       "                      genres  \\\n",
       "436                    Drama   \n",
       "1509  Drama|History|Thriller   \n",
       "886                    Drama   \n",
       "1767                   Drama   \n",
       "768         Animation|Family   \n",
       "\n",
       "                                   production_companies release_date  \\\n",
       "436                                  Paramount Pictures   12/17/2010   \n",
       "1509  Paramount Pictures|Double Feature Films|Interm...     8/9/2006   \n",
       "886   Imagine Entertainment|Mikona Productions GmbH ...    11/8/2002   \n",
       "1767  DreamWorks SKG|MacDonald/Parkes Productions|Si...   10/14/2007   \n",
       "768   Walt Disney Pictures|Walt Disney Animation Stu...    4/13/2011   \n",
       "\n",
       "      vote_average  release_year  \n",
       "436            7.1          2010  \n",
       "1509           5.9          2006  \n",
       "886            6.7          2002  \n",
       "1767           7.3          2007  \n",
       "768            6.8          2011  "
      ]
     },
     "execution_count": 758,
     "metadata": {},
     "output_type": "execute_result"
    }
   ],
   "source": [
    "data = pd.read_csv('movie_bd_v5.csv')\n",
    "data.sample(5)"
   ]
  },
  {
   "cell_type": "code",
   "execution_count": 759,
   "metadata": {},
   "outputs": [
    {
     "data": {
      "text/html": [
       "<div>\n",
       "<style scoped>\n",
       "    .dataframe tbody tr th:only-of-type {\n",
       "        vertical-align: middle;\n",
       "    }\n",
       "\n",
       "    .dataframe tbody tr th {\n",
       "        vertical-align: top;\n",
       "    }\n",
       "\n",
       "    .dataframe thead th {\n",
       "        text-align: right;\n",
       "    }\n",
       "</style>\n",
       "<table border=\"1\" class=\"dataframe\">\n",
       "  <thead>\n",
       "    <tr style=\"text-align: right;\">\n",
       "      <th></th>\n",
       "      <th>budget</th>\n",
       "      <th>revenue</th>\n",
       "      <th>runtime</th>\n",
       "      <th>vote_average</th>\n",
       "      <th>release_year</th>\n",
       "    </tr>\n",
       "  </thead>\n",
       "  <tbody>\n",
       "    <tr>\n",
       "      <th>count</th>\n",
       "      <td>1.889000e+03</td>\n",
       "      <td>1.889000e+03</td>\n",
       "      <td>1889.000000</td>\n",
       "      <td>1889.000000</td>\n",
       "      <td>1889.000000</td>\n",
       "    </tr>\n",
       "    <tr>\n",
       "      <th>mean</th>\n",
       "      <td>5.431083e+07</td>\n",
       "      <td>1.553653e+08</td>\n",
       "      <td>109.658549</td>\n",
       "      <td>6.140762</td>\n",
       "      <td>2007.860773</td>\n",
       "    </tr>\n",
       "    <tr>\n",
       "      <th>std</th>\n",
       "      <td>4.858721e+07</td>\n",
       "      <td>2.146698e+08</td>\n",
       "      <td>18.017041</td>\n",
       "      <td>0.764763</td>\n",
       "      <td>4.468841</td>\n",
       "    </tr>\n",
       "    <tr>\n",
       "      <th>min</th>\n",
       "      <td>5.000000e+06</td>\n",
       "      <td>2.033165e+06</td>\n",
       "      <td>63.000000</td>\n",
       "      <td>3.300000</td>\n",
       "      <td>2000.000000</td>\n",
       "    </tr>\n",
       "    <tr>\n",
       "      <th>25%</th>\n",
       "      <td>2.000000e+07</td>\n",
       "      <td>3.456058e+07</td>\n",
       "      <td>97.000000</td>\n",
       "      <td>5.600000</td>\n",
       "      <td>2004.000000</td>\n",
       "    </tr>\n",
       "    <tr>\n",
       "      <th>50%</th>\n",
       "      <td>3.800000e+07</td>\n",
       "      <td>8.361541e+07</td>\n",
       "      <td>107.000000</td>\n",
       "      <td>6.100000</td>\n",
       "      <td>2008.000000</td>\n",
       "    </tr>\n",
       "    <tr>\n",
       "      <th>75%</th>\n",
       "      <td>7.200000e+07</td>\n",
       "      <td>1.782626e+08</td>\n",
       "      <td>120.000000</td>\n",
       "      <td>6.600000</td>\n",
       "      <td>2012.000000</td>\n",
       "    </tr>\n",
       "    <tr>\n",
       "      <th>max</th>\n",
       "      <td>3.800000e+08</td>\n",
       "      <td>2.781506e+09</td>\n",
       "      <td>214.000000</td>\n",
       "      <td>8.100000</td>\n",
       "      <td>2015.000000</td>\n",
       "    </tr>\n",
       "  </tbody>\n",
       "</table>\n",
       "</div>"
      ],
      "text/plain": [
       "             budget       revenue      runtime  vote_average  release_year\n",
       "count  1.889000e+03  1.889000e+03  1889.000000   1889.000000   1889.000000\n",
       "mean   5.431083e+07  1.553653e+08   109.658549      6.140762   2007.860773\n",
       "std    4.858721e+07  2.146698e+08    18.017041      0.764763      4.468841\n",
       "min    5.000000e+06  2.033165e+06    63.000000      3.300000   2000.000000\n",
       "25%    2.000000e+07  3.456058e+07    97.000000      5.600000   2004.000000\n",
       "50%    3.800000e+07  8.361541e+07   107.000000      6.100000   2008.000000\n",
       "75%    7.200000e+07  1.782626e+08   120.000000      6.600000   2012.000000\n",
       "max    3.800000e+08  2.781506e+09   214.000000      8.100000   2015.000000"
      ]
     },
     "execution_count": 759,
     "metadata": {},
     "output_type": "execute_result"
    }
   ],
   "source": [
    "data.describe()"
   ]
  },
  {
   "cell_type": "markdown",
   "metadata": {
    "colab_type": "text",
    "id": "DTIt7ezGVp-G"
   },
   "source": [
    "# Предобработка"
   ]
  },
  {
   "cell_type": "code",
   "execution_count": 760,
   "metadata": {
    "colab": {},
    "colab_type": "code",
    "id": "jNb40DwKVp-H",
    "scrolled": true
   },
   "outputs": [
    {
     "data": {
      "text/html": [
       "<div>\n",
       "<style scoped>\n",
       "    .dataframe tbody tr th:only-of-type {\n",
       "        vertical-align: middle;\n",
       "    }\n",
       "\n",
       "    .dataframe tbody tr th {\n",
       "        vertical-align: top;\n",
       "    }\n",
       "\n",
       "    .dataframe thead th {\n",
       "        text-align: right;\n",
       "    }\n",
       "</style>\n",
       "<table border=\"1\" class=\"dataframe\">\n",
       "  <thead>\n",
       "    <tr style=\"text-align: right;\">\n",
       "      <th></th>\n",
       "      <th>imdb_id</th>\n",
       "      <th>budget</th>\n",
       "      <th>revenue</th>\n",
       "      <th>original_title</th>\n",
       "      <th>cast</th>\n",
       "      <th>director</th>\n",
       "      <th>tagline</th>\n",
       "      <th>overview</th>\n",
       "      <th>runtime</th>\n",
       "      <th>genres</th>\n",
       "      <th>production_companies</th>\n",
       "      <th>release_date</th>\n",
       "      <th>vote_average</th>\n",
       "      <th>release_year</th>\n",
       "      <th>profit</th>\n",
       "    </tr>\n",
       "  </thead>\n",
       "  <tbody>\n",
       "    <tr>\n",
       "      <th>5</th>\n",
       "      <td>tt1663202</td>\n",
       "      <td>135000000</td>\n",
       "      <td>532950503</td>\n",
       "      <td>The Revenant</td>\n",
       "      <td>Leonardo DiCaprio|Tom Hardy|Will Poulter|Domhn...</td>\n",
       "      <td>Alejandro GonzÃ¡lez IÃ±Ã¡rritu</td>\n",
       "      <td>(n. One who has returned, as if from the dead.)</td>\n",
       "      <td>In the 1820s, a frontiersman, Hugh Glass, sets...</td>\n",
       "      <td>156</td>\n",
       "      <td>Western|Drama|Adventure|Thriller</td>\n",
       "      <td>Regency Enterprises|Appian Way|CatchPlay|Anony...</td>\n",
       "      <td>2015-12-25</td>\n",
       "      <td>7.2</td>\n",
       "      <td>2015</td>\n",
       "      <td>397950503</td>\n",
       "    </tr>\n",
       "    <tr>\n",
       "      <th>787</th>\n",
       "      <td>tt1093357</td>\n",
       "      <td>30000000</td>\n",
       "      <td>64626786</td>\n",
       "      <td>The Darkest Hour</td>\n",
       "      <td>Emile Hirsch|Rachael Taylor|Olivia Thirlby|Joe...</td>\n",
       "      <td>Chris Gorak</td>\n",
       "      <td>Survive The Holidays</td>\n",
       "      <td>The story tells of a group of young people who...</td>\n",
       "      <td>89</td>\n",
       "      <td>Horror|Action|Thriller|Science Fiction</td>\n",
       "      <td>Summit Entertainment|Regency Enterprises|Bazel...</td>\n",
       "      <td>2011-12-25</td>\n",
       "      <td>4.7</td>\n",
       "      <td>2011</td>\n",
       "      <td>34626786</td>\n",
       "    </tr>\n",
       "    <tr>\n",
       "      <th>728</th>\n",
       "      <td>tt0472399</td>\n",
       "      <td>40000000</td>\n",
       "      <td>51070807</td>\n",
       "      <td>The Mechanic</td>\n",
       "      <td>Jason Statham|Ben Foster|Donald Sutherland|Min...</td>\n",
       "      <td>Simon West</td>\n",
       "      <td>Someone has to fix the problems.</td>\n",
       "      <td>Arthur Bishop is a 'mechanic' - an elite assas...</td>\n",
       "      <td>93</td>\n",
       "      <td>Action|Thriller|Crime</td>\n",
       "      <td>CBS Films|Millennium Films|Chartoff-Winkler Pr...</td>\n",
       "      <td>2011-01-13</td>\n",
       "      <td>6.3</td>\n",
       "      <td>2011</td>\n",
       "      <td>11070807</td>\n",
       "    </tr>\n",
       "    <tr>\n",
       "      <th>1835</th>\n",
       "      <td>tt0146984</td>\n",
       "      <td>80000000</td>\n",
       "      <td>39459427</td>\n",
       "      <td>The Legend of Bagger Vance</td>\n",
       "      <td>Matt Damon|Bruce McGill|Charlize Theron|Will S...</td>\n",
       "      <td>Robert Redford</td>\n",
       "      <td>It Was Just A Moment Ago.</td>\n",
       "      <td>World War I has left golfer Rannulph Junuh a p...</td>\n",
       "      <td>126</td>\n",
       "      <td>Fantasy|Drama</td>\n",
       "      <td>DreamWorks SKG|Twentieth Century Fox Film Corp...</td>\n",
       "      <td>2000-11-02</td>\n",
       "      <td>6.2</td>\n",
       "      <td>2000</td>\n",
       "      <td>-40540573</td>\n",
       "    </tr>\n",
       "    <tr>\n",
       "      <th>638</th>\n",
       "      <td>tt0822832</td>\n",
       "      <td>60000000</td>\n",
       "      <td>244082376</td>\n",
       "      <td>Marley &amp; Me</td>\n",
       "      <td>Owen Wilson|Jennifer Aniston|Eric Dane|Kathlee...</td>\n",
       "      <td>David Frankel</td>\n",
       "      <td>Heel the love</td>\n",
       "      <td>A newly married couple who, in the process of ...</td>\n",
       "      <td>115</td>\n",
       "      <td>Comedy|Family</td>\n",
       "      <td>Sunswept Entertainment|Dune Entertainment III</td>\n",
       "      <td>2008-12-25</td>\n",
       "      <td>6.8</td>\n",
       "      <td>2008</td>\n",
       "      <td>184082376</td>\n",
       "    </tr>\n",
       "  </tbody>\n",
       "</table>\n",
       "</div>"
      ],
      "text/plain": [
       "        imdb_id     budget    revenue              original_title  \\\n",
       "5     tt1663202  135000000  532950503                The Revenant   \n",
       "787   tt1093357   30000000   64626786            The Darkest Hour   \n",
       "728   tt0472399   40000000   51070807                The Mechanic   \n",
       "1835  tt0146984   80000000   39459427  The Legend of Bagger Vance   \n",
       "638   tt0822832   60000000  244082376                 Marley & Me   \n",
       "\n",
       "                                                   cast  \\\n",
       "5     Leonardo DiCaprio|Tom Hardy|Will Poulter|Domhn...   \n",
       "787   Emile Hirsch|Rachael Taylor|Olivia Thirlby|Joe...   \n",
       "728   Jason Statham|Ben Foster|Donald Sutherland|Min...   \n",
       "1835  Matt Damon|Bruce McGill|Charlize Theron|Will S...   \n",
       "638   Owen Wilson|Jennifer Aniston|Eric Dane|Kathlee...   \n",
       "\n",
       "                            director  \\\n",
       "5     Alejandro GonzÃ¡lez IÃ±Ã¡rritu   \n",
       "787                      Chris Gorak   \n",
       "728                       Simon West   \n",
       "1835                  Robert Redford   \n",
       "638                    David Frankel   \n",
       "\n",
       "                                              tagline  \\\n",
       "5     (n. One who has returned, as if from the dead.)   \n",
       "787                              Survive The Holidays   \n",
       "728                  Someone has to fix the problems.   \n",
       "1835                        It Was Just A Moment Ago.   \n",
       "638                                     Heel the love   \n",
       "\n",
       "                                               overview  runtime  \\\n",
       "5     In the 1820s, a frontiersman, Hugh Glass, sets...      156   \n",
       "787   The story tells of a group of young people who...       89   \n",
       "728   Arthur Bishop is a 'mechanic' - an elite assas...       93   \n",
       "1835  World War I has left golfer Rannulph Junuh a p...      126   \n",
       "638   A newly married couple who, in the process of ...      115   \n",
       "\n",
       "                                      genres  \\\n",
       "5           Western|Drama|Adventure|Thriller   \n",
       "787   Horror|Action|Thriller|Science Fiction   \n",
       "728                    Action|Thriller|Crime   \n",
       "1835                           Fantasy|Drama   \n",
       "638                            Comedy|Family   \n",
       "\n",
       "                                   production_companies release_date  \\\n",
       "5     Regency Enterprises|Appian Way|CatchPlay|Anony...   2015-12-25   \n",
       "787   Summit Entertainment|Regency Enterprises|Bazel...   2011-12-25   \n",
       "728   CBS Films|Millennium Films|Chartoff-Winkler Pr...   2011-01-13   \n",
       "1835  DreamWorks SKG|Twentieth Century Fox Film Corp...   2000-11-02   \n",
       "638       Sunswept Entertainment|Dune Entertainment III   2008-12-25   \n",
       "\n",
       "      vote_average  release_year     profit  \n",
       "5              7.2          2015  397950503  \n",
       "787            4.7          2011   34626786  \n",
       "728            6.3          2011   11070807  \n",
       "1835           6.2          2000  -40540573  \n",
       "638            6.8          2008  184082376  "
      ]
     },
     "metadata": {},
     "output_type": "display_data"
    },
    {
     "name": "stdout",
     "output_type": "stream",
     "text": [
      "<class 'pandas.core.frame.DataFrame'>\n",
      "RangeIndex: 1889 entries, 0 to 1888\n",
      "Data columns (total 15 columns):\n",
      " #   Column                Non-Null Count  Dtype         \n",
      "---  ------                --------------  -----         \n",
      " 0   imdb_id               1889 non-null   object        \n",
      " 1   budget                1889 non-null   int64         \n",
      " 2   revenue               1889 non-null   int64         \n",
      " 3   original_title        1889 non-null   object        \n",
      " 4   cast                  1889 non-null   object        \n",
      " 5   director              1889 non-null   object        \n",
      " 6   tagline               1889 non-null   object        \n",
      " 7   overview              1889 non-null   object        \n",
      " 8   runtime               1889 non-null   int64         \n",
      " 9   genres                1889 non-null   object        \n",
      " 10  production_companies  1889 non-null   object        \n",
      " 11  release_date          1889 non-null   datetime64[ns]\n",
      " 12  vote_average          1889 non-null   float64       \n",
      " 13  release_year          1889 non-null   int64         \n",
      " 14  profit                1889 non-null   int64         \n",
      "dtypes: datetime64[ns](1), float64(1), int64(5), object(8)\n",
      "memory usage: 221.5+ KB\n"
     ]
    },
    {
     "data": {
      "text/plain": [
       "None"
      ]
     },
     "metadata": {},
     "output_type": "display_data"
    }
   ],
   "source": [
    "answers = {} # создадим словарь для ответов\n",
    "\n",
    "data['profit'] = (data['revenue'] - data['budget']) # добавяем колонку 'profit' с прибылью от фильма\n",
    "data['release_date'] = pd.to_datetime(data['release_date']) # преобразовываем дату релиза\n",
    "\n",
    "display(data.sample(5)) # проверили что получилось\n",
    "\n",
    "display(data.info(verbose=True, null_counts=True)) # проверяем информацию о колонках датафрейма"
   ]
  },
  {
   "cell_type": "markdown",
   "metadata": {
    "colab_type": "text",
    "id": "YxZaH-nPVp-L"
   },
   "source": [
    "# 1. У какого фильма из списка самый большой бюджет?"
   ]
  },
  {
   "cell_type": "code",
   "execution_count": 761,
   "metadata": {
    "colab": {},
    "colab_type": "code",
    "id": "dZwb3m28Vp-S"
   },
   "outputs": [
    {
     "data": {
      "text/plain": [
       "'Pirates of the Caribbean: On Stranger Tides (tt1298650)'"
      ]
     },
     "metadata": {},
     "output_type": "display_data"
    }
   ],
   "source": [
    "\n",
    "i = data[data.budget == data.budget.max()] # находим фильм с максимальным бюджетом с помощью среза\n",
    "\n",
    "'''Следующий блок кода пригодится нам многократно для более\n",
    "читабельного вывода названия фильма: получив на вход строку датафрейма (i)\n",
    "на выходе мы получаем вывода формата \"название_фильма (идентификатор_imdb)\". '''\n",
    "title = str(i.original_title)    # переводим название фильма в строковую величину\n",
    "imdb = str(i.imdb_id)            # переводим идентификатор imdb в строковую величину\n",
    "i1 = title[title.find(' ') + 4 : title.find('\\nName:')]  # \"отсекаем\" лишние части строки\n",
    "i2 = imdb[imdb.find(' ') + 4 : imdb.find('\\nName:')]     # \"отсекаем\" лишние части строки\n",
    "outcome = ('{} ({})'.format(i1, i2))     # формируем итоговый вывод\n",
    "\n",
    "answers['1'] = outcome     \n",
    "\n",
    "display(answers['1'])"
   ]
  },
  {
   "cell_type": "markdown",
   "metadata": {
    "colab_type": "text",
    "id": "FNRbbI3vVp-c"
   },
   "source": [
    "# 2. Какой из фильмов самый длительный (в минутах)?"
   ]
  },
  {
   "cell_type": "code",
   "execution_count": 762,
   "metadata": {
    "colab": {},
    "colab_type": "code",
    "id": "ot-VX2XrVp-g"
   },
   "outputs": [
    {
     "data": {
      "text/plain": [
       "'Gods and Generals (tt0279111)'"
      ]
     },
     "metadata": {},
     "output_type": "display_data"
    }
   ],
   "source": [
    "i = data[data.runtime == data.runtime.max()]\n",
    "\n",
    "title = str(i.original_title)\n",
    "imdb = str(i.imdb_id)\n",
    "i1 = title[title.find(' ') + 4 : title.find('\\nName:')]\n",
    "i2 = imdb[imdb.find(' ') + 4 : imdb.find('\\nName:')]\n",
    "outcome = ('{} ({})'.format(i1, i2))\n",
    "\n",
    "answers['2'] = outcome     \n",
    "\n",
    "display(answers['2'])"
   ]
  },
  {
   "cell_type": "markdown",
   "metadata": {
    "colab_type": "text",
    "id": "bapLlpW8Vp-k"
   },
   "source": [
    "# 3. Какой из фильмов самый короткий (в минутах)?\n",
    "\n",
    "\n",
    "\n"
   ]
  },
  {
   "cell_type": "code",
   "execution_count": 763,
   "metadata": {
    "colab": {},
    "colab_type": "code",
    "id": "YBxaSHuAVp-l"
   },
   "outputs": [
    {
     "data": {
      "text/plain": [
       "'Winnie the Pooh (tt1449283)'"
      ]
     },
     "metadata": {},
     "output_type": "display_data"
    }
   ],
   "source": [
    "i = data[data.runtime == data.runtime.min()]\n",
    "\n",
    "title = str(i.original_title)\n",
    "imdb = str(i.imdb_id)\n",
    "i1 = title[title.find(' ') + 4 : title.find('\\nName:')]\n",
    "i2 = imdb[imdb.find(' ') + 4 : imdb.find('\\nName:')]\n",
    "outcome = ('{} ({})'.format(i1, i2))\n",
    "\n",
    "answers['3'] = outcome     \n",
    "\n",
    "display(answers['3'])"
   ]
  },
  {
   "cell_type": "markdown",
   "metadata": {
    "colab_type": "text",
    "id": "TfQbxbfNVp-p"
   },
   "source": [
    "# 4. Какова средняя длительность фильмов?\n"
   ]
  },
  {
   "cell_type": "code",
   "execution_count": 764,
   "metadata": {
    "colab": {},
    "colab_type": "code",
    "id": "5K6dKZYVVp-q"
   },
   "outputs": [
    {
     "data": {
      "text/plain": [
       "110"
      ]
     },
     "metadata": {},
     "output_type": "display_data"
    }
   ],
   "source": [
    "answers['4'] = round(data[\"runtime\"].mean())\n",
    "\n",
    "display(answers['4'])"
   ]
  },
  {
   "cell_type": "markdown",
   "metadata": {
    "colab_type": "text",
    "id": "r5TvbnT_Vp-u"
   },
   "source": [
    "# 5. Каково медианное значение длительности фильмов? "
   ]
  },
  {
   "cell_type": "code",
   "execution_count": 765,
   "metadata": {
    "colab": {},
    "colab_type": "code",
    "id": "iBROplKnVp-v"
   },
   "outputs": [
    {
     "data": {
      "text/plain": [
       "107"
      ]
     },
     "metadata": {},
     "output_type": "display_data"
    }
   ],
   "source": [
    "answers['5'] = round(data[\"runtime\"].median())\n",
    "\n",
    "display(answers['5'])"
   ]
  },
  {
   "cell_type": "markdown",
   "metadata": {
    "colab_type": "text",
    "id": "39P-deDSVp-y"
   },
   "source": [
    "# 6. Какой самый прибыльный фильм?\n",
    "#### Внимание! Здесь и далее под «прибылью» или «убытками» понимается разность между сборами и бюджетом фильма. (прибыль = сборы - бюджет) в нашем датасете это будет (profit = revenue - budget) "
   ]
  },
  {
   "cell_type": "code",
   "execution_count": 766,
   "metadata": {
    "colab": {},
    "colab_type": "code",
    "id": "UYZh4T9WVp-y"
   },
   "outputs": [
    {
     "data": {
      "text/plain": [
       "'Avatar (tt0499549)'"
      ]
     },
     "metadata": {},
     "output_type": "display_data"
    }
   ],
   "source": [
    "# лучше код получения столбца profit вынести в Предобработку что в начале\n",
    "\n",
    "i = data[data.profit == data.profit.max()]\n",
    "\n",
    "title = str(i.original_title)\n",
    "imdb = str(i.imdb_id)\n",
    "i1 = title[title.find(' ') + 4 : title.find('\\nName:')]\n",
    "i2 = imdb[imdb.find(' ') + 4 : imdb.find('\\nName:')]\n",
    "outcome = ('{} ({})'.format(i1, i2))\n",
    "\n",
    "answers['6'] = outcome     \n",
    "\n",
    "display(answers['6'])  "
   ]
  },
  {
   "cell_type": "markdown",
   "metadata": {
    "colab_type": "text",
    "id": "M99JmIX4Vp-2"
   },
   "source": [
    "# 7. Какой фильм самый убыточный? "
   ]
  },
  {
   "cell_type": "code",
   "execution_count": 767,
   "metadata": {
    "colab": {},
    "colab_type": "code",
    "id": "w-D2m4XPVp-3"
   },
   "outputs": [
    {
     "data": {
      "text/plain": [
       "'The Lone Ranger (tt1210819)'"
      ]
     },
     "metadata": {},
     "output_type": "display_data"
    }
   ],
   "source": [
    "i = data[data.profit == data.profit.min()]\n",
    "\n",
    "title = str(i.original_title)\n",
    "imdb = str(i.imdb_id)\n",
    "i1 = title[title.find(' ') + 4 : title.find('\\nName:')]\n",
    "i2 = imdb[imdb.find(' ') + 4 : imdb.find('\\nName:')]\n",
    "outcome = ('{} ({})'.format(i1, i2))\n",
    "\n",
    "answers['7'] = outcome     \n",
    "\n",
    "display(answers['7'])  "
   ]
  },
  {
   "cell_type": "markdown",
   "metadata": {
    "colab_type": "text",
    "id": "wEOM5ERVVp-6"
   },
   "source": [
    "# 8. У скольких фильмов из датасета объем сборов оказался выше бюджета?"
   ]
  },
  {
   "cell_type": "code",
   "execution_count": 768,
   "metadata": {
    "colab": {},
    "colab_type": "code",
    "id": "y00_7HD6Vp-7"
   },
   "outputs": [
    {
     "data": {
      "text/plain": [
       "1478"
      ]
     },
     "metadata": {},
     "output_type": "display_data"
    }
   ],
   "source": [
    "answers['8'] = len(data[data.profit > 0])\n",
    "\n",
    "display(answers['8'])  "
   ]
  },
  {
   "cell_type": "markdown",
   "metadata": {
    "colab_type": "text",
    "id": "xhpspA9KVp_A"
   },
   "source": [
    "# 9. Какой фильм оказался самым кассовым в 2008 году?"
   ]
  },
  {
   "cell_type": "code",
   "execution_count": 769,
   "metadata": {
    "colab": {},
    "colab_type": "code",
    "id": "MoUyQr9RVp_B"
   },
   "outputs": [
    {
     "data": {
      "text/plain": [
       "'The Dark Knight (tt0468569)'"
      ]
     },
     "metadata": {},
     "output_type": "display_data"
    }
   ],
   "source": [
    "i = data[data.revenue == data.query('release_year == 2008').revenue.max()]\n",
    "\n",
    "title = str(i.original_title)\n",
    "imdb = str(i.imdb_id)\n",
    "i1 = title[title.find(' ') + 4 : title.find('\\nName:')]\n",
    "i2 = imdb[imdb.find(' ') + 4 : imdb.find('\\nName:')]\n",
    "outcome = ('{} ({})'.format(i1, i2))\n",
    "\n",
    "answers['9'] = outcome     \n",
    "\n",
    "display(answers['9'])  "
   ]
  },
  {
   "cell_type": "markdown",
   "metadata": {
    "colab_type": "text",
    "id": "Zi4hDKidVp_F"
   },
   "source": [
    "# 10. Самый убыточный фильм за период с 2012 по 2014 г. (включительно)?"
   ]
  },
  {
   "cell_type": "code",
   "execution_count": 770,
   "metadata": {
    "colab": {},
    "colab_type": "code",
    "id": "XqyRmufJVp_F"
   },
   "outputs": [
    {
     "data": {
      "text/plain": [
       "'The Lone Ranger (tt1210819)'"
      ]
     },
     "metadata": {},
     "output_type": "display_data"
    }
   ],
   "source": [
    "i = data[data.profit == data.query('2012<=release_year & release_year<=2014').profit.min()]\n",
    "\n",
    "title = str(i.original_title)\n",
    "imdb = str(i.imdb_id)\n",
    "i1 = title[title.find(' ') + 4 : title.find('\\nName:')]\n",
    "i2 = imdb[imdb.find(' ') + 4 : imdb.find('\\nName:')]\n",
    "outcome = ('{} ({})'.format(i1, i2))\n",
    "\n",
    "answers['10'] = outcome     \n",
    "\n",
    "display(answers['10'])"
   ]
  },
  {
   "cell_type": "markdown",
   "metadata": {
    "colab_type": "text",
    "id": "EA7Sa9dkVp_I"
   },
   "source": [
    "# 11. Какого жанра фильмов больше всего?"
   ]
  },
  {
   "cell_type": "code",
   "execution_count": 771,
   "metadata": {},
   "outputs": [
    {
     "data": {
      "text/plain": [
       "'Drama'"
      ]
     },
     "metadata": {},
     "output_type": "display_data"
    }
   ],
   "source": [
    "'''В нашем датафрейме один фильм может принадлежать к нескольким жанрам, \n",
    "перечисленным через разделитель '|', из-за чего мы не можем просто работать с колонкой 'genres'.'''\n",
    "\n",
    "genres_list = data.genres.str.split('|').sum()  # заносим в общий список все жанры всех фильмов\n",
    "genres_series = pd.Series(genres_list)          # создаем pd.Series из списка\n",
    "genres_count = genres_series.value_counts()     # создаем упорядоченную по убыванию серию\n",
    "\n",
    "answers['11'] = genres_count.index[0]           # первый (максималный) элемент будет ответом\n",
    "\n",
    "display(answers['11'])\n"
   ]
  },
  {
   "cell_type": "markdown",
   "metadata": {
    "colab_type": "text",
    "id": "T9_bPWpkVp_Q"
   },
   "source": [
    "# 12. Фильмы какого жанра чаще всего становятся прибыльными? "
   ]
  },
  {
   "cell_type": "code",
   "execution_count": 772,
   "metadata": {
    "colab": {},
    "colab_type": "code",
    "id": "Tmt8MaK1Vp_R"
   },
   "outputs": [
    {
     "data": {
      "text/plain": [
       "'Drama'"
      ]
     },
     "metadata": {},
     "output_type": "display_data"
    }
   ],
   "source": [
    "'''Задача решается аналогично предыдущей, только для фильмов с прибылью ('profit') больше нуля'''\n",
    "\n",
    "genres_list = data[data['profit'] > 0].genres.str.split('|').sum()\n",
    "genres_series = pd.Series(genres_list) \n",
    "genres_count = genres_series.value_counts()\n",
    "\n",
    "answers['12'] = genres_count.index[0] \n",
    "\n",
    "display(answers['12'])"
   ]
  },
  {
   "cell_type": "markdown",
   "metadata": {
    "colab_type": "text",
    "id": "0F23bgsDVp_U"
   },
   "source": [
    "# 13. У какого режиссера самые большие суммарные кассовые сборы?"
   ]
  },
  {
   "cell_type": "markdown",
   "metadata": {},
   "source": [
    "Вариант 1:"
   ]
  },
  {
   "cell_type": "code",
   "execution_count": 774,
   "metadata": {},
   "outputs": [
    {
     "data": {
      "text/plain": [
       "'Peter Jackson'"
      ]
     },
     "metadata": {},
     "output_type": "display_data"
    }
   ],
   "source": [
    "directors_list = data.director.str.split('|').sum()  # создаем список всех режиссеров\n",
    "\n",
    "directors = []            # создаем список режиссеров и \"очищаем\" его от дубликатов\n",
    "for i in directors_list:\n",
    "    if i not in directors:\n",
    "        directors.append(i)\n",
    "\n",
    "director_revenue = {}     # создаем словарь куда будем вносить имя_режиссера:сумму_сборов\n",
    "for i in directors:\n",
    "    director_revenue[i] = data[data.director.str.contains(i)]['revenue'].sum()\n",
    "\n",
    "    \n",
    "# создаем pd.Series из словаря и выбираем элемент с максимальным значением\n",
    "answers['13'] = pd.Series(director_revenue).idxmax() \n",
    "\n",
    "display(answers['13'])"
   ]
  },
  {
   "cell_type": "markdown",
   "metadata": {},
   "source": [
    "Вариант 2:"
   ]
  },
  {
   "cell_type": "code",
   "execution_count": 775,
   "metadata": {
    "colab": {},
    "colab_type": "code",
    "id": "K6Z3J8ygVp_X",
    "scrolled": true
   },
   "outputs": [
    {
     "data": {
      "text/plain": [
       "'Peter Jackson'"
      ]
     },
     "metadata": {},
     "output_type": "display_data"
    }
   ],
   "source": [
    "# создаем список режиссеров с помощью .explode() и .tolist()\n",
    "directors = data.director.str.split('|').explode().value_counts().index.tolist()\n",
    "        \n",
    "directors_revenue = Counter() # для подсчета суммы сборов применяем счетчик вместо словаря\n",
    "for i in directors:\n",
    "    directors_revenue[i] = data.loc[data['director'].str.contains(i)]['revenue'].sum()\n",
    "\n",
    "answers['13'] = pd.Series(directors_revenue).idxmax() \n",
    "\n",
    "display(answers['13'])"
   ]
  },
  {
   "cell_type": "markdown",
   "metadata": {},
   "source": [
    "Вариант 3:"
   ]
  },
  {
   "cell_type": "code",
   "execution_count": 777,
   "metadata": {},
   "outputs": [
    {
     "data": {
      "text/plain": [
       "'Peter Jackson'"
      ]
     },
     "metadata": {},
     "output_type": "display_data"
    }
   ],
   "source": [
    "directors = data.copy()    # создаем копию исходного датафрейма, с которой будем работать\n",
    "\n",
    "directors['director'] = directors.director.str.split('|') # преобразуем перечень режиссеров в список\n",
    "directors=directors.explode('director')  # \"разбиваем\" список режиссеров для каждого фильма\n",
    "\n",
    "# группируем режиссеров по сумме прибыли, упорядочив по убыванию\n",
    "dirs_revenue = directors.groupby(['director'])['revenue'].sum().sort_values(ascending=False)\n",
    "\n",
    "answers['13'] = dirs_revenue.index[0] # первый (максималный) элемент будет ответом\n",
    "\n",
    "display(answers['13'])"
   ]
  },
  {
   "cell_type": "markdown",
   "metadata": {
    "colab_type": "text",
    "id": "PsYC9FgRVp_a"
   },
   "source": [
    "# 14. Какой режисер снял больше всего фильмов в стиле Action?"
   ]
  },
  {
   "cell_type": "code",
   "execution_count": 778,
   "metadata": {},
   "outputs": [
    {
     "data": {
      "text/plain": [
       "'Robert Rodriguez'"
      ]
     },
     "metadata": {},
     "output_type": "display_data"
    }
   ],
   "source": [
    "actions = data[data.genres.str.contains('Action')] # выбираем все экшены из датафрейма \n",
    "\n",
    "#создаем упорядоченную по убыванию серию с режиссерами\n",
    "actions_directors = actions.director.str.split('|').explode().value_counts()\n",
    "\n",
    "answers['14'] = actions_directors.index[0]        # первый (максималный) элемент будет ответом\n",
    "\n",
    "display(answers['14'])"
   ]
  },
  {
   "cell_type": "markdown",
   "metadata": {
    "colab_type": "text",
    "id": "PQ0KciD7Vp_f"
   },
   "source": [
    "# 15. Фильмы с каким актером принесли самые высокие кассовые сборы в 2012 году? "
   ]
  },
  {
   "cell_type": "markdown",
   "metadata": {},
   "source": [
    "Вариант 1:"
   ]
  },
  {
   "cell_type": "code",
   "execution_count": 779,
   "metadata": {
    "colab": {},
    "colab_type": "code",
    "id": "aga62oeKVp_g"
   },
   "outputs": [
    {
     "data": {
      "text/plain": [
       "'Chris Hemsworth'"
      ]
     },
     "metadata": {},
     "output_type": "display_data"
    }
   ],
   "source": [
    "films_2012 = data[data['release_year'] == 2012].copy()  # выбираем фильмы 2012 года \n",
    "\n",
    "# создаем список с именами всех актеров из фильмов 2012 года\n",
    "actors = films_2012.cast.str.split('|').explode().value_counts().index.tolist()\n",
    "\n",
    "actors_revenue = Counter() # создаем счетчик в котором будем суммировать сборы для актеров\n",
    "for i in actors:\n",
    "    actors_revenue[i] = films_2012.loc[data['cast'].str.contains(i)]['revenue'].sum()\n",
    "\n",
    "# создаем pd.Series из счетчика и выбираем 1й элемент (с максимальным значением)\n",
    "answers['15'] = pd.Series(actors_revenue).idxmax() \n",
    "\n",
    "display(answers['15'])"
   ]
  },
  {
   "cell_type": "markdown",
   "metadata": {},
   "source": [
    "Вариант 2:"
   ]
  },
  {
   "cell_type": "code",
   "execution_count": 781,
   "metadata": {},
   "outputs": [
    {
     "data": {
      "text/plain": [
       "'Chris Hemsworth'"
      ]
     },
     "metadata": {},
     "output_type": "display_data"
    }
   ],
   "source": [
    "films_2012 = data[data['release_year'] == 2012].copy()  # выбираем фильмы 2012 года \n",
    "\n",
    "films_2012['cast'] = films_2012.cast.str.split('|') # преобразуем перечень актеров в список\n",
    "films_2012=films_2012.explode('cast')   # \"разбиваем\" список актеров для каждого фильма\n",
    "\n",
    "# группируем актеров по сумме сборов, упорядочив по убыванию\n",
    "actors_profit = films_2012.groupby(['cast'])['revenue'].sum().sort_values(ascending=False)\n",
    "\n",
    "answers['15'] = actors_profit.index[0] # первый (максималный) элемент будет ответом\n",
    "\n",
    "display(answers['15'])"
   ]
  },
  {
   "cell_type": "markdown",
   "metadata": {
    "colab_type": "text",
    "id": "mWHyyL7QVp_j"
   },
   "source": [
    "# 16. Какой актер снялся в большем количестве высокобюджетных фильмов?\n",
    "#### Примечание: в фильмах, где бюджет выше среднего по данной выборке."
   ]
  },
  {
   "cell_type": "code",
   "execution_count": 782,
   "metadata": {
    "colab": {},
    "colab_type": "code",
    "id": "qQtmHKTFVp_k"
   },
   "outputs": [
    {
     "data": {
      "text/plain": [
       "'Matt Damon'"
      ]
     },
     "metadata": {},
     "output_type": "display_data"
    }
   ],
   "source": [
    "# создаем новый датафрейм с фильмами с бюджетом выше среднего\n",
    "high_b_films = data[data['budget'] > data['budget'].mean()]  \n",
    "\n",
    "#создаем упорядоченную по убыванию серию с актерами\n",
    "high_b_actors = high_b_films.cast.str.split('|').explode().value_counts()\n",
    "\n",
    "answers['16'] = high_b_actors.index[0]   # первый (максималный) элемент будет ответом\n",
    "\n",
    "display(answers['16'])"
   ]
  },
  {
   "cell_type": "markdown",
   "metadata": {
    "colab_type": "text",
    "id": "NIh6AaW5Vp_n"
   },
   "source": [
    "# 17. В фильмах какого жанра больше всего снимался Nicolas Cage? "
   ]
  },
  {
   "cell_type": "code",
   "execution_count": 783,
   "metadata": {
    "colab": {},
    "colab_type": "code",
    "id": "H74SJDIBVp_n"
   },
   "outputs": [
    {
     "data": {
      "text/plain": [
       "'Action'"
      ]
     },
     "metadata": {},
     "output_type": "display_data"
    }
   ],
   "source": [
    "# создаем новый датафрейм с фильмами с участием Николаса Кейджа\n",
    "n_cage = data[data.cast.str.contains('Nicolas Cage')] \n",
    "\n",
    "genres_list = n_cage.genres.str.split('|').sum()  # заносим в общий список все жанры фильмов\n",
    "genres_series = pd.Series(genres_list)            # создаем pd.Series из списка\n",
    "genres_count = genres_series.value_counts()       # создаем упорядоченную по убыванию серию\n",
    "\n",
    "answers['17'] = genres_count.index[0]             # первый (максималный) элемент будет ответом\n",
    "\n",
    "display(answers['17'])"
   ]
  },
  {
   "cell_type": "markdown",
   "metadata": {
    "colab_type": "text",
    "id": "RqOmPRfWVp_q"
   },
   "source": [
    "# 18. Самый убыточный фильм от Paramount Pictures"
   ]
  },
  {
   "cell_type": "code",
   "execution_count": 784,
   "metadata": {
    "colab": {},
    "colab_type": "code",
    "id": "9E_B0Y96Vp_r"
   },
   "outputs": [
    {
     "data": {
      "text/plain": [
       "'K-19: The Widowmaker (tt0267626)'"
      ]
     },
     "metadata": {},
     "output_type": "display_data"
    }
   ],
   "source": [
    "# создаем новый датафрейм с фильмами с от Paramount Pictures\n",
    "paramount = data[data.production_companies.str.contains('Paramount Pictures')]\n",
    "\n",
    "# выбираем фильм с наименьшей прибылью\n",
    "i = paramount[paramount.profit == paramount.profit.min()]\n",
    "\n",
    "title = str(i.original_title)\n",
    "imdb = str(i.imdb_id)\n",
    "i1 = title[title.find(' ') + 4 : title.find('\\nName:')]\n",
    "i2 = imdb[imdb.find(' ') + 4 : imdb.find('\\nName:')]\n",
    "outcome = ('{} ({})'.format(i1, i2))\n",
    "\n",
    "answers['18'] = outcome     \n",
    "\n",
    "display(answers['18'])  "
   ]
  },
  {
   "cell_type": "markdown",
   "metadata": {
    "colab_type": "text",
    "id": "vS8Ur6ddVp_u"
   },
   "source": [
    "# 19. Какой год стал самым успешным по суммарным кассовым сборам?"
   ]
  },
  {
   "cell_type": "code",
   "execution_count": 785,
   "metadata": {
    "colab": {},
    "colab_type": "code",
    "id": "Dnbt4GdIVp_v"
   },
   "outputs": [
    {
     "data": {
      "text/plain": [
       "2015"
      ]
     },
     "metadata": {},
     "output_type": "display_data"
    }
   ],
   "source": [
    "# группируем года выпуска фильмов по сумме сборов, упорядочив по убыванию\n",
    "years = data.groupby(['release_year'])['revenue'].sum().sort_values(ascending=False) \n",
    "\n",
    "answers['19'] = years.index[0]    # первый (максималный) элемент будет ответом\n",
    "\n",
    "display(answers['19'])  "
   ]
  },
  {
   "cell_type": "markdown",
   "metadata": {
    "colab_type": "text",
    "id": "JAzJh4QAVp_z"
   },
   "source": [
    "# 20. Какой самый прибыльный год для студии Warner Bros?"
   ]
  },
  {
   "cell_type": "code",
   "execution_count": 786,
   "metadata": {
    "colab": {},
    "colab_type": "code",
    "id": "wgVu02DEVp_0"
   },
   "outputs": [
    {
     "data": {
      "text/plain": [
       "2014"
      ]
     },
     "metadata": {},
     "output_type": "display_data"
    }
   ],
   "source": [
    "# создаем новый датафрейм с фильмами с от Warner Bros\n",
    "warner = data[data.production_companies.str.contains('Warner Bros')]\n",
    "\n",
    "# группируем года выпуска фильмов по сумме прибыли, упорядочив по убыванию\n",
    "years = warner.groupby(['release_year'])['profit'].sum().sort_values(ascending=False)\n",
    "\n",
    "answers['20'] = years.index[0]    # первый (максималный) элемент будет ответом\n",
    "\n",
    "display(answers['20'])  "
   ]
  },
  {
   "cell_type": "markdown",
   "metadata": {
    "colab_type": "text",
    "id": "8Im1S2HRVp_4"
   },
   "source": [
    "# 21. В каком месяце за все годы суммарно вышло больше всего фильмов?"
   ]
  },
  {
   "cell_type": "code",
   "execution_count": 787,
   "metadata": {
    "colab": {},
    "colab_type": "code",
    "id": "lev6TH7gVp_4"
   },
   "outputs": [
    {
     "data": {
      "text/plain": [
       "'Сентябрь'"
      ]
     },
     "metadata": {},
     "output_type": "display_data"
    }
   ],
   "source": [
    "# создаем список с месяцами релиза всех фильмов используя datetime.month\n",
    "months = []\n",
    "for i in range (len(data)):\n",
    "    months.append(data['release_date'][i].month)\n",
    "\n",
    "#создаем упорядоченную по убыванию серию с месяцами релиза\n",
    "months_count = pd.Series(months).value_counts()\n",
    "\n",
    "# первый (максималный) элемент будет ответом\n",
    "answer = months_count.index[0]\n",
    "\n",
    "# создаем список с \"прогумерованными\" названиями месяцев\n",
    "month_names= pd.Series([\"Январь\", \"Февраль\", \"Март\", \"Апрель\", \n",
    "                        \"Май\", \"Июнь\", \"Июль\", \"Август\", \n",
    "                        \"Сентябрь\", \"Октябрь\", \"Ноябрь\", \"Декабрь\"],\n",
    "                        index = range (1, 13))\n",
    "\n",
    "# первый (максималный) элемент будет ответом\n",
    "answers['21'] = month_names.loc[answer]    \n",
    "\n",
    "display(answers['21'])"
   ]
  },
  {
   "cell_type": "markdown",
   "metadata": {
    "colab_type": "text",
    "id": "uAJsZ_NeVp_7"
   },
   "source": [
    "# 22. Сколько суммарно вышло фильмов летом? (за июнь, июль, август)"
   ]
  },
  {
   "cell_type": "code",
   "execution_count": 788,
   "metadata": {
    "colab": {},
    "colab_type": "code",
    "id": "Aa-hEREoVp_8"
   },
   "outputs": [
    {
     "data": {
      "text/plain": [
       "450"
      ]
     },
     "metadata": {},
     "output_type": "display_data"
    }
   ],
   "source": [
    "# для решения будем использовать серию months_count, созданную на предыдущем шаге\n",
    "\n",
    "summer_films = 0\n",
    "for i in range (6, 9):   # просуммируем кол-во фильмов вышедших в 6, 7 и 8 месяц\n",
    "    summer_films += months_count.loc[i]\n",
    "    \n",
    "answers['22'] = summer_films\n",
    "\n",
    "display(answers['22'])"
   ]
  },
  {
   "cell_type": "markdown",
   "metadata": {
    "colab_type": "text",
    "id": "G94ppOY1VqAA"
   },
   "source": [
    "# 23. Для какого режиссера зима – самое продуктивное время года? "
   ]
  },
  {
   "cell_type": "code",
   "execution_count": 789,
   "metadata": {
    "colab": {},
    "colab_type": "code",
    "id": "RhNTsamuVqAB"
   },
   "outputs": [
    {
     "data": {
      "text/plain": [
       "'Peter Jackson'"
      ]
     },
     "metadata": {},
     "output_type": "display_data"
    }
   ],
   "source": [
    "# создаем запрос с перечислением зимних месяцев\n",
    "q = 'release_date.dt.month == 1 | release_date.dt.month == 2 | release_date.dt.month == 12'\n",
    "\n",
    "#создаем упорядоченную по убыванию серию с режиссерами\n",
    "winter_directors = data.query(q).director.str.split('|').explode().value_counts()\n",
    "\n",
    "answers['23'] = winter_directors.index[0]        # первый (максималный) элемент будет ответом\n",
    "\n",
    "display(answers['23'])"
   ]
  },
  {
   "cell_type": "markdown",
   "metadata": {
    "colab_type": "text",
    "id": "RBo0JVjVVqAF"
   },
   "source": [
    "# 24. Какая студия дает самые длинные названия своим фильмам по количеству символов?"
   ]
  },
  {
   "cell_type": "code",
   "execution_count": 790,
   "metadata": {
    "colab": {},
    "colab_type": "code",
    "id": "QRGS8L0iVqAG"
   },
   "outputs": [
    {
     "data": {
      "text/plain": [
       "'Four By Two Productions'"
      ]
     },
     "metadata": {},
     "output_type": "display_data"
    }
   ],
   "source": [
    "names = data.copy()    # создаем копию исходного датафрейма, с которой будем работать\n",
    "\n",
    "# заменяем колонку с названиями фильмов на их длины\n",
    "names['original_title'] = names.original_title.apply(lambda x: len(x))\n",
    "\n",
    "# превращаем перечень студий в список\n",
    "names['production_companies'] = names.production_companies.str.split('|')\n",
    "\n",
    "# \"разбиваем\" список студий для каждого фильма\n",
    "names = names.explode('production_companies')\n",
    "\n",
    "# создаем упорядоченную по убыванию серию со средними длинами названий фильмов каждой студии\n",
    "lengths = names.groupby(['production_companies'])['original_title'].mean()\\\n",
    "          .sort_values(ascending = False)\n",
    "\n",
    "answers['24'] = lengths.index[0]  # первый (максималный) элемент будет ответом\n",
    "\n",
    "display(answers['24'])"
   ]
  },
  {
   "cell_type": "markdown",
   "metadata": {
    "colab_type": "text",
    "id": "9G0hbvR7VqAK"
   },
   "source": [
    "# 25. Описание фильмов какой студии в среднем самые длинные по количеству слов?"
   ]
  },
  {
   "cell_type": "code",
   "execution_count": 791,
   "metadata": {
    "colab": {},
    "colab_type": "code",
    "id": "Ge2GsLNxVqAK"
   },
   "outputs": [
    {
     "data": {
      "text/plain": [
       "'Midnight Picture Show'"
      ]
     },
     "metadata": {},
     "output_type": "display_data"
    }
   ],
   "source": [
    "overviews = data.copy()    # создаем копию исходного датафрейма, с которой будем работать\n",
    "\n",
    "# заменяем колонку с описаниями фильмов на кол-во слов в них\n",
    "overviews['overview'] = overviews.overview.apply(lambda x: len(x.split()))\n",
    "\n",
    "# превращаем перечень студий в список\n",
    "overviews.production_companies = overviews.production_companies.str.split('|')\n",
    "\n",
    "# \"разбиваем\" список студий для каждого фильма\n",
    "overviews = overviews.explode('production_companies')\n",
    "\n",
    "# создаем упорядоченную по убыванию серию со средними длинами описаний фильмов каждой студии\n",
    "lengths = overviews.groupby(['production_companies'])['overview'].mean()\\\n",
    "          .sort_values(ascending = False)\n",
    "\n",
    "answers['25'] = lengths.index[0]  # первый (максималный) элемент будет ответом\n",
    "\n",
    "display(answers['25'])"
   ]
  },
  {
   "cell_type": "markdown",
   "metadata": {
    "colab_type": "text",
    "id": "FJ1AFt90VqAP"
   },
   "source": [
    "# 26. Какие фильмы входят в 1 процент лучших по рейтингу? \n",
    "по vote_average"
   ]
  },
  {
   "cell_type": "code",
   "execution_count": 797,
   "metadata": {
    "scrolled": true
   },
   "outputs": [
    {
     "data": {
      "text/plain": [
       "['Inside Out',\n",
       " 'Room',\n",
       " 'Interstellar',\n",
       " 'Guardians of the Galaxy',\n",
       " 'The Imitation Game',\n",
       " 'Gone Girl',\n",
       " 'The Grand Budapest Hotel',\n",
       " 'Inception',\n",
       " 'The Dark Knight',\n",
       " 'The Pianist',\n",
       " 'The Lord of the Rings: The Return of the King',\n",
       " 'The Wolf of Wall Street',\n",
       " '12 Years a Slave',\n",
       " 'Memento']"
      ]
     },
     "metadata": {},
     "output_type": "display_data"
    }
   ],
   "source": [
    "# вычисляем 99% квантиль рейтинга фильмов\n",
    "rate_99=data.quantile(0.99)['vote_average']\n",
    "\n",
    "# делаем выборку фильмов с рейтингом выше 99% квантиля\n",
    "best=data[data.vote_average > rate_99]\n",
    "\n",
    "# в качестве ответа берем список названий фильмов из выборки\n",
    "answers['26'] =  best.original_title.tolist()\n",
    "\n",
    "display(answers['26'])\n",
    "\n",
    "# В получившемся списке фильмов больше чем в вариантах ответа. Остается только\n",
    "# выбрать вариант, все фильмы которого содержатся в нашем списке"
   ]
  },
  {
   "cell_type": "markdown",
   "metadata": {
    "colab_type": "text",
    "id": "MdXsUXbCVqAV"
   },
   "source": [
    "# 27. Какие актеры чаще всего снимаются в одном фильме вместе?\n"
   ]
  },
  {
   "cell_type": "code",
   "execution_count": 798,
   "metadata": {},
   "outputs": [
    {
     "data": {
      "text/plain": [
       "[('Daniel Radcliffe', 'Emma Watson'), ('Daniel Radcliffe', 'Rupert Grint')]"
      ]
     },
     "metadata": {},
     "output_type": "display_data"
    }
   ],
   "source": [
    "actors = data.copy()    # создаем копию исходного датафрейма, с которой будем работать\n",
    "actors['cast'] = actors.cast.str.split('|')  # превращаем перечень актеров в список\n",
    "\n",
    "actor_pairs = []        # создаем список куда будем заносить пары актеров\n",
    "\n",
    "for i in range(len(actors)):\n",
    "    actor_pairs.extend(combinations(actors.loc[i].cast, 2))\n",
    "    \n",
    "pairs_series = pd.Series(actor_pairs) \n",
    "pairs_count = pairs_series.value_counts()\n",
    "pairs_df = pd.DataFrame(pairs_count, columns = ['counts'])\n",
    "pairs_max = pairs_df[pairs_df.counts == pairs_df.counts.max()]    \n",
    "\n",
    "# в качестве ответа берем список названий фильмов из выборки\n",
    "answers['27'] =  pairs_max.index.tolist()\n",
    "\n",
    "display(answers['27'])\n",
    "\n",
    "# Мы получили 2 пары актеров, снимавшихся вместе больше других, остается выбрать подходящую"
   ]
  },
  {
   "cell_type": "markdown",
   "metadata": {
    "colab_type": "text",
    "id": "U0nONFnGVqAX"
   },
   "source": [
    "# Submission"
   ]
  },
  {
   "cell_type": "code",
   "execution_count": 800,
   "metadata": {
    "colab": {},
    "colab_type": "code",
    "id": "IfcaRO9-VqAX",
    "outputId": "0f132912-32bb-4196-c98c-abfbc4ad5a5f"
   },
   "outputs": [
    {
     "data": {
      "text/plain": [
       "{'1': 'Pirates of the Caribbean: On Stranger Tides (tt1298650)',\n",
       " '2': 'Gods and Generals (tt0279111)',\n",
       " '3': 'Winnie the Pooh (tt1449283)',\n",
       " '4': 110,\n",
       " '5': 107,\n",
       " '6': 'Avatar (tt0499549)',\n",
       " '7': 'The Lone Ranger (tt1210819)',\n",
       " '8': 1478,\n",
       " '9': 'The Dark Knight (tt0468569)',\n",
       " '10': 'The Lone Ranger (tt1210819)',\n",
       " '11': 'Drama',\n",
       " '12': 'Drama',\n",
       " '13': 'Peter Jackson',\n",
       " '14': 'Robert Rodriguez',\n",
       " '15': 'Chris Hemsworth',\n",
       " '16': 'Matt Damon',\n",
       " '17': 'Action',\n",
       " '18': 'K-19: The Widowmaker (tt0267626)',\n",
       " '19': 2015,\n",
       " '20': 2014,\n",
       " '21': 'Сентябрь',\n",
       " '22': 450,\n",
       " '23': 'Peter Jackson',\n",
       " '24': 'Four By Two Productions',\n",
       " '25': 'Midnight Picture Show',\n",
       " '26': ['Inside Out',\n",
       "  'Room',\n",
       "  'Interstellar',\n",
       "  'Guardians of the Galaxy',\n",
       "  'The Imitation Game',\n",
       "  'Gone Girl',\n",
       "  'The Grand Budapest Hotel',\n",
       "  'Inception',\n",
       "  'The Dark Knight',\n",
       "  'The Pianist',\n",
       "  'The Lord of the Rings: The Return of the King',\n",
       "  'The Wolf of Wall Street',\n",
       "  '12 Years a Slave',\n",
       "  'Memento'],\n",
       " '27': [('Daniel Radcliffe', 'Emma Watson'),\n",
       "  ('Daniel Radcliffe', 'Rupert Grint')]}"
      ]
     },
     "metadata": {},
     "output_type": "display_data"
    }
   ],
   "source": [
    "# в конце можно посмотреть свои ответы к каждому вопросу\n",
    "display(answers)"
   ]
  },
  {
   "cell_type": "code",
   "execution_count": 799,
   "metadata": {
    "colab": {},
    "colab_type": "code",
    "id": "SiRmHPl8VqAd"
   },
   "outputs": [
    {
     "data": {
      "text/plain": [
       "27"
      ]
     },
     "execution_count": 799,
     "metadata": {},
     "output_type": "execute_result"
    }
   ],
   "source": [
    "# и убедиться что ни чего не пропустил)\n",
    "len(answers)"
   ]
  }
 ],
 "metadata": {
  "colab": {
   "name": "Copy of [SF-DST] Movies IMBD v4.1 TEMPLATE.ipynb",
   "provenance": []
  },
  "kernelspec": {
   "display_name": "Python 3",
   "language": "python",
   "name": "python3"
  },
  "language_info": {
   "codemirror_mode": {
    "name": "ipython",
    "version": 3
   },
   "file_extension": ".py",
   "mimetype": "text/x-python",
   "name": "python",
   "nbconvert_exporter": "python",
   "pygments_lexer": "ipython3",
   "version": "3.8.5"
  }
 },
 "nbformat": 4,
 "nbformat_minor": 1
}
