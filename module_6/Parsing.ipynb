{
 "cells": [
  {
   "cell_type": "markdown",
   "metadata": {},
   "source": [
    "## 1. Импорт библиотек и настройка параметров"
   ]
  },
  {
   "cell_type": "code",
   "execution_count": 1,
   "metadata": {},
   "outputs": [],
   "source": [
    "# При необходимости доставляем библиотеки:\n",
    "\n",
    "#!pip install requests \n",
    "#!pip install fake-useragent\n",
    "#!pip install beautifulsoup4 "
   ]
  },
  {
   "cell_type": "code",
   "execution_count": 2,
   "metadata": {},
   "outputs": [],
   "source": [
    "# Импортируем библиотеки:\n",
    "\n",
    "import pandas as pd\n",
    "import numpy as np\n",
    "import matplotlib\n",
    "import matplotlib.pyplot as plt\n",
    "import seaborn as sns\n",
    "import requests\n",
    "import time\n",
    "import os\n",
    "import re\n",
    "import json\n",
    "import datetime\n",
    "from bs4 import BeautifulSoup\n",
    "from fake_useragent import UserAgent \n",
    "from pprint import pprint"
   ]
  },
  {
   "cell_type": "code",
   "execution_count": 3,
   "metadata": {},
   "outputs": [],
   "source": [
    "# Фиксируем параметры для воспроизводимости экспериментов:\n",
    "\n",
    "RANDOM_SEED = 42\n",
    "!pip freeze > requirements.txt"
   ]
  },
  {
   "cell_type": "code",
   "execution_count": 4,
   "metadata": {},
   "outputs": [],
   "source": [
    "# Увеличиваем число отображаемых строк и столбцов в pandas:\n",
    "\n",
    "pd.set_option('display.max_rows', 50)\n",
    "pd.set_option('display.max_columns', 50)\n",
    "pd.set_option('display.width', 1000)"
   ]
  },
  {
   "cell_type": "code",
   "execution_count": 5,
   "metadata": {},
   "outputs": [
    {
     "name": "stdout",
     "output_type": "stream",
     "text": [
      "./data/cars_dicts.txt\n",
      "./data/.DS_Store\n",
      "./data/not_read_links.txt\n",
      "./data/car_links.txt\n",
      "./data/test.csv\n",
      "./data/test_finished.csv\n",
      "./data/pages_count_list.txt\n",
      "./data/sample_submission.csv\n"
     ]
    }
   ],
   "source": [
    "# Задаем дирректорию для работы с файлами:\n",
    "\n",
    "# При выполнении на kaggle раскомментировать этот блок:\n",
    "# for dirname, _, filenames in os.walk('/kaggle/input'):\n",
    "#    for filename in filenames:\n",
    "#        print(os.path.join(dirname, filename))\n",
    "# PATH_to_file = '/kaggle/input/sf-dst-scoring/'\n",
    "\n",
    "# При выполнении локально раскомментировать этот блок:\n",
    "for dirname, _, filenames in os.walk('./data'):\n",
    "    for filename in filenames:\n",
    "        print(os.path.join(dirname, filename))\n",
    "PATH_to_file = './data/'"
   ]
  },
  {
   "cell_type": "markdown",
   "metadata": {},
   "source": [
    "## 2. Анализ тестового датасета"
   ]
  },
  {
   "cell_type": "markdown",
   "metadata": {},
   "source": [
    "Прежде чем начать парсить auto.ru, что-бысоздавать датасет для тренировки модели, посмотрим на наш тестовый датасет, стоимость автомобилей которого нам надо будет предсказывать."
   ]
  },
  {
   "cell_type": "code",
   "execution_count": 6,
   "metadata": {},
   "outputs": [
    {
     "name": "stdout",
     "output_type": "stream",
     "text": [
      "Размер тестового датасета:  (34686, 32)\n"
     ]
    },
    {
     "data": {
      "text/html": [
       "<div>\n",
       "<style scoped>\n",
       "    .dataframe tbody tr th:only-of-type {\n",
       "        vertical-align: middle;\n",
       "    }\n",
       "\n",
       "    .dataframe tbody tr th {\n",
       "        vertical-align: top;\n",
       "    }\n",
       "\n",
       "    .dataframe thead th {\n",
       "        text-align: right;\n",
       "    }\n",
       "</style>\n",
       "<table border=\"1\" class=\"dataframe\">\n",
       "  <thead>\n",
       "    <tr style=\"text-align: right;\">\n",
       "      <th></th>\n",
       "      <th>bodyType</th>\n",
       "      <th>brand</th>\n",
       "      <th>car_url</th>\n",
       "      <th>color</th>\n",
       "      <th>complectation_dict</th>\n",
       "      <th>description</th>\n",
       "      <th>engineDisplacement</th>\n",
       "      <th>enginePower</th>\n",
       "      <th>equipment_dict</th>\n",
       "      <th>fuelType</th>\n",
       "      <th>image</th>\n",
       "      <th>mileage</th>\n",
       "      <th>modelDate</th>\n",
       "      <th>model_info</th>\n",
       "      <th>model_name</th>\n",
       "      <th>name</th>\n",
       "      <th>numberOfDoors</th>\n",
       "      <th>parsing_unixtime</th>\n",
       "      <th>priceCurrency</th>\n",
       "      <th>productionDate</th>\n",
       "      <th>sell_id</th>\n",
       "      <th>super_gen</th>\n",
       "      <th>vehicleConfiguration</th>\n",
       "      <th>vehicleTransmission</th>\n",
       "      <th>vendor</th>\n",
       "      <th>Владельцы</th>\n",
       "      <th>Владение</th>\n",
       "      <th>ПТС</th>\n",
       "      <th>Привод</th>\n",
       "      <th>Руль</th>\n",
       "      <th>Состояние</th>\n",
       "      <th>Таможня</th>\n",
       "    </tr>\n",
       "  </thead>\n",
       "  <tbody>\n",
       "    <tr>\n",
       "      <th>11474</th>\n",
       "      <td>седан</td>\n",
       "      <td>NISSAN</td>\n",
       "      <td>https://auto.ru/cars/used/sale/nissan/bluebird...</td>\n",
       "      <td>серый</td>\n",
       "      <td>NaN</td>\n",
       "      <td>Продам обслуженный автомобиль ,полный привод, ...</td>\n",
       "      <td>1.8 LTR</td>\n",
       "      <td>115 N12</td>\n",
       "      <td>{\"asr\":true,\"tinted-glass\":true,\"roller-blind-...</td>\n",
       "      <td>бензин</td>\n",
       "      <td>https://avatars.mds.yandex.net/get-autoru-vos/...</td>\n",
       "      <td>326000</td>\n",
       "      <td>2000</td>\n",
       "      <td>{\"code\":\"BLUEBIRD_SYLPHY\",\"name\":\"Bluebird Syl...</td>\n",
       "      <td>BLUEBIRD_SYLPHY</td>\n",
       "      <td>1.8 AT (115 л.с.) 4WD</td>\n",
       "      <td>4</td>\n",
       "      <td>1603270966</td>\n",
       "      <td>RUB</td>\n",
       "      <td>2001</td>\n",
       "      <td>1100641120</td>\n",
       "      <td>{\"id\":\"20462996\",\"displacement\":1769,\"engine_t...</td>\n",
       "      <td>SEDAN AUTOMATIC 1.8</td>\n",
       "      <td>автоматическая</td>\n",
       "      <td>JAPANESE</td>\n",
       "      <td>3 или более</td>\n",
       "      <td>2 месяца</td>\n",
       "      <td>Дубликат</td>\n",
       "      <td>полный</td>\n",
       "      <td>Правый</td>\n",
       "      <td>Не требует ремонта</td>\n",
       "      <td>Растаможен</td>\n",
       "    </tr>\n",
       "    <tr>\n",
       "      <th>3404</th>\n",
       "      <td>седан</td>\n",
       "      <td>AUDI</td>\n",
       "      <td>https://auto.ru/cars/used/sale/audi/a4/1101269...</td>\n",
       "      <td>чёрный</td>\n",
       "      <td>NaN</td>\n",
       "      <td>Все вопросы по телефону</td>\n",
       "      <td>1.8 LTR</td>\n",
       "      <td>170 N12</td>\n",
       "      <td>NaN</td>\n",
       "      <td>бензин</td>\n",
       "      <td>https://autoru.naydex.net/ys1kR7800/fbd964zfcB...</td>\n",
       "      <td>458000</td>\n",
       "      <td>2000</td>\n",
       "      <td>{\"code\":\"A4\",\"name\":\"A4\",\"ru_name\":\"А4\",\"morph...</td>\n",
       "      <td>A4</td>\n",
       "      <td>1.8 MT (170 л.с.) 4WD</td>\n",
       "      <td>4</td>\n",
       "      <td>1603125618</td>\n",
       "      <td>RUB</td>\n",
       "      <td>2001</td>\n",
       "      <td>1101269414</td>\n",
       "      <td>{\"id\":\"20389105\",\"displacement\":1781,\"engine_t...</td>\n",
       "      <td>SEDAN MECHANICAL 1.8</td>\n",
       "      <td>механическая</td>\n",
       "      <td>EUROPEAN</td>\n",
       "      <td>3 или более</td>\n",
       "      <td>NaN</td>\n",
       "      <td>Дубликат</td>\n",
       "      <td>полный</td>\n",
       "      <td>Левый</td>\n",
       "      <td>Не требует ремонта</td>\n",
       "      <td>Растаможен</td>\n",
       "    </tr>\n",
       "    <tr>\n",
       "      <th>23339</th>\n",
       "      <td>седан</td>\n",
       "      <td>VOLKSWAGEN</td>\n",
       "      <td>https://auto.ru/cars/used/sale/volkswagen/polo...</td>\n",
       "      <td>белый</td>\n",
       "      <td>NaN</td>\n",
       "      <td>Машина в хорошем, рабочем состоянии. Полностью...</td>\n",
       "      <td>1.6 LTR</td>\n",
       "      <td>90 N12</td>\n",
       "      <td>{\"engine-proof\":true,\"steel-wheels\":true,\"airb...</td>\n",
       "      <td>бензин</td>\n",
       "      <td>https://autoru.naydex.net/o9DBXQ270/5ac010hAY0...</td>\n",
       "      <td>312000</td>\n",
       "      <td>2014</td>\n",
       "      <td>{\"code\":\"POLO\",\"name\":\"Polo\",\"ru_name\":\"Поло\",...</td>\n",
       "      <td>POLO</td>\n",
       "      <td>1.6 MT (90 л.с.)</td>\n",
       "      <td>4</td>\n",
       "      <td>1603213365</td>\n",
       "      <td>RUB</td>\n",
       "      <td>2016</td>\n",
       "      <td>1101315345</td>\n",
       "      <td>{\"id\":\"20726486\",\"displacement\":1598,\"engine_t...</td>\n",
       "      <td>SEDAN MECHANICAL 1.6</td>\n",
       "      <td>механическая</td>\n",
       "      <td>EUROPEAN</td>\n",
       "      <td>1 владелец</td>\n",
       "      <td>NaN</td>\n",
       "      <td>Оригинал</td>\n",
       "      <td>передний</td>\n",
       "      <td>Левый</td>\n",
       "      <td>Не требует ремонта</td>\n",
       "      <td>Растаможен</td>\n",
       "    </tr>\n",
       "    <tr>\n",
       "      <th>11398</th>\n",
       "      <td>внедорожник 5 дв.</td>\n",
       "      <td>NISSAN</td>\n",
       "      <td>https://auto.ru/cars/used/sale/nissan/x_trail/...</td>\n",
       "      <td>чёрный</td>\n",
       "      <td>NaN</td>\n",
       "      <td>Состояние супер, ухаживал как следует. Вложени...</td>\n",
       "      <td>2.5 LTR</td>\n",
       "      <td>165 N12</td>\n",
       "      <td>{\"engine-proof\":true,\"tinted-glass\":true,\"airb...</td>\n",
       "      <td>бензин</td>\n",
       "      <td>https://avatars.mds.yandex.net/get-autoru-vos/...</td>\n",
       "      <td>149600</td>\n",
       "      <td>2000</td>\n",
       "      <td>{\"code\":\"X_TRAIL\",\"name\":\"X-Trail\",\"ru_name\":\"...</td>\n",
       "      <td>X_TRAIL</td>\n",
       "      <td>2.5 AT (165 л.с.) 4WD</td>\n",
       "      <td>5</td>\n",
       "      <td>1603270665</td>\n",
       "      <td>RUB</td>\n",
       "      <td>2005</td>\n",
       "      <td>1101315813</td>\n",
       "      <td>{\"id\":\"3480727\",\"displacement\":2488,\"engine_ty...</td>\n",
       "      <td>ALLROAD_5_DOORS AUTOMATIC 2.5</td>\n",
       "      <td>автоматическая</td>\n",
       "      <td>JAPANESE</td>\n",
       "      <td>3 или более</td>\n",
       "      <td>NaN</td>\n",
       "      <td>Оригинал</td>\n",
       "      <td>полный</td>\n",
       "      <td>Левый</td>\n",
       "      <td>Не требует ремонта</td>\n",
       "      <td>Растаможен</td>\n",
       "    </tr>\n",
       "    <tr>\n",
       "      <th>11596</th>\n",
       "      <td>седан</td>\n",
       "      <td>NISSAN</td>\n",
       "      <td>https://auto.ru/cars/used/sale/nissan/teana/11...</td>\n",
       "      <td>чёрный</td>\n",
       "      <td>NaN</td>\n",
       "      <td>В отличном состоянии, не требует никаких вложе...</td>\n",
       "      <td>2.5 LTR</td>\n",
       "      <td>182 N12</td>\n",
       "      <td>{\"cruise-control\":true,\"tinted-glass\":true,\"es...</td>\n",
       "      <td>бензин</td>\n",
       "      <td>https://autoru.naydex.net/G87gDZg56/28c7a8vqVE...</td>\n",
       "      <td>190000</td>\n",
       "      <td>2008</td>\n",
       "      <td>{\"code\":\"TEANA\",\"name\":\"Teana\",\"ru_name\":\"Тиан...</td>\n",
       "      <td>TEANA</td>\n",
       "      <td>2.5 CVT (182 л.с.)</td>\n",
       "      <td>4</td>\n",
       "      <td>1603271443</td>\n",
       "      <td>RUB</td>\n",
       "      <td>2008</td>\n",
       "      <td>1101309878</td>\n",
       "      <td>{\"id\":\"2427129\",\"displacement\":2496,\"engine_ty...</td>\n",
       "      <td>SEDAN VARIATOR 2.5</td>\n",
       "      <td>вариатор</td>\n",
       "      <td>JAPANESE</td>\n",
       "      <td>3 или более</td>\n",
       "      <td>1 год и 1 месяц</td>\n",
       "      <td>Дубликат</td>\n",
       "      <td>передний</td>\n",
       "      <td>Левый</td>\n",
       "      <td>Не требует ремонта</td>\n",
       "      <td>Растаможен</td>\n",
       "    </tr>\n",
       "  </tbody>\n",
       "</table>\n",
       "</div>"
      ],
      "text/plain": [
       "                bodyType       brand                                            car_url   color complectation_dict                                        description engineDisplacement enginePower                                     equipment_dict fuelType                                              image  mileage  modelDate                                         model_info       model_name                   name  numberOfDoors  parsing_unixtime priceCurrency  productionDate     sell_id                                          super_gen           vehicleConfiguration vehicleTransmission    vendor    Владельцы         Владение       ПТС    Привод    Руль           Состояние     Таможня\n",
       "11474              седан      NISSAN  https://auto.ru/cars/used/sale/nissan/bluebird...   серый                NaN  Продам обслуженный автомобиль ,полный привод, ...            1.8 LTR     115 N12  {\"asr\":true,\"tinted-glass\":true,\"roller-blind-...   бензин  https://avatars.mds.yandex.net/get-autoru-vos/...   326000       2000  {\"code\":\"BLUEBIRD_SYLPHY\",\"name\":\"Bluebird Syl...  BLUEBIRD_SYLPHY  1.8 AT (115 л.с.) 4WD              4        1603270966           RUB            2001  1100641120  {\"id\":\"20462996\",\"displacement\":1769,\"engine_t...            SEDAN AUTOMATIC 1.8      автоматическая  JAPANESE  3 или более         2 месяца  Дубликат    полный  Правый  Не требует ремонта  Растаможен\n",
       "3404               седан        AUDI  https://auto.ru/cars/used/sale/audi/a4/1101269...  чёрный                NaN                            Все вопросы по телефону            1.8 LTR     170 N12                                                NaN   бензин  https://autoru.naydex.net/ys1kR7800/fbd964zfcB...   458000       2000  {\"code\":\"A4\",\"name\":\"A4\",\"ru_name\":\"А4\",\"morph...               A4  1.8 MT (170 л.с.) 4WD              4        1603125618           RUB            2001  1101269414  {\"id\":\"20389105\",\"displacement\":1781,\"engine_t...           SEDAN MECHANICAL 1.8        механическая  EUROPEAN  3 или более              NaN  Дубликат    полный   Левый  Не требует ремонта  Растаможен\n",
       "23339              седан  VOLKSWAGEN  https://auto.ru/cars/used/sale/volkswagen/polo...   белый                NaN  Машина в хорошем, рабочем состоянии. Полностью...            1.6 LTR      90 N12  {\"engine-proof\":true,\"steel-wheels\":true,\"airb...   бензин  https://autoru.naydex.net/o9DBXQ270/5ac010hAY0...   312000       2014  {\"code\":\"POLO\",\"name\":\"Polo\",\"ru_name\":\"Поло\",...             POLO       1.6 MT (90 л.с.)              4        1603213365           RUB            2016  1101315345  {\"id\":\"20726486\",\"displacement\":1598,\"engine_t...           SEDAN MECHANICAL 1.6        механическая  EUROPEAN   1 владелец              NaN  Оригинал  передний   Левый  Не требует ремонта  Растаможен\n",
       "11398  внедорожник 5 дв.      NISSAN  https://auto.ru/cars/used/sale/nissan/x_trail/...  чёрный                NaN  Состояние супер, ухаживал как следует. Вложени...            2.5 LTR     165 N12  {\"engine-proof\":true,\"tinted-glass\":true,\"airb...   бензин  https://avatars.mds.yandex.net/get-autoru-vos/...   149600       2000  {\"code\":\"X_TRAIL\",\"name\":\"X-Trail\",\"ru_name\":\"...          X_TRAIL  2.5 AT (165 л.с.) 4WD              5        1603270665           RUB            2005  1101315813  {\"id\":\"3480727\",\"displacement\":2488,\"engine_ty...  ALLROAD_5_DOORS AUTOMATIC 2.5      автоматическая  JAPANESE  3 или более              NaN  Оригинал    полный   Левый  Не требует ремонта  Растаможен\n",
       "11596              седан      NISSAN  https://auto.ru/cars/used/sale/nissan/teana/11...  чёрный                NaN  В отличном состоянии, не требует никаких вложе...            2.5 LTR     182 N12  {\"cruise-control\":true,\"tinted-glass\":true,\"es...   бензин  https://autoru.naydex.net/G87gDZg56/28c7a8vqVE...   190000       2008  {\"code\":\"TEANA\",\"name\":\"Teana\",\"ru_name\":\"Тиан...            TEANA     2.5 CVT (182 л.с.)              4        1603271443           RUB            2008  1101309878  {\"id\":\"2427129\",\"displacement\":2496,\"engine_ty...             SEDAN VARIATOR 2.5            вариатор  JAPANESE  3 или более  1 год и 1 месяц  Дубликат  передний   Левый  Не требует ремонта  Растаможен"
      ]
     },
     "metadata": {},
     "output_type": "display_data"
    }
   ],
   "source": [
    "# Загрузим наш тестовый датасет:\n",
    "\n",
    "test = pd.read_csv(PATH_to_file + 'test.csv')\n",
    "\n",
    "print('Размер тестового датасета: ', test.shape)\n",
    "display(test.sample(5))"
   ]
  },
  {
   "cell_type": "markdown",
   "metadata": {},
   "source": [
    "### 2.1 Первый взгляд"
   ]
  },
  {
   "cell_type": "code",
   "execution_count": 7,
   "metadata": {
    "scrolled": false
   },
   "outputs": [
    {
     "name": "stdout",
     "output_type": "stream",
     "text": [
      "<class 'pandas.core.frame.DataFrame'>\n",
      "RangeIndex: 34686 entries, 0 to 34685\n",
      "Data columns (total 32 columns):\n",
      " #   Column                Non-Null Count  Dtype \n",
      "---  ------                --------------  ----- \n",
      " 0   bodyType              34686 non-null  object\n",
      " 1   brand                 34686 non-null  object\n",
      " 2   car_url               34686 non-null  object\n",
      " 3   color                 34686 non-null  object\n",
      " 4   complectation_dict    6418 non-null   object\n",
      " 5   description           34686 non-null  object\n",
      " 6   engineDisplacement    34686 non-null  object\n",
      " 7   enginePower           34686 non-null  object\n",
      " 8   equipment_dict        24690 non-null  object\n",
      " 9   fuelType              34686 non-null  object\n",
      " 10  image                 34686 non-null  object\n",
      " 11  mileage               34686 non-null  int64 \n",
      " 12  modelDate             34686 non-null  int64 \n",
      " 13  model_info            34686 non-null  object\n",
      " 14  model_name            34686 non-null  object\n",
      " 15  name                  34686 non-null  object\n",
      " 16  numberOfDoors         34686 non-null  int64 \n",
      " 17  parsing_unixtime      34686 non-null  int64 \n",
      " 18  priceCurrency         34686 non-null  object\n",
      " 19  productionDate        34686 non-null  int64 \n",
      " 20  sell_id               34686 non-null  int64 \n",
      " 21  super_gen             34686 non-null  object\n",
      " 22  vehicleConfiguration  34686 non-null  object\n",
      " 23  vehicleTransmission   34686 non-null  object\n",
      " 24  vendor                34686 non-null  object\n",
      " 25  Владельцы             34686 non-null  object\n",
      " 26  Владение              11995 non-null  object\n",
      " 27  ПТС                   34685 non-null  object\n",
      " 28  Привод                34686 non-null  object\n",
      " 29  Руль                  34686 non-null  object\n",
      " 30  Состояние             34686 non-null  object\n",
      " 31  Таможня               34686 non-null  object\n",
      "dtypes: int64(6), object(26)\n",
      "memory usage: 8.5+ MB\n"
     ]
    },
    {
     "data": {
      "text/plain": [
       "None"
      ]
     },
     "metadata": {},
     "output_type": "display_data"
    }
   ],
   "source": [
    "# Посмотрим информацию по столбцам нашего датадасета:\n",
    "\n",
    "display(test.info())"
   ]
  },
  {
   "cell_type": "code",
   "execution_count": 8,
   "metadata": {},
   "outputs": [],
   "source": [
    "# В датасете присутствуют названия столбцов на русском языке, а так-же трудно воспринимаемые, переименуем их:\n",
    "\n",
    "test.columns = ['body_type', 'brand', 'car_url', 'color',\n",
    "                'complectation', 'description', 'engine_volume',\n",
    "                'engine_power', 'equipment', 'fuel_type', 'image',\n",
    "                'mileage', 'model_date', 'model_info', 'model_name',\n",
    "                'name', 'doors_num', 'parsing_unixtime', 'currency',\n",
    "                'production_date', 'sell_id', 'super_gen', 'configuration',\n",
    "                'transmission', 'vendor', 'owners_count', 'ownership',\n",
    "                'docs', 'drive', 'steering', 'state', 'customs']"
   ]
  },
  {
   "cell_type": "code",
   "execution_count": 9,
   "metadata": {},
   "outputs": [
    {
     "data": {
      "text/plain": [
       "customs                 1\n",
       "currency                1\n",
       "state                   1\n",
       "steering                2\n",
       "docs                    2\n",
       "vendor                  2\n",
       "drive                   3\n",
       "owners_count            3\n",
       "transmission            4\n",
       "fuel_type               5\n",
       "doors_num               5\n",
       "brand                  12\n",
       "color                  16\n",
       "body_type              24\n",
       "engine_volume          55\n",
       "model_date             66\n",
       "production_date        69\n",
       "ownership             275\n",
       "engine_power          315\n",
       "model_name            544\n",
       "configuration         634\n",
       "model_info            954\n",
       "complectation        2364\n",
       "name                 2780\n",
       "super_gen            5890\n",
       "mileage             11268\n",
       "equipment           23705\n",
       "description         31732\n",
       "image               34557\n",
       "parsing_unixtime    34686\n",
       "car_url             34686\n",
       "sell_id             34686\n",
       "dtype: int64"
      ]
     },
     "execution_count": 9,
     "metadata": {},
     "output_type": "execute_result"
    }
   ],
   "source": [
    "# Посмотрим на уникальные значения в каждом столбце:\n",
    "\n",
    "test.nunique().sort_values()"
   ]
  },
  {
   "cell_type": "code",
   "execution_count": 10,
   "metadata": {},
   "outputs": [
    {
     "data": {
      "text/html": [
       "<div>\n",
       "<style scoped>\n",
       "    .dataframe tbody tr th:only-of-type {\n",
       "        vertical-align: middle;\n",
       "    }\n",
       "\n",
       "    .dataframe tbody tr th {\n",
       "        vertical-align: top;\n",
       "    }\n",
       "\n",
       "    .dataframe thead th {\n",
       "        text-align: right;\n",
       "    }\n",
       "</style>\n",
       "<table border=\"1\" class=\"dataframe\">\n",
       "  <thead>\n",
       "    <tr style=\"text-align: right;\">\n",
       "      <th></th>\n",
       "      <th>customs</th>\n",
       "      <th>currency</th>\n",
       "      <th>state</th>\n",
       "    </tr>\n",
       "  </thead>\n",
       "  <tbody>\n",
       "    <tr>\n",
       "      <th>28933</th>\n",
       "      <td>Растаможен</td>\n",
       "      <td>RUB</td>\n",
       "      <td>Не требует ремонта</td>\n",
       "    </tr>\n",
       "  </tbody>\n",
       "</table>\n",
       "</div>"
      ],
      "text/plain": [
       "          customs currency               state\n",
       "28933  Растаможен      RUB  Не требует ремонта"
      ]
     },
     "execution_count": 10,
     "metadata": {},
     "output_type": "execute_result"
    }
   ],
   "source": [
    "# В 3х столбцах у нас содержится по одному значению, а значит для модели они не нужны.\n",
    "# Посмотрим на них:\n",
    "\n",
    "test.sample(1)[['customs', 'currency', 'state']]"
   ]
  },
  {
   "cell_type": "code",
   "execution_count": 11,
   "metadata": {},
   "outputs": [],
   "source": [
    "# Все машины в нашей выборке растаможены, продаются за рубли и не требуют ремонта. \n",
    "# Соответствующие столбцы можно удалить:\n",
    "\n",
    "test.drop(columns=['customs', 'currency', 'state'], inplace=True)"
   ]
  },
  {
   "cell_type": "code",
   "execution_count": 12,
   "metadata": {},
   "outputs": [],
   "source": [
    "# Можно так-же удалить столбцы не несущие полезной для модели информации (id продавца, ссылку на объявление и изображения):\n",
    "\n",
    "test.drop(columns=['sell_id', 'car_url', 'image'], inplace=True)"
   ]
  },
  {
   "cell_type": "code",
   "execution_count": 13,
   "metadata": {},
   "outputs": [
    {
     "data": {
      "text/plain": [
       "body_type               0\n",
       "brand                   0\n",
       "color                   0\n",
       "complectation       28268\n",
       "description             0\n",
       "engine_volume           0\n",
       "engine_power            0\n",
       "equipment            9996\n",
       "fuel_type               0\n",
       "mileage                 0\n",
       "model_date              0\n",
       "model_info              0\n",
       "model_name              0\n",
       "name                    0\n",
       "doors_num               0\n",
       "parsing_unixtime        0\n",
       "production_date         0\n",
       "super_gen               0\n",
       "configuration           0\n",
       "transmission            0\n",
       "vendor                  0\n",
       "owners_count            0\n",
       "ownership           22691\n",
       "docs                    1\n",
       "drive                   0\n",
       "steering                0\n",
       "dtype: int64"
      ]
     },
     "metadata": {},
     "output_type": "display_data"
    },
    {
     "data": {
      "image/png": "[encoded data removed]",
      "text/plain": [
       "<Figure size 1080x720 with 1 Axes>"
      ]
     },
     "metadata": {
      "needs_background": "light"
     },
     "output_type": "display_data"
    }
   ],
   "source": [
    "# Посмотрим кол-во пропусков в нашем датасете:\n",
    "\n",
    "display(test.isna().sum())\n",
    "\n",
    "plt.rcParams['figure.figsize'] = 15, 10\n",
    "sns_heatmap = sns.heatmap(test.isnull(), yticklabels=False,\n",
    "                          cbar=False, cmap='viridis')"
   ]
  },
  {
   "cell_type": "markdown",
   "metadata": {},
   "source": [
    "### 2.2 Работа с признаками"
   ]
  },
  {
   "cell_type": "markdown",
   "metadata": {},
   "source": [
    "#### 2.2.1 Бинарные переменные (steering, docs, vendor)"
   ]
  },
  {
   "cell_type": "code",
   "execution_count": 14,
   "metadata": {},
   "outputs": [
    {
     "name": "stdout",
     "output_type": "stream",
     "text": [
      "Значения в колнке steering: ['Левый' 'Правый']\n",
      "Значения в колнке docs: ['Оригинал' 'Дубликат' nan]\n",
      "Значения в колнке vendor: ['EUROPEAN' 'JAPANESE']\n"
     ]
    }
   ],
   "source": [
    "# Посмотрим как закодированы наши бинарные переменные:\n",
    "\n",
    "for col in ['steering', 'docs', 'vendor']:\n",
    "    print(f'Значения в колнке {col}: {test[col].unique()}')"
   ]
  },
  {
   "cell_type": "code",
   "execution_count": 15,
   "metadata": {},
   "outputs": [],
   "source": [
    "# В нашем датасете присутствуют автомобили с (ВНЕЗАПНО! :)) правым и левым рулем, \n",
    "# Европейских или Японских марок, с оригиналами и дубликатами ПТС.\n",
    "\n",
    "# В признаке ПТС есть один пропуск, заполним его наиболее частым значением:\n",
    "\n",
    "test.docs = test.docs.fillna(test.docs.value_counts().index[0])"
   ]
  },
  {
   "cell_type": "markdown",
   "metadata": {},
   "source": [
    "#### 2.2.2 Категориальные переменные (drive, owners_count, transmission, fuel_type, doors_num)"
   ]
  },
  {
   "cell_type": "code",
   "execution_count": 16,
   "metadata": {},
   "outputs": [
    {
     "name": "stdout",
     "output_type": "stream",
     "text": [
      "Значения в колнке drive: ['передний' 'полный' 'задний']\n",
      "Значения в колнке owners_count: ['3 или более' '1\\xa0владелец' '2\\xa0владельца']\n",
      "Значения в колнке transmission: ['роботизированная' 'механическая' 'автоматическая' 'вариатор']\n",
      "Значения в колнке fuel_type: ['бензин' 'дизель' 'гибрид' 'электро' 'газ']\n",
      "Значения в колнке doors_num: [5 4 2 3 0]\n"
     ]
    }
   ],
   "source": [
    "# Посмотрим какие значения принимают категориаьные переменные:\n",
    "\n",
    "for col in ['drive', 'owners_count', 'transmission', 'fuel_type', 'doors_num']:\n",
    "    print(f'Значения в колнке {col}: {test[col].unique()}')"
   ]
  },
  {
   "cell_type": "code",
   "execution_count": 17,
   "metadata": {},
   "outputs": [],
   "source": [
    "# На данном этапе можно преобразовать значения в колонке owners_count, \n",
    "# т.к. по сути это числовая переменная, где число содержится в начале строки:\n",
    "\n",
    "test.owners_count = test.owners_count.str[0].astype('int')"
   ]
  },
  {
   "cell_type": "markdown",
   "metadata": {},
   "source": [
    "#### 2.2.3 Остальные столбцы"
   ]
  },
  {
   "cell_type": "code",
   "execution_count": 18,
   "metadata": {},
   "outputs": [
    {
     "data": {
      "text/plain": [
       "24400             SEDAN MECHANICAL 1.6\n",
       "10905    ALLROAD_5_DOORS AUTOMATIC 4.4\n",
       "33737              SEDAN AUTOMATIC 2.0\n",
       "11592     ALLROAD_5_DOORS VARIATOR 1.6\n",
       "15331    ALLROAD_5_DOORS AUTOMATIC 3.5\n",
       "Name: configuration, dtype: object"
      ]
     },
     "metadata": {},
     "output_type": "display_data"
    }
   ],
   "source": [
    "# При дальнейшем \"осмотре\" датасета можно обратить внимание на столбец configuration:\n",
    "\n",
    "display(test.configuration.sample(5))"
   ]
  },
  {
   "cell_type": "code",
   "execution_count": 19,
   "metadata": {},
   "outputs": [
    {
     "data": {
      "text/html": [
       "<div>\n",
       "<style scoped>\n",
       "    .dataframe tbody tr th:only-of-type {\n",
       "        vertical-align: middle;\n",
       "    }\n",
       "\n",
       "    .dataframe tbody tr th {\n",
       "        vertical-align: top;\n",
       "    }\n",
       "\n",
       "    .dataframe thead th {\n",
       "        text-align: right;\n",
       "    }\n",
       "</style>\n",
       "<table border=\"1\" class=\"dataframe\">\n",
       "  <thead>\n",
       "    <tr style=\"text-align: right;\">\n",
       "      <th></th>\n",
       "      <th>configuration</th>\n",
       "      <th>body_type</th>\n",
       "      <th>transmission</th>\n",
       "      <th>engine_volume</th>\n",
       "    </tr>\n",
       "  </thead>\n",
       "  <tbody>\n",
       "    <tr>\n",
       "      <th>7171</th>\n",
       "      <td>WAGON_5_DOORS AUTOMATIC 2.5</td>\n",
       "      <td>универсал 5 дв.</td>\n",
       "      <td>автоматическая</td>\n",
       "      <td>2.5 LTR</td>\n",
       "    </tr>\n",
       "    <tr>\n",
       "      <th>34013</th>\n",
       "      <td>HATCHBACK_5_DOORS MECHANICAL 1.8</td>\n",
       "      <td>хэтчбек 5 дв.</td>\n",
       "      <td>механическая</td>\n",
       "      <td>1.8 LTR</td>\n",
       "    </tr>\n",
       "    <tr>\n",
       "      <th>14104</th>\n",
       "      <td>MINIVAN AUTOMATIC 2.0</td>\n",
       "      <td>минивэн</td>\n",
       "      <td>автоматическая</td>\n",
       "      <td>2.0 LTR</td>\n",
       "    </tr>\n",
       "    <tr>\n",
       "      <th>19902</th>\n",
       "      <td>ALLROAD_5_DOORS AUTOMATIC 4.5</td>\n",
       "      <td>внедорожник 5 дв.</td>\n",
       "      <td>автоматическая</td>\n",
       "      <td>4.5 LTR</td>\n",
       "    </tr>\n",
       "    <tr>\n",
       "      <th>30806</th>\n",
       "      <td>ALLROAD_5_DOORS AUTOMATIC 3.0</td>\n",
       "      <td>внедорожник 5 дв.</td>\n",
       "      <td>автоматическая</td>\n",
       "      <td>3.0 LTR</td>\n",
       "    </tr>\n",
       "    <tr>\n",
       "      <th>354</th>\n",
       "      <td>LIFTBACK MECHANICAL 1.6</td>\n",
       "      <td>лифтбек</td>\n",
       "      <td>механическая</td>\n",
       "      <td>1.6 LTR</td>\n",
       "    </tr>\n",
       "    <tr>\n",
       "      <th>19846</th>\n",
       "      <td>SEDAN AUTOMATIC 2.0</td>\n",
       "      <td>седан</td>\n",
       "      <td>автоматическая</td>\n",
       "      <td>2.0 LTR</td>\n",
       "    </tr>\n",
       "    <tr>\n",
       "      <th>6465</th>\n",
       "      <td>SEDAN AUTOMATIC 2.0</td>\n",
       "      <td>седан</td>\n",
       "      <td>автоматическая</td>\n",
       "      <td>2.0 LTR</td>\n",
       "    </tr>\n",
       "    <tr>\n",
       "      <th>4822</th>\n",
       "      <td>SEDAN AUTOMATIC 2.0</td>\n",
       "      <td>седан</td>\n",
       "      <td>автоматическая</td>\n",
       "      <td>2.0 LTR</td>\n",
       "    </tr>\n",
       "    <tr>\n",
       "      <th>4467</th>\n",
       "      <td>WAGON_5_DOORS ROBOT 3.0</td>\n",
       "      <td>универсал 5 дв.</td>\n",
       "      <td>роботизированная</td>\n",
       "      <td>3.0 LTR</td>\n",
       "    </tr>\n",
       "  </tbody>\n",
       "</table>\n",
       "</div>"
      ],
      "text/plain": [
       "                          configuration          body_type      transmission engine_volume\n",
       "7171        WAGON_5_DOORS AUTOMATIC 2.5    универсал 5 дв.    автоматическая       2.5 LTR\n",
       "34013  HATCHBACK_5_DOORS MECHANICAL 1.8      хэтчбек 5 дв.      механическая       1.8 LTR\n",
       "14104             MINIVAN AUTOMATIC 2.0            минивэн    автоматическая       2.0 LTR\n",
       "19902     ALLROAD_5_DOORS AUTOMATIC 4.5  внедорожник 5 дв.    автоматическая       4.5 LTR\n",
       "30806     ALLROAD_5_DOORS AUTOMATIC 3.0  внедорожник 5 дв.    автоматическая       3.0 LTR\n",
       "354             LIFTBACK MECHANICAL 1.6            лифтбек      механическая       1.6 LTR\n",
       "19846               SEDAN AUTOMATIC 2.0              седан    автоматическая       2.0 LTR\n",
       "6465                SEDAN AUTOMATIC 2.0              седан    автоматическая       2.0 LTR\n",
       "4822                SEDAN AUTOMATIC 2.0              седан    автоматическая       2.0 LTR\n",
       "4467            WAGON_5_DOORS ROBOT 3.0    универсал 5 дв.  роботизированная       3.0 LTR"
      ]
     },
     "execution_count": 19,
     "metadata": {},
     "output_type": "execute_result"
    }
   ],
   "source": [
    "# Видно что каждая строка сотоит из 3х слов: тип кузова, тип трансмиссии и, скорее всего, объем двигателя.\n",
    "# Для каждого из этих параметров у нас есть отдельный признак, но следует убедится что мы не ошиблись:\n",
    "\n",
    "test[['configuration', 'body_type',\n",
    "      'transmission', 'engine_volume']].sample(10)"
   ]
  },
  {
   "cell_type": "code",
   "execution_count": 20,
   "metadata": {},
   "outputs": [],
   "source": [
    "# Действительно, значения совпадают, значит столбец configuration можно удалить:\n",
    "\n",
    "test.drop(columns='configuration', inplace=True)"
   ]
  },
  {
   "cell_type": "code",
   "execution_count": 21,
   "metadata": {},
   "outputs": [
    {
     "data": {
      "text/plain": [
       "29179    440i xDrive 3.0 AT (326 л.с.) 4WD\n",
       "6840                2.0d AT (235 л.с.) 4WD\n",
       "33382                    2.0 AT (148 л.с.)\n",
       "25863                     1.3 MT (55 л.с.)\n",
       "14534                    1.6 MT (110 л.с.)\n",
       "Name: name, dtype: object"
      ]
     },
     "metadata": {},
     "output_type": "display_data"
    }
   ],
   "source": [
    "# Следующий \"интересный\" признак это name:\n",
    "\n",
    "display(test.name.sample(5))"
   ]
  },
  {
   "cell_type": "code",
   "execution_count": 22,
   "metadata": {},
   "outputs": [
    {
     "data": {
      "text/html": [
       "<div>\n",
       "<style scoped>\n",
       "    .dataframe tbody tr th:only-of-type {\n",
       "        vertical-align: middle;\n",
       "    }\n",
       "\n",
       "    .dataframe tbody tr th {\n",
       "        vertical-align: top;\n",
       "    }\n",
       "\n",
       "    .dataframe thead th {\n",
       "        text-align: right;\n",
       "    }\n",
       "</style>\n",
       "<table border=\"1\" class=\"dataframe\">\n",
       "  <thead>\n",
       "    <tr style=\"text-align: right;\">\n",
       "      <th></th>\n",
       "      <th>name</th>\n",
       "      <th>engine_volume</th>\n",
       "      <th>transmission</th>\n",
       "      <th>engine_power</th>\n",
       "    </tr>\n",
       "  </thead>\n",
       "  <tbody>\n",
       "    <tr>\n",
       "      <th>17562</th>\n",
       "      <td>350 Long 3.5 AT (306 л.с.)</td>\n",
       "      <td>3.5 LTR</td>\n",
       "      <td>автоматическая</td>\n",
       "      <td>306 N12</td>\n",
       "    </tr>\n",
       "    <tr>\n",
       "      <th>20887</th>\n",
       "      <td>1.5hyb AT (72 л.с.)</td>\n",
       "      <td>1.5 LTR</td>\n",
       "      <td>автоматическая</td>\n",
       "      <td>72 N12</td>\n",
       "    </tr>\n",
       "    <tr>\n",
       "      <th>13731</th>\n",
       "      <td>1.4 AT (88 л.с.)</td>\n",
       "      <td>1.4 LTR</td>\n",
       "      <td>автоматическая</td>\n",
       "      <td>88 N12</td>\n",
       "    </tr>\n",
       "    <tr>\n",
       "      <th>16707</th>\n",
       "      <td>250 2.0 AMT (211 л.с.) 4WD</td>\n",
       "      <td>2.0 LTR</td>\n",
       "      <td>роботизированная</td>\n",
       "      <td>211 N12</td>\n",
       "    </tr>\n",
       "    <tr>\n",
       "      <th>32096</th>\n",
       "      <td>2.0 AT (150 л.с.) 4WD</td>\n",
       "      <td>2.0 LTR</td>\n",
       "      <td>автоматическая</td>\n",
       "      <td>150 N12</td>\n",
       "    </tr>\n",
       "    <tr>\n",
       "      <th>31162</th>\n",
       "      <td>1.8 AMT (180 л.с.)</td>\n",
       "      <td>1.8 LTR</td>\n",
       "      <td>роботизированная</td>\n",
       "      <td>180 N12</td>\n",
       "    </tr>\n",
       "    <tr>\n",
       "      <th>33755</th>\n",
       "      <td>525i 2.5 MT (192 л.с.)</td>\n",
       "      <td>2.5 LTR</td>\n",
       "      <td>механическая</td>\n",
       "      <td>192 N12</td>\n",
       "    </tr>\n",
       "    <tr>\n",
       "      <th>1101</th>\n",
       "      <td>1.4 AMT (125 л.с.)</td>\n",
       "      <td>1.4 LTR</td>\n",
       "      <td>роботизированная</td>\n",
       "      <td>125 N12</td>\n",
       "    </tr>\n",
       "    <tr>\n",
       "      <th>28430</th>\n",
       "      <td>1.5 AT (109 л.с.)</td>\n",
       "      <td>1.5 LTR</td>\n",
       "      <td>автоматическая</td>\n",
       "      <td>109 N12</td>\n",
       "    </tr>\n",
       "    <tr>\n",
       "      <th>11807</th>\n",
       "      <td>2.0 CVT (141 л.с.) 4WD</td>\n",
       "      <td>2.0 LTR</td>\n",
       "      <td>вариатор</td>\n",
       "      <td>141 N12</td>\n",
       "    </tr>\n",
       "  </tbody>\n",
       "</table>\n",
       "</div>"
      ],
      "text/plain": [
       "                             name engine_volume      transmission engine_power\n",
       "17562  350 Long 3.5 AT (306 л.с.)       3.5 LTR    автоматическая      306 N12\n",
       "20887         1.5hyb AT (72 л.с.)       1.5 LTR    автоматическая       72 N12\n",
       "13731            1.4 AT (88 л.с.)       1.4 LTR    автоматическая       88 N12\n",
       "16707  250 2.0 AMT (211 л.с.) 4WD       2.0 LTR  роботизированная      211 N12\n",
       "32096       2.0 AT (150 л.с.) 4WD       2.0 LTR    автоматическая      150 N12\n",
       "31162          1.8 AMT (180 л.с.)       1.8 LTR  роботизированная      180 N12\n",
       "33755      525i 2.5 MT (192 л.с.)       2.5 LTR      механическая      192 N12\n",
       "1101           1.4 AMT (125 л.с.)       1.4 LTR  роботизированная      125 N12\n",
       "28430           1.5 AT (109 л.с.)       1.5 LTR    автоматическая      109 N12\n",
       "11807      2.0 CVT (141 л.с.) 4WD       2.0 LTR          вариатор      141 N12"
      ]
     },
     "execution_count": 22,
     "metadata": {},
     "output_type": "execute_result"
    }
   ],
   "source": [
    "# Если не обращать внимания на иногда попадающиеся \"приписки\", то столбец содержит\n",
    "# информацию об объеме двигателя, типе коробки передач и мощности. Проверим это:\n",
    "\n",
    "test[['name', 'engine_volume', 'transmission', 'engine_power']].sample(10)"
   ]
  },
  {
   "cell_type": "code",
   "execution_count": 23,
   "metadata": {},
   "outputs": [],
   "source": [
    "# Мы оказались правы, столбец name можно удалить:\n",
    "\n",
    "test.drop(columns='name', inplace=True)"
   ]
  },
  {
   "cell_type": "code",
   "execution_count": 24,
   "metadata": {},
   "outputs": [
    {
     "data": {
      "text/plain": [
       "18389    {\"code\":\"GLA_CLASS\",\"name\":\"GLA\",\"ru_name\":\"ГЛ...\n",
       "8883     {\"code\":\"5ER\",\"name\":\"5 серии\",\"ru_name\":\"5 се...\n",
       "33665    {\"code\":\"3ER\",\"name\":\"3 серии\",\"ru_name\":\"3 се...\n",
       "1822     {\"code\":\"FABIA\",\"name\":\"Fabia\",\"ru_name\":\"Фаби...\n",
       "8652     {\"code\":\"X1\",\"name\":\"X1\",\"ru_name\":\"Х1\",\"morph...\n",
       "Name: model_info, dtype: object"
      ]
     },
     "metadata": {},
     "output_type": "display_data"
    },
    {
     "data": {
      "text/plain": [
       "'{\"code\":\"OCTAVIA\",\"name\":\"Octavia\",\"ru_name\":\"Октавия\",\"morphology\":{\"gender\":\"FEMININE\"},\"nameplate\":{\"code\":\"\",\"name\":\"\",\"semantic_url\":\"\"}}'"
      ]
     },
     "metadata": {},
     "output_type": "display_data"
    }
   ],
   "source": [
    "# Посмотрим на столбец model_info:\n",
    "\n",
    "display(test.model_info.sample(5))\n",
    "\n",
    "display(test.model_info[0])"
   ]
  },
  {
   "cell_type": "code",
   "execution_count": 25,
   "metadata": {},
   "outputs": [],
   "source": [
    "# По сути это просто словарь с названием модели, которое и так есть в столбце model_name.\n",
    "# Удаляем его:\n",
    "\n",
    "test.drop(columns='model_info', inplace=True)"
   ]
  },
  {
   "cell_type": "code",
   "execution_count": 26,
   "metadata": {},
   "outputs": [
    {
     "data": {
      "text/plain": [
       "14588    {\"id\":\"20194519\",\"displacement\":2496,\"engine_t...\n",
       "21179    {\"id\":\"20494598\",\"displacement\":1598,\"engine_t...\n",
       "22934    {\"id\":\"7962036\",\"name\":\"570\",\"nameplate\":\"570\"...\n",
       "9565     {\"id\":\"2433266\",\"name\":\"35i\",\"nameplate\":\"35i\"...\n",
       "17266    {\"id\":\"20394376\",\"name\":\"180\",\"nameplate\":\"180...\n",
       "Name: super_gen, dtype: object"
      ]
     },
     "metadata": {},
     "output_type": "display_data"
    },
    {
     "data": {
      "text/plain": [
       "'{\"id\":\"10373605\",\"displacement\":1197,\"engine_type\":\"GASOLINE\",\"gear_type\":\"FORWARD_CONTROL\",\"transmission\":\"ROBOT\",\"power\":105,\"power_kvt\":77,\"human_name\":\"1.2 AMT (105 л.с.)\",\"acceleration\":10.5,\"clearance_min\":155,\"fuel_rate\":5}'"
      ]
     },
     "metadata": {},
     "output_type": "display_data"
    }
   ],
   "source": [
    "# Столбец super_gen это тоже словарь с информацией по бОльшей части дублирующейся в других столбцах:\n",
    "\n",
    "display(test.super_gen.sample(5))\n",
    "\n",
    "display(test.super_gen[0])"
   ]
  },
  {
   "cell_type": "code",
   "execution_count": 27,
   "metadata": {},
   "outputs": [],
   "source": [
    "# Удаляем его:\n",
    "\n",
    "test.drop(columns='super_gen', inplace=True)"
   ]
  },
  {
   "cell_type": "code",
   "execution_count": 28,
   "metadata": {},
   "outputs": [
    {
     "data": {
      "text/plain": [
       "18474                                                  NaN\n",
       "8890                                                   NaN\n",
       "18894                                                  NaN\n",
       "29127                                                  NaN\n",
       "30509                                                  NaN\n",
       "18448                                                  NaN\n",
       "18915                                                  NaN\n",
       "33222                                                  NaN\n",
       "30150                                                  NaN\n",
       "15682    {\"id\":\"20885440\",\"name\":\"GLC 250 4MATIC Особая...\n",
       "Name: complectation, dtype: object"
      ]
     },
     "metadata": {},
     "output_type": "display_data"
    },
    {
     "name": "stdout",
     "output_type": "stream",
     "text": [
      "{\"id\":\"21119046\",\"name\":\"Комфорт Плюс\",\"available_options\":[\"cruise-control\",\"multi-wheel\",\"heated-wash-system\",\"airbag-passenger\",\"roof-rails\",\"bas\",\"lock\",\"electro-mirrors\",\"mirrors-heat\",\"glonass\",\"computer\",\"seat-transformation\",\"wheel-power\",\"light-cleaner\",\"fabric-seats\",\"airbag-side\",\"electro-trunk\",\"abs\",\"wheel-leather\",\"climate-control-1\",\"auto-mirrors\",\"asr\",\"esp\",\"usb\",\"windcleaner-heat\",\"audiopreparation\",\"front-centre-armrest\",\"rear-camera\",\"electro-window-back\",\"reduce-spare-wheel\",\"17-inch-wheels\",\"body-mouldings\",\"wheel-heat\",\"led-lights\",\"knee-airbag\",\"airbag-driver\",\"isofix\",\"aux\",\"electro-window-front\",\"light-sensor\",\"hcc\",\"airbag-curtain\",\"keyless-entry\",\"start-button\",\"ptf\",\"rain-sensor\",\"tyre-pressure\",\"audiosystem-cd\",\"front-seats-heat\",\"bluetooth\",\"wheel-configuration2\",\"wheel-configuration1\",\"immo\",\"windscreen-heat\",\"12v-socket\",\"third-rear-headrest\"]}\n"
     ]
    }
   ],
   "source": [
    "# Посмотрим на столбец complectation:\n",
    "\n",
    "display(test.complectation.sample(10))\n",
    "\n",
    "print(test.complectation[21235])"
   ]
  },
  {
   "cell_type": "code",
   "execution_count": 29,
   "metadata": {},
   "outputs": [],
   "source": [
    "# В столбце бОльшая часть значений отсутствует совсем, а имеющиеся представлены в разных,\n",
    "# плохо интерпретируемых форматах. Данный столбец можно удалить, т.к. его обработка,\n",
    "# скорее всего, займет слишком много времени с неизвестной пользой для модели.\n",
    "# Удаляем его:\n",
    "\n",
    "test.drop(columns='complectation', inplace=True)"
   ]
  },
  {
   "cell_type": "code",
   "execution_count": 30,
   "metadata": {},
   "outputs": [
    {
     "data": {
      "text/plain": [
       "27525                                                  NaN\n",
       "14713    {\"cruise-control\":true,\"asr\":true,\"tinted-glas...\n",
       "26189    {\"ptf\":true,\"seat-transformation\":true,\"third-...\n",
       "34312    {\"alloy-wheel-disks\":true,\"ptf\":true,\"reduce-s...\n",
       "10676    {\"tinted-glass\":true,\"esp\":true,\"airbag-driver...\n",
       "14015                                                  NaN\n",
       "21413    {\"airbag-driver\":true,\"usb\":true,\"isofix\":true...\n",
       "6044                                                   NaN\n",
       "10168    {\"asr\":true,\"tinted-glass\":true,\"esp\":true,\"au...\n",
       "17918    {\"cruise-control\":true,\"tinted-glass\":true,\"es...\n",
       "Name: equipment, dtype: object"
      ]
     },
     "metadata": {},
     "output_type": "display_data"
    },
    {
     "name": "stdout",
     "output_type": "stream",
     "text": [
      "{\"cruise-control\":true,\"asr\":true,\"esp\":true,\"airbag-driver\":true,\"isofix\":true,\"usb\":true,\"light-sensor\":true,\"airbag-passenger\":true,\"computer\":true,\"wheel-power\":true,\"alarm\":true,\"lock\":true,\"fabric-seats\":true,\"electro-mirrors\":true,\"drl\":true,\"electro-window-back\":true,\"alloy-wheel-disks\":true,\"16-inch-wheels\":true,\"ptf\":true,\"rain-sensor\":true,\"airbag-side\":true,\"tyre-pressure\":true,\"mirrors-heat\":true,\"dark-interior\":true,\"driver-seat-updown\":true,\"wheel-heat\":true,\"abs\":true,\"front-seats-heat\":true,\"bluetooth\":true,\"wheel-configuration2\":true,\"immo\":true,\"windscreen-heat\":true,\"climate-control-2\":true,\"park-assist-r\":true}\n"
     ]
    }
   ],
   "source": [
    "# Посмотрим на столбец equipment:\n",
    "\n",
    "display(test.equipment.sample(10))\n",
    "\n",
    "print(test.equipment[1])"
   ]
  },
  {
   "cell_type": "code",
   "execution_count": 31,
   "metadata": {},
   "outputs": [],
   "source": [
    "# Столбец представляет из себя словарь с комплектацией автомобиля. \n",
    "# В дальнейшем его можно будет обработать, так-что пока его не трогаем."
   ]
  },
  {
   "cell_type": "code",
   "execution_count": 32,
   "metadata": {},
   "outputs": [
    {
     "data": {
      "text/plain": [
       "17540    Продам автомобиль в замечательном состоянии. П...\n",
       "8015     Автомобиль в отличном состоянии, обслуживался ...\n",
       "16470    Автомобиль теплого гаражного хранения.\\n\\nПокр...\n",
       "5250     -Оригинальный ПТС. \\t \\n-Полный комплект докум...\n",
       "25592    Авто 2013 года. Использовалась в основном для ...\n",
       "13619    Nissan Elgrand 2002 г., объём двигателя 3.5, з...\n",
       "13379    Аккуратная эксплуатация. \\nДополнительно устан...\n",
       "23613    РОЛЬФ Юг - это надежные и проверенные автомоби...\n",
       "414      РОЛЬФ - Официальный дилер и Лучший дилер Росси...\n",
       "31840    Автомобиль в отличном  техническом состоянии, ...\n",
       "Name: description, dtype: object"
      ]
     },
     "metadata": {},
     "output_type": "display_data"
    },
    {
     "name": "stdout",
     "output_type": "stream",
     "text": [
      "Продаётся пушка-гонка! Я третий владелец. Денег не жалел. Покупал ее в стоке, все доработки сделаны при мне и мной. \n",
      "Octavia RS A7 St3\n",
      "Прошита в ЕТ, по мощности около 390л.с. В гонках участвовала редко, 100-200 выезжает из 10 секунд. По доработкам: турбина is38, интеркулер blackrock, нулевик сухой AFE, инлетпайп, мафлер, рестриктер, выпуск даунпайп streetunit; тормозные диски ATE с насечками, пружины eibach-35, свечи rs6, сайленты tts. Диски enkei rs05 легкие R18, зимний комплект на dorado R17 на шипах. \n",
      "Приборка аид, болеро 2.5, камера с омывайкой. Замена масла каждые 200 моточасов (5-6тыс км). \n",
      "Мотор новый, пробег 28тыс. На ст3 пробег 8тыс.\n",
      "\n",
      "\n",
      "Продаю по причине желания приобрести другой автомобиль. От машины не избавляюсь. Перекупам не обращаться, дёшево не отдам, в салоны не поставлю. Дербанить не буду, продаётся как есть. \n",
      "\n"
     ]
    }
   ],
   "source": [
    "# Посмотрим на столбец description:\n",
    "\n",
    "display(test.description.sample(10))\n",
    "\n",
    "print(test.description[500])"
   ]
  },
  {
   "cell_type": "code",
   "execution_count": 33,
   "metadata": {},
   "outputs": [],
   "source": [
    "# Столбец представляет из себя описание объявления, данное продавцом. \n",
    "# Позже подумаем как его обрабатывать, так-что пока его не трогаем."
   ]
  },
  {
   "cell_type": "code",
   "execution_count": 34,
   "metadata": {},
   "outputs": [
    {
     "data": {
      "text/plain": [
       "7512                    NaN\n",
       "7523                    NaN\n",
       "9829                    NaN\n",
       "600      4 года и 5 месяцев\n",
       "16747                   NaN\n",
       "31153    2 года и 7 месяцев\n",
       "22220                   NaN\n",
       "29787                   NaN\n",
       "16794    3 года и 7 месяцев\n",
       "9870                    NaN\n",
       "Name: ownership, dtype: object"
      ]
     },
     "metadata": {},
     "output_type": "display_data"
    }
   ],
   "source": [
    "# Посмотрим на столбец ownership:\n",
    "\n",
    "display(test.ownership.sample(10))"
   ]
  },
  {
   "cell_type": "code",
   "execution_count": 35,
   "metadata": {},
   "outputs": [],
   "source": [
    "# В столбце много пропусков, а имеющиеся данные заполнены как строки с \"ключевыми\" словами год/года/лет и месяца/месяцев.\n",
    "# Преобразуем имеющиеся данные в числовую форму (число месяцев):\n",
    "\n",
    "months = test.ownership.str.extract(\n",
    "    '(\\d{1,2})\\sмес', expand=False).astype('float')\n",
    "years = test.ownership.str.extract(\n",
    "    '(\\d{1,2})\\s(?:лет|год)', expand=False).astype('float')\n",
    "\n",
    "test.ownership = (years*12 + months)"
   ]
  },
  {
   "cell_type": "markdown",
   "metadata": {},
   "source": [
    "#### 2.2.3 Сохраняем результат"
   ]
  },
  {
   "cell_type": "code",
   "execution_count": 36,
   "metadata": {},
   "outputs": [
    {
     "name": "stdout",
     "output_type": "stream",
     "text": [
      "<class 'pandas.core.frame.DataFrame'>\n",
      "RangeIndex: 34686 entries, 0 to 34685\n",
      "Data columns (total 21 columns):\n",
      " #   Column            Non-Null Count  Dtype  \n",
      "---  ------            --------------  -----  \n",
      " 0   body_type         34686 non-null  object \n",
      " 1   brand             34686 non-null  object \n",
      " 2   color             34686 non-null  object \n",
      " 3   description       34686 non-null  object \n",
      " 4   engine_volume     34686 non-null  object \n",
      " 5   engine_power      34686 non-null  object \n",
      " 6   equipment         24690 non-null  object \n",
      " 7   fuel_type         34686 non-null  object \n",
      " 8   mileage           34686 non-null  int64  \n",
      " 9   model_date        34686 non-null  int64  \n",
      " 10  model_name        34686 non-null  object \n",
      " 11  doors_num         34686 non-null  int64  \n",
      " 12  parsing_unixtime  34686 non-null  int64  \n",
      " 13  production_date   34686 non-null  int64  \n",
      " 14  transmission      34686 non-null  object \n",
      " 15  vendor            34686 non-null  object \n",
      " 16  owners_count      34686 non-null  int64  \n",
      " 17  ownership         9730 non-null   float64\n",
      " 18  docs              34686 non-null  object \n",
      " 19  drive             34686 non-null  object \n",
      " 20  steering          34686 non-null  object \n",
      "dtypes: float64(1), int64(6), object(14)\n",
      "memory usage: 5.6+ MB\n"
     ]
    },
    {
     "data": {
      "text/plain": [
       "None"
      ]
     },
     "metadata": {},
     "output_type": "display_data"
    },
    {
     "data": {
      "text/html": [
       "<div>\n",
       "<style scoped>\n",
       "    .dataframe tbody tr th:only-of-type {\n",
       "        vertical-align: middle;\n",
       "    }\n",
       "\n",
       "    .dataframe tbody tr th {\n",
       "        vertical-align: top;\n",
       "    }\n",
       "\n",
       "    .dataframe thead th {\n",
       "        text-align: right;\n",
       "    }\n",
       "</style>\n",
       "<table border=\"1\" class=\"dataframe\">\n",
       "  <thead>\n",
       "    <tr style=\"text-align: right;\">\n",
       "      <th></th>\n",
       "      <th>body_type</th>\n",
       "      <th>brand</th>\n",
       "      <th>color</th>\n",
       "      <th>description</th>\n",
       "      <th>engine_volume</th>\n",
       "      <th>engine_power</th>\n",
       "      <th>equipment</th>\n",
       "      <th>fuel_type</th>\n",
       "      <th>mileage</th>\n",
       "      <th>model_date</th>\n",
       "      <th>model_name</th>\n",
       "      <th>doors_num</th>\n",
       "      <th>parsing_unixtime</th>\n",
       "      <th>production_date</th>\n",
       "      <th>transmission</th>\n",
       "      <th>vendor</th>\n",
       "      <th>owners_count</th>\n",
       "      <th>ownership</th>\n",
       "      <th>docs</th>\n",
       "      <th>drive</th>\n",
       "      <th>steering</th>\n",
       "    </tr>\n",
       "  </thead>\n",
       "  <tbody>\n",
       "    <tr>\n",
       "      <th>13335</th>\n",
       "      <td>седан</td>\n",
       "      <td>NISSAN</td>\n",
       "      <td>чёрный</td>\n",
       "      <td>Безопасность: 6. Салон: 4. Комфорт: 5. Защита ...</td>\n",
       "      <td>2.5 LTR</td>\n",
       "      <td>182 N12</td>\n",
       "      <td>{\"airbag-rear-side\":true,\"asr\":true,\"airbag-dr...</td>\n",
       "      <td>бензин</td>\n",
       "      <td>200807</td>\n",
       "      <td>2008</td>\n",
       "      <td>TEANA</td>\n",
       "      <td>4</td>\n",
       "      <td>1603278076</td>\n",
       "      <td>2009</td>\n",
       "      <td>вариатор</td>\n",
       "      <td>JAPANESE</td>\n",
       "      <td>1</td>\n",
       "      <td>NaN</td>\n",
       "      <td>Оригинал</td>\n",
       "      <td>передний</td>\n",
       "      <td>Левый</td>\n",
       "    </tr>\n",
       "    <tr>\n",
       "      <th>15483</th>\n",
       "      <td>седан</td>\n",
       "      <td>MERCEDES</td>\n",
       "      <td>чёрный</td>\n",
       "      <td>МБ-Беляево — официальный дилер «Мерседес-Бенц»...</td>\n",
       "      <td>2.0 LTR</td>\n",
       "      <td>194 N12</td>\n",
       "      <td>{\"cruise-control\":true,\"esp\":true,\"adaptive-li...</td>\n",
       "      <td>дизель</td>\n",
       "      <td>6021</td>\n",
       "      <td>2016</td>\n",
       "      <td>E_KLASSE</td>\n",
       "      <td>4</td>\n",
       "      <td>1603240278</td>\n",
       "      <td>2018</td>\n",
       "      <td>автоматическая</td>\n",
       "      <td>EUROPEAN</td>\n",
       "      <td>1</td>\n",
       "      <td>NaN</td>\n",
       "      <td>Оригинал</td>\n",
       "      <td>полный</td>\n",
       "      <td>Левый</td>\n",
       "    </tr>\n",
       "    <tr>\n",
       "      <th>852</th>\n",
       "      <td>хэтчбек 5 дв.</td>\n",
       "      <td>SKODA</td>\n",
       "      <td>серый</td>\n",
       "      <td>Авто полностью обслужено, на последнем ТО (кон...</td>\n",
       "      <td>1.6 LTR</td>\n",
       "      <td>105 N12</td>\n",
       "      <td>{\"tinted-glass\":true,\"esp\":true,\"airbag-driver...</td>\n",
       "      <td>бензин</td>\n",
       "      <td>142000</td>\n",
       "      <td>2007</td>\n",
       "      <td>FABIA</td>\n",
       "      <td>5</td>\n",
       "      <td>1603229517</td>\n",
       "      <td>2009</td>\n",
       "      <td>механическая</td>\n",
       "      <td>EUROPEAN</td>\n",
       "      <td>3</td>\n",
       "      <td>53.0</td>\n",
       "      <td>Дубликат</td>\n",
       "      <td>передний</td>\n",
       "      <td>Левый</td>\n",
       "    </tr>\n",
       "    <tr>\n",
       "      <th>19467</th>\n",
       "      <td>внедорожник 5 дв.</td>\n",
       "      <td>TOYOTA</td>\n",
       "      <td>белый</td>\n",
       "      <td>Автодилер года 2020\\n\\nПобедитель в номинации ...</td>\n",
       "      <td>4.5 LTR</td>\n",
       "      <td>249 N12</td>\n",
       "      <td>{\"cruise-control\":true,\"engine-proof\":true,\"as...</td>\n",
       "      <td>дизель</td>\n",
       "      <td>75838</td>\n",
       "      <td>2015</td>\n",
       "      <td>LAND_CRUISER</td>\n",
       "      <td>5</td>\n",
       "      <td>1603288027</td>\n",
       "      <td>2015</td>\n",
       "      <td>автоматическая</td>\n",
       "      <td>JAPANESE</td>\n",
       "      <td>2</td>\n",
       "      <td>NaN</td>\n",
       "      <td>Оригинал</td>\n",
       "      <td>полный</td>\n",
       "      <td>Левый</td>\n",
       "    </tr>\n",
       "    <tr>\n",
       "      <th>26980</th>\n",
       "      <td>внедорожник 5 дв.</td>\n",
       "      <td>MITSUBISHI</td>\n",
       "      <td>серый</td>\n",
       "      <td>- Один собственник\\n- Оригинал ПТС\\n- Автомоби...</td>\n",
       "      <td>2.4 LTR</td>\n",
       "      <td>170 N12</td>\n",
       "      <td>{\"electro-window-back\":true,\"asr\":true,\"esp\":t...</td>\n",
       "      <td>бензин</td>\n",
       "      <td>258489</td>\n",
       "      <td>2009</td>\n",
       "      <td>OUTLANDER</td>\n",
       "      <td>5</td>\n",
       "      <td>1603260984</td>\n",
       "      <td>2011</td>\n",
       "      <td>вариатор</td>\n",
       "      <td>JAPANESE</td>\n",
       "      <td>1</td>\n",
       "      <td>NaN</td>\n",
       "      <td>Оригинал</td>\n",
       "      <td>полный</td>\n",
       "      <td>Левый</td>\n",
       "    </tr>\n",
       "  </tbody>\n",
       "</table>\n",
       "</div>"
      ],
      "text/plain": [
       "               body_type       brand   color                                        description engine_volume engine_power                                          equipment fuel_type  mileage  model_date    model_name  doors_num  parsing_unixtime  production_date    transmission    vendor  owners_count  ownership      docs     drive steering\n",
       "13335              седан      NISSAN  чёрный  Безопасность: 6. Салон: 4. Комфорт: 5. Защита ...       2.5 LTR      182 N12  {\"airbag-rear-side\":true,\"asr\":true,\"airbag-dr...    бензин   200807        2008         TEANA          4        1603278076             2009        вариатор  JAPANESE             1        NaN  Оригинал  передний    Левый\n",
       "15483              седан    MERCEDES  чёрный  МБ-Беляево — официальный дилер «Мерседес-Бенц»...       2.0 LTR      194 N12  {\"cruise-control\":true,\"esp\":true,\"adaptive-li...    дизель     6021        2016      E_KLASSE          4        1603240278             2018  автоматическая  EUROPEAN             1        NaN  Оригинал    полный    Левый\n",
       "852        хэтчбек 5 дв.       SKODA   серый  Авто полностью обслужено, на последнем ТО (кон...       1.6 LTR      105 N12  {\"tinted-glass\":true,\"esp\":true,\"airbag-driver...    бензин   142000        2007         FABIA          5        1603229517             2009    механическая  EUROPEAN             3       53.0  Дубликат  передний    Левый\n",
       "19467  внедорожник 5 дв.      TOYOTA   белый  Автодилер года 2020\\n\\nПобедитель в номинации ...       4.5 LTR      249 N12  {\"cruise-control\":true,\"engine-proof\":true,\"as...    дизель    75838        2015  LAND_CRUISER          5        1603288027             2015  автоматическая  JAPANESE             2        NaN  Оригинал    полный    Левый\n",
       "26980  внедорожник 5 дв.  MITSUBISHI   серый  - Один собственник\\n- Оригинал ПТС\\n- Автомоби...       2.4 LTR      170 N12  {\"electro-window-back\":true,\"asr\":true,\"esp\":t...    бензин   258489        2009     OUTLANDER          5        1603260984             2011        вариатор  JAPANESE             1        NaN  Оригинал    полный    Левый"
      ]
     },
     "metadata": {},
     "output_type": "display_data"
    }
   ],
   "source": [
    "# Посмотрим что у нас в итоге получилось:\n",
    "\n",
    "display(test.info())\n",
    "display(test.sample(5))"
   ]
  },
  {
   "cell_type": "code",
   "execution_count": 37,
   "metadata": {},
   "outputs": [],
   "source": [
    "# У нас осталось 20 признаков из изначальных 30, можно сохранить обработанный датасет:\n",
    "\n",
    "test.to_csv(PATH_to_file + 'test_finished.csv', index=False)"
   ]
  },
  {
   "cell_type": "markdown",
   "metadata": {},
   "source": [
    "## 3. Парсинг auto.ru"
   ]
  },
  {
   "cell_type": "markdown",
   "metadata": {},
   "source": [
    "### 3.1 Определяем что ищем"
   ]
  },
  {
   "cell_type": "code",
   "execution_count": 38,
   "metadata": {},
   "outputs": [],
   "source": [
    "# Составим список брендов автомобилей в тренировочном датасете:\n",
    "\n",
    "brands = []\n",
    "\n",
    "for i in range(len(test.brand.unique())):\n",
    "    brands.append((test.brand.unique()[i]).lower())"
   ]
  },
  {
   "cell_type": "code",
   "execution_count": 39,
   "metadata": {},
   "outputs": [
    {
     "name": "stdout",
     "output_type": "stream",
     "text": [
      "['skoda', 'audi', 'honda', 'volvo', 'bmw', 'nissan', 'infiniti', 'mercedes', 'toyota', 'lexus', 'volkswagen', 'mitsubishi']\n"
     ]
    }
   ],
   "source": [
    "# Посмотрим на получвшийся список:\n",
    "\n",
    "print(brands)"
   ]
  },
  {
   "cell_type": "code",
   "execution_count": 40,
   "metadata": {},
   "outputs": [
    {
     "name": "stdout",
     "output_type": "stream",
     "text": [
      "Итак, нас интересуют автомобили от 24 производителей. Их и будем искать.\n"
     ]
    }
   ],
   "source": [
    "# В нашем списке содержатся европейские и понские макри автомобилей. \n",
    "# Дополним список брендов другими европейскими и японскими марками:\n",
    "\n",
    "more_brands=['citroen', 'datsun', 'fiat', 'land_rover', 'mazda', 'mini', \n",
    " 'opel', 'peugeot', 'porsche', 'renault', 'subaru', 'suzuki'] \n",
    "\n",
    "brands.extend(more_brands)\n",
    "\n",
    "print(f'Итак, нас интересуют автомобили от {len(brands)} производителей. Их и будем искать.')"
   ]
  },
  {
   "cell_type": "markdown",
   "metadata": {},
   "source": [
    "### 3.2 Собираем данные"
   ]
  },
  {
   "cell_type": "markdown",
   "metadata": {},
   "source": [
    "Теперь надо собрать информацию о б/у автомобилях интересующих нас марок с auto.ru. Какзалось-бы, ну что тут сложного? \n",
    "    \n",
    "Оказалось все совсем не просто и auto.ru активно \"сопротивлялся\":\n",
    "1. Невозможно сделать запрос по всем регионам сразу: если делать \"дефолтный\" запрос, т.е. без явного указания региона, то происходит привязка по ip-адресу к ближайшему областному центру. Решил добавлением списка городов миллионников.\n",
    "2. Нету \"ограничителя\" счетчика страниц: даже если у нас все машины уместились на первую страницу, auto.ru по запросу будет подсовывать страницы 2-99 либо пустыми, либо с дублями уже просмотренных объявлений, что сильно увеличит время парсинга. Решил предврительным парсингом количества объявлений по каждой марке машин в каждом регионе, что-бы не просматривать лишние страницы.\n",
    "3. Нельзя смотреть страницы одной марки авто подряд (т.е., например, шкода в Москве сраница 1, шкода в Москве страница 2 и т.д.), т.к. auto.ru начинает выдавать одни и те-же объявления. Решил \"перетасовкой\" запросов: сначала спрашиваем все первые страницы всех марок в первом регионе регионе, затем во втором и т.д. и только после этого переходим к следующим страницам.\n",
    "4. Периодически auto.ru рвет соединение без видимых причин. Решил добавлением try/except, а \"сбойные\" страницы собрал в отдельный список, что-бы пройти их еще раз позже.\n",
    "5. После сбора ссылок на отдельные автомобили пытался ускорить парсинг распараллеливая процесс, но ничего не вышло, т.к. стал постоянно ловить \"дисконекты\". Решить не удалось, из-за чего весь парсинг шел в один поток :(\n",
    "     \n",
    "В итоге у меня 3 вечера ушло на подбор правильного \"способа\" парсинга, после чего сам процесс занял еще более 132 часов (и это при очень хорошем интернете!). Ниже представлен итоговый вариант парсинга, который у меня получился. Все ячейки с непосредственно парсингом или записью в файл закомментирвоаны, что-бы не перезапускать их каждый раз."
   ]
  },
  {
   "cell_type": "code",
   "execution_count": 41,
   "metadata": {},
   "outputs": [],
   "source": [
    "# Создаем словарь с городами миллионниками (бОльшая часть объявлений auto.ru находится в них):\n",
    "\n",
    "cities = ['moskva', 'sankt-peterburg', 'novosibirsk', 'ekaterinburg', 'kazan',\n",
    "          'nizhniy_novgorod', 'chelyabinsk', 'samara', 'omsk', 'rostov-na-donu',\n",
    "          'ufa', 'krasnoyarsk', 'voronezh', 'perm', 'volgograd']"
   ]
  },
  {
   "cell_type": "code",
   "execution_count": 42,
   "metadata": {},
   "outputs": [],
   "source": [
    "# Теперь сгенерируем список, каждый элемент которого будет состоять из марки автомобиля,\n",
    "# города и ссылки на соответствующую страницу с объявлениями:\n",
    "\n",
    "pages_count_list = []\n",
    "\n",
    "for brand in brands:\n",
    "    for city in cities:\n",
    "        url = 'https://auto.ru/' + city + '/cars/' + brand + '/used/'\n",
    "        pages_count_list.append([brand, city, url])"
   ]
  },
  {
   "cell_type": "code",
   "execution_count": 43,
   "metadata": {},
   "outputs": [],
   "source": [
    "# Нам понадобится функция, которая будет по ссылкам, сгенерированным в прошлой ячейке,\n",
    "# возвращать число страниц с объявлениями, которые нужно просматривать. Т.к. на одной\n",
    "# странице auto.ru помещается 38 объвлений, то будем делить кол-во. объявлений на 38,\n",
    "# округлять и, на всякий случай, добавлять еще одну страницу (вдруг пока мы будем парсить\n",
    "# число объявлений успеет увеличится?):\n",
    "\n",
    "def get_links_count(url):\n",
    "    response = requests.get(url, headers={'User-Agent': UserAgent().chrome})\n",
    "    response.encoding = 'utf-8'\n",
    "    \n",
    "    page = BeautifulSoup(response.text, 'html.parser')\n",
    "    page_offers = json.loads(page.find('script', type=\"application/ld+json\").string)\n",
    "    \n",
    "    offers = page_offers['offers']['offerCount']\n",
    "    \n",
    "    return int(round(offers/38) +1)"
   ]
  },
  {
   "cell_type": "code",
   "execution_count": 44,
   "metadata": {},
   "outputs": [],
   "source": [
    "# ВНИМАНИЕ!!! ДОЛГИЙ ПРОЦЕСС!!! НЕ ПЕРЕЗАПУСКАТЬ БЕЗ НЕОБХОДИМОСТИ!!!\n",
    "\n",
    "# Теперь, имея список с марками авто, городами и сылками, а так-же функцию из прошлой ячейки,\n",
    "# заменим в каждом элементе ссылку на 1ю странцу числом страниц, которые надо просмотреть.\n",
    "# На случай дисконекта или иных проблем будем сразу писать обновленный списко в файл:\n",
    "\n",
    "#with open(PATH_to_file + 'pages_count_list.txt', 'w') as f:\n",
    "#    for page in pages_count_list:\n",
    "#        page.append(get_links_count(page[2]))\n",
    "#        time.sleep(np.random.rand()*2)\n",
    "#        page.remove(page[2])\n",
    "#        f.write(str(page) +\"\\n\")"
   ]
  },
  {
   "cell_type": "code",
   "execution_count": 45,
   "metadata": {},
   "outputs": [],
   "source": [
    "# Прочитаем обновленный список из файла:\n",
    "\n",
    "pages_count_list = []\n",
    "\n",
    "with open(PATH_to_file + 'pages_count_list.txt', 'r') as f:\n",
    "    for line in f:\n",
    "        pages_count_list.append(eval(line))"
   ]
  },
  {
   "cell_type": "code",
   "execution_count": 46,
   "metadata": {},
   "outputs": [],
   "source": [
    "# Создадим список с ссылками на страницы с объявлениями, в соответствии со списком, \n",
    "# полученным в прошлой ячейке:\n",
    "\n",
    "pages_list = []\n",
    "\n",
    "for i in range(1, 100):\n",
    "    x = i\n",
    "    for page in pages_count_list:\n",
    "        if page[2] >= x:\n",
    "            url = 'https://auto.ru/' + page[1] + '/cars/' + page[0] + '/used/?page=' + str(x)\n",
    "            pages_list.append(url)\n",
    "        else:\n",
    "            continue"
   ]
  },
  {
   "cell_type": "code",
   "execution_count": 47,
   "metadata": {},
   "outputs": [],
   "source": [
    "# ВНИМАНИЕ!!! ОЧЕНЬ ДОЛГИЙ ПРОЦЕСС!!! НЕ ПЕРЕЗАПУСКАТЬ БЕЗ НЕОБХОДИМОСТИ!!!\n",
    "\n",
    "# Теперь пройдем по полученному списку, на каждой странице собирая ссылки на отдельные объявления.\n",
    "# Полученные ссылки будем сохранять в файл, что-бы иметь возможность дописывать его при возникновении проблем:\n",
    "\n",
    "#with open(PATH_to_file + 'car_links.txt', 'w') as f:\n",
    "#    for x in range(len(pages_list)):    \n",
    "#        link = pages_list[x]\n",
    "#        response = requests.get(link, headers={'User-Agent': UserAgent().chrome})\n",
    "#        page = BeautifulSoup(response.text, 'lxml')\n",
    "#        tags = page.find_all('a', \"Link ListingItemTitle__link\")\n",
    "#        for i in range(len(tags)):\n",
    "#            f.write(tags[i]['href'] +\"\\n\")\n",
    "#        time.sleep(np.random.rand()*3)"
   ]
  },
  {
   "cell_type": "code",
   "execution_count": 48,
   "metadata": {},
   "outputs": [],
   "source": [
    "# Читаем список ссылок на объявления из существующего файла:\n",
    "\n",
    "links = []\n",
    "\n",
    "with open(PATH_to_file + 'car_links.txt', 'r') as f:\n",
    "  for line in f:\n",
    "    links.append(str(line.strip()))"
   ]
  },
  {
   "cell_type": "code",
   "execution_count": 49,
   "metadata": {},
   "outputs": [],
   "source": [
    "# ВНИМАНИЕ!!! КОД НИЖЕ ЗАКОММЕНТИРОВАН, ЧТО-БЫ НЕ ПЕРЕЗАПИСЫВАТЬ ФАЙЛ КАЖДЫЙ РАЗ!!!\n",
    "\n",
    "# В нашем списке из-за \"запасной\" страницы для каждой марки/города могли получится дубликаты \n",
    "# ссылок на одно и то-же объявление. Удалим их и пересохраним список ссылок:\n",
    "\n",
    "# links = list(set(links))\n",
    "\n",
    "#with open(PATH_to_file + 'car_links.txt', 'w') as f:\n",
    "#    for link in links:\n",
    "#        f.write(link +\"\\n\")"
   ]
  },
  {
   "cell_type": "code",
   "execution_count": 50,
   "metadata": {},
   "outputs": [],
   "source": [
    "# Теперь напишем функцию, которая будет по ссылке собирать нужные для тренировочного датасета данные.\n",
    "# В дополнение к данным из тренировочного датасета нас, естественно, интересует цена. Я не смог найти \n",
    "# нормального API для работы с auto.ru, так-что \"вытащить\" нужные данные со станицы оказалось \n",
    "# очень не просто. К счастью, на сайте удалось найти несколько кусков кода формата json, из которых \n",
    "# в итоге и удалось получить всю нужную информацию.\n",
    "# Функция ниже по полученной ссылке возвращает полученные данные в формате словаря:\n",
    "\n",
    "def get_info(url):\n",
    "    response = requests.get(url, headers={'User-Agent': UserAgent().chrome})\n",
    "    response.encoding = 'utf-8'\n",
    "    page = BeautifulSoup(response.text, 'html.parser')\n",
    "    \n",
    "    json_data_1 = json.loads(page.find('script', type=\"application/ld+json\").string)\n",
    "    json_data_2 = json.loads(page.find('script', type=\"application/json\", id='initial-state').string)\n",
    "    \n",
    "    columns = {}\n",
    "    \n",
    "    \n",
    "    try:\n",
    "        columns['body_type'] = json_data_1['bodyType']\n",
    "    except:\n",
    "        columns['body_type'] = None\n",
    "    \n",
    "    try:\n",
    "        columns['brand'] = json_data_1['brand']\n",
    "    except:\n",
    "        columns['brand'] = None\n",
    "        \n",
    "    try:\n",
    "        columns['color'] = json_data_1['color']\n",
    "    except:\n",
    "        columns['color'] = None     \n",
    "        \n",
    "    try:\n",
    "        columns['description'] = json_data_1['description']\n",
    "    except:\n",
    "        columns['description'] = None\n",
    "        \n",
    "    try:\n",
    "        columns['engine_volume'] = json_data_1['vehicleEngine']['engineDisplacement']\n",
    "    except:\n",
    "        columns['engine_volume'] = None\n",
    "        \n",
    "    try:\n",
    "        columns['engine_power'] = json_data_1['vehicleEngine']['enginePower']\n",
    "    except:\n",
    "        columns['engine_power'] = None\n",
    "        \n",
    "    try:\n",
    "        columns['equipment'] = json_data_2['card']['vehicle_info']['equipment']\n",
    "    except:\n",
    "        columns['equipment'] = None\n",
    "        \n",
    "    try:\n",
    "        columns['fuel_type'] = json_data_1['vehicleEngine']['fuelType']\n",
    "    except:\n",
    "        columns['fuel_type'] = None\n",
    "        \n",
    "    try:\n",
    "        columns['mileage'] = json_data_2['card']['state']['mileage']\n",
    "    except:\n",
    "        columns['mileage'] = None\n",
    "        \n",
    "    try:\n",
    "        columns['model_date'] = json_data_1['modelDate']\n",
    "    except:\n",
    "        columns['model_date'] = None\n",
    "        \n",
    "    try:\n",
    "        columns['model_name'] = json_data_2['card']['vehicle_info']['model_info']['code']\n",
    "    except:\n",
    "        columns['model_name'] = None\n",
    "        \n",
    "    try:\n",
    "        columns['doors_num'] = json_data_1['numberOfDoors']\n",
    "    except:\n",
    "        columns['doors_num'] = None\n",
    "        \n",
    "    columns['parsing_unixtime'] = int(time.time())\n",
    "    \n",
    "    try:\n",
    "        columns['production_date'] = json_data_1['productionDate']\n",
    "    except:\n",
    "        columns['production_date'] = None\n",
    "        \n",
    "    try:\n",
    "        columns['transmission'] = json_data_1['vehicleTransmission']\n",
    "    except:\n",
    "        columns['transmission'] = None\n",
    "        \n",
    "    try:\n",
    "        columns['vendor'] = json_data_2['card']['vehicle_info']['vendor']\n",
    "    except:\n",
    "        columns['vendor'] = None\n",
    "        \n",
    "    try:\n",
    "        columns['owners_count'] = json_data_2['card']['documents']['owners_number']\n",
    "    except:\n",
    "        columns['owners_count'] = None\n",
    "\n",
    "    try:\n",
    "        bought = json_data_2['card']['documents']['purchase_date']\n",
    "        now = datetime.datetime.now()\n",
    "        columns['ownership'] = (now.year-bought['year'])*12+(now.month - bought['month'])\n",
    "    except:\n",
    "        columns['ownership'] = None\n",
    "        \n",
    "    try:\n",
    "        columns['docs'] = json_data_2['card']['documents']['pts']\n",
    "    except:\n",
    "        columns['docs'] = None\n",
    "        \n",
    "    try:\n",
    "        columns['drive'] = json_data_2['card']['vehicle_info']['tech_param']['gear_type']\n",
    "    except:\n",
    "        columns['drive'] = None\n",
    "        \n",
    "    try:\n",
    "        columns['steering'] = json_data_2['card']['vehicle_info']['steering_wheel']\n",
    "    except:\n",
    "        columns['steering'] = None\n",
    "        \n",
    "    try:\n",
    "        columns['price'] = json_data_1['offers']['price']\n",
    "    except:\n",
    "        columns['price'] = None\n",
    "        \n",
    "    time.sleep(np.random.rand())\n",
    "        \n",
    "    return (columns)"
   ]
  },
  {
   "cell_type": "code",
   "execution_count": 51,
   "metadata": {},
   "outputs": [],
   "source": [
    "# ВНИМАНИЕ!!! ЧЕРЕЗВЫЧАЙНО ДОЛГИЙ ПРОЦЕСС!!! НЕ ПЕРЕЗАПУСКАТЬ БЕЗ НЕОБХОДИМОСТИ!!!\n",
    "\n",
    "# Теперь запустим наш парсер по списку объявлений. Полученные данные (словари с данными \n",
    "# по каждому объявлению) будем сразу построчно записывать в файл. Ссылки с которыми возникли \n",
    "# проблемы будем сохранять отдельный файл, для возможности дальнейшей обработки:\n",
    "\n",
    "#with open(PATH_to_file + 'cars_dicts.txt', 'w') as f:\n",
    "#    for x in range(0, len(links)):    \n",
    "#        url = links[x]\n",
    "#        try:\n",
    "#            f.write(str(get_info(url)) +\"\\n\")\n",
    "#            time.sleep(np.random.rand())\n",
    "#        except:\n",
    "#            with open(PATH_to_file + 'not_read_links.txt', 'a') as f_2:\n",
    "#                f_2.write(url +\"\\n\")\n",
    "#                t = round((np.random.rand())*10, 3)\n",
    "#                print(f'Проблемы со ссылкой: {url}, жду {t} сек.')\n",
    "#                time.sleep(t)\n",
    "#                continue"
   ]
  },
  {
   "cell_type": "markdown",
   "metadata": {},
   "source": [
    "### 3.2 Смотрим что получилось собрать"
   ]
  },
  {
   "cell_type": "code",
   "execution_count": 52,
   "metadata": {
    "scrolled": true
   },
   "outputs": [],
   "source": [
    "# Прочитаем собранные объявления из файла:\n",
    "\n",
    "cars = []\n",
    "\n",
    "with open(PATH_to_file + 'cars_dicts.txt', 'r') as f:\n",
    "  for line in f:\n",
    "    cars.append(str(line.strip()))"
   ]
  },
  {
   "cell_type": "code",
   "execution_count": 53,
   "metadata": {},
   "outputs": [
    {
     "data": {
      "text/plain": [
       "110017"
      ]
     },
     "metadata": {},
     "output_type": "display_data"
    }
   ],
   "source": [
    "# Смотрим сколько объявлений у нас получилось:\n",
    "\n",
    "display(len(cars))"
   ]
  },
  {
   "cell_type": "code",
   "execution_count": 54,
   "metadata": {},
   "outputs": [],
   "source": [
    "# Создаем DataFrame для записи объявлений:\n",
    "\n",
    "train = pd.DataFrame(columns=['body_type', 'brand', 'color',\n",
    "        'description','engine_volume', 'engine_power',\n",
    "        'equipment', 'fuel_type', 'mileage', 'model_date', 'model_name', \n",
    "        'doors_num', 'parsing_unixtime', 'production_date', 'transmission', \n",
    "        'vendor', 'owners_count', 'ownership', 'docs', 'drive', 'steering', 'price'])"
   ]
  },
  {
   "cell_type": "code",
   "execution_count": 55,
   "metadata": {},
   "outputs": [],
   "source": [
    "# Записываем в него наши объявления:\n",
    "\n",
    "for car in cars:\n",
    "    train = train.append(pd.Series(eval(car)), ignore_index=True)"
   ]
  },
  {
   "cell_type": "code",
   "execution_count": 56,
   "metadata": {},
   "outputs": [
    {
     "data": {
      "text/plain": [
       "(110017, 22)"
      ]
     },
     "metadata": {},
     "output_type": "display_data"
    },
    {
     "data": {
      "text/html": [
       "<div>\n",
       "<style scoped>\n",
       "    .dataframe tbody tr th:only-of-type {\n",
       "        vertical-align: middle;\n",
       "    }\n",
       "\n",
       "    .dataframe tbody tr th {\n",
       "        vertical-align: top;\n",
       "    }\n",
       "\n",
       "    .dataframe thead th {\n",
       "        text-align: right;\n",
       "    }\n",
       "</style>\n",
       "<table border=\"1\" class=\"dataframe\">\n",
       "  <thead>\n",
       "    <tr style=\"text-align: right;\">\n",
       "      <th></th>\n",
       "      <th>body_type</th>\n",
       "      <th>brand</th>\n",
       "      <th>color</th>\n",
       "      <th>description</th>\n",
       "      <th>engine_volume</th>\n",
       "      <th>engine_power</th>\n",
       "      <th>equipment</th>\n",
       "      <th>fuel_type</th>\n",
       "      <th>mileage</th>\n",
       "      <th>model_date</th>\n",
       "      <th>model_name</th>\n",
       "      <th>doors_num</th>\n",
       "      <th>parsing_unixtime</th>\n",
       "      <th>production_date</th>\n",
       "      <th>transmission</th>\n",
       "      <th>vendor</th>\n",
       "      <th>owners_count</th>\n",
       "      <th>ownership</th>\n",
       "      <th>docs</th>\n",
       "      <th>drive</th>\n",
       "      <th>steering</th>\n",
       "      <th>price</th>\n",
       "    </tr>\n",
       "  </thead>\n",
       "  <tbody>\n",
       "    <tr>\n",
       "      <th>16014</th>\n",
       "      <td>лифтбек</td>\n",
       "      <td>SKODA</td>\n",
       "      <td>красный</td>\n",
       "      <td>В Августе был в отпуске, сейчас на связи.\\nГос...</td>\n",
       "      <td>1.6 LTR</td>\n",
       "      <td>110 N12</td>\n",
       "      <td>{}</td>\n",
       "      <td>бензин</td>\n",
       "      <td>86000</td>\n",
       "      <td>2012</td>\n",
       "      <td>RAPID</td>\n",
       "      <td>5</td>\n",
       "      <td>1631192897</td>\n",
       "      <td>2017</td>\n",
       "      <td>механическая</td>\n",
       "      <td>EUROPEAN</td>\n",
       "      <td>1</td>\n",
       "      <td>None</td>\n",
       "      <td>ORIGINAL</td>\n",
       "      <td>FORWARD_CONTROL</td>\n",
       "      <td>LEFT</td>\n",
       "      <td>980000</td>\n",
       "    </tr>\n",
       "    <tr>\n",
       "      <th>34576</th>\n",
       "      <td>седан</td>\n",
       "      <td>HONDA</td>\n",
       "      <td>чёрный</td>\n",
       "      <td>Возможен торг.\\n\\nКомплектация «Sport»:\\n• Ант...</td>\n",
       "      <td>2.4 LTR</td>\n",
       "      <td>200 N12</td>\n",
       "      <td>{'cruise-control': True, 'asr': True, 'tinted-...</td>\n",
       "      <td>бензин</td>\n",
       "      <td>172000</td>\n",
       "      <td>2007</td>\n",
       "      <td>ACCORD</td>\n",
       "      <td>4</td>\n",
       "      <td>1631229190</td>\n",
       "      <td>2008</td>\n",
       "      <td>механическая</td>\n",
       "      <td>JAPANESE</td>\n",
       "      <td>4</td>\n",
       "      <td>None</td>\n",
       "      <td>DUPLICATE</td>\n",
       "      <td>FORWARD_CONTROL</td>\n",
       "      <td>LEFT</td>\n",
       "      <td>890000</td>\n",
       "    </tr>\n",
       "    <tr>\n",
       "      <th>100374</th>\n",
       "      <td>внедорожник 5 дв.</td>\n",
       "      <td>PEUGEOT</td>\n",
       "      <td>чёрный</td>\n",
       "      <td>Продаю любимый автомобиль. \\n2 владельца в одн...</td>\n",
       "      <td>1.6 LTR</td>\n",
       "      <td>150 N12</td>\n",
       "      <td>{'cruise-control': True, 'isofix': True, 'roll...</td>\n",
       "      <td>бензин</td>\n",
       "      <td>195000</td>\n",
       "      <td>2009</td>\n",
       "      <td>3008</td>\n",
       "      <td>5</td>\n",
       "      <td>1631361271</td>\n",
       "      <td>2012</td>\n",
       "      <td>механическая</td>\n",
       "      <td>EUROPEAN</td>\n",
       "      <td>2</td>\n",
       "      <td>None</td>\n",
       "      <td>ORIGINAL</td>\n",
       "      <td>FORWARD_CONTROL</td>\n",
       "      <td>LEFT</td>\n",
       "      <td>840000</td>\n",
       "    </tr>\n",
       "    <tr>\n",
       "      <th>30560</th>\n",
       "      <td>седан</td>\n",
       "      <td>MERCEDES</td>\n",
       "      <td>чёрный</td>\n",
       "      <td>Ваш выбор и Ваше время — наши главные приорите...</td>\n",
       "      <td>2.0 LTR</td>\n",
       "      <td>306 N12</td>\n",
       "      <td>{'cruise-control': True, 'asr': True, 'esp': T...</td>\n",
       "      <td>гибрид</td>\n",
       "      <td>3000</td>\n",
       "      <td>2020</td>\n",
       "      <td>E_KLASSE</td>\n",
       "      <td>4</td>\n",
       "      <td>1631221707</td>\n",
       "      <td>2020</td>\n",
       "      <td>автоматическая</td>\n",
       "      <td>EUROPEAN</td>\n",
       "      <td>1</td>\n",
       "      <td>None</td>\n",
       "      <td>ORIGINAL</td>\n",
       "      <td>ALL_WHEEL_DRIVE</td>\n",
       "      <td>LEFT</td>\n",
       "      <td>4510000</td>\n",
       "    </tr>\n",
       "    <tr>\n",
       "      <th>80988</th>\n",
       "      <td>внедорожник 5 дв.</td>\n",
       "      <td>AUDI</td>\n",
       "      <td>белый</td>\n",
       "      <td>Состояние идеальное. Одна запись в ПТС. Компле...</td>\n",
       "      <td>4.2 LTR</td>\n",
       "      <td>350 N12</td>\n",
       "      <td>{'asr': True, 'esp': True, 'usb': True, 'e-adj...</td>\n",
       "      <td>бензин</td>\n",
       "      <td>204000</td>\n",
       "      <td>2009</td>\n",
       "      <td>Q7</td>\n",
       "      <td>5</td>\n",
       "      <td>1631322051</td>\n",
       "      <td>2013</td>\n",
       "      <td>автоматическая</td>\n",
       "      <td>EUROPEAN</td>\n",
       "      <td>1</td>\n",
       "      <td>None</td>\n",
       "      <td>ORIGINAL</td>\n",
       "      <td>ALL_WHEEL_DRIVE</td>\n",
       "      <td>LEFT</td>\n",
       "      <td>2600000</td>\n",
       "    </tr>\n",
       "  </tbody>\n",
       "</table>\n",
       "</div>"
      ],
      "text/plain": [
       "                body_type     brand    color                                        description engine_volume engine_power                                          equipment fuel_type mileage model_date model_name doors_num parsing_unixtime production_date    transmission    vendor owners_count ownership       docs            drive steering    price\n",
       "16014             лифтбек     SKODA  красный  В Августе был в отпуске, сейчас на связи.\\nГос...       1.6 LTR      110 N12                                                 {}    бензин   86000       2012      RAPID         5       1631192897            2017    механическая  EUROPEAN            1      None   ORIGINAL  FORWARD_CONTROL     LEFT   980000\n",
       "34576               седан     HONDA   чёрный  Возможен торг.\\n\\nКомплектация «Sport»:\\n• Ант...       2.4 LTR      200 N12  {'cruise-control': True, 'asr': True, 'tinted-...    бензин  172000       2007     ACCORD         4       1631229190            2008    механическая  JAPANESE            4      None  DUPLICATE  FORWARD_CONTROL     LEFT   890000\n",
       "100374  внедорожник 5 дв.   PEUGEOT   чёрный  Продаю любимый автомобиль. \\n2 владельца в одн...       1.6 LTR      150 N12  {'cruise-control': True, 'isofix': True, 'roll...    бензин  195000       2009       3008         5       1631361271            2012    механическая  EUROPEAN            2      None   ORIGINAL  FORWARD_CONTROL     LEFT   840000\n",
       "30560               седан  MERCEDES   чёрный  Ваш выбор и Ваше время — наши главные приорите...       2.0 LTR      306 N12  {'cruise-control': True, 'asr': True, 'esp': T...    гибрид    3000       2020   E_KLASSE         4       1631221707            2020  автоматическая  EUROPEAN            1      None   ORIGINAL  ALL_WHEEL_DRIVE     LEFT  4510000\n",
       "80988   внедорожник 5 дв.      AUDI    белый  Состояние идеальное. Одна запись в ПТС. Компле...       4.2 LTR      350 N12  {'asr': True, 'esp': True, 'usb': True, 'e-adj...    бензин  204000       2009         Q7         5       1631322051            2013  автоматическая  EUROPEAN            1      None   ORIGINAL  ALL_WHEEL_DRIVE     LEFT  2600000"
      ]
     },
     "metadata": {},
     "output_type": "display_data"
    }
   ],
   "source": [
    "# Посмотрим на наш датасет:\n",
    "\n",
    "display(train.shape)\n",
    "\n",
    "display(train.sample(5))"
   ]
  },
  {
   "cell_type": "code",
   "execution_count": 57,
   "metadata": {},
   "outputs": [],
   "source": [
    "# Сразу удалим те строки где по какой-то причине нет цен:\n",
    "\n",
    "train = train[train.price.notna()]"
   ]
  },
  {
   "cell_type": "code",
   "execution_count": 60,
   "metadata": {},
   "outputs": [],
   "source": [
    "# К сожалению, при парсинге я забыл импортировать модуль datetime, из-за чего\n",
    "# столбец ownership получился пустым, так-что его придется удалить. И хотя и в \n",
    "# тестовом датасете он имеет много пропусков, и в более чем половине объявлений он-бы \n",
    "# тоже был пустым это все-равно обидно. Возможно что его можно было-бы как-то обработать, \n",
    "# для улучшения модели, но проводить парсинг по новой (еще 5 суток) я не готов.\n",
    "\n",
    "train.drop(columns='ownership', inplace=True)"
   ]
  },
  {
   "cell_type": "code",
   "execution_count": 63,
   "metadata": {},
   "outputs": [
    {
     "name": "stdout",
     "output_type": "stream",
     "text": [
      "<class 'pandas.core.frame.DataFrame'>\n",
      "Int64Index: 104510 entries, 1 to 110016\n",
      "Data columns (total 21 columns):\n",
      " #   Column            Non-Null Count   Dtype \n",
      "---  ------            --------------   ----- \n",
      " 0   body_type         104510 non-null  object\n",
      " 1   brand             104510 non-null  object\n",
      " 2   color             104510 non-null  object\n",
      " 3   description       104510 non-null  object\n",
      " 4   engine_volume     104510 non-null  object\n",
      " 5   engine_power      104510 non-null  object\n",
      " 6   equipment         104510 non-null  object\n",
      " 7   fuel_type         104510 non-null  object\n",
      " 8   mileage           104510 non-null  int64 \n",
      " 9   model_date        104509 non-null  object\n",
      " 10  model_name        104510 non-null  object\n",
      " 11  doors_num         104509 non-null  object\n",
      " 12  parsing_unixtime  104510 non-null  object\n",
      " 13  production_date   104510 non-null  object\n",
      " 14  transmission      104509 non-null  object\n",
      " 15  vendor            104509 non-null  object\n",
      " 16  owners_count      104507 non-null  object\n",
      " 17  docs              104507 non-null  object\n",
      " 18  drive             104509 non-null  object\n",
      " 19  steering          104510 non-null  object\n",
      " 20  price             104510 non-null  object\n",
      "dtypes: int64(1), object(20)\n",
      "memory usage: 22.5+ MB\n"
     ]
    },
    {
     "data": {
      "text/plain": [
       "None"
      ]
     },
     "metadata": {},
     "output_type": "display_data"
    },
    {
     "data": {
      "text/plain": [
       "body_type           0\n",
       "brand               0\n",
       "color               0\n",
       "description         0\n",
       "engine_volume       0\n",
       "engine_power        0\n",
       "equipment           0\n",
       "fuel_type           0\n",
       "mileage             0\n",
       "model_date          1\n",
       "model_name          0\n",
       "doors_num           1\n",
       "parsing_unixtime    0\n",
       "production_date     0\n",
       "transmission        1\n",
       "vendor              1\n",
       "owners_count        3\n",
       "docs                3\n",
       "drive               1\n",
       "steering            0\n",
       "price               0\n",
       "dtype: int64"
      ]
     },
     "metadata": {},
     "output_type": "display_data"
    }
   ],
   "source": [
    "# Посмотрим на наш датасет:\n",
    "\n",
    "display(train.info())\n",
    "\n",
    "display(train.isna().sum())"
   ]
  },
  {
   "cell_type": "code",
   "execution_count": 67,
   "metadata": {},
   "outputs": [],
   "source": [
    "# Получилось почти 105 тысяч объявлений с ценами и в нескольких колонках единичные пропуски.\n",
    "# Эти несколько строк с пропусками можно удалить:\n",
    "\n",
    "train.dropna(inplace=True)"
   ]
  },
  {
   "cell_type": "code",
   "execution_count": 69,
   "metadata": {},
   "outputs": [],
   "source": [
    "# Некоторые переменные прочитались не теми типами, которые нам нужны. Преобразуем их:\n",
    "\n",
    "train.equipment = train.equipment.astype('str')\n",
    "\n",
    "for column in ['mileage', 'model_date', 'doors_num', 'parsing_unixtime',\n",
    "               'production_date', 'owners_count', 'price']:\n",
    "    train[column] = train[column].astype('int')"
   ]
  },
  {
   "cell_type": "code",
   "execution_count": 71,
   "metadata": {},
   "outputs": [],
   "source": [
    "# Теперь удалим дублирующиеся объявления, если таковые есть. Проверять будем по сочетанию \n",
    "# \"уникальных\" для объявления столбцов description, mileage и equipment:\n",
    "\n",
    "train.drop_duplicates(subset=['description', 'mileage', 'equipment'], keep='last', inplace=True)"
   ]
  },
  {
   "cell_type": "code",
   "execution_count": 72,
   "metadata": {},
   "outputs": [
    {
     "name": "stdout",
     "output_type": "stream",
     "text": [
      "<class 'pandas.core.frame.DataFrame'>\n",
      "Int64Index: 92003 entries, 1 to 110016\n",
      "Data columns (total 21 columns):\n",
      " #   Column            Non-Null Count  Dtype \n",
      "---  ------            --------------  ----- \n",
      " 0   body_type         92003 non-null  object\n",
      " 1   brand             92003 non-null  object\n",
      " 2   color             92003 non-null  object\n",
      " 3   description       92003 non-null  object\n",
      " 4   engine_volume     92003 non-null  object\n",
      " 5   engine_power      92003 non-null  object\n",
      " 6   equipment         92003 non-null  object\n",
      " 7   fuel_type         92003 non-null  object\n",
      " 8   mileage           92003 non-null  int64 \n",
      " 9   model_date        92003 non-null  int64 \n",
      " 10  model_name        92003 non-null  object\n",
      " 11  doors_num         92003 non-null  int64 \n",
      " 12  parsing_unixtime  92003 non-null  int64 \n",
      " 13  production_date   92003 non-null  int64 \n",
      " 14  transmission      92003 non-null  object\n",
      " 15  vendor            92003 non-null  object\n",
      " 16  owners_count      92003 non-null  int64 \n",
      " 17  docs              92003 non-null  object\n",
      " 18  drive             92003 non-null  object\n",
      " 19  steering          92003 non-null  object\n",
      " 20  price             92003 non-null  int64 \n",
      "dtypes: int64(7), object(14)\n",
      "memory usage: 15.4+ MB\n"
     ]
    },
    {
     "data": {
      "text/plain": [
       "None"
      ]
     },
     "metadata": {},
     "output_type": "display_data"
    },
    {
     "data": {
      "text/plain": [
       "docs                    2\n",
       "steering                2\n",
       "drive                   3\n",
       "doors_num               4\n",
       "owners_count            4\n",
       "transmission            4\n",
       "vendor                  4\n",
       "fuel_type               5\n",
       "color                  16\n",
       "body_type              24\n",
       "brand                  24\n",
       "engine_volume          57\n",
       "model_date             71\n",
       "production_date        71\n",
       "engine_power          384\n",
       "mileage               767\n",
       "model_name            910\n",
       "price                1323\n",
       "equipment           58922\n",
       "description         86266\n",
       "parsing_unixtime    91936\n",
       "dtype: int64"
      ]
     },
     "metadata": {},
     "output_type": "display_data"
    }
   ],
   "source": [
    "# Посмотрим что у нас осталось:\n",
    "\n",
    "display(train.info())\n",
    "\n",
    "display(train.nunique().sort_values())"
   ]
  },
  {
   "cell_type": "code",
   "execution_count": 73,
   "metadata": {},
   "outputs": [],
   "source": [
    "# ВНИМАНИЕ!!! КОД НИЖЕ ЗАКОММЕНТИРОВАН, ЧТО-БЫ НЕ ПЕРЕЗАПИСЫВАТЬ ФАЙЛ КАЖДЫЙ РАЗ!!!\n",
    "\n",
    "# Получилось более 92 объявлений без дубликатов или пропусков в данных.\n",
    "# Теперь можно сохранить собранный датасет для дальнейшей работы:\n",
    "\n",
    "#train.to_csv(PATH_to_file + 'train.csv', index=False)"
   ]
  }
 ],
 "metadata": {
  "kernelspec": {
   "display_name": "Python 3",
   "language": "python",
   "name": "python3"
  },
  "language_info": {
   "codemirror_mode": {
    "name": "ipython",
    "version": 3
   },
   "file_extension": ".py",
   "mimetype": "text/x-python",
   "name": "python",
   "nbconvert_exporter": "python",
   "pygments_lexer": "ipython3",
   "version": "3.8.5"
  }
 },
 "nbformat": 4,
 "nbformat_minor": 4
}
