{
 "cells": [
  {
   "cell_type": "markdown",
   "metadata": {},
   "source": [
    "## 0. Описание ноутбука"
   ]
  },
  {
   "cell_type": "markdown",
   "metadata": {},
   "source": [
    "   В данном ноутбуке будет проводится отбор и обучение моделей, на основании датасета подготовленного ранее.\n",
    "\n",
    "   После выбора итоговой модели необходимо будет сделать предсказание (submission) для соревнования на Kaggle.\n",
    "   \n",
    "   При подготовке предсказание необходимо помнить, что целевая переменная в датасете логарифмирована (не забыть проэкспонировать), а так-же что необходимо провести корректировку цен из-за изменения экономической обстановки (т.к. между парсингом тестовых и тренировочных данных прошло больше года).\n",
    "   \n",
    "   Процесс парсинга данных и EDA представлены в двух \"предыдущих\" ноутбуках, сохраненных в этом-же репозитории.\n",
    "   \n",
    "   Т.к. обучение моделей (а особенно выбор модели с помощью LazyPredict или подбор гиперпараметров модели с помощью RandomizedSearchCV) это очень долгий процесс, соответствующие ячейки закомментированы, что-бы не перезапускать их каждый раз.\n",
    "   \n",
    "   Результаты выполнения всех \"долгих\" ячеек представлены под ними в текстовом виде для логарифмированной и НЕ логарифмированной целевой переменной."
   ]
  },
  {
   "cell_type": "markdown",
   "metadata": {},
   "source": [
    "## 1. Импорт библиотек и настройка параметров"
   ]
  },
  {
   "cell_type": "markdown",
   "metadata": {},
   "source": [
    "Подключим необходимые бибилиотеки, пропишем пути для файловых операций и зададим системные параметры."
   ]
  },
  {
   "cell_type": "code",
   "execution_count": null,
   "metadata": {},
   "outputs": [],
   "source": [
    "# При необходимости доставляем библиотеки:\n",
    "\n",
    "#!pip install --user CatBoostRegressor \n",
    "#!pip install --user lazypredict"
   ]
  },
  {
   "cell_type": "code",
   "execution_count": null,
   "metadata": {},
   "outputs": [],
   "source": [
    "# Импортируем библиотеки:\n",
    "\n",
    "import pandas as pd\n",
    "import numpy as np\n",
    "import os\n",
    "\n",
    "from sklearn.model_selection import train_test_split, KFold, RandomizedSearchCV\n",
    "from sklearn.metrics import mean_absolute_error\n",
    "from sklearn.linear_model import LinearRegression\n",
    "from sklearn.ensemble import RandomForestRegressor, ExtraTreesRegressor, BaggingRegressor\n",
    "from sklearn.ensemble import StackingRegressor\n",
    "from xgboost import XGBRegressor\n",
    "\n",
    "import lazypredict\n",
    "from lazypredict.Supervised import LazyRegressor\n",
    "\n",
    "from catboost import CatBoostRegressor"
   ]
  },
  {
   "cell_type": "code",
   "execution_count": 2,
   "metadata": {},
   "outputs": [],
   "source": [
    "# Увеличиваем число отображаемых строк и столбцов в pandas:\n",
    "\n",
    "pd.set_option('display.max_rows', 50)\n",
    "pd.set_option('display.max_columns', 50)\n",
    "pd.set_option('display.width', 1000)"
   ]
  },
  {
   "cell_type": "code",
   "execution_count": 3,
   "metadata": {},
   "outputs": [
    {
     "name": "stdout",
     "output_type": "stream",
     "text": [
      "./data/cars_dicts.txt\n",
      "./data/submission_log.csv\n",
      "./data/not_read_links.txt\n",
      "./data/car_links.txt\n",
      "./data/test.csv\n",
      "./data/df_prepared.csv\n",
      "./data/submission_norm.csv\n",
      "./data/train.csv\n",
      "./data/test_finished.csv\n",
      "./data/pages_count_list.txt\n",
      "./data/sample_submission.csv\n"
     ]
    }
   ],
   "source": [
    "# Задаем дирректорию для работы с файлами:\n",
    "\n",
    "# При выполнении на kaggle раскомментировать этот блок:\n",
    "# for dirname, _, filenames in os.walk('/kaggle/input'):\n",
    "#    for filename in filenames:\n",
    "#        print(os.path.join(dirname, filename))\n",
    "# PATH_to_file = '/kaggle/input/sf-dst-scoring/'\n",
    "\n",
    "# При выполнении локально раскомментировать этот блок:\n",
    "for dirname, _, filenames in os.walk('./data'):\n",
    "    for filename in filenames:\n",
    "        print(os.path.join(dirname, filename))\n",
    "PATH_to_file = './data/'"
   ]
  },
  {
   "cell_type": "code",
   "execution_count": 4,
   "metadata": {},
   "outputs": [],
   "source": [
    "# Фиксируем параметры для воспроизводимости экспериментов:\n",
    "\n",
    "RANDOM_SEED = 42\n",
    "VAL_SIZE   = 0.20\n",
    "!pip freeze > requirements.txt"
   ]
  },
  {
   "cell_type": "code",
   "execution_count": 5,
   "metadata": {},
   "outputs": [],
   "source": [
    "# Создадим функцию для вычисления итоговой метрики:\n",
    "\n",
    "def mape(y_true, y_pred):\n",
    "    return np.mean(np.abs((y_pred - y_true) / y_true))"
   ]
  },
  {
   "cell_type": "markdown",
   "metadata": {},
   "source": [
    "## 2. Подготовка данных"
   ]
  },
  {
   "cell_type": "markdown",
   "metadata": {},
   "source": [
    "Готовим данные для моделирования на основе подготовленного на прошлых этапах датасета."
   ]
  },
  {
   "cell_type": "markdown",
   "metadata": {},
   "source": [
    "### 2.1 Загрузка датасета"
   ]
  },
  {
   "cell_type": "code",
   "execution_count": 6,
   "metadata": {},
   "outputs": [
    {
     "name": "stdout",
     "output_type": "stream",
     "text": [
      "Размер датасета:  (126689, 38)\n"
     ]
    },
    {
     "data": {
      "text/html": [
       "<div>\n",
       "<style scoped>\n",
       "    .dataframe tbody tr th:only-of-type {\n",
       "        vertical-align: middle;\n",
       "    }\n",
       "\n",
       "    .dataframe tbody tr th {\n",
       "        vertical-align: top;\n",
       "    }\n",
       "\n",
       "    .dataframe thead th {\n",
       "        text-align: right;\n",
       "    }\n",
       "</style>\n",
       "<table border=\"1\" class=\"dataframe\">\n",
       "  <thead>\n",
       "    <tr style=\"text-align: right;\">\n",
       "      <th></th>\n",
       "      <th>body_type</th>\n",
       "      <th>brand</th>\n",
       "      <th>color</th>\n",
       "      <th>engine_power</th>\n",
       "      <th>fuel_type</th>\n",
       "      <th>mileage</th>\n",
       "      <th>model_name</th>\n",
       "      <th>doors_num</th>\n",
       "      <th>production_date</th>\n",
       "      <th>transmission</th>\n",
       "      <th>vendor</th>\n",
       "      <th>owners_count</th>\n",
       "      <th>docs</th>\n",
       "      <th>drive</th>\n",
       "      <th>steering</th>\n",
       "      <th>price</th>\n",
       "      <th>test</th>\n",
       "      <th>pop_color</th>\n",
       "      <th>pop_brand</th>\n",
       "      <th>elite_brand</th>\n",
       "      <th>pop_model</th>\n",
       "      <th>prod_annot</th>\n",
       "      <th>km_year</th>\n",
       "      <th>rarity</th>\n",
       "      <th>desc_digits</th>\n",
       "      <th>desc_len</th>\n",
       "      <th>options_count</th>\n",
       "      <th>airbag-passenger</th>\n",
       "      <th>aux</th>\n",
       "      <th>electro-mirrors</th>\n",
       "      <th>electro-window-back</th>\n",
       "      <th>esp</th>\n",
       "      <th>front-seats-heat</th>\n",
       "      <th>immo</th>\n",
       "      <th>mirrors-heat</th>\n",
       "      <th>other</th>\n",
       "      <th>ptf</th>\n",
       "      <th>usb</th>\n",
       "    </tr>\n",
       "  </thead>\n",
       "  <tbody>\n",
       "    <tr>\n",
       "      <th>24638</th>\n",
       "      <td>9</td>\n",
       "      <td>22</td>\n",
       "      <td>7</td>\n",
       "      <td>170</td>\n",
       "      <td>3</td>\n",
       "      <td>350000</td>\n",
       "      <td>598</td>\n",
       "      <td>2</td>\n",
       "      <td>2002</td>\n",
       "      <td>0</td>\n",
       "      <td>0</td>\n",
       "      <td>2</td>\n",
       "      <td>0</td>\n",
       "      <td>1</td>\n",
       "      <td>0</td>\n",
       "      <td>0.00</td>\n",
       "      <td>1</td>\n",
       "      <td>0</td>\n",
       "      <td>1</td>\n",
       "      <td>0</td>\n",
       "      <td>1</td>\n",
       "      <td>2</td>\n",
       "      <td>18421</td>\n",
       "      <td>0</td>\n",
       "      <td>0</td>\n",
       "      <td>309</td>\n",
       "      <td>18</td>\n",
       "      <td>0.00</td>\n",
       "      <td>0.00</td>\n",
       "      <td>0.00</td>\n",
       "      <td>0.00</td>\n",
       "      <td>0.00</td>\n",
       "      <td>1.00</td>\n",
       "      <td>0.00</td>\n",
       "      <td>1.00</td>\n",
       "      <td>1.00</td>\n",
       "      <td>0.00</td>\n",
       "      <td>1.00</td>\n",
       "    </tr>\n",
       "    <tr>\n",
       "      <th>66304</th>\n",
       "      <td>10</td>\n",
       "      <td>10</td>\n",
       "      <td>13</td>\n",
       "      <td>170</td>\n",
       "      <td>3</td>\n",
       "      <td>308000</td>\n",
       "      <td>315</td>\n",
       "      <td>3</td>\n",
       "      <td>2001</td>\n",
       "      <td>1</td>\n",
       "      <td>0</td>\n",
       "      <td>0</td>\n",
       "      <td>0</td>\n",
       "      <td>2</td>\n",
       "      <td>0</td>\n",
       "      <td>12.85</td>\n",
       "      <td>0</td>\n",
       "      <td>1</td>\n",
       "      <td>1</td>\n",
       "      <td>1</td>\n",
       "      <td>1</td>\n",
       "      <td>2</td>\n",
       "      <td>15400</td>\n",
       "      <td>0</td>\n",
       "      <td>0</td>\n",
       "      <td>86</td>\n",
       "      <td>17</td>\n",
       "      <td>0.00</td>\n",
       "      <td>0.00</td>\n",
       "      <td>1.00</td>\n",
       "      <td>0.00</td>\n",
       "      <td>0.00</td>\n",
       "      <td>0.00</td>\n",
       "      <td>1.00</td>\n",
       "      <td>0.00</td>\n",
       "      <td>1.00</td>\n",
       "      <td>0.00</td>\n",
       "      <td>0.00</td>\n",
       "    </tr>\n",
       "    <tr>\n",
       "      <th>86369</th>\n",
       "      <td>5</td>\n",
       "      <td>18</td>\n",
       "      <td>13</td>\n",
       "      <td>90</td>\n",
       "      <td>3</td>\n",
       "      <td>128000</td>\n",
       "      <td>673</td>\n",
       "      <td>3</td>\n",
       "      <td>2016</td>\n",
       "      <td>1</td>\n",
       "      <td>0</td>\n",
       "      <td>0</td>\n",
       "      <td>1</td>\n",
       "      <td>1</td>\n",
       "      <td>0</td>\n",
       "      <td>13.69</td>\n",
       "      <td>0</td>\n",
       "      <td>1</td>\n",
       "      <td>1</td>\n",
       "      <td>0</td>\n",
       "      <td>1</td>\n",
       "      <td>4</td>\n",
       "      <td>25600</td>\n",
       "      <td>0</td>\n",
       "      <td>0</td>\n",
       "      <td>184</td>\n",
       "      <td>27</td>\n",
       "      <td>0.00</td>\n",
       "      <td>1.00</td>\n",
       "      <td>0.00</td>\n",
       "      <td>0.00</td>\n",
       "      <td>1.00</td>\n",
       "      <td>1.00</td>\n",
       "      <td>1.00</td>\n",
       "      <td>1.00</td>\n",
       "      <td>1.00</td>\n",
       "      <td>1.00</td>\n",
       "      <td>1.00</td>\n",
       "    </tr>\n",
       "    <tr>\n",
       "      <th>6655</th>\n",
       "      <td>0</td>\n",
       "      <td>23</td>\n",
       "      <td>1</td>\n",
       "      <td>210</td>\n",
       "      <td>3</td>\n",
       "      <td>182000</td>\n",
       "      <td>915</td>\n",
       "      <td>3</td>\n",
       "      <td>2007</td>\n",
       "      <td>0</td>\n",
       "      <td>0</td>\n",
       "      <td>0</td>\n",
       "      <td>1</td>\n",
       "      <td>0</td>\n",
       "      <td>0</td>\n",
       "      <td>0.00</td>\n",
       "      <td>1</td>\n",
       "      <td>1</td>\n",
       "      <td>0</td>\n",
       "      <td>0</td>\n",
       "      <td>1</td>\n",
       "      <td>1</td>\n",
       "      <td>13000</td>\n",
       "      <td>0</td>\n",
       "      <td>26</td>\n",
       "      <td>329</td>\n",
       "      <td>0</td>\n",
       "      <td>0.00</td>\n",
       "      <td>0.00</td>\n",
       "      <td>0.00</td>\n",
       "      <td>0.00</td>\n",
       "      <td>0.00</td>\n",
       "      <td>0.00</td>\n",
       "      <td>0.00</td>\n",
       "      <td>0.00</td>\n",
       "      <td>0.00</td>\n",
       "      <td>0.00</td>\n",
       "      <td>0.00</td>\n",
       "    </tr>\n",
       "    <tr>\n",
       "      <th>108795</th>\n",
       "      <td>9</td>\n",
       "      <td>22</td>\n",
       "      <td>1</td>\n",
       "      <td>110</td>\n",
       "      <td>3</td>\n",
       "      <td>39000</td>\n",
       "      <td>616</td>\n",
       "      <td>2</td>\n",
       "      <td>2019</td>\n",
       "      <td>1</td>\n",
       "      <td>0</td>\n",
       "      <td>1</td>\n",
       "      <td>1</td>\n",
       "      <td>1</td>\n",
       "      <td>0</td>\n",
       "      <td>13.84</td>\n",
       "      <td>0</td>\n",
       "      <td>1</td>\n",
       "      <td>1</td>\n",
       "      <td>0</td>\n",
       "      <td>1</td>\n",
       "      <td>5</td>\n",
       "      <td>19500</td>\n",
       "      <td>0</td>\n",
       "      <td>0</td>\n",
       "      <td>71</td>\n",
       "      <td>0</td>\n",
       "      <td>0.00</td>\n",
       "      <td>0.00</td>\n",
       "      <td>0.00</td>\n",
       "      <td>0.00</td>\n",
       "      <td>0.00</td>\n",
       "      <td>0.00</td>\n",
       "      <td>0.00</td>\n",
       "      <td>0.00</td>\n",
       "      <td>0.00</td>\n",
       "      <td>0.00</td>\n",
       "      <td>0.00</td>\n",
       "    </tr>\n",
       "  </tbody>\n",
       "</table>\n",
       "</div>"
      ],
      "text/plain": [
       "        body_type  brand  color  engine_power  fuel_type  mileage  model_name  doors_num  production_date  transmission  vendor  owners_count  docs  drive  steering  price  test  pop_color  pop_brand  elite_brand  pop_model  prod_annot  km_year  rarity  desc_digits  desc_len  options_count  airbag-passenger  aux  electro-mirrors  electro-window-back  esp  front-seats-heat  immo  mirrors-heat  other  ptf  usb\n",
       "24638           9     22      7           170          3   350000         598          2             2002             0       0             2     0      1         0   0.00     1          0          1            0          1           2    18421       0            0       309             18              0.00 0.00             0.00                 0.00 0.00              1.00  0.00          1.00   1.00 0.00 1.00\n",
       "66304          10     10     13           170          3   308000         315          3             2001             1       0             0     0      2         0  12.85     0          1          1            1          1           2    15400       0            0        86             17              0.00 0.00             1.00                 0.00 0.00              0.00  1.00          0.00   1.00 0.00 0.00\n",
       "86369           5     18     13            90          3   128000         673          3             2016             1       0             0     1      1         0  13.69     0          1          1            0          1           4    25600       0            0       184             27              0.00 1.00             0.00                 0.00 1.00              1.00  1.00          1.00   1.00 1.00 1.00\n",
       "6655            0     23      1           210          3   182000         915          3             2007             0       0             0     1      0         0   0.00     1          1          0            0          1           1    13000       0           26       329              0              0.00 0.00             0.00                 0.00 0.00              0.00  0.00          0.00   0.00 0.00 0.00\n",
       "108795          9     22      1           110          3    39000         616          2             2019             1       0             1     1      1         0  13.84     0          1          1            0          1           5    19500       0            0        71              0              0.00 0.00             0.00                 0.00 0.00              0.00  0.00          0.00   0.00 0.00 0.00"
      ]
     },
     "metadata": {},
     "output_type": "display_data"
    }
   ],
   "source": [
    "# Загрузим подготовленный датасет:\n",
    "\n",
    "df = pd.read_csv(PATH_to_file + 'df_prepared.csv')\n",
    "\n",
    "print('Размер датасета: ', df.shape)\n",
    "display(df.sample(5))"
   ]
  },
  {
   "cell_type": "markdown",
   "metadata": {},
   "source": [
    "### 2.2 Подготовка данных для обучения"
   ]
  },
  {
   "cell_type": "code",
   "execution_count": 7,
   "metadata": {},
   "outputs": [],
   "source": [
    "# Разделим датасет на тестовый (для которого будем предсказывать цены)\n",
    "# и тренировочный, на котором будем тренировать модель:\n",
    "\n",
    "df_test = df[df.test == 1]\n",
    "\n",
    "df_train = df[df.test == 0]"
   ]
  },
  {
   "cell_type": "code",
   "execution_count": 8,
   "metadata": {},
   "outputs": [],
   "source": [
    "# Удалим признак test из обоих датасетов. Из тестового датасета так-же\n",
    "# удалим признак price, который нам надо будет предсказать:\n",
    "\n",
    "df_test = df_test.drop(columns = ['test', 'price'], axis = 1)\n",
    "\n",
    "df_train = df_train.drop(columns = 'test', axis = 1)"
   ]
  },
  {
   "cell_type": "code",
   "execution_count": 9,
   "metadata": {},
   "outputs": [],
   "source": [
    "# Выделяем целевую переменную из тренировочног датасета. Моделирование будем проводить\n",
    "# по 2 раза, для значений полученных на прошлом этапе (т.е. логарифмированной целевой\n",
    "# переменной) и для экспонированных (т.е. НЕ логарифмированной целевой переменной):\n",
    "\n",
    "# Для НЕ логарифмированной целевой переменной используем:\n",
    "#y = np.exp(df_train.price)\n",
    "\n",
    "# Для логарифмированной целевой переменной используем:\n",
    "y = df_train.price\n",
    "\n",
    "X = df_train.drop(columns = 'price', axis = 1)"
   ]
  },
  {
   "cell_type": "code",
   "execution_count": 10,
   "metadata": {},
   "outputs": [],
   "source": [
    "# Разделим данные для обучения следующим образом:\n",
    "\n",
    "X_train, X_test, y_train, y_test = train_test_split(X, y,\n",
    "                                                    test_size=0.20,\n",
    "                                                    shuffle=True, \n",
    "                                                    random_state=RANDOM_SEED)"
   ]
  },
  {
   "cell_type": "markdown",
   "metadata": {},
   "source": [
    "## 3. Моделирование"
   ]
  },
  {
   "cell_type": "markdown",
   "metadata": {},
   "source": [
    "Теперь построим несколько моделей, для каждой из которых посчитаем нашу метрику для логарифмированной и НЕ логарифмированной переменных."
   ]
  },
  {
   "cell_type": "markdown",
   "metadata": {},
   "source": [
    "### 3.1 Наивная модель"
   ]
  },
  {
   "cell_type": "code",
   "execution_count": 12,
   "metadata": {},
   "outputs": [],
   "source": [
    "# Эта модель будет предсказывать среднюю цену по мощности двигателя (engine_power). \n",
    "# C ней будем сравнивать другие модели."
   ]
  },
  {
   "cell_type": "code",
   "execution_count": 11,
   "metadata": {},
   "outputs": [],
   "source": [
    "tmp_train = X_train.copy()\n",
    "tmp_train['price'] = y_train"
   ]
  },
  {
   "cell_type": "code",
   "execution_count": 12,
   "metadata": {},
   "outputs": [
    {
     "name": "stdout",
     "output_type": "stream",
     "text": [
      "Точность наивной модели по метрике MAPE: 4.033%\n"
     ]
    }
   ],
   "source": [
    "# Находим median по экземплярам engine_power в трейне и размечаем тест\n",
    "predict = X_test['engine_power'].map(tmp_train.groupby('engine_power')['price'].median())\n",
    "\n",
    "#оцениваем точность\n",
    "print(f\"Точность наивной модели по метрике MAPE: {(mape(y_test, predict.values))*100:0.3f}%\")"
   ]
  },
  {
   "cell_type": "markdown",
   "metadata": {},
   "source": [
    "    Для логарифмированной переменной: \n",
    "    Точность наивной модели по метрике MAPE: 4.033%\n",
    "\n",
    "    Для НЕ логарифмированной переменной:\n",
    "    Точность наивной модели по метрике MAPE: 75.610%"
   ]
  },
  {
   "cell_type": "markdown",
   "metadata": {},
   "source": [
    "### 3.2 CatBoost"
   ]
  },
  {
   "cell_type": "code",
   "execution_count": 13,
   "metadata": {},
   "outputs": [],
   "source": [
    "cat_boost = CatBoostRegressor(iterations = 5000,\n",
    "                          random_seed = RANDOM_SEED,\n",
    "                          eval_metric='MAPE',\n",
    "                          custom_metric=['R2', 'MAE'],\n",
    "                          silent=True,\n",
    "                         )\n",
    "cat_boost.fit(X_train, y_train,\n",
    "         #cat_features=cat_features_ids,\n",
    "         eval_set=(X_test, y_test),\n",
    "         verbose_eval=0,\n",
    "         use_best_model=True,\n",
    "         #plot=True\n",
    "         )\n",
    "\n",
    "cat_boost.save_model('catboost_single_model_baseline.model')"
   ]
  },
  {
   "cell_type": "code",
   "execution_count": 14,
   "metadata": {},
   "outputs": [
    {
     "name": "stdout",
     "output_type": "stream",
     "text": [
      "Точность модели по метрике MAPE: 1.176%\n"
     ]
    }
   ],
   "source": [
    "# оцениваем точность\n",
    "predict = cat_boost.predict(X_test)\n",
    "print(f\"Точность модели по метрике MAPE: {(mape(y_test, predict))*100:0.3f}%\")"
   ]
  },
  {
   "cell_type": "markdown",
   "metadata": {},
   "source": [
    "    Для логарифмированной переменной: \n",
    "    Точность модели по метрике MAPE: 1.176%\n",
    "\n",
    "    Для НЕ логарифмированной переменной:\n",
    "    Точность модели по метрике MAPE: 19.36%"
   ]
  },
  {
   "cell_type": "markdown",
   "metadata": {},
   "source": [
    "### 3.3 LazyPredict"
   ]
  },
  {
   "cell_type": "code",
   "execution_count": 1,
   "metadata": {},
   "outputs": [],
   "source": [
    "# Для выбора наилучших моделей воспользуемся библиотекой Lazypredict.\n",
    "# LazyRegressor обучит сразу 42 различные модели на наших данных и выдаст \n",
    "# результаты для каждой из них. Задать нашу функцию в качестве дополнительной\n",
    "# метрики не получится, так-что будем использовать близкую ей MAE."
   ]
  },
  {
   "cell_type": "code",
   "execution_count": null,
   "metadata": {
    "scrolled": false
   },
   "outputs": [],
   "source": [
    "# ВНИМАНИЕ!!! ОЧЕНЬ ДОЛГИЙ ПРОЦЕСС!!! НЕ ПЕРЕЗАПУСКАТЬ БЕЗ НЕОБХОДИМОСТИ!!!\n",
    "\n",
    "# Воспользуемся библиотекой Lazypredict для нахождения моделей, которые на дефолтных \n",
    "# параметрах отрабатывают лучше с нашими данными. \n",
    "\n",
    "#mae = mean_absolute_error\n",
    "\n",
    "#lazy_regr = LazyRegressor(verbose=1,ignore_warnings=True,\n",
    "#                          predictions=True, custom_metric=mae)\n",
    "\n",
    "#models, predictions = lazy_regr.fit(X_train, X_test, y_train, y_test)\n",
    "\n",
    "#print(models)"
   ]
  },
  {
   "cell_type": "markdown",
   "metadata": {},
   "source": [
    "#### Результат прогона LazyPredict для НЕ логарифмированной целевой переменной:"
   ]
  },
  {
   "cell_type": "markdown",
   "metadata": {},
   "source": [
    "                                   Adjusted R-Squared  R-Squared       RMSE  Time Taken  mean_absolute_error\n",
    "    Model                                                                                                   \n",
    "    XGBRegressor                                 0.92       0.92  481025.21        2.34            222166.40\n",
    "    ExtraTreesRegressor                          0.91       0.91  490051.38       42.46            205402.77\n",
    "    LGBMRegressor                                0.90       0.90  518023.81        0.55            242478.02\n",
    "    HistGradientBoostingRegressor                0.90       0.90  525305.11        2.41            244044.29\n",
    "    RandomForestRegressor                        0.90       0.90  532380.38       55.53            209929.92\n",
    "    BaggingRegressor                             0.88       0.88  580306.54        5.86            223996.71\n",
    "    GradientBoostingRegressor                    0.84       0.84  661127.32       12.88            316386.12\n",
    "    DecisionTreeRegressor                        0.81       0.82  719311.80        1.03            285042.12\n",
    "    ExtraTreeRegressor                           0.78       0.78  790122.15        0.52            330298.99\n",
    "    KNeighborsRegressor                          0.76       0.76  811510.84       78.78            377830.23\n",
    "    PoissonRegressor                             0.74       0.74  855349.53        0.32            394264.83\n",
    "    LassoCV                                      0.60       0.60 1059892.24        1.72            588034.16\n",
    "    BayesianRidge                                0.60       0.60 1059914.74        0.21            589188.59\n",
    "    LassoLars                                    0.60       0.60 1059925.82        0.15            588963.96\n",
    "    RidgeCV                                      0.60       0.60 1059933.54        0.24            589255.89\n",
    "    LarsCV                                       0.60       0.60 1059936.46        0.68            589144.73\n",
    "    LassoLarsCV                                  0.60       0.60 1059936.46        0.55            589144.73\n",
    "    LassoLarsIC                                  0.60       0.60 1059945.43        0.18            589282.84\n",
    "    Ridge                                        0.60       0.60 1059945.63        0.14            589298.90\n",
    "    Lasso                                        0.60       0.60 1059946.89        2.63            589302.38\n",
    "    Lars                                         0.60       0.60 1059946.99        0.32            589303.69\n",
    "    TransformedTargetRegressor                   0.60       0.60 1059946.99        0.17            589303.69\n",
    "    LinearRegression                             0.60       0.60 1059946.99        0.22            589303.69\n",
    "    SGDRegressor                                 0.59       0.59 1064942.94        0.32            568783.85\n",
    "    GammaRegressor                               0.56       0.57 1102941.88        0.19            497178.65\n",
    "    ElasticNet                                   0.56       0.56 1112092.69        0.90            573414.56\n",
    "    MLPRegressor                                 0.55       0.55 1119725.78       90.25            602807.65\n",
    "    HuberRegressor                               0.54       0.54 1131176.81        0.96            506417.82\n",
    "    PassiveAggressiveRegressor                   0.53       0.53 1148455.45        4.35            504893.12\n",
    "    OrthogonalMatchingPursuitCV                  0.52       0.52 1156360.30        0.37            660319.66\n",
    "    GeneralizedLinearRegressor                   0.52       0.52 1162533.40        0.31            591226.81\n",
    "    TweedieRegressor                             0.52       0.52 1162533.40        0.16            591226.81\n",
    "    OrthogonalMatchingPursuit                    0.50       0.50 1187462.25        0.14            673650.67\n",
    "    RANSACRegressor                              0.28       0.29 1414399.98        0.66            853828.95\n",
    "    ElasticNetCV                                 0.00       0.01 1668582.32        0.66           1039835.27\n",
    "    DummyRegressor                              -0.00      -0.00 1672841.10        0.12           1043972.62\n",
    "    NuSVR                                       -0.04      -0.03 1701501.07      314.63            954898.86\n",
    "    SVR                                         -0.10      -0.10 1754668.80      280.21            933696.23\n",
    "    AdaBoostRegressor                           -0.46      -0.46 2018065.70        6.36           1746968.80\n",
    "    LinearSVR                                   -0.62      -0.62 2127154.00        0.20           1318233.12"
   ]
  },
  {
   "cell_type": "markdown",
   "metadata": {},
   "source": [
    "#### Результат прогона LazyPredict для логарифмированной целевой переменной:"
   ]
  },
  {
   "cell_type": "markdown",
   "metadata": {},
   "source": [
    "                                   Adjusted R-Squared  R-Squared  RMSE  Time Taken  mean_absolute_error\n",
    "    Model                                                                                              \n",
    "    ExtraTreesRegressor                          0.94       0.94  0.24       37.05                 0.17\n",
    "    RandomForestRegressor                        0.94       0.94  0.24       49.53                 0.16\n",
    "    XGBRegressor                                 0.94       0.94  0.25        2.17                 0.17\n",
    "    BaggingRegressor                             0.93       0.93  0.26        5.16                 0.17\n",
    "    HistGradientBoostingRegressor                0.93       0.93  0.26        3.41                 0.18\n",
    "    LGBMRegressor                                0.93       0.93  0.26        0.57                 0.18\n",
    "    SVR                                          0.92       0.92  0.27     1757.42                 0.19\n",
    "    NuSVR                                        0.92       0.92  0.27     2241.37                 0.19\n",
    "    MLPRegressor                                 0.91       0.91  0.30       59.78                 0.22\n",
    "    GradientBoostingRegressor                    0.91       0.91  0.30       12.53                 0.22\n",
    "    DecisionTreeRegressor                        0.87       0.87  0.35        0.90                 0.24\n",
    "    ExtraTreeRegressor                           0.87       0.87  0.36        0.48                 0.25\n",
    "    KNeighborsRegressor                          0.85       0.85  0.39       72.60                 0.28\n",
    "    ElasticNetCV                                 0.83       0.83  0.40        1.21                 0.29\n",
    "    BayesianRidge                                0.83       0.83  0.40        0.19                 0.29\n",
    "    RidgeCV                                      0.83       0.83  0.40        0.23                 0.29\n",
    "    LassoLarsCV                                  0.83       0.83  0.40        0.60                 0.29\n",
    "    LarsCV                                       0.83       0.83  0.40        0.64                 0.29\n",
    "    Ridge                                        0.83       0.83  0.40        0.14                 0.29\n",
    "    TransformedTargetRegressor                   0.83       0.83  0.40        0.16                 0.29\n",
    "    LassoLarsIC                                  0.83       0.83  0.40        0.20                 0.29\n",
    "    LinearRegression                             0.83       0.83  0.40        0.18                 0.29\n",
    "    Lars                                         0.83       0.83  0.40        0.44                 0.29\n",
    "    LassoCV                                      0.83       0.83  0.40        1.50                 0.29\n",
    "    SGDRegressor                                 0.83       0.83  0.40        0.20                 0.29\n",
    "    PoissonRegressor                             0.83       0.83  0.41        0.21                 0.29\n",
    "    AdaBoostRegressor                            0.83       0.83  0.41        6.59                 0.31\n",
    "    HuberRegressor                               0.83       0.83  0.41        1.02                 0.28\n",
    "    LinearSVR                                    0.83       0.83  0.41       15.51                 0.28\n",
    "    OrthogonalMatchingPursuitCV                  0.79       0.79  0.45        0.36                 0.32\n",
    "    OrthogonalMatchingPursuit                    0.76       0.76  0.48        0.14                 0.34\n",
    "    RANSACRegressor                              0.75       0.75  0.49        0.63                 0.36\n",
    "    GeneralizedLinearRegressor                   0.75       0.75  0.49        0.30                 0.37\n",
    "    TweedieRegressor                             0.75       0.75  0.49        0.13                 0.37\n",
    "    GammaRegressor                               0.75       0.75  0.49        0.15                 0.37\n",
    "    PassiveAggressiveRegressor                   0.75       0.75  0.50        0.24                 0.36\n",
    "    ElasticNet                                   0.25       0.26  0.85        0.15                 0.68\n",
    "    LassoLars                                   -0.00      -0.00  0.99        0.17                 0.79\n",
    "    DummyRegressor                              -0.00      -0.00  0.99        0.11                 0.79\n",
    "    Lasso                                       -0.00      -0.00  0.99        0.18                 0.79"
   ]
  },
  {
   "cell_type": "markdown",
   "metadata": {},
   "source": [
    "Итак, после прогона LazyPredict с логарифмированной и не логарифмированной целевой переменной у нас есть алгоритмы \"победители\":\n",
    "\n",
    "* ExtraTreesRegressor\n",
    "* RandomForestRegressor\n",
    "* XGBRegressor\n",
    "* BaggingRegressor\n",
    "\n",
    "С  ними и будем в дальнейшем работать.\n",
    "\n",
    "В дальнейшем будем использовать логарифмированный таргет (по нашей метрике он дает более \"красивые\" результаты, а процесс моделирования идет чуть быстрее).  Для соревнования на Kaggle достаточно будет проэкспонировать предсказание). \n",
    "Результаты работы алгоритмов будем смотреть с точностью до 3 знаков после запятой.\n",
    "\n",
    "Так-же после прогона \"одиночных\" моделей попробуем стакинг для алгоритмов, которые покажут наилучший  результат."
   ]
  },
  {
   "cell_type": "markdown",
   "metadata": {},
   "source": [
    "####  3.3.1 ExtraTreesRegressor"
   ]
  },
  {
   "cell_type": "code",
   "execution_count": 33,
   "metadata": {},
   "outputs": [
    {
     "name": "stdout",
     "output_type": "stream",
     "text": [
      "Точность модели по метрике MAPE: 1.239%\n"
     ]
    }
   ],
   "source": [
    "# Запустим модель с дефотными параметрами:\n",
    "\n",
    "etr = ExtraTreesRegressor(random_state=RANDOM_SEED)\n",
    "\n",
    "etr.fit(X_train, y_train)\n",
    "\n",
    "predict = etr.predict(X_test)\n",
    "\n",
    "print(f\"Точность модели по метрике MAPE: {(mape(y_test, predict))*100:0.3f}%\")"
   ]
  },
  {
   "cell_type": "markdown",
   "metadata": {},
   "source": [
    "    Для логарифмированной переменной: \n",
    "    Точность модели по метрике MAPE: 1.239%\n",
    "\n",
    "    Для НЕ логарифмированной переменной:\n",
    "    Точность модели по метрике MAPE: 19.217%"
   ]
  },
  {
   "cell_type": "code",
   "execution_count": null,
   "metadata": {},
   "outputs": [],
   "source": [
    "# ВНИМАНИЕ!!! ОЧЕНЬ ДОЛГИЙ ПРОЦЕСС!!! НЕ ПЕРЕЗАПУСКАТЬ БЕЗ НЕОБХОДИМОСТИ!!!\n",
    "\n",
    "# Теперь попробуем подобрать гиперпараметры для нашей модели:\n",
    "\n",
    "#random_grid = {'n_estimators': [int(x) for x in np.linspace(start = 100, stop = 400, num = 4)],\n",
    "#               'max_features': ['auto', 'sqrt','log2'],\n",
    "#               'max_depth': [int(x) for x in np.linspace(5, 15, num = 6)] + [None],\n",
    "#               'min_samples_split': [2, 5, 10],\n",
    "#               'min_samples_leaf': [1, 2, 4],\n",
    "#               'bootstrap': [True, False]}\n",
    "\n",
    "#etr = ExtraTreesRegressor(random_state = RANDOM_SEED)\n",
    "#etr_random = RandomizedSearchCV(estimator = etr, param_distributions = random_grid,\n",
    "#                                n_iter = 100, cv = 5, verbose=2,\n",
    "#                                random_state=RANDOM_SEED, n_jobs = -1)\n",
    "\n",
    "#etr_random.fit(X_train, y_train)\n",
    "\n",
    "#display(etr_random.best_params_)"
   ]
  },
  {
   "cell_type": "markdown",
   "metadata": {},
   "source": [
    "    Для логарифмированной переменной получившиеся лучшие параметры:\n",
    "    {'n_estimators': 300,\n",
    "    'min_samples_split': 2,\n",
    "    'min_samples_leaf': 1,\n",
    "    'max_features': 'auto',\n",
    "    'max_depth': None,\n",
    "    'bootstrap': True}\n",
    "    \n",
    "    Для НЕ логарифмированной переменной получившиеся лучшие параметры:\n",
    "    {'n_estimators': 300,\n",
    "     'min_samples_split': 5,\n",
    "     'min_samples_leaf': 2,\n",
    "     'max_features': 'auto',\n",
    "     'max_depth': 15,\n",
    "     'bootstrap': False}  "
   ]
  },
  {
   "cell_type": "code",
   "execution_count": 39,
   "metadata": {},
   "outputs": [
    {
     "name": "stdout",
     "output_type": "stream",
     "text": [
      "Точность модели по метрике MAPE: 1.248%\n"
     ]
    }
   ],
   "source": [
    "# Запустим модель с подобранными гиперпараметрами:\n",
    "\n",
    "etr = ExtraTreesRegressor(n_estimators=300, min_samples_split=2, min_samples_leaf=1,\n",
    "                          max_features='auto', max_depth=None, bootstrap=True,\n",
    "                          random_state=RANDOM_SEED)\n",
    "\n",
    "etr.fit(X_train, y_train)\n",
    "\n",
    "predict = etr.predict(X_test)\n",
    "\n",
    "print(f\"Точность модели по метрике MAPE: {(mape(y_test, predict))*100:0.3f}%\")"
   ]
  },
  {
   "cell_type": "markdown",
   "metadata": {},
   "source": [
    "    Для логарифмированной переменной: \n",
    "    Точность модели по метрике MAPE: 1.248%\n",
    "\n",
    "    Для НЕ логарифмированной переменной:\n",
    "    Точность модели по метрике MAPE: 20.867%"
   ]
  },
  {
   "cell_type": "code",
   "execution_count": null,
   "metadata": {},
   "outputs": [],
   "source": [
    "# Почему-то подобранными гиперпараметрами результаты (по нашей метрике) стали хуже.\n",
    "# При подготовке submission надо будет попробовать оба варианта."
   ]
  },
  {
   "cell_type": "markdown",
   "metadata": {},
   "source": [
    "####  3.3.2 RandomForestRegressor"
   ]
  },
  {
   "cell_type": "code",
   "execution_count": 40,
   "metadata": {},
   "outputs": [
    {
     "name": "stdout",
     "output_type": "stream",
     "text": [
      "Точность модели по метрике MAPE: 1.235%\n"
     ]
    }
   ],
   "source": [
    "# Запустим модель с дефотными параметрами:\n",
    "\n",
    "rf = RandomForestRegressor(random_state = RANDOM_SEED)\n",
    "\n",
    "rf.fit(X_train, y_train)\n",
    "\n",
    "predict = rf.predict(X_test)\n",
    "\n",
    "print(f\"Точность модели по метрике MAPE: {(mape(y_test, predict))*100:0.3f}%\")"
   ]
  },
  {
   "cell_type": "markdown",
   "metadata": {},
   "source": [
    "    Для логарифмированной переменной: \n",
    "    Точность модели по метрике MAPE: 1.235%\n",
    "\n",
    "    Для НЕ логарифмированной переменной:\n",
    "    Точность модели по метрике MAPE: 19.267%"
   ]
  },
  {
   "cell_type": "code",
   "execution_count": null,
   "metadata": {},
   "outputs": [],
   "source": [
    "# ВНИМАНИЕ!!! ОЧЕНЬ ДОЛГИЙ ПРОЦЕСС!!! НЕ ПЕРЕЗАПУСКАТЬ БЕЗ НЕОБХОДИМОСТИ!!!\n",
    "\n",
    "# Теперь попробуем подобрать гиперпараметры для нашей модели:\n",
    "\n",
    "#random_grid = {'n_estimators': [int(x) for x in np.linspace(start=100, stop=400, num=4)],\n",
    "#               'max_features': ['auto', 'sqrt', 'log2'],\n",
    "#               'max_depth': [int(x) for x in np.linspace(5, 15, num=6)] + [None],\n",
    "#               'min_samples_split': [2, 5, 10],\n",
    "#               'min_samples_leaf': [1, 2, 4],\n",
    "#               'bootstrap': [True, False]}\n",
    "\n",
    "#rfr = RandomForestRegressor(random_state=RANDOM_SEED)\n",
    "#rfr_random = RandomizedSearchCV(estimator=rfr, param_distributions=random_grid,\n",
    "#                                n_iter=100, cv=5, verbose=2, random_state=RANDOM_SEED, n_jobs=-1)\n",
    "\n",
    "#rfr_random.fit(X_train, np.log(y_train))\n",
    "\n",
    "#display(rfr_random.best_params_)"
   ]
  },
  {
   "cell_type": "markdown",
   "metadata": {},
   "source": [
    "    Для логарифмированной переменной получившиеся лучшие параметры:\n",
    "    {'n_estimators': 300,\n",
    "     'min_samples_split': 2,\n",
    "     'min_samples_leaf': 1,\n",
    "     'max_features': 'auto',\n",
    "     'max_depth': None,\n",
    "     'bootstrap': True}\n",
    "\n",
    "    Для НЕ логарифмированной переменной получившиеся лучшие параметры:\n",
    "    {'n_estimators': 300,\n",
    "     'min_samples_split': 2,\n",
    "     'min_samples_leaf': 1,\n",
    "     'max_features': 'auto',\n",
    "     'max_depth': None,\n",
    "     'bootstrap': True}   "
   ]
  },
  {
   "cell_type": "code",
   "execution_count": 44,
   "metadata": {},
   "outputs": [
    {
     "name": "stdout",
     "output_type": "stream",
     "text": [
      "Точность модели по метрике MAPE: 1.228%\n"
     ]
    }
   ],
   "source": [
    "# Запустим модель с подобранными гиперпараметрами:\n",
    "\n",
    "rf = RandomForestRegressor(n_estimators=300, min_samples_split=2, min_samples_leaf=1,\n",
    "                          max_features='auto', max_depth=None, bootstrap=True,\n",
    "                          random_state=RANDOM_SEED)\n",
    "\n",
    "rf.fit(X_train, y_train)\n",
    "\n",
    "predict = rf.predict(X_test)\n",
    "\n",
    "print(f\"Точность модели по метрике MAPE: {(mape(y_test, predict))*100:0.3f}%\")"
   ]
  },
  {
   "cell_type": "markdown",
   "metadata": {},
   "source": [
    "    Для логарифмированной переменной: \n",
    "    Точность модели по метрике MAPE: 1.228%\n",
    "\n",
    "    Для НЕ логарифмированной переменной:\n",
    "    Точность модели по метрике MAPE: 19.206%"
   ]
  },
  {
   "cell_type": "code",
   "execution_count": 46,
   "metadata": {},
   "outputs": [],
   "source": [
    "# С подобранными гиперпараметрами точность по нашей метрике слегка улучшилась.\n",
    "# В дальнейшем можно использовать модель именно с ними."
   ]
  },
  {
   "cell_type": "markdown",
   "metadata": {},
   "source": [
    "#### 3.3.3 XGBRegressor"
   ]
  },
  {
   "cell_type": "code",
   "execution_count": 49,
   "metadata": {},
   "outputs": [
    {
     "name": "stdout",
     "output_type": "stream",
     "text": [
      "Точность модели по метрике MAPE: 1.280%\n"
     ]
    }
   ],
   "source": [
    "# Запустим модель с дефотными параметрами:\n",
    "\n",
    "xgb_reg = XGBRegressor(random_state=RANDOM_SEED)\n",
    "\n",
    "xgb_reg.fit(X_train, y_train)\n",
    "\n",
    "predict = xgb_reg.predict(X_test)\n",
    "\n",
    "print(f\"Точность модели по метрике MAPE: {(mape(y_test, predict))*100:0.3f}%\")"
   ]
  },
  {
   "cell_type": "markdown",
   "metadata": {},
   "source": [
    "    Для логарифмированной переменной: \n",
    "    Точность модели по метрике MAPE: 1.280%\n",
    "\n",
    "    Для НЕ логарифмированной переменной:\n",
    "    Точность модели по метрике MAPE: 21.563%"
   ]
  },
  {
   "cell_type": "code",
   "execution_count": null,
   "metadata": {},
   "outputs": [],
   "source": [
    "# ВНИМАНИЕ!!! ОЧЕНЬ ДОЛГИЙ ПРОЦЕСС!!! НЕ ПЕРЕЗАПУСКАТЬ БЕЗ НЕОБХОДИМОСТИ!!!\n",
    "\n",
    "# Теперь попробуем подобрать гиперпараметры для нашей модели:\n",
    "\n",
    "#random_grid = {'colsample_bytree':  [0.5, 1],\n",
    "#               'learning_rate': [x for x in np.linspace(start=0.01, stop=0.05, num=5)],\n",
    "#               'max_depth': [int(x) for x in np.linspace(5, 40, num=6)],\n",
    "#               'objective': ['reg:squarederror', 'reg:linear']}\n",
    "\n",
    "#xgb_reg = XGBRegressor(random_state=RANDOM_SEED)\n",
    "#xgb_random = RandomizedSearchCV(estimator=xgb_reg, param_distributions=random_grid,\n",
    "#                                n_iter=100, cv=5, verbose=2, random_state=RANDOM_SEED, n_jobs=-1)\n",
    "\n",
    "#xgb_random.fit(X_train, np.log(y_train))\n",
    "\n",
    "#display(xgb_random.best_params_)"
   ]
  },
  {
   "cell_type": "markdown",
   "metadata": {},
   "source": [
    "    Для логарифмированной переменной получившиеся лучшие параметры:\n",
    "    {'objective': 'reg:squarederror',\n",
    "     'max_depth': 12,\n",
    "     'learning_rate': 0.05,\n",
    "     'colsample_bytree': 1}\n",
    "\n",
    "    Для НЕ логарифмированной переменной получившиеся лучшие параметры:\n",
    "    {'objective': 'reg:squarederror',\n",
    "     'max_depth': 12,\n",
    "     'learning_rate': 0.05,\n",
    "     'colsample_bytree': 1}"
   ]
  },
  {
   "cell_type": "code",
   "execution_count": 59,
   "metadata": {},
   "outputs": [
    {
     "name": "stdout",
     "output_type": "stream",
     "text": [
      "Точность модели по метрике MAPE: 1.189%\n"
     ]
    }
   ],
   "source": [
    "# Запустим модель с подобранными гиперпараметрами:\n",
    "\n",
    "xgb_reg = XGBRegressor(objective='reg:squarederror', colsample_bytree=1,\n",
    "                          learning_rate=0.05, max_depth=12, alpha=1,\n",
    "                          n_estimators=1000, random_state=RANDOM_SEED)\n",
    "\n",
    "xgb_reg.fit(X_train, y_train)\n",
    "\n",
    "predict = xgb_reg.predict(X_test)\n",
    "\n",
    "print(f\"Точность модели по метрике MAPE: {(mape(y_test, predict))*100:0.3f}%\")"
   ]
  },
  {
   "cell_type": "markdown",
   "metadata": {},
   "source": [
    "    Для логарифмированной переменной: \n",
    "    Точность модели по метрике MAPE: 1.189%\n",
    "\n",
    "    Для НЕ логарифмированной переменной:\n",
    "    Точность модели по метрике MAPE: 18.084%"
   ]
  },
  {
   "cell_type": "code",
   "execution_count": null,
   "metadata": {},
   "outputs": [],
   "source": [
    "# С подобранными гиперпараметрами точность по нашей метрике сильно улучшилась.\n",
    "# В дальнейшем можно использовать модель именно с ними."
   ]
  },
  {
   "cell_type": "code",
   "execution_count": null,
   "metadata": {},
   "outputs": [],
   "source": []
  },
  {
   "cell_type": "markdown",
   "metadata": {},
   "source": [
    "#### 3.3.4 BaggingRegressor с ExtraTreesRegressor"
   ]
  },
  {
   "cell_type": "code",
   "execution_count": 16,
   "metadata": {},
   "outputs": [],
   "source": [
    "# Используем модель с параметрами полученными ранее:\n",
    "\n",
    "etr = ExtraTreesRegressor(n_estimators=300, min_samples_split=2, min_samples_leaf=1,\n",
    "                          max_features='auto', max_depth=None, bootstrap=True,\n",
    "                          random_state=RANDOM_SEED)"
   ]
  },
  {
   "cell_type": "code",
   "execution_count": 17,
   "metadata": {},
   "outputs": [
    {
     "name": "stdout",
     "output_type": "stream",
     "text": [
      "Точность модели по метрике MAPE: 1.281%\n"
     ]
    }
   ],
   "source": [
    "# ВНИМАНИЕ!!! ДОЛГИЙ ПРОЦЕСС!!! НЕ ПЕРЕЗАПУСКАТЬ БЕЗ НЕОБХОДИМОСТИ!!!\n",
    "\n",
    "# Запустим бэггинг с дефотными параметрами:\n",
    "\n",
    "#bagging_etr = BaggingRegressor(etr, n_jobs=-1, random_state=RANDOM_SEED)\n",
    "\n",
    "#bagging_etr.fit(X_train, y_train)\n",
    "\n",
    "#predict = bagging_etr.predict(X_test)\n",
    "\n",
    "#print(f\"Точность модели по метрике MAPE: {(mape(y_test, predict))*100:0.3f}%\")"
   ]
  },
  {
   "cell_type": "markdown",
   "metadata": {},
   "source": [
    "    Для логарифмированной переменной: \n",
    "    Точность модели по метрике MAPE: 1.281%\n",
    "\n",
    "    Для НЕ логарифмированной переменной:\n",
    "    Точность модели по метрике MAPE: 21.438%"
   ]
  },
  {
   "cell_type": "code",
   "execution_count": 18,
   "metadata": {},
   "outputs": [
    {
     "name": "stdout",
     "output_type": "stream",
     "text": [
      "Точность модели по метрике MAPE: 1.286%\n"
     ]
    }
   ],
   "source": [
    "# ВНИМАНИЕ!!! ДОЛГИЙ ПРОЦЕСС!!! НЕ ПЕРЕЗАПУСКАТЬ БЕЗ НЕОБХОДИМОСТИ!!!\n",
    "\n",
    "# Попробуем увеличить число эстиминаторов:\n",
    "\n",
    "#bagging_etr = BaggingRegressor(etr, n_estimators=5, n_jobs=-1, random_state=RANDOM_SEED)\n",
    "\n",
    "#bagging_etr.fit(X_train, y_train)\n",
    "\n",
    "#predict = bagging_etr.predict(X_test)\n",
    "\n",
    "#print(f\"Точность модели по метрике MAPE: {(mape(y_test, predict))*100:0.3f}%\")"
   ]
  },
  {
   "cell_type": "markdown",
   "metadata": {},
   "source": [
    "    Для логарифмированной переменной: \n",
    "    Точность модели по метрике MAPE: 1.286%\n",
    "\n",
    "    Для НЕ логарифмированной переменной:\n",
    "    Точность модели по метрике MAPE: 21.403%"
   ]
  },
  {
   "cell_type": "markdown",
   "metadata": {},
   "source": [
    "#### 3.3.5 BaggingRegressor с RandomForestRegressor"
   ]
  },
  {
   "cell_type": "code",
   "execution_count": 20,
   "metadata": {},
   "outputs": [],
   "source": [
    "# Используем модель с параметрами полученными ранее:\n",
    "\n",
    "rf = RandomForestRegressor(n_estimators=300, min_samples_split=2, min_samples_leaf=1,\n",
    "                          max_features='auto', max_depth=None, bootstrap=True,\n",
    "                          random_state=RANDOM_SEED)"
   ]
  },
  {
   "cell_type": "code",
   "execution_count": 21,
   "metadata": {},
   "outputs": [
    {
     "name": "stdout",
     "output_type": "stream",
     "text": [
      "Точность модели по метрике MAPE: 1.246%\n"
     ]
    }
   ],
   "source": [
    "# ВНИМАНИЕ!!! ДОЛГИЙ ПРОЦЕСС!!! НЕ ПЕРЕЗАПУСКАТЬ БЕЗ НЕОБХОДИМОСТИ!!!\n",
    "\n",
    "# Запустим бэггинг с дефотными параметрами:\n",
    "\n",
    "#bagging_rf = BaggingRegressor(rf, n_jobs=-1, random_state=RANDOM_SEED)\n",
    "\n",
    "#bagging_rf.fit(X_train, y_train)\n",
    "\n",
    "#predict = bagging_rf.predict(X_test)\n",
    "\n",
    "#print(f\"Точность модели по метрике MAPE: {(mape(y_test, predict))*100:0.3f}%\")"
   ]
  },
  {
   "cell_type": "markdown",
   "metadata": {},
   "source": [
    "    Для логарифмированной переменной: \n",
    "    Точность модели по метрике MAPE: 1.246%\n",
    "\n",
    "    Для НЕ логарифмированной переменной:\n",
    "    Точность модели по метрике MAPE: 19.801%"
   ]
  },
  {
   "cell_type": "code",
   "execution_count": 22,
   "metadata": {},
   "outputs": [
    {
     "name": "stdout",
     "output_type": "stream",
     "text": [
      "Точность модели по метрике MAPE: 1.249%\n"
     ]
    }
   ],
   "source": [
    "# ВНИМАНИЕ!!! ДОЛГИЙ ПРОЦЕСС!!! НЕ ПЕРЕЗАПУСКАТЬ БЕЗ НЕОБХОДИМОСТИ!!!\n",
    "\n",
    "# Попробуем увеличить число эстиминаторов:\n",
    "\n",
    "#bagging_rf = BaggingRegressor(rf, n_estimators=5, n_jobs=-1, random_state=RANDOM_SEED)\n",
    "\n",
    "#bagging_rf.fit(X_train, y_train)\n",
    "\n",
    "#predict = bagging_rf.predict(X_test)\n",
    "\n",
    "#print(f\"Точность модели по метрике MAPE: {(mape(y_test, predict))*100:0.3f}%\")"
   ]
  },
  {
   "cell_type": "markdown",
   "metadata": {},
   "source": [
    "    Для логарифмированной переменной: \n",
    "    Точность модели по метрике MAPE: 1.249%\n",
    "\n",
    "    Для НЕ логарифмированной переменной:\n",
    "    Точность модели по метрике MAPE: 19.768%"
   ]
  },
  {
   "cell_type": "markdown",
   "metadata": {},
   "source": [
    "#### 3.3.6 BaggingRegressor с XGBRegressor"
   ]
  },
  {
   "cell_type": "code",
   "execution_count": 24,
   "metadata": {},
   "outputs": [],
   "source": [
    "# Используем модель с параметрами полученными ранее:\n",
    "\n",
    "xgb_reg = XGBRegressor(objective='reg:squarederror', colsample_bytree=1,\n",
    "                          learning_rate=0.05, max_depth=12, alpha=1,\n",
    "                          n_estimators=1000, random_state=RANDOM_SEED)"
   ]
  },
  {
   "cell_type": "code",
   "execution_count": 25,
   "metadata": {},
   "outputs": [
    {
     "name": "stdout",
     "output_type": "stream",
     "text": [
      "Точность модели по метрике MAPE: 1.184%\n"
     ]
    }
   ],
   "source": [
    "# ВНИМАНИЕ!!! ДОЛГИЙ ПРОЦЕСС!!! НЕ ПЕРЕЗАПУСКАТЬ БЕЗ НЕОБХОДИМОСТИ!!!\n",
    "\n",
    "# Запустим бэггинг с дефотными параметрами:\n",
    "\n",
    "#bagging_xgb = BaggingRegressor(xgb_reg , n_jobs=-1, random_state=RANDOM_SEED)\n",
    "\n",
    "#bagging_xgb.fit(X_train, y_train)\n",
    "\n",
    "#predict = bagging_xgb.predict(X_test)\n",
    "\n",
    "#print(f\"Точность модели по метрике MAPE: {(mape(y_test, predict))*100:0.3f}%\")"
   ]
  },
  {
   "cell_type": "markdown",
   "metadata": {},
   "source": [
    "    Для логарифмированной переменной: \n",
    "    Точность модели по метрике MAPE: 1.184%\n",
    "\n",
    "    Для НЕ логарифмированной переменной:\n",
    "    Точность модели по метрике MAPE: 18.391%"
   ]
  },
  {
   "cell_type": "code",
   "execution_count": 26,
   "metadata": {},
   "outputs": [
    {
     "name": "stdout",
     "output_type": "stream",
     "text": [
      "Точность модели по метрике MAPE: 1.191%\n"
     ]
    }
   ],
   "source": [
    "# ВНИМАНИЕ!!! ДОЛГИЙ ПРОЦЕСС!!! НЕ ПЕРЕЗАПУСКАТЬ БЕЗ НЕОБХОДИМОСТИ!!!\n",
    "\n",
    "# Попробуем увеличить число эстиминаторов:\n",
    "\n",
    "#bagging_xgb = BaggingRegressor(xgb_reg, n_estimators=5, n_jobs=-1, random_state=RANDOM_SEED)\n",
    "\n",
    "#bagging_xgb.fit(X_train, y_train)\n",
    "\n",
    "#predict = bagging_xgb.predict(X_test)\n",
    "\n",
    "#print(f\"Точность модели по метрике MAPE: {(mape(y_test, predict))*100:0.3f}%\")"
   ]
  },
  {
   "cell_type": "markdown",
   "metadata": {},
   "source": [
    "    Для логарифмированной переменной: \n",
    "    Точность модели по метрике MAPE: 1.191%\n",
    "\n",
    "    Для НЕ логарифмированной переменной:\n",
    "    Точность модели по метрике MAPE: 18.485%"
   ]
  },
  {
   "cell_type": "markdown",
   "metadata": {},
   "source": [
    "   Итак, после прогона 3х лучших (по результатам LazyRegressor) моделей, подбора гиперпараметров и бэггинга  с ними для логарифмированной и не логарифмированной целевой переменной можно сделать следующие выводы:\n",
    "   \n",
    "   1. Лучшей моделью без бэггинга в обоих случаях является XGBRegressor с подобранными гиперпараметрами.\n",
    "   2. Бэггинг со всеми алгоритмами показал результат хуже чем \"чистый\" алгоритм.\n",
    "   3. Увеличение числа эстиминаторов лишь в случае с использованием XGBRegressor улучшило результат. В двух других случаях результат становился хуже.\n",
    "   4. \"Серебряным призером\" стал RandomForestRegressor с подобранными гиперпараметрами.\n",
    "   \n",
    "Для лучших моделей можно попробовать применить стекинг."
   ]
  },
  {
   "cell_type": "markdown",
   "metadata": {},
   "source": [
    "### 3.4 Стекинг"
   ]
  },
  {
   "cell_type": "code",
   "execution_count": 25,
   "metadata": {},
   "outputs": [
    {
     "name": "stdout",
     "output_type": "stream",
     "text": [
      "Точность модели по метрике MAPE: 1.172%\n"
     ]
    }
   ],
   "source": [
    "# ВНИМАНИЕ!!! ОЧЕНЬ ДОЛГИЙ ПРОЦЕСС!!! НЕ ПЕРЕЗАПУСКАТЬ БЕЗ НЕОБХОДИМОСТИ!!!\n",
    "\n",
    "# Для стекинга возьмем модели \"победители\", полученные на прошлом этапе: XGBRegressor и  \n",
    "# RandomForestRegressor, в обоих случаях используем наилучшие подобранные гиперпараметры.\n",
    "# Проверять будем опять с логарифмированной и не логарифмированной целевой переменной.\n",
    "# Финальным алгоритмом возьмем LinearRegression.\n",
    "\n",
    "#estimators = [('rf',RandomForestRegressor(n_estimators=300, min_samples_split=2,\n",
    "#                                          min_samples_leaf=1, max_features='auto',\n",
    "#                                          max_depth=None, bootstrap=True,\n",
    "#                                          random_state=RANDOM_SEED)),\n",
    "#              ('xgb_reg',XGBRegressor(objective='reg:squarederror', colsample_bytree=1,\n",
    "#                                      learning_rate=0.05, max_depth=12, alpha=1, n_jobs=-1,\n",
    "#                                      n_estimators=1000, random_state=RANDOM_SEED))]\n",
    "\n",
    "#st_reg = StackingRegressor(estimators=estimators,final_estimator=LinearRegression(),n_jobs=-1)\n",
    "\n",
    "#st_reg.fit(X_train, y_train)\n",
    "\n",
    "#predict = st_reg.predict(X_test)\n",
    "\n",
    "#print(f\"Точность модели по метрике MAPE: {(mape(y_test, predict))*100:0.3f}%\")"
   ]
  },
  {
   "cell_type": "markdown",
   "metadata": {},
   "source": [
    "    Для логарифмированной переменной: \n",
    "    Точность наивной модели по метрике MAPE: 1.172%\n",
    "\n",
    "    Для НЕ логарифмированной переменной:\n",
    "    Точность наивной модели по метрике MAPE: 17.919%"
   ]
  },
  {
   "cell_type": "markdown",
   "metadata": {},
   "source": [
    "### 3.5 Выбор модели"
   ]
  },
  {
   "cell_type": "markdown",
   "metadata": {},
   "source": [
    "   Итак, после прогона всех моделей (наивной, CatBoostRegressor, ExtraTreesRegressor, RandomForestRegressor, XGBRegressor, BaggingRegressor и стекинга)  можно подводить результаты:\n",
    "   \n",
    "   1. Лучше всего себя показал стекинг на моделях \"победителях\" из LazyPredict (XGBRegressor и  RandomForestRegressor) с линейной регрессией в качестве  решающего алгоритма.\n",
    "   2. Из одиночных  моделей лучше всех оказались CatBoostRegressor и XGBRegressor.\n",
    "   3. Модели, запущенные с логарифмированным таргетом, по нашей метрике  показывают результат  на порядок лучше чем с НЕ логарифмированной целевой переменной  (когда будет время, надо будет разобраться почему,  ведь наша метрика безразмерная).\n",
    "   4. Для соревнования на Kaggle  я решил подготовить оба submisssion'а (с логарифмированным и не логарифмированным таргетом),  что-бы посмотреть какой даст лучший результат."
   ]
  },
  {
   "cell_type": "markdown",
   "metadata": {},
   "source": [
    "## 4. Подготовка submission"
   ]
  },
  {
   "cell_type": "markdown",
   "metadata": {},
   "source": [
    "Теперь осталось лишь запустить наилучшую модель и подготовить submission-файл для соревнования.\n",
    "\n",
    "Для логарифмированной целевой переменной надо не забыть экспонировать предсказание.\n",
    "\n",
    "Так-же необходимо ввести поправочный коэффициент, для корректировки роста стоимости б/у автомобилей. Согласно сайту автостата (https://www.autostat.ru/infographics/48987/) рост цен в 2021 составил +28% год к году от 2020.\n",
    "Эти  данные будем использовать для корректировки предсказания."
   ]
  },
  {
   "cell_type": "code",
   "execution_count": 19,
   "metadata": {},
   "outputs": [
    {
     "data": {
      "text/html": [
       "<div>\n",
       "<style scoped>\n",
       "    .dataframe tbody tr th:only-of-type {\n",
       "        vertical-align: middle;\n",
       "    }\n",
       "\n",
       "    .dataframe tbody tr th {\n",
       "        vertical-align: top;\n",
       "    }\n",
       "\n",
       "    .dataframe thead th {\n",
       "        text-align: right;\n",
       "    }\n",
       "</style>\n",
       "<table border=\"1\" class=\"dataframe\">\n",
       "  <thead>\n",
       "    <tr style=\"text-align: right;\">\n",
       "      <th></th>\n",
       "      <th>sell_id</th>\n",
       "      <th>price</th>\n",
       "    </tr>\n",
       "  </thead>\n",
       "  <tbody>\n",
       "    <tr>\n",
       "      <th>0</th>\n",
       "      <td>1100575026</td>\n",
       "      <td>0</td>\n",
       "    </tr>\n",
       "    <tr>\n",
       "      <th>1</th>\n",
       "      <td>1100549428</td>\n",
       "      <td>0</td>\n",
       "    </tr>\n",
       "    <tr>\n",
       "      <th>2</th>\n",
       "      <td>1100658222</td>\n",
       "      <td>0</td>\n",
       "    </tr>\n",
       "    <tr>\n",
       "      <th>3</th>\n",
       "      <td>1100937408</td>\n",
       "      <td>0</td>\n",
       "    </tr>\n",
       "    <tr>\n",
       "      <th>4</th>\n",
       "      <td>1101037972</td>\n",
       "      <td>0</td>\n",
       "    </tr>\n",
       "    <tr>\n",
       "      <th>...</th>\n",
       "      <td>...</td>\n",
       "      <td>...</td>\n",
       "    </tr>\n",
       "    <tr>\n",
       "      <th>34681</th>\n",
       "      <td>1101369263</td>\n",
       "      <td>0</td>\n",
       "    </tr>\n",
       "    <tr>\n",
       "      <th>34682</th>\n",
       "      <td>1101369581</td>\n",
       "      <td>0</td>\n",
       "    </tr>\n",
       "    <tr>\n",
       "      <th>34683</th>\n",
       "      <td>1101364889</td>\n",
       "      <td>0</td>\n",
       "    </tr>\n",
       "    <tr>\n",
       "      <th>34684</th>\n",
       "      <td>1101362518</td>\n",
       "      <td>0</td>\n",
       "    </tr>\n",
       "    <tr>\n",
       "      <th>34685</th>\n",
       "      <td>1101256068</td>\n",
       "      <td>0</td>\n",
       "    </tr>\n",
       "  </tbody>\n",
       "</table>\n",
       "<p>34686 rows × 2 columns</p>\n",
       "</div>"
      ],
      "text/plain": [
       "          sell_id  price\n",
       "0      1100575026      0\n",
       "1      1100549428      0\n",
       "2      1100658222      0\n",
       "3      1100937408      0\n",
       "4      1101037972      0\n",
       "...           ...    ...\n",
       "34681  1101369263      0\n",
       "34682  1101369581      0\n",
       "34683  1101364889      0\n",
       "34684  1101362518      0\n",
       "34685  1101256068      0\n",
       "\n",
       "[34686 rows x 2 columns]"
      ]
     },
     "metadata": {},
     "output_type": "display_data"
    }
   ],
   "source": [
    "# Посмотрим на файл с образцом submission:\n",
    "\n",
    "submission = pd.read_csv(PATH_to_file + 'sample_submission.csv')\n",
    "\n",
    "display(submission)"
   ]
  },
  {
   "cell_type": "code",
   "execution_count": 22,
   "metadata": {},
   "outputs": [],
   "source": [
    "# Рассчитаем поправочный коэффициент  для предсказания:\n",
    "\n",
    "price_coeff = np.round(1/1.28, 3)"
   ]
  },
  {
   "cell_type": "code",
   "execution_count": 33,
   "metadata": {},
   "outputs": [],
   "source": [
    "# Итак, нам надо сделать предсказание и заполнить колонку price.\n",
    "# Сделаем это дважды для логарифмированного и не логарифмированного таргета."
   ]
  },
  {
   "cell_type": "markdown",
   "metadata": {},
   "source": [
    "### 4.1 Логарифмированный таргет"
   ]
  },
  {
   "cell_type": "code",
   "execution_count": 34,
   "metadata": {},
   "outputs": [],
   "source": [
    "# Подготовим данные для обучения модели, переразобьем тренировочные данные с\n",
    "# теми-же параметрами что и раньше:\n",
    "\n",
    "y = df_train.price\n",
    "\n",
    "X = df_train.drop(columns = 'price', axis = 1)\n",
    "\n",
    "X_train, X_test, y_train, y_test = train_test_split(X, y,\n",
    "                                                    test_size=0.20,\n",
    "                                                    shuffle=True, \n",
    "                                                    random_state=RANDOM_SEED)"
   ]
  },
  {
   "cell_type": "code",
   "execution_count": null,
   "metadata": {},
   "outputs": [],
   "source": [
    "# ВНИМАНИЕ!!! ОЧЕНЬ ДОЛГИЙ ПРОЦЕСС!!! НЕ ПЕРЕЗАПУСКАТЬ БЕЗ НЕОБХОДИМОСТИ!!!\n",
    "\n",
    "# Переобучим наилучшую модель:\n",
    "\n",
    "#estimators = [('rf',RandomForestRegressor(n_estimators=300, min_samples_split=2,\n",
    "#                                          min_samples_leaf=1, max_features='auto',\n",
    "#                                          max_depth=None, bootstrap=True,\n",
    "#                                          random_state=RANDOM_SEED)),\n",
    "#              ('xgb_reg',XGBRegressor(objective='reg:squarederror', colsample_bytree=1,\n",
    "#                                      learning_rate=0.05, max_depth=12, alpha=1, n_jobs=-1,\n",
    "#                                      n_estimators=1000, random_state=RANDOM_SEED))]\n",
    "\n",
    "#st_reg = StackingRegressor(estimators=estimators,final_estimator=LinearRegression(),n_jobs=-1)\n",
    "\n",
    "#st_reg.fit(X_train, y_train)"
   ]
  },
  {
   "cell_type": "code",
   "execution_count": 37,
   "metadata": {},
   "outputs": [],
   "source": [
    "# Сделаем предсказание для тестовых данных:\n",
    "\n",
    "sub_pred_log = st_reg.predict(df_test)"
   ]
  },
  {
   "cell_type": "code",
   "execution_count": 64,
   "metadata": {},
   "outputs": [],
   "source": [
    "# Теперь надо проэкспонировать предсказание:\n",
    "\n",
    "price_pred = np.exp(sub_pred_log)"
   ]
  },
  {
   "cell_type": "code",
   "execution_count": 65,
   "metadata": {},
   "outputs": [],
   "source": [
    "# Помножим предсказание на поправочный коэффициент:\n",
    "\n",
    "price_pred = price_pred*price_coeff"
   ]
  },
  {
   "cell_type": "code",
   "execution_count": 66,
   "metadata": {},
   "outputs": [],
   "source": [
    "# Округлим предсказание до 1000, т.к. почти всегда цены на автомобили выставляют \"круглыми\":\n",
    "\n",
    "price_pred = np.round(price_pred/1000)*1000"
   ]
  },
  {
   "cell_type": "code",
   "execution_count": null,
   "metadata": {},
   "outputs": [],
   "source": [
    "# Сохраним наше предсказание в отдельный датасет:\n",
    "\n",
    "submission_log = submission.copy()\n",
    "\n",
    "submission_log.price = price_pred"
   ]
  },
  {
   "cell_type": "code",
   "execution_count": 72,
   "metadata": {},
   "outputs": [],
   "source": [
    "# Сохраним наше предсказание в отдельный файл:\n",
    "\n",
    "submission_log.to_csv(PATH_to_file + 'submission_log.csv', index=False)"
   ]
  },
  {
   "cell_type": "code",
   "execution_count": 25,
   "metadata": {},
   "outputs": [
    {
     "data": {
      "text/html": [
       "<div>\n",
       "<style scoped>\n",
       "    .dataframe tbody tr th:only-of-type {\n",
       "        vertical-align: middle;\n",
       "    }\n",
       "\n",
       "    .dataframe tbody tr th {\n",
       "        vertical-align: top;\n",
       "    }\n",
       "\n",
       "    .dataframe thead th {\n",
       "        text-align: right;\n",
       "    }\n",
       "</style>\n",
       "<table border=\"1\" class=\"dataframe\">\n",
       "  <thead>\n",
       "    <tr style=\"text-align: right;\">\n",
       "      <th></th>\n",
       "      <th>sell_id</th>\n",
       "      <th>price</th>\n",
       "    </tr>\n",
       "  </thead>\n",
       "  <tbody>\n",
       "    <tr>\n",
       "      <th>0</th>\n",
       "      <td>1100575026</td>\n",
       "      <td>736000.00</td>\n",
       "    </tr>\n",
       "    <tr>\n",
       "      <th>1</th>\n",
       "      <td>1100549428</td>\n",
       "      <td>962000.00</td>\n",
       "    </tr>\n",
       "    <tr>\n",
       "      <th>2</th>\n",
       "      <td>1100658222</td>\n",
       "      <td>1079000.00</td>\n",
       "    </tr>\n",
       "    <tr>\n",
       "      <th>3</th>\n",
       "      <td>1100937408</td>\n",
       "      <td>800000.00</td>\n",
       "    </tr>\n",
       "    <tr>\n",
       "      <th>4</th>\n",
       "      <td>1101037972</td>\n",
       "      <td>671000.00</td>\n",
       "    </tr>\n",
       "    <tr>\n",
       "      <th>...</th>\n",
       "      <td>...</td>\n",
       "      <td>...</td>\n",
       "    </tr>\n",
       "    <tr>\n",
       "      <th>34681</th>\n",
       "      <td>1101369263</td>\n",
       "      <td>1268000.00</td>\n",
       "    </tr>\n",
       "    <tr>\n",
       "      <th>34682</th>\n",
       "      <td>1101369581</td>\n",
       "      <td>2128000.00</td>\n",
       "    </tr>\n",
       "    <tr>\n",
       "      <th>34683</th>\n",
       "      <td>1101364889</td>\n",
       "      <td>194000.00</td>\n",
       "    </tr>\n",
       "    <tr>\n",
       "      <th>34684</th>\n",
       "      <td>1101362518</td>\n",
       "      <td>1078000.00</td>\n",
       "    </tr>\n",
       "    <tr>\n",
       "      <th>34685</th>\n",
       "      <td>1101256068</td>\n",
       "      <td>1022000.00</td>\n",
       "    </tr>\n",
       "  </tbody>\n",
       "</table>\n",
       "<p>34686 rows × 2 columns</p>\n",
       "</div>"
      ],
      "text/plain": [
       "          sell_id      price\n",
       "0      1100575026  736000.00\n",
       "1      1100549428  962000.00\n",
       "2      1100658222 1079000.00\n",
       "3      1100937408  800000.00\n",
       "4      1101037972  671000.00\n",
       "...           ...        ...\n",
       "34681  1101369263 1268000.00\n",
       "34682  1101369581 2128000.00\n",
       "34683  1101364889  194000.00\n",
       "34684  1101362518 1078000.00\n",
       "34685  1101256068 1022000.00\n",
       "\n",
       "[34686 rows x 2 columns]"
      ]
     },
     "execution_count": 25,
     "metadata": {},
     "output_type": "execute_result"
    }
   ],
   "source": [
    "# Убедимся что он правильно сохранился:\n",
    "\n",
    "pd.read_csv(PATH_to_file + 'submission_log.csv')"
   ]
  },
  {
   "cell_type": "markdown",
   "metadata": {},
   "source": [
    "### 4.2 НЕ логарифмированный таргет"
   ]
  },
  {
   "cell_type": "code",
   "execution_count": 73,
   "metadata": {},
   "outputs": [],
   "source": [
    "# Подготовим данные для обучения модели, переразобьем тренировочные данные с\n",
    "# теми-же параметрами что и раньше:\n",
    "\n",
    "y = np.exp(df_train.price)\n",
    "\n",
    "X = df_train.drop(columns = 'price', axis = 1)\n",
    "\n",
    "X_train, X_test, y_train, y_test = train_test_split(X, y,\n",
    "                                                    test_size=0.20,\n",
    "                                                    shuffle=True, \n",
    "                                                    random_state=RANDOM_SEED)"
   ]
  },
  {
   "cell_type": "code",
   "execution_count": null,
   "metadata": {},
   "outputs": [],
   "source": [
    "# ВНИМАНИЕ!!! ОЧЕНЬ ДОЛГИЙ ПРОЦЕСС!!! НЕ ПЕРЕЗАПУСКАТЬ БЕЗ НЕОБХОДИМОСТИ!!!\n",
    "\n",
    "# Переобучим наилучшую модель:\n",
    "\n",
    "#estimators = [('rf',RandomForestRegressor(n_estimators=300, min_samples_split=2,\n",
    "#                                          min_samples_leaf=1, max_features='auto',\n",
    "#                                          max_depth=None, bootstrap=True,\n",
    "#                                          random_state=RANDOM_SEED)),\n",
    "#              ('xgb_reg',XGBRegressor(objective='reg:squarederror', colsample_bytree=1,\n",
    "#                                      learning_rate=0.05, max_depth=12, alpha=1, n_jobs=-1,\n",
    "#                                      n_estimators=1000, random_state=RANDOM_SEED))]\n",
    "\n",
    "#st_reg = StackingRegressor(estimators=estimators,final_estimator=LinearRegression(),n_jobs=-1)\n",
    "\n",
    "#st_reg.fit(X_train, y_train)"
   ]
  },
  {
   "cell_type": "code",
   "execution_count": 75,
   "metadata": {},
   "outputs": [],
   "source": [
    "# Сделаем предсказание для тестовых данных:\n",
    "\n",
    "sub_pred_norm = st_reg.predict(df_test)"
   ]
  },
  {
   "cell_type": "code",
   "execution_count": 76,
   "metadata": {},
   "outputs": [],
   "source": [
    "# Помножим предсказание на поправочный коэффициент:\n",
    "\n",
    "price_pred = sub_pred_norm*price_coeff"
   ]
  },
  {
   "cell_type": "code",
   "execution_count": 77,
   "metadata": {},
   "outputs": [],
   "source": [
    "# Округлим предсказание до 1000, т.к. почти всегда цены на автомобили выставляют \"круглыми\":\n",
    "\n",
    "price_pred = np.round(price_pred/1000)*1000"
   ]
  },
  {
   "cell_type": "code",
   "execution_count": null,
   "metadata": {},
   "outputs": [],
   "source": [
    "# Сохраним наше предсказание в отдельный датасет:\n",
    "\n",
    "submission_norm = submission.copy()\n",
    "\n",
    "submission_norm.price = price_pred"
   ]
  },
  {
   "cell_type": "code",
   "execution_count": 79,
   "metadata": {},
   "outputs": [],
   "source": [
    "# Сохраним наше предсказание в отдельный файл:\n",
    "\n",
    "submission_norm.to_csv(PATH_to_file + 'submission_norm.csv', index=False)"
   ]
  },
  {
   "cell_type": "code",
   "execution_count": 23,
   "metadata": {},
   "outputs": [
    {
     "data": {
      "text/html": [
       "<div>\n",
       "<style scoped>\n",
       "    .dataframe tbody tr th:only-of-type {\n",
       "        vertical-align: middle;\n",
       "    }\n",
       "\n",
       "    .dataframe tbody tr th {\n",
       "        vertical-align: top;\n",
       "    }\n",
       "\n",
       "    .dataframe thead th {\n",
       "        text-align: right;\n",
       "    }\n",
       "</style>\n",
       "<table border=\"1\" class=\"dataframe\">\n",
       "  <thead>\n",
       "    <tr style=\"text-align: right;\">\n",
       "      <th></th>\n",
       "      <th>sell_id</th>\n",
       "      <th>price</th>\n",
       "    </tr>\n",
       "  </thead>\n",
       "  <tbody>\n",
       "    <tr>\n",
       "      <th>0</th>\n",
       "      <td>1100575026</td>\n",
       "      <td>708000.00</td>\n",
       "    </tr>\n",
       "    <tr>\n",
       "      <th>1</th>\n",
       "      <td>1100549428</td>\n",
       "      <td>971000.00</td>\n",
       "    </tr>\n",
       "    <tr>\n",
       "      <th>2</th>\n",
       "      <td>1100658222</td>\n",
       "      <td>1106000.00</td>\n",
       "    </tr>\n",
       "    <tr>\n",
       "      <th>3</th>\n",
       "      <td>1100937408</td>\n",
       "      <td>824000.00</td>\n",
       "    </tr>\n",
       "    <tr>\n",
       "      <th>4</th>\n",
       "      <td>1101037972</td>\n",
       "      <td>713000.00</td>\n",
       "    </tr>\n",
       "    <tr>\n",
       "      <th>...</th>\n",
       "      <td>...</td>\n",
       "      <td>...</td>\n",
       "    </tr>\n",
       "    <tr>\n",
       "      <th>34681</th>\n",
       "      <td>1101369263</td>\n",
       "      <td>1221000.00</td>\n",
       "    </tr>\n",
       "    <tr>\n",
       "      <th>34682</th>\n",
       "      <td>1101369581</td>\n",
       "      <td>2057000.00</td>\n",
       "    </tr>\n",
       "    <tr>\n",
       "      <th>34683</th>\n",
       "      <td>1101364889</td>\n",
       "      <td>211000.00</td>\n",
       "    </tr>\n",
       "    <tr>\n",
       "      <th>34684</th>\n",
       "      <td>1101362518</td>\n",
       "      <td>1142000.00</td>\n",
       "    </tr>\n",
       "    <tr>\n",
       "      <th>34685</th>\n",
       "      <td>1101256068</td>\n",
       "      <td>1017000.00</td>\n",
       "    </tr>\n",
       "  </tbody>\n",
       "</table>\n",
       "<p>34686 rows × 2 columns</p>\n",
       "</div>"
      ],
      "text/plain": [
       "          sell_id      price\n",
       "0      1100575026  708000.00\n",
       "1      1100549428  971000.00\n",
       "2      1100658222 1106000.00\n",
       "3      1100937408  824000.00\n",
       "4      1101037972  713000.00\n",
       "...           ...        ...\n",
       "34681  1101369263 1221000.00\n",
       "34682  1101369581 2057000.00\n",
       "34683  1101364889  211000.00\n",
       "34684  1101362518 1142000.00\n",
       "34685  1101256068 1017000.00\n",
       "\n",
       "[34686 rows x 2 columns]"
      ]
     },
     "execution_count": 23,
     "metadata": {},
     "output_type": "execute_result"
    }
   ],
   "source": [
    "# Убедимся что он правильно сохранился:\n",
    "\n",
    "pd.read_csv(PATH_to_file + 'submission_norm.csv')"
   ]
  },
  {
   "cell_type": "markdown",
   "metadata": {},
   "source": [
    "## 5. Выводы"
   ]
  },
  {
   "cell_type": "markdown",
   "metadata": {},
   "source": [
    "   После публикации резултатов на Kaggle стало понятно, что решение полученное с логарифмированной целевой переменной лучше.\n",
    "   \n",
    "   Но даже с ним счет на данный момент всего 15.17236 :(\n",
    "   \n",
    "   При наличии времени буду и дальше пытаться улучшить свое решение (как минимум перезапущу парсинг данных, что-бы собрать информацию о времени владения автомобилем). К сожалению, что парсинг данных, что тренировка моделей занимают ОЧЕНЬ МНОГО времени и как их ускорить (кроме покупки более нового более мощного компьютера:)) я пока не представляю."
   ]
  }
 ],
 "metadata": {
  "kernelspec": {
   "display_name": "Python 3",
   "language": "python",
   "name": "python3"
  },
  "language_info": {
   "codemirror_mode": {
    "name": "ipython",
    "version": 3
   },
   "file_extension": ".py",
   "mimetype": "text/x-python",
   "name": "python",
   "nbconvert_exporter": "python",
   "pygments_lexer": "ipython3",
   "version": "3.8.5"
  }
 },
 "nbformat": 4,
 "nbformat_minor": 4
}
