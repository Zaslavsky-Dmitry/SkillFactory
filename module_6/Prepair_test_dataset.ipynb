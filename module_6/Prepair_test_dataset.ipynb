{
 "cells": [
  {
   "cell_type": "markdown",
   "metadata": {},
   "source": [
    "## 1. Импорт библиотек и настройка параметров"
   ]
  },
  {
   "cell_type": "code",
   "execution_count": 179,
   "metadata": {},
   "outputs": [],
   "source": [
    "#!pip install requests \n",
    "#!pip install fake-useragent\n",
    "#!pip install beautifulsoup4 "
   ]
  },
  {
   "cell_type": "code",
   "execution_count": 184,
   "metadata": {},
   "outputs": [],
   "source": [
    "# Импортируем библиотеки:\n",
    "\n",
    "import pandas as pd\n",
    "import numpy as np\n",
    "import matplotlib\n",
    "import matplotlib.pyplot as plt\n",
    "import seaborn as sns\n",
    "import requests\n",
    "import time\n",
    "import os\n",
    "import re\n",
    "from bs4 import BeautifulSoup\n",
    "from fake_useragent import UserAgent \n",
    "from pprint import pprint"
   ]
  },
  {
   "cell_type": "code",
   "execution_count": 107,
   "metadata": {},
   "outputs": [],
   "source": [
    "# Фиксируем параметры для воспроизводимости экспериментов:\n",
    "\n",
    "RANDOM_SEED = 42\n",
    "!pip freeze > requirements.txt"
   ]
  },
  {
   "cell_type": "code",
   "execution_count": 108,
   "metadata": {},
   "outputs": [],
   "source": [
    "# Увеличиваем число отображаемых строк и столбцов в pandas:\n",
    "\n",
    "pd.set_option('display.max_rows', 50)\n",
    "pd.set_option('display.max_columns', 50)\n",
    "pd.set_option('display.width', 1000)"
   ]
  },
  {
   "cell_type": "code",
   "execution_count": 109,
   "metadata": {},
   "outputs": [
    {
     "name": "stdout",
     "output_type": "stream",
     "text": [
      "./data/test.csv\n",
      "./data/sample_submission.csv\n"
     ]
    }
   ],
   "source": [
    "# Задаем дирректорию для работы с файлами:\n",
    "\n",
    "# При выполнении на kaggle раскомментировать этот блок:\n",
    "# for dirname, _, filenames in os.walk('/kaggle/input'):\n",
    "#    for filename in filenames:\n",
    "#        print(os.path.join(dirname, filename))\n",
    "# PATH_to_file = '/kaggle/input/sf-dst-scoring/'\n",
    "\n",
    "# При выполнении локально раскомментировать этот блок:\n",
    "for dirname, _, filenames in os.walk('./data'):\n",
    "    for filename in filenames:\n",
    "        print(os.path.join(dirname, filename))\n",
    "PATH_to_file = './data/'"
   ]
  },
  {
   "cell_type": "markdown",
   "metadata": {},
   "source": [
    "## 2. Анализ тестового датасета"
   ]
  },
  {
   "cell_type": "markdown",
   "metadata": {},
   "source": [
    "Прежде чем начать парсить auto.ru, что-бысоздавать датасет для тренировки модели, посмотрим на наш тестовый датасет, стоимость автомобилей которого нам надо будет предсказывать."
   ]
  },
  {
   "cell_type": "code",
   "execution_count": 110,
   "metadata": {},
   "outputs": [
    {
     "name": "stdout",
     "output_type": "stream",
     "text": [
      "Размер тестового датасета:  (34686, 32)\n"
     ]
    },
    {
     "data": {
      "text/html": [
       "<div>\n",
       "<style scoped>\n",
       "    .dataframe tbody tr th:only-of-type {\n",
       "        vertical-align: middle;\n",
       "    }\n",
       "\n",
       "    .dataframe tbody tr th {\n",
       "        vertical-align: top;\n",
       "    }\n",
       "\n",
       "    .dataframe thead th {\n",
       "        text-align: right;\n",
       "    }\n",
       "</style>\n",
       "<table border=\"1\" class=\"dataframe\">\n",
       "  <thead>\n",
       "    <tr style=\"text-align: right;\">\n",
       "      <th></th>\n",
       "      <th>bodyType</th>\n",
       "      <th>brand</th>\n",
       "      <th>car_url</th>\n",
       "      <th>color</th>\n",
       "      <th>complectation_dict</th>\n",
       "      <th>description</th>\n",
       "      <th>engineDisplacement</th>\n",
       "      <th>enginePower</th>\n",
       "      <th>equipment_dict</th>\n",
       "      <th>fuelType</th>\n",
       "      <th>image</th>\n",
       "      <th>mileage</th>\n",
       "      <th>modelDate</th>\n",
       "      <th>model_info</th>\n",
       "      <th>model_name</th>\n",
       "      <th>name</th>\n",
       "      <th>numberOfDoors</th>\n",
       "      <th>parsing_unixtime</th>\n",
       "      <th>priceCurrency</th>\n",
       "      <th>productionDate</th>\n",
       "      <th>sell_id</th>\n",
       "      <th>super_gen</th>\n",
       "      <th>vehicleConfiguration</th>\n",
       "      <th>vehicleTransmission</th>\n",
       "      <th>vendor</th>\n",
       "      <th>Владельцы</th>\n",
       "      <th>Владение</th>\n",
       "      <th>ПТС</th>\n",
       "      <th>Привод</th>\n",
       "      <th>Руль</th>\n",
       "      <th>Состояние</th>\n",
       "      <th>Таможня</th>\n",
       "    </tr>\n",
       "  </thead>\n",
       "  <tbody>\n",
       "    <tr>\n",
       "      <th>15336</th>\n",
       "      <td>седан</td>\n",
       "      <td>INFINITI</td>\n",
       "      <td>https://auto.ru/cars/used/sale/infiniti/m/1099...</td>\n",
       "      <td>чёрный</td>\n",
       "      <td>NaN</td>\n",
       "      <td>Сигнализация с мобильным приложением и автозап...</td>\n",
       "      <td>3.7 LTR</td>\n",
       "      <td>333 N12</td>\n",
       "      <td>{\"cruise-control\":true,\"asr\":true,\"tinted-glas...</td>\n",
       "      <td>бензин</td>\n",
       "      <td>https://avatars.mds.yandex.net/get-autoru-vos/...</td>\n",
       "      <td>120000</td>\n",
       "      <td>2010</td>\n",
       "      <td>{\"code\":\"M\",\"name\":\"M\",\"ru_name\":\"M\",\"morpholo...</td>\n",
       "      <td>M</td>\n",
       "      <td>M37 3.7 AT (333 л.с.) 4WD</td>\n",
       "      <td>4</td>\n",
       "      <td>1603285685</td>\n",
       "      <td>RUB</td>\n",
       "      <td>2011</td>\n",
       "      <td>1099900436</td>\n",
       "      <td>{\"id\":\"6418759\",\"name\":\"37\",\"nameplate\":\"M37\",...</td>\n",
       "      <td>SEDAN AUTOMATIC 3.7</td>\n",
       "      <td>автоматическая</td>\n",
       "      <td>JAPANESE</td>\n",
       "      <td>3 или более</td>\n",
       "      <td>3 года и 7 месяцев</td>\n",
       "      <td>Оригинал</td>\n",
       "      <td>полный</td>\n",
       "      <td>Левый</td>\n",
       "      <td>Не требует ремонта</td>\n",
       "      <td>Растаможен</td>\n",
       "    </tr>\n",
       "    <tr>\n",
       "      <th>14148</th>\n",
       "      <td>седан</td>\n",
       "      <td>NISSAN</td>\n",
       "      <td>https://auto.ru/cars/used/sale/nissan/primera/...</td>\n",
       "      <td>серебристый</td>\n",
       "      <td>NaN</td>\n",
       "      <td>Пишите в чат или what app</td>\n",
       "      <td>2.0 LTR</td>\n",
       "      <td>150 N12</td>\n",
       "      <td>NaN</td>\n",
       "      <td>бензин</td>\n",
       "      <td>https://autoru.naydex.net/G87gDZg56/28c7a8vqVE...</td>\n",
       "      <td>250000</td>\n",
       "      <td>2001</td>\n",
       "      <td>{\"code\":\"PRIMERA\",\"name\":\"Primera\",\"ru_name\":\"...</td>\n",
       "      <td>PRIMERA</td>\n",
       "      <td>2.0 CVT (150 л.с.)</td>\n",
       "      <td>4</td>\n",
       "      <td>1603281134</td>\n",
       "      <td>RUB</td>\n",
       "      <td>2005</td>\n",
       "      <td>1100227526</td>\n",
       "      <td>{\"id\":\"8298950\",\"displacement\":1998,\"engine_ty...</td>\n",
       "      <td>SEDAN VARIATOR 2.0</td>\n",
       "      <td>вариатор</td>\n",
       "      <td>JAPANESE</td>\n",
       "      <td>3 или более</td>\n",
       "      <td>NaN</td>\n",
       "      <td>Дубликат</td>\n",
       "      <td>передний</td>\n",
       "      <td>Левый</td>\n",
       "      <td>Не требует ремонта</td>\n",
       "      <td>Растаможен</td>\n",
       "    </tr>\n",
       "    <tr>\n",
       "      <th>24761</th>\n",
       "      <td>седан</td>\n",
       "      <td>VOLKSWAGEN</td>\n",
       "      <td>https://auto.ru/cars/used/sale/volkswagen/jett...</td>\n",
       "      <td>зелёный</td>\n",
       "      <td>NaN</td>\n",
       "      <td>Комплект зимних шин в подарок. Своевременное о...</td>\n",
       "      <td>1.6 LTR</td>\n",
       "      <td>102 N12</td>\n",
       "      <td>{\"engine-proof\":true,\"tinted-glass\":true,\"airb...</td>\n",
       "      <td>бензин</td>\n",
       "      <td>https://avatars.mds.yandex.net/get-autoru-vos/...</td>\n",
       "      <td>142000</td>\n",
       "      <td>2005</td>\n",
       "      <td>{\"code\":\"JETTA\",\"name\":\"Jetta\",\"ru_name\":\"Джет...</td>\n",
       "      <td>JETTA</td>\n",
       "      <td>1.6 AT (102 л.с.)</td>\n",
       "      <td>4</td>\n",
       "      <td>1603218800</td>\n",
       "      <td>RUB</td>\n",
       "      <td>2008</td>\n",
       "      <td>1101264716</td>\n",
       "      <td>{\"id\":\"20399654\",\"displacement\":1595,\"engine_t...</td>\n",
       "      <td>SEDAN AUTOMATIC 1.6</td>\n",
       "      <td>автоматическая</td>\n",
       "      <td>EUROPEAN</td>\n",
       "      <td>3 или более</td>\n",
       "      <td>3 года и 5 месяцев</td>\n",
       "      <td>Оригинал</td>\n",
       "      <td>передний</td>\n",
       "      <td>Левый</td>\n",
       "      <td>Не требует ремонта</td>\n",
       "      <td>Растаможен</td>\n",
       "    </tr>\n",
       "    <tr>\n",
       "      <th>22455</th>\n",
       "      <td>внедорожник 5 дв.</td>\n",
       "      <td>LEXUS</td>\n",
       "      <td>https://auto.ru/cars/used/sale/lexus/gx/110132...</td>\n",
       "      <td>чёрный</td>\n",
       "      <td>NaN</td>\n",
       "      <td>В отличном состоянии, без ДТП, все оригинал</td>\n",
       "      <td>4.7 LTR</td>\n",
       "      <td>270 N12</td>\n",
       "      <td>NaN</td>\n",
       "      <td>бензин</td>\n",
       "      <td>https://autoru.naydex.net/imflT9272/520f62I9/2...</td>\n",
       "      <td>185000</td>\n",
       "      <td>2002</td>\n",
       "      <td>{\"code\":\"GX\",\"name\":\"GX\",\"ru_name\":\"GX\",\"morph...</td>\n",
       "      <td>GX</td>\n",
       "      <td>470 4.7 AT (270 л.с.) 4WD</td>\n",
       "      <td>5</td>\n",
       "      <td>1603299405</td>\n",
       "      <td>RUB</td>\n",
       "      <td>2007</td>\n",
       "      <td>1101321761</td>\n",
       "      <td>{\"id\":\"20393579\",\"name\":\"470\",\"nameplate\":\"470...</td>\n",
       "      <td>ALLROAD_5_DOORS AUTOMATIC 4.7</td>\n",
       "      <td>автоматическая</td>\n",
       "      <td>JAPANESE</td>\n",
       "      <td>1 владелец</td>\n",
       "      <td>NaN</td>\n",
       "      <td>Оригинал</td>\n",
       "      <td>полный</td>\n",
       "      <td>Левый</td>\n",
       "      <td>Не требует ремонта</td>\n",
       "      <td>Растаможен</td>\n",
       "    </tr>\n",
       "    <tr>\n",
       "      <th>22749</th>\n",
       "      <td>внедорожник 5 дв.</td>\n",
       "      <td>LEXUS</td>\n",
       "      <td>https://auto.ru/cars/used/sale/lexus/lx/109029...</td>\n",
       "      <td>чёрный</td>\n",
       "      <td>NaN</td>\n",
       "      <td>Продается автомобиль в хорошем состоянии для с...</td>\n",
       "      <td>4.7 LTR</td>\n",
       "      <td>234 N12</td>\n",
       "      <td>NaN</td>\n",
       "      <td>бензин</td>\n",
       "      <td>https://autoru.naydex.net/imflT9272/520f62I9/2...</td>\n",
       "      <td>180000</td>\n",
       "      <td>1998</td>\n",
       "      <td>{\"code\":\"LX\",\"name\":\"LX\",\"ru_name\":\"LX\",\"morph...</td>\n",
       "      <td>LX</td>\n",
       "      <td>470 4.7 AT (234 л.с.) 4WD</td>\n",
       "      <td>5</td>\n",
       "      <td>1603300540</td>\n",
       "      <td>RUB</td>\n",
       "      <td>2002</td>\n",
       "      <td>1090293516</td>\n",
       "      <td>{\"id\":\"5139969\",\"name\":\"470\",\"nameplate\":\"470\"...</td>\n",
       "      <td>ALLROAD_5_DOORS AUTOMATIC 4.7</td>\n",
       "      <td>автоматическая</td>\n",
       "      <td>JAPANESE</td>\n",
       "      <td>3 или более</td>\n",
       "      <td>2 года и 5 месяцев</td>\n",
       "      <td>Оригинал</td>\n",
       "      <td>полный</td>\n",
       "      <td>Левый</td>\n",
       "      <td>Не требует ремонта</td>\n",
       "      <td>Растаможен</td>\n",
       "    </tr>\n",
       "  </tbody>\n",
       "</table>\n",
       "</div>"
      ],
      "text/plain": [
       "                bodyType       brand                                            car_url        color complectation_dict                                        description engineDisplacement enginePower                                     equipment_dict fuelType                                              image  mileage  modelDate                                         model_info model_name                       name  numberOfDoors  parsing_unixtime priceCurrency  productionDate     sell_id                                          super_gen           vehicleConfiguration vehicleTransmission    vendor    Владельцы            Владение       ПТС    Привод   Руль           Состояние     Таможня\n",
       "15336              седан    INFINITI  https://auto.ru/cars/used/sale/infiniti/m/1099...       чёрный                NaN  Сигнализация с мобильным приложением и автозап...            3.7 LTR     333 N12  {\"cruise-control\":true,\"asr\":true,\"tinted-glas...   бензин  https://avatars.mds.yandex.net/get-autoru-vos/...   120000       2010  {\"code\":\"M\",\"name\":\"M\",\"ru_name\":\"M\",\"morpholo...          M  M37 3.7 AT (333 л.с.) 4WD              4        1603285685           RUB            2011  1099900436  {\"id\":\"6418759\",\"name\":\"37\",\"nameplate\":\"M37\",...            SEDAN AUTOMATIC 3.7      автоматическая  JAPANESE  3 или более  3 года и 7 месяцев  Оригинал    полный  Левый  Не требует ремонта  Растаможен\n",
       "14148              седан      NISSAN  https://auto.ru/cars/used/sale/nissan/primera/...  серебристый                NaN                         Пишите в чат или what app             2.0 LTR     150 N12                                                NaN   бензин  https://autoru.naydex.net/G87gDZg56/28c7a8vqVE...   250000       2001  {\"code\":\"PRIMERA\",\"name\":\"Primera\",\"ru_name\":\"...    PRIMERA         2.0 CVT (150 л.с.)              4        1603281134           RUB            2005  1100227526  {\"id\":\"8298950\",\"displacement\":1998,\"engine_ty...             SEDAN VARIATOR 2.0            вариатор  JAPANESE  3 или более                 NaN  Дубликат  передний  Левый  Не требует ремонта  Растаможен\n",
       "24761              седан  VOLKSWAGEN  https://auto.ru/cars/used/sale/volkswagen/jett...      зелёный                NaN  Комплект зимних шин в подарок. Своевременное о...            1.6 LTR     102 N12  {\"engine-proof\":true,\"tinted-glass\":true,\"airb...   бензин  https://avatars.mds.yandex.net/get-autoru-vos/...   142000       2005  {\"code\":\"JETTA\",\"name\":\"Jetta\",\"ru_name\":\"Джет...      JETTA          1.6 AT (102 л.с.)              4        1603218800           RUB            2008  1101264716  {\"id\":\"20399654\",\"displacement\":1595,\"engine_t...            SEDAN AUTOMATIC 1.6      автоматическая  EUROPEAN  3 или более  3 года и 5 месяцев  Оригинал  передний  Левый  Не требует ремонта  Растаможен\n",
       "22455  внедорожник 5 дв.       LEXUS  https://auto.ru/cars/used/sale/lexus/gx/110132...       чёрный                NaN       В отличном состоянии, без ДТП, все оригинал             4.7 LTR     270 N12                                                NaN   бензин  https://autoru.naydex.net/imflT9272/520f62I9/2...   185000       2002  {\"code\":\"GX\",\"name\":\"GX\",\"ru_name\":\"GX\",\"morph...         GX  470 4.7 AT (270 л.с.) 4WD              5        1603299405           RUB            2007  1101321761  {\"id\":\"20393579\",\"name\":\"470\",\"nameplate\":\"470...  ALLROAD_5_DOORS AUTOMATIC 4.7      автоматическая  JAPANESE   1 владелец                 NaN  Оригинал    полный  Левый  Не требует ремонта  Растаможен\n",
       "22749  внедорожник 5 дв.       LEXUS  https://auto.ru/cars/used/sale/lexus/lx/109029...       чёрный                NaN  Продается автомобиль в хорошем состоянии для с...            4.7 LTR     234 N12                                                NaN   бензин  https://autoru.naydex.net/imflT9272/520f62I9/2...   180000       1998  {\"code\":\"LX\",\"name\":\"LX\",\"ru_name\":\"LX\",\"morph...         LX  470 4.7 AT (234 л.с.) 4WD              5        1603300540           RUB            2002  1090293516  {\"id\":\"5139969\",\"name\":\"470\",\"nameplate\":\"470\"...  ALLROAD_5_DOORS AUTOMATIC 4.7      автоматическая  JAPANESE  3 или более  2 года и 5 месяцев  Оригинал    полный  Левый  Не требует ремонта  Растаможен"
      ]
     },
     "metadata": {},
     "output_type": "display_data"
    }
   ],
   "source": [
    "# Загрузим наш тестовый датасет:\n",
    "\n",
    "test = pd.read_csv(PATH_to_file + 'test.csv')\n",
    "\n",
    "print('Размер тестового датасета: ', test.shape)\n",
    "display(test.sample(5))"
   ]
  },
  {
   "cell_type": "markdown",
   "metadata": {},
   "source": [
    "### 2.1 Первый взгляд"
   ]
  },
  {
   "cell_type": "code",
   "execution_count": 111,
   "metadata": {
    "scrolled": false
   },
   "outputs": [
    {
     "name": "stdout",
     "output_type": "stream",
     "text": [
      "<class 'pandas.core.frame.DataFrame'>\n",
      "RangeIndex: 34686 entries, 0 to 34685\n",
      "Data columns (total 32 columns):\n",
      " #   Column                Non-Null Count  Dtype \n",
      "---  ------                --------------  ----- \n",
      " 0   bodyType              34686 non-null  object\n",
      " 1   brand                 34686 non-null  object\n",
      " 2   car_url               34686 non-null  object\n",
      " 3   color                 34686 non-null  object\n",
      " 4   complectation_dict    6418 non-null   object\n",
      " 5   description           34686 non-null  object\n",
      " 6   engineDisplacement    34686 non-null  object\n",
      " 7   enginePower           34686 non-null  object\n",
      " 8   equipment_dict        24690 non-null  object\n",
      " 9   fuelType              34686 non-null  object\n",
      " 10  image                 34686 non-null  object\n",
      " 11  mileage               34686 non-null  int64 \n",
      " 12  modelDate             34686 non-null  int64 \n",
      " 13  model_info            34686 non-null  object\n",
      " 14  model_name            34686 non-null  object\n",
      " 15  name                  34686 non-null  object\n",
      " 16  numberOfDoors         34686 non-null  int64 \n",
      " 17  parsing_unixtime      34686 non-null  int64 \n",
      " 18  priceCurrency         34686 non-null  object\n",
      " 19  productionDate        34686 non-null  int64 \n",
      " 20  sell_id               34686 non-null  int64 \n",
      " 21  super_gen             34686 non-null  object\n",
      " 22  vehicleConfiguration  34686 non-null  object\n",
      " 23  vehicleTransmission   34686 non-null  object\n",
      " 24  vendor                34686 non-null  object\n",
      " 25  Владельцы             34686 non-null  object\n",
      " 26  Владение              11995 non-null  object\n",
      " 27  ПТС                   34685 non-null  object\n",
      " 28  Привод                34686 non-null  object\n",
      " 29  Руль                  34686 non-null  object\n",
      " 30  Состояние             34686 non-null  object\n",
      " 31  Таможня               34686 non-null  object\n",
      "dtypes: int64(6), object(26)\n",
      "memory usage: 8.5+ MB\n"
     ]
    },
    {
     "data": {
      "text/plain": [
       "None"
      ]
     },
     "metadata": {},
     "output_type": "display_data"
    }
   ],
   "source": [
    "# Посмотрим информацию по столбцам нашего датадасета:\n",
    "\n",
    "display(test.info())"
   ]
  },
  {
   "cell_type": "code",
   "execution_count": 112,
   "metadata": {},
   "outputs": [],
   "source": [
    "# В датасете присутствуют названия столбцов на русском языке, а так-же трудно воспринимаемые, переименуем их:\n",
    "\n",
    "test.columns = ['body_type', 'brand', 'car_url', 'color',\n",
    "                'complectation', 'description', 'engine_volume',\n",
    "                'engine_power', 'equipment', 'fuel_type', 'image',\n",
    "                'mileage', 'model_date', 'model_info', 'model_name',\n",
    "                'name', 'doors_num', 'parsing_unixtime', 'currency',\n",
    "                'production_date', 'sell_id', 'super_gen', 'configuration',\n",
    "                'transmission', 'vendor', 'owners_count', 'ownership',\n",
    "                'docs', 'drive', 'steering', 'state', 'customs']"
   ]
  },
  {
   "cell_type": "code",
   "execution_count": 113,
   "metadata": {},
   "outputs": [
    {
     "data": {
      "text/plain": [
       "customs                 1\n",
       "currency                1\n",
       "state                   1\n",
       "steering                2\n",
       "docs                    2\n",
       "vendor                  2\n",
       "drive                   3\n",
       "owners_count            3\n",
       "transmission            4\n",
       "fuel_type               5\n",
       "doors_num               5\n",
       "brand                  12\n",
       "color                  16\n",
       "body_type              24\n",
       "engine_volume          55\n",
       "model_date             66\n",
       "production_date        69\n",
       "ownership             275\n",
       "engine_power          315\n",
       "model_name            544\n",
       "configuration         634\n",
       "model_info            954\n",
       "complectation        2364\n",
       "name                 2780\n",
       "super_gen            5890\n",
       "mileage             11268\n",
       "equipment           23705\n",
       "description         31732\n",
       "image               34557\n",
       "parsing_unixtime    34686\n",
       "car_url             34686\n",
       "sell_id             34686\n",
       "dtype: int64"
      ]
     },
     "execution_count": 113,
     "metadata": {},
     "output_type": "execute_result"
    }
   ],
   "source": [
    "# Посмотрим на уникальные значения в каждом столбце:\n",
    "\n",
    "test.nunique().sort_values()"
   ]
  },
  {
   "cell_type": "code",
   "execution_count": 114,
   "metadata": {},
   "outputs": [
    {
     "data": {
      "text/html": [
       "<div>\n",
       "<style scoped>\n",
       "    .dataframe tbody tr th:only-of-type {\n",
       "        vertical-align: middle;\n",
       "    }\n",
       "\n",
       "    .dataframe tbody tr th {\n",
       "        vertical-align: top;\n",
       "    }\n",
       "\n",
       "    .dataframe thead th {\n",
       "        text-align: right;\n",
       "    }\n",
       "</style>\n",
       "<table border=\"1\" class=\"dataframe\">\n",
       "  <thead>\n",
       "    <tr style=\"text-align: right;\">\n",
       "      <th></th>\n",
       "      <th>customs</th>\n",
       "      <th>currency</th>\n",
       "      <th>state</th>\n",
       "    </tr>\n",
       "  </thead>\n",
       "  <tbody>\n",
       "    <tr>\n",
       "      <th>20469</th>\n",
       "      <td>Растаможен</td>\n",
       "      <td>RUB</td>\n",
       "      <td>Не требует ремонта</td>\n",
       "    </tr>\n",
       "  </tbody>\n",
       "</table>\n",
       "</div>"
      ],
      "text/plain": [
       "          customs currency               state\n",
       "20469  Растаможен      RUB  Не требует ремонта"
      ]
     },
     "execution_count": 114,
     "metadata": {},
     "output_type": "execute_result"
    }
   ],
   "source": [
    "# В 3х столбцах у нас содержится по одному значению, а значит для модели они не нужны.\n",
    "# Посмотрим на них:\n",
    "\n",
    "test.sample(1)[['customs', 'currency', 'state']]"
   ]
  },
  {
   "cell_type": "code",
   "execution_count": 115,
   "metadata": {},
   "outputs": [],
   "source": [
    "# Все машины в нашей выборке растаможены, продаются за рубли и не требуют ремонта. \n",
    "# Соответствующие столбцы можно удалить:\n",
    "\n",
    "test.drop(columns=['customs', 'currency', 'state'], inplace=True)"
   ]
  },
  {
   "cell_type": "code",
   "execution_count": 116,
   "metadata": {},
   "outputs": [],
   "source": [
    "# Можно так-же удалить столбцы не несущие полезной для модели информации (id продавца, ссылку на объявление и изображения):\n",
    "\n",
    "test.drop(columns=['sell_id', 'car_url', 'image'], inplace=True)"
   ]
  },
  {
   "cell_type": "code",
   "execution_count": 117,
   "metadata": {},
   "outputs": [
    {
     "data": {
      "text/plain": [
       "body_type               0\n",
       "brand                   0\n",
       "color                   0\n",
       "complectation       28268\n",
       "description             0\n",
       "engine_volume           0\n",
       "engine_power            0\n",
       "equipment            9996\n",
       "fuel_type               0\n",
       "mileage                 0\n",
       "model_date              0\n",
       "model_info              0\n",
       "model_name              0\n",
       "name                    0\n",
       "doors_num               0\n",
       "parsing_unixtime        0\n",
       "production_date         0\n",
       "super_gen               0\n",
       "configuration           0\n",
       "transmission            0\n",
       "vendor                  0\n",
       "owners_count            0\n",
       "ownership           22691\n",
       "docs                    1\n",
       "drive                   0\n",
       "steering                0\n",
       "dtype: int64"
      ]
     },
     "metadata": {},
     "output_type": "display_data"
    },
    {
     "data": {
      "image/png": "[encoded data removed]",
      "text/plain": [
       "<Figure size 1080x720 with 1 Axes>"
      ]
     },
     "metadata": {
      "needs_background": "light"
     },
     "output_type": "display_data"
    }
   ],
   "source": [
    "# Посмотрим кол-во пропусков в нашем датасете:\n",
    "\n",
    "display(test.isna().sum())\n",
    "\n",
    "plt.rcParams['figure.figsize'] = 15, 10\n",
    "sns_heatmap = sns.heatmap(test.isnull(), yticklabels=False,\n",
    "                          cbar=False, cmap='viridis')"
   ]
  },
  {
   "cell_type": "markdown",
   "metadata": {},
   "source": [
    "### 2.2 Работа с признаками"
   ]
  },
  {
   "cell_type": "markdown",
   "metadata": {},
   "source": [
    "#### 2.2.1 Бинарные переменные (steering, docs, vendor)"
   ]
  },
  {
   "cell_type": "code",
   "execution_count": 13,
   "metadata": {},
   "outputs": [
    {
     "name": "stdout",
     "output_type": "stream",
     "text": [
      "Значения в колнке steering: ['Левый' 'Правый']\n",
      "Значения в колнке docs: ['Оригинал' 'Дубликат' nan]\n",
      "Значения в колнке vendor: ['EUROPEAN' 'JAPANESE']\n"
     ]
    }
   ],
   "source": [
    "# Посмотрим как закодированы наши бинарные переменные:\n",
    "\n",
    "for col in ['steering', 'docs', 'vendor']:\n",
    "    print(f'Значения в колнке {col}: {test[col].unique()}')"
   ]
  },
  {
   "cell_type": "code",
   "execution_count": 118,
   "metadata": {},
   "outputs": [],
   "source": [
    "# В нашем датасете присутствуют автомобили с (ВНЕЗАПНО! :)) правым и левым рулем, \n",
    "# Европейских или Японских марок, с (тоже ВНЕЗАПНО! :)) оригиналами и дубликатами ПТС.\n",
    "\n",
    "# В признаке ПТС есть один пропуск, заполним его наиболее частым значением:\n",
    "\n",
    "test.docs = test.docs.fillna(test.docs.value_counts().index[0])"
   ]
  },
  {
   "cell_type": "code",
   "execution_count": 119,
   "metadata": {},
   "outputs": [],
   "source": [
    "# Теперь можно перевести наши бинарные столбцы в числовой формат. Пусть первое значение в столбце будет 0, второе 1:\n",
    "\n",
    "for col in ['steering', 'docs', 'vendor']:\n",
    "    test[col] = (test[col] == test[col].unique()[1]).astype('int')"
   ]
  },
  {
   "cell_type": "markdown",
   "metadata": {},
   "source": [
    "#### 2.2.2 Категориаьные переменные (drive, owners_count, transmission, fuel_type, doors_num)"
   ]
  },
  {
   "cell_type": "code",
   "execution_count": 120,
   "metadata": {},
   "outputs": [
    {
     "name": "stdout",
     "output_type": "stream",
     "text": [
      "Значения в колнке drive: ['передний' 'полный' 'задний']\n",
      "Значения в колнке owners_count: ['3 или более' '1\\xa0владелец' '2\\xa0владельца']\n",
      "Значения в колнке transmission: ['роботизированная' 'механическая' 'автоматическая' 'вариатор']\n",
      "Значения в колнке fuel_type: ['бензин' 'дизель' 'гибрид' 'электро' 'газ']\n",
      "Значения в колнке doors_num: [5 4 2 3 0]\n"
     ]
    }
   ],
   "source": [
    "# Посмотрим какие значения принимают категориаьные переменные:\n",
    "\n",
    "for col in ['drive', 'owners_count', 'transmission', 'fuel_type', 'doors_num']:\n",
    "    print(f'Значения в колнке {col}: {test[col].unique()}')"
   ]
  },
  {
   "cell_type": "code",
   "execution_count": 121,
   "metadata": {},
   "outputs": [],
   "source": [
    "# На данном этапе можно преобразовать значения в колонке owners_count, \n",
    "# т.к. по сути это числовая переменная, где число содержится в начале строки:\n",
    "\n",
    "test.owners_count = test.owners_count.str[0].astype('int')"
   ]
  },
  {
   "cell_type": "markdown",
   "metadata": {},
   "source": [
    "#### 2.2.3 Остальные столбцы"
   ]
  },
  {
   "cell_type": "code",
   "execution_count": 122,
   "metadata": {},
   "outputs": [
    {
     "data": {
      "text/plain": [
       "16441                SEDAN AUTOMATIC 2.0\n",
       "2286        WAGON_5_DOORS MECHANICAL 1.3\n",
       "27254               SEDAN MECHANICAL 1.3\n",
       "7375                 SEDAN AUTOMATIC 2.4\n",
       "31345    HATCHBACK_5_DOORS AUTOMATIC 1.5\n",
       "Name: configuration, dtype: object"
      ]
     },
     "metadata": {},
     "output_type": "display_data"
    }
   ],
   "source": [
    "# При дальнейшем \"осмотре\" датасета можно обратить внимание на столбец configuration:\n",
    "\n",
    "display(test.configuration.sample(5))"
   ]
  },
  {
   "cell_type": "code",
   "execution_count": 123,
   "metadata": {},
   "outputs": [
    {
     "data": {
      "text/html": [
       "<div>\n",
       "<style scoped>\n",
       "    .dataframe tbody tr th:only-of-type {\n",
       "        vertical-align: middle;\n",
       "    }\n",
       "\n",
       "    .dataframe tbody tr th {\n",
       "        vertical-align: top;\n",
       "    }\n",
       "\n",
       "    .dataframe thead th {\n",
       "        text-align: right;\n",
       "    }\n",
       "</style>\n",
       "<table border=\"1\" class=\"dataframe\">\n",
       "  <thead>\n",
       "    <tr style=\"text-align: right;\">\n",
       "      <th></th>\n",
       "      <th>configuration</th>\n",
       "      <th>body_type</th>\n",
       "      <th>transmission</th>\n",
       "      <th>engine_volume</th>\n",
       "    </tr>\n",
       "  </thead>\n",
       "  <tbody>\n",
       "    <tr>\n",
       "      <th>10154</th>\n",
       "      <td>SEDAN AUTOMATIC 2.5</td>\n",
       "      <td>седан</td>\n",
       "      <td>автоматическая</td>\n",
       "      <td>2.5 LTR</td>\n",
       "    </tr>\n",
       "    <tr>\n",
       "      <th>24608</th>\n",
       "      <td>SEDAN ROBOT 1.4</td>\n",
       "      <td>седан</td>\n",
       "      <td>роботизированная</td>\n",
       "      <td>1.4 LTR</td>\n",
       "    </tr>\n",
       "    <tr>\n",
       "      <th>752</th>\n",
       "      <td>LIFTBACK AUTOMATIC 1.8</td>\n",
       "      <td>лифтбек</td>\n",
       "      <td>автоматическая</td>\n",
       "      <td>1.8 LTR</td>\n",
       "    </tr>\n",
       "    <tr>\n",
       "      <th>16274</th>\n",
       "      <td>SEDAN AUTOMATIC 3.0</td>\n",
       "      <td>седан</td>\n",
       "      <td>автоматическая</td>\n",
       "      <td>3.0 LTR</td>\n",
       "    </tr>\n",
       "    <tr>\n",
       "      <th>9733</th>\n",
       "      <td>SEDAN AUTOMATIC 3.0</td>\n",
       "      <td>седан</td>\n",
       "      <td>автоматическая</td>\n",
       "      <td>3.0 LTR</td>\n",
       "    </tr>\n",
       "    <tr>\n",
       "      <th>1848</th>\n",
       "      <td>COMPACTVAN MECHANICAL 1.2</td>\n",
       "      <td>компактвэн</td>\n",
       "      <td>механическая</td>\n",
       "      <td>1.2 LTR</td>\n",
       "    </tr>\n",
       "    <tr>\n",
       "      <th>28531</th>\n",
       "      <td>ALLROAD_5_DOORS MECHANICAL 2.8</td>\n",
       "      <td>внедорожник 5 дв.</td>\n",
       "      <td>механическая</td>\n",
       "      <td>2.8 LTR</td>\n",
       "    </tr>\n",
       "    <tr>\n",
       "      <th>11989</th>\n",
       "      <td>ALLROAD_5_DOORS MECHANICAL 1.6</td>\n",
       "      <td>внедорожник 5 дв.</td>\n",
       "      <td>механическая</td>\n",
       "      <td>1.6 LTR</td>\n",
       "    </tr>\n",
       "    <tr>\n",
       "      <th>31619</th>\n",
       "      <td>SEDAN AUTOMATIC 3.5</td>\n",
       "      <td>седан</td>\n",
       "      <td>автоматическая</td>\n",
       "      <td>3.5 LTR</td>\n",
       "    </tr>\n",
       "    <tr>\n",
       "      <th>29596</th>\n",
       "      <td>ALLROAD_5_DOORS AUTOMATIC 3.0</td>\n",
       "      <td>внедорожник 5 дв.</td>\n",
       "      <td>автоматическая</td>\n",
       "      <td>3.0 LTR</td>\n",
       "    </tr>\n",
       "  </tbody>\n",
       "</table>\n",
       "</div>"
      ],
      "text/plain": [
       "                        configuration          body_type      transmission engine_volume\n",
       "10154             SEDAN AUTOMATIC 2.5              седан    автоматическая       2.5 LTR\n",
       "24608                 SEDAN ROBOT 1.4              седан  роботизированная       1.4 LTR\n",
       "752            LIFTBACK AUTOMATIC 1.8            лифтбек    автоматическая       1.8 LTR\n",
       "16274             SEDAN AUTOMATIC 3.0              седан    автоматическая       3.0 LTR\n",
       "9733              SEDAN AUTOMATIC 3.0              седан    автоматическая       3.0 LTR\n",
       "1848        COMPACTVAN MECHANICAL 1.2         компактвэн      механическая       1.2 LTR\n",
       "28531  ALLROAD_5_DOORS MECHANICAL 2.8  внедорожник 5 дв.      механическая       2.8 LTR\n",
       "11989  ALLROAD_5_DOORS MECHANICAL 1.6  внедорожник 5 дв.      механическая       1.6 LTR\n",
       "31619             SEDAN AUTOMATIC 3.5              седан    автоматическая       3.5 LTR\n",
       "29596   ALLROAD_5_DOORS AUTOMATIC 3.0  внедорожник 5 дв.    автоматическая       3.0 LTR"
      ]
     },
     "execution_count": 123,
     "metadata": {},
     "output_type": "execute_result"
    }
   ],
   "source": [
    "# Видно что каждая строка сотоит из 3х слов: тип кузова, тип трансмиссии и, скорее всего, объем двигателя.\n",
    "# Для каждого из этих параметров у нас есть отдельный признак, но следует убедится что мы не ошиблись:\n",
    "\n",
    "test[['configuration', 'body_type',\n",
    "      'transmission', 'engine_volume']].sample(10)"
   ]
  },
  {
   "cell_type": "code",
   "execution_count": 124,
   "metadata": {},
   "outputs": [],
   "source": [
    "# Действительно, значения совпадают, но в столбце configuration они записаны удобнее.\n",
    "# Можно \"разобрать\" его по соответствующим колонкам, а его самого удалить:\n",
    "\n",
    "test.body_type = test.configuration.apply(lambda x: x.split()[0])\n",
    "test.transmission = test.configuration.apply(lambda x: x.split()[1])\n",
    "\n",
    "test.drop(columns='configuration', inplace=True)"
   ]
  },
  {
   "cell_type": "code",
   "execution_count": 125,
   "metadata": {},
   "outputs": [],
   "source": [
    "# Так-же можно сразу преобразовать признак с объемом двигателя в числовой. Опытным путем я выяснил что в\n",
    "# датасете у некоторых записей отсутствует число (вероятно это электромобили), им поставим объем 0.0:\n",
    "\n",
    "test.engine_volume = test.engine_volume.apply(lambda x: '0.0' if x == ' LTR' \n",
    "                                              else x.split()[0]).astype('float')"
   ]
  },
  {
   "cell_type": "code",
   "execution_count": 126,
   "metadata": {},
   "outputs": [
    {
     "data": {
      "text/plain": [
       "3756            1.4 AMT (150 л.с.)\n",
       "18901    350 3.5 AT (272 л.с.) 4WD\n",
       "27454            2.4 AT (149 л.с.)\n",
       "19680        4.7 AT (288 л.с.) 4WD\n",
       "34034            2.0 MT (150 л.с.)\n",
       "Name: name, dtype: object"
      ]
     },
     "metadata": {},
     "output_type": "display_data"
    }
   ],
   "source": [
    "# Следующий \"интересный\" признак это name:\n",
    "\n",
    "display(test.name.sample(5))"
   ]
  },
  {
   "cell_type": "code",
   "execution_count": 127,
   "metadata": {},
   "outputs": [
    {
     "data": {
      "text/html": [
       "<div>\n",
       "<style scoped>\n",
       "    .dataframe tbody tr th:only-of-type {\n",
       "        vertical-align: middle;\n",
       "    }\n",
       "\n",
       "    .dataframe tbody tr th {\n",
       "        vertical-align: top;\n",
       "    }\n",
       "\n",
       "    .dataframe thead th {\n",
       "        text-align: right;\n",
       "    }\n",
       "</style>\n",
       "<table border=\"1\" class=\"dataframe\">\n",
       "  <thead>\n",
       "    <tr style=\"text-align: right;\">\n",
       "      <th></th>\n",
       "      <th>name</th>\n",
       "      <th>engine_volume</th>\n",
       "      <th>transmission</th>\n",
       "      <th>engine_power</th>\n",
       "    </tr>\n",
       "  </thead>\n",
       "  <tbody>\n",
       "    <tr>\n",
       "      <th>10888</th>\n",
       "      <td>320i 2.0 AT (150 л.с.)</td>\n",
       "      <td>2.0</td>\n",
       "      <td>AUTOMATIC</td>\n",
       "      <td>150 N12</td>\n",
       "    </tr>\n",
       "    <tr>\n",
       "      <th>26744</th>\n",
       "      <td>3.0 MT (170 л.с.) 4WD</td>\n",
       "      <td>3.0</td>\n",
       "      <td>MECHANICAL</td>\n",
       "      <td>170 N12</td>\n",
       "    </tr>\n",
       "    <tr>\n",
       "      <th>2205</th>\n",
       "      <td>1.4 MT (68 л.с.)</td>\n",
       "      <td>1.4</td>\n",
       "      <td>MECHANICAL</td>\n",
       "      <td>68 N12</td>\n",
       "    </tr>\n",
       "    <tr>\n",
       "      <th>14524</th>\n",
       "      <td>1.6 AT (90 л.с.)</td>\n",
       "      <td>1.6</td>\n",
       "      <td>AUTOMATIC</td>\n",
       "      <td>90 N12</td>\n",
       "    </tr>\n",
       "    <tr>\n",
       "      <th>26716</th>\n",
       "      <td>2.0 AT (170 л.с.) 4WD</td>\n",
       "      <td>2.0</td>\n",
       "      <td>AUTOMATIC</td>\n",
       "      <td>170 N12</td>\n",
       "    </tr>\n",
       "    <tr>\n",
       "      <th>3648</th>\n",
       "      <td>2.0 AT (225 л.с.) 4WD</td>\n",
       "      <td>2.0</td>\n",
       "      <td>AUTOMATIC</td>\n",
       "      <td>225 N12</td>\n",
       "    </tr>\n",
       "    <tr>\n",
       "      <th>28999</th>\n",
       "      <td>2.4 AT (150 л.с.)</td>\n",
       "      <td>2.4</td>\n",
       "      <td>AUTOMATIC</td>\n",
       "      <td>150 N12</td>\n",
       "    </tr>\n",
       "    <tr>\n",
       "      <th>23503</th>\n",
       "      <td>1.4 MT (80 л.с.)</td>\n",
       "      <td>1.4</td>\n",
       "      <td>MECHANICAL</td>\n",
       "      <td>80 N12</td>\n",
       "    </tr>\n",
       "    <tr>\n",
       "      <th>10742</th>\n",
       "      <td>18i 2.0 AT (150 л.с.)</td>\n",
       "      <td>2.0</td>\n",
       "      <td>AUTOMATIC</td>\n",
       "      <td>150 N12</td>\n",
       "    </tr>\n",
       "    <tr>\n",
       "      <th>32389</th>\n",
       "      <td>5-speed 2.0 MT (280 л.с.) 4WD</td>\n",
       "      <td>2.0</td>\n",
       "      <td>MECHANICAL</td>\n",
       "      <td>280 N12</td>\n",
       "    </tr>\n",
       "  </tbody>\n",
       "</table>\n",
       "</div>"
      ],
      "text/plain": [
       "                                name  engine_volume transmission engine_power\n",
       "10888         320i 2.0 AT (150 л.с.)            2.0    AUTOMATIC      150 N12\n",
       "26744          3.0 MT (170 л.с.) 4WD            3.0   MECHANICAL      170 N12\n",
       "2205                1.4 MT (68 л.с.)            1.4   MECHANICAL       68 N12\n",
       "14524               1.6 AT (90 л.с.)            1.6    AUTOMATIC       90 N12\n",
       "26716          2.0 AT (170 л.с.) 4WD            2.0    AUTOMATIC      170 N12\n",
       "3648           2.0 AT (225 л.с.) 4WD            2.0    AUTOMATIC      225 N12\n",
       "28999              2.4 AT (150 л.с.)            2.4    AUTOMATIC      150 N12\n",
       "23503               1.4 MT (80 л.с.)            1.4   MECHANICAL       80 N12\n",
       "10742          18i 2.0 AT (150 л.с.)            2.0    AUTOMATIC      150 N12\n",
       "32389  5-speed 2.0 MT (280 л.с.) 4WD            2.0   MECHANICAL      280 N12"
      ]
     },
     "execution_count": 127,
     "metadata": {},
     "output_type": "execute_result"
    }
   ],
   "source": [
    "# Если не обращать внимания на иногда попадающиеся \"приписки\", то столбец содержит\n",
    "# информацию об объеме двигателя, типе коробки передач и мощности. Проверим это:\n",
    "\n",
    "test[['name', 'engine_volume', 'transmission', 'engine_power']].sample(10)"
   ]
  },
  {
   "cell_type": "code",
   "execution_count": 128,
   "metadata": {},
   "outputs": [],
   "source": [
    "# Мы оказались правы, столбец name можно будет удалить, а столбец engine_power преобразовать в числовой:\n",
    "\n",
    "test.engine_power = test.engine_power.apply(lambda x: x.split()[0]).astype('int')\n",
    "\n",
    "test.drop(columns='name', inplace=True)"
   ]
  },
  {
   "cell_type": "code",
   "execution_count": 129,
   "metadata": {},
   "outputs": [
    {
     "data": {
      "text/plain": [
       "27269    {\"code\":\"OUTLANDER\",\"name\":\"Outlander\",\"ru_nam...\n",
       "6742     {\"code\":\"S60\",\"name\":\"S60\",\"ru_name\":\"S60\",\"mo...\n",
       "1580     {\"code\":\"OCTAVIA\",\"name\":\"Octavia\",\"ru_name\":\"...\n",
       "4174     {\"code\":\"A4\",\"name\":\"A4\",\"ru_name\":\"А4\",\"morph...\n",
       "18752    {\"code\":\"E_KLASSE\",\"name\":\"E-Класс\",\"ru_name\":...\n",
       "Name: model_info, dtype: object"
      ]
     },
     "metadata": {},
     "output_type": "display_data"
    },
    {
     "data": {
      "text/plain": [
       "'{\"code\":\"OCTAVIA\",\"name\":\"Octavia\",\"ru_name\":\"Октавия\",\"morphology\":{\"gender\":\"FEMININE\"},\"nameplate\":{\"code\":\"\",\"name\":\"\",\"semantic_url\":\"\"}}'"
      ]
     },
     "metadata": {},
     "output_type": "display_data"
    }
   ],
   "source": [
    "# Посмотрим на столбец model_info:\n",
    "\n",
    "display(test.model_info.sample(5))\n",
    "\n",
    "display(test.model_info[0])"
   ]
  },
  {
   "cell_type": "code",
   "execution_count": 130,
   "metadata": {},
   "outputs": [],
   "source": [
    "# По сути это просто словарь с названием модели, которое и так есть в столбце model_name.\n",
    "# Удаляем его:\n",
    "\n",
    "test.drop(columns='model_info', inplace=True)"
   ]
  },
  {
   "cell_type": "code",
   "execution_count": 131,
   "metadata": {},
   "outputs": [
    {
     "data": {
      "text/plain": [
       "14078    {\"id\":\"3480718\",\"displacement\":1998,\"engine_ty...\n",
       "26671    {\"id\":\"4760849\",\"displacement\":1781,\"engine_ty...\n",
       "22696    {\"id\":\"8526354\",\"name\":\"270\",\"nameplate\":\"270\"...\n",
       "23328    {\"id\":\"20400030\",\"displacement\":2967,\"engine_t...\n",
       "34401    {\"id\":\"20416563\",\"displacement\":2488,\"engine_t...\n",
       "Name: super_gen, dtype: object"
      ]
     },
     "metadata": {},
     "output_type": "display_data"
    },
    {
     "data": {
      "text/plain": [
       "'{\"id\":\"10373605\",\"displacement\":1197,\"engine_type\":\"GASOLINE\",\"gear_type\":\"FORWARD_CONTROL\",\"transmission\":\"ROBOT\",\"power\":105,\"power_kvt\":77,\"human_name\":\"1.2 AMT (105 л.с.)\",\"acceleration\":10.5,\"clearance_min\":155,\"fuel_rate\":5}'"
      ]
     },
     "metadata": {},
     "output_type": "display_data"
    }
   ],
   "source": [
    "# Столбец super_gen это тоже словарь с информацией по бОльшей части дублирующейся в других столбцах:\n",
    "\n",
    "display(test.super_gen.sample(5))\n",
    "\n",
    "display(test.super_gen[0])"
   ]
  },
  {
   "cell_type": "code",
   "execution_count": 132,
   "metadata": {},
   "outputs": [],
   "source": [
    "# Удаляем его:\n",
    "\n",
    "test.drop(columns='super_gen', inplace=True)"
   ]
  },
  {
   "cell_type": "code",
   "execution_count": 29,
   "metadata": {},
   "outputs": [
    {
     "data": {
      "text/plain": [
       "293                      NaN\n",
       "7226                     NaN\n",
       "12183     2 года и 8 месяцев\n",
       "22568    4 года и 11 месяцев\n",
       "30604       4 года и 1 месяц\n",
       "7005      2 года и 5 месяцев\n",
       "635       6 лет и 10 месяцев\n",
       "1882       2 года и 2 месяца\n",
       "9742                     NaN\n",
       "4214     4 года и 10 месяцев\n",
       "Name: ownership, dtype: object"
      ]
     },
     "metadata": {},
     "output_type": "display_data"
    }
   ],
   "source": [
    "# Посмотрим на столбец ownership:\n",
    "\n",
    "display(test.ownership.sample(10))"
   ]
  },
  {
   "cell_type": "code",
   "execution_count": 30,
   "metadata": {},
   "outputs": [],
   "source": [
    "# В столбце много пропусков, а имеющиеся данные заполнены как строкис \"ключевыми\" словами год/года/лет и месяца/месяцев.\n",
    "# Преобразуем имеющиеся данные в числовую форму (число месяцев):\n",
    "\n",
    "months = test.ownership.str.extract(\n",
    "    '(\\d{1,2})\\sмес', expand=False).astype('float')\n",
    "years = test.ownership.str.extract(\n",
    "    '(\\d{1,2})\\s(?:лет|год)', expand=False).astype('float')\n",
    "\n",
    "test.ownership = (years*12 + months)"
   ]
  },
  {
   "cell_type": "markdown",
   "metadata": {},
   "source": [
    "Из неподготовленных столбцов у нас остались complectation, description, equipment с которыми мы будем разбираться уже после того, как посмотрим что и в каком формате мы получим с сайта auto.ru.\n",
    "Можно переходить к парсингу данных."
   ]
  },
  {
   "cell_type": "markdown",
   "metadata": {},
   "source": [
    "## 3. Парсинг auto.ru"
   ]
  },
  {
   "cell_type": "markdown",
   "metadata": {},
   "source": [
    "### 3.1 Определяем что ищем"
   ]
  },
  {
   "cell_type": "code",
   "execution_count": 357,
   "metadata": {},
   "outputs": [],
   "source": [
    "# Составим датафрейм с интересующими нас брендами моделями автомобилей:\n",
    "\n",
    "brands = []\n",
    "\n",
    "for i in range(len(test.brand.unique())):\n",
    "    brands.append((test.brand.unique()[i]).lower())"
   ]
  },
  {
   "cell_type": "code",
   "execution_count": 358,
   "metadata": {},
   "outputs": [],
   "source": [
    "# Дополним список брендов другими европейскими и японскими марками:\n",
    "\n",
    "more_brands=['citroen', 'datsun', 'fiat', 'land_rover', 'mazda', 'mini', \n",
    " 'opel', 'peugeot', 'porsche', 'renault', 'subaru', 'suzuki'] \n",
    "\n",
    "brands.extend(more_brands)"
   ]
  },
  {
   "cell_type": "markdown",
   "metadata": {},
   "source": [
    "Итак нас интересуют автомобили от 24 производителей. Их и будем искать."
   ]
  },
  {
   "cell_type": "markdown",
   "metadata": {},
   "source": [
    "### 3.2 Готовимся к парсингу"
   ]
  },
  {
   "cell_type": "code",
   "execution_count": 359,
   "metadata": {},
   "outputs": [],
   "source": [
    "# С начала создадим список ссылок на страницы, с которых будем собирать ссылки на отдельные автомобили.\n",
    "# Формат ссылок на сайте фиксированный, данные будем собирать с любого региона, так-что меняться будут\n",
    "# только марка автомобилей и номера страниц:\n",
    "\n",
    "pages_list = []\n",
    "\n",
    "for i in range(1, 100):\n",
    "    for brand in brands:\n",
    "        url = 'https://auto.ru/cars/' + brand + '/used/?page=' + str(i)\n",
    "        pages_list.append(url)"
   ]
  },
  {
   "cell_type": "code",
   "execution_count": null,
   "metadata": {},
   "outputs": [],
   "source": []
  },
  {
   "cell_type": "code",
   "execution_count": null,
   "metadata": {},
   "outputs": [],
   "source": [
    "# ВНИМАНИЕ!!! ОЧЕНЬ ДОЛГИЙ ПРОЦЦЕСС!!! НЕ ПЕРЕЗАПУСКАТЬ БЕЗ НЕОБХОДИМОСТИ!!!\n",
    "# Теперь соберем ссылки на автомобили в отдельный список:\n",
    "\n",
    "#with open(PATH_to_file + 'car_links.txt', 'a') as f:\n",
    "#    for x in range(len(pages_list)):    \n",
    "#        link = pages_list[x]\n",
    "#        response = requests.get(link, headers={'User-Agent': UserAgent().chrome})\n",
    "#        page = BeautifulSoup(response.text, 'lxml')\n",
    "#        tags = page.find_all('a', \"Link ListingItemTitle__link\")\n",
    "#        for i in range(len(tags)):\n",
    "#            f.write(tags[i]['href'] +\"\\n\")\n",
    "#        time.sleep(1)"
   ]
  },
  {
   "cell_type": "code",
   "execution_count": null,
   "metadata": {},
   "outputs": [],
   "source": [
    "# Запустить для чтения списка ссылок из существующего файла:\n",
    "\n",
    "#links = []\n",
    "\n",
    "#with open(PATH_to_file + 'car_links.txt', 'r') as f:\n",
    "#  for line in f:\n",
    "#    score.append(str(line.strip()))"
   ]
  },
  {
   "cell_type": "code",
   "execution_count": null,
   "metadata": {},
   "outputs": [],
   "source": []
  },
  {
   "cell_type": "code",
   "execution_count": null,
   "metadata": {},
   "outputs": [],
   "source": []
  },
  {
   "cell_type": "code",
   "execution_count": null,
   "metadata": {},
   "outputs": [],
   "source": []
  },
  {
   "cell_type": "code",
   "execution_count": 367,
   "metadata": {},
   "outputs": [],
   "source": [
    "link = pages_list[1]\n",
    "response = requests.get(link, headers={'User-Agent': UserAgent().chrome})\n",
    "page = BeautifulSoup(response.text, 'lxml')\n",
    "tags = page.find_all('a', \"Link ListingItemTitle__link\")"
   ]
  },
  {
   "cell_type": "code",
   "execution_count": 368,
   "metadata": {},
   "outputs": [
    {
     "name": "stdout",
     "output_type": "stream",
     "text": [
      "https://auto.ru/cars/used/sale/audi/a8/1104632891-e287468d/\n",
      "\n",
      "https://auto.ru/cars/used/sale/audi/a5/1104682972-38177ec3/\n",
      "\n",
      "https://auto.ru/cars/used/sale/audi/a4/1105072662-f5f0c47f/\n",
      "\n",
      "https://auto.ru/cars/used/sale/audi/a3/1105089815-fbc86263/\n",
      "\n",
      "https://auto.ru/cars/used/sale/audi/100/1105014805-27f9baef/\n",
      "\n",
      "https://auto.ru/cars/used/sale/audi/a6/1104631902-78edf9c2/\n",
      "\n",
      "https://auto.ru/cars/used/sale/audi/a4/1105166215-6ae3a2a3/\n",
      "\n",
      "https://auto.ru/cars/used/sale/audi/a3/1104948493-aa9a6091/\n",
      "\n",
      "https://auto.ru/cars/used/sale/audi/q5/1104859330-c999ba19/\n",
      "\n",
      "https://auto.ru/cars/used/sale/audi/a6/1104755965-9dcad65c/\n",
      "\n",
      "https://auto.ru/cars/used/sale/audi/a6/1105172229-2749c56e/\n",
      "\n",
      "https://auto.ru/cars/used/sale/audi/a6/1105157724-dec9ebb1/\n",
      "\n",
      "https://auto.ru/cars/used/sale/audi/e_tron_sportback/1105055893-31af6e2c/\n",
      "\n",
      "https://auto.ru/cars/used/sale/audi/q7/1105065444-1baa723b/\n",
      "\n",
      "https://auto.ru/cars/used/sale/audi/a6/1103993609-2feacf92/\n",
      "\n",
      "https://auto.ru/cars/used/sale/audi/a5/1105018877-73aefaaf/\n",
      "\n",
      "https://auto.ru/cars/used/sale/audi/a6/1105172005-65cca4a5/\n",
      "\n",
      "https://auto.ru/cars/used/sale/audi/q7/1104282063-7e9102df/\n",
      "\n",
      "https://auto.ru/cars/used/sale/audi/a5/1105172227-65339407/\n",
      "\n",
      "https://auto.ru/cars/used/sale/audi/a6/1105171950-431c31bb/\n",
      "\n",
      "https://auto.ru/cars/used/sale/audi/q3_sportback/1105077892-5304b906/\n",
      "\n",
      "https://auto.ru/cars/used/sale/audi/q3/1104048301-15c3133d/\n",
      "\n",
      "https://auto.ru/cars/used/sale/audi/q7/1105084812-40b19b50/\n",
      "\n",
      "https://auto.ru/cars/used/sale/audi/a6/1104106592-c64a3c88/\n",
      "\n",
      "https://auto.ru/cars/used/sale/audi/q7/1104738745-33b57edc/\n",
      "\n",
      "https://auto.ru/cars/used/sale/audi/q5/1104879775-290bd5f8/\n",
      "\n",
      "https://auto.ru/cars/used/sale/audi/100/1104166428-a3f7b393/\n",
      "\n",
      "https://auto.ru/cars/used/sale/audi/a3/1105098683-83082f36/\n",
      "\n",
      "https://auto.ru/cars/used/sale/audi/a8/1103610773-4e8c6048/\n",
      "\n",
      "https://auto.ru/cars/used/sale/audi/a4/1104270364-00f09691/\n",
      "\n",
      "https://auto.ru/cars/used/sale/audi/a1/1105149052-cfed3ccd/\n",
      "\n",
      "https://auto.ru/cars/used/sale/audi/a1/1104991076-37742b82/\n",
      "\n",
      "https://auto.ru/cars/used/sale/audi/a4/1105052223-03f1e9b4/\n",
      "\n",
      "https://auto.ru/cars/used/sale/audi/q7/1105170800-4b18f18b/\n",
      "\n",
      "https://auto.ru/cars/used/sale/audi/a6/1104911672-d7462864/\n",
      "\n",
      "https://auto.ru/cars/used/sale/audi/q5/1104617820-9f1029ce/\n",
      "\n",
      "https://auto.ru/cars/used/sale/audi/a4/1105172228-3e3077bc/\n",
      "\n",
      "https://auto.ru/cars/used/sale/audi/a4/1104106675-501afe3c/\n",
      "\n"
     ]
    }
   ],
   "source": [
    "for i in range(len(tags)):\n",
    "    print(str(tags[i]['href']) +\"\\n\")"
   ]
  },
  {
   "cell_type": "code",
   "execution_count": null,
   "metadata": {},
   "outputs": [],
   "source": []
  },
  {
   "cell_type": "code",
   "execution_count": null,
   "metadata": {},
   "outputs": [],
   "source": []
  },
  {
   "cell_type": "code",
   "execution_count": 406,
   "metadata": {},
   "outputs": [],
   "source": [
    "with open(PATH_to_file + 'car_links_2.txt', 'a') as f:\n",
    "    for x in range(len(pages_list)):    \n",
    "        link = pages_list[x]\n",
    "        response = requests.get(link, headers={'User-Agent': UserAgent().chrome})\n",
    "        page = BeautifulSoup(response.text, 'lxml')\n",
    "        tags = page.find_all('a', \"Link ListingItemTitle__link\")\n",
    "        for i in range(len(tags)):\n",
    "            f.write(tags[i]['href'] +\"\\n\")\n",
    "        time.sleep(1)"
   ]
  },
  {
   "cell_type": "code",
   "execution_count": null,
   "metadata": {},
   "outputs": [],
   "source": []
  },
  {
   "cell_type": "code",
   "execution_count": null,
   "metadata": {},
   "outputs": [],
   "source": []
  },
  {
   "cell_type": "code",
   "execution_count": 379,
   "metadata": {},
   "outputs": [],
   "source": [
    "links = []\n",
    "\n",
    "with open(PATH_to_file + 'car_links.txt', 'r') as f:\n",
    "  for line in f:\n",
    "    links.append(str(line.strip()))"
   ]
  },
  {
   "cell_type": "code",
   "execution_count": null,
   "metadata": {},
   "outputs": [],
   "source": []
  },
  {
   "cell_type": "code",
   "execution_count": 404,
   "metadata": {},
   "outputs": [
    {
     "data": {
      "text/plain": [
       "'https://auto.ru/cars/suzuki/used/?page=79'"
      ]
     },
     "execution_count": 404,
     "metadata": {},
     "output_type": "execute_result"
    }
   ],
   "source": [
    "pages_list[1895]"
   ]
  },
  {
   "cell_type": "code",
   "execution_count": 405,
   "metadata": {},
   "outputs": [
    {
     "name": "stdout",
     "output_type": "stream",
     "text": [
      "https://auto.ru/cars/used/sale/suzuki/grand_vitara/1093835018-6b4e9e11/\n",
      "\n",
      "https://auto.ru/cars/used/sale/suzuki/liana/1103593610-ceffef70/\n",
      "\n",
      "https://auto.ru/cars/used/sale/suzuki/swift/1105107977-54a22b73/\n",
      "\n",
      "https://auto.ru/cars/used/sale/suzuki/jimny/1105165152-3f136170/\n",
      "\n",
      "https://auto.ru/cars/used/sale/suzuki/solio/1105145940-e69192a0/\n",
      "\n",
      "https://auto.ru/cars/used/sale/suzuki/jimny/1104750330-39d8e35a/\n",
      "\n",
      "https://auto.ru/cars/used/sale/suzuki/grand_vitara/1104926542-60e4433f/\n",
      "\n",
      "https://auto.ru/cars/used/sale/suzuki/sx4/1105168518-055b729d/\n",
      "\n",
      "https://auto.ru/cars/used/sale/suzuki/jimny/1105070964-cc93db7c/\n",
      "\n",
      "https://auto.ru/cars/used/sale/suzuki/sx4/1105172619-00039f36/\n",
      "\n",
      "https://auto.ru/cars/used/sale/suzuki/vitara/1104959376-6155ea06/\n",
      "\n",
      "https://auto.ru/cars/used/sale/suzuki/grand_vitara/1105108885-35364c33/\n",
      "\n",
      "https://auto.ru/cars/used/sale/suzuki/sx4/1104973107-cee9cee2/\n",
      "\n",
      "https://auto.ru/cars/used/sale/suzuki/kizashi/1105168320-794376ac/\n",
      "\n",
      "https://auto.ru/cars/used/sale/suzuki/liana/1104994637-7e66ade2/\n",
      "\n",
      "https://auto.ru/cars/used/sale/suzuki/sx4/1103518690-c13ffdda/\n",
      "\n",
      "https://auto.ru/cars/used/sale/suzuki/vitara/1104077212-0d0ab5f8/\n",
      "\n",
      "https://auto.ru/cars/used/sale/suzuki/sx4/1104202536-ee8596a7/\n",
      "\n",
      "https://auto.ru/cars/used/sale/suzuki/swift/1104584148-10eebc23/\n",
      "\n",
      "https://auto.ru/cars/used/sale/suzuki/grand_vitara/1104919811-2cc67d7f/\n",
      "\n",
      "https://auto.ru/cars/used/sale/suzuki/sx4/1105091175-083bffe8/\n",
      "\n",
      "https://auto.ru/cars/used/sale/suzuki/grand_vitara/1105162314-f4cf13c0/\n",
      "\n",
      "https://auto.ru/cars/used/sale/suzuki/grand_vitara/1105159422-3831c5f3/\n",
      "\n",
      "https://auto.ru/cars/used/sale/suzuki/vitara/1104089808-c6b638bb/\n",
      "\n",
      "https://auto.ru/cars/used/sale/suzuki/sx4/1105070961-070e7c8d/\n",
      "\n",
      "https://auto.ru/cars/used/sale/suzuki/grand_vitara/1103710436-6ec47b22/\n",
      "\n",
      "https://auto.ru/cars/used/sale/suzuki/grand_vitara/1104630225-f3ef4016/\n",
      "\n",
      "https://auto.ru/cars/used/sale/suzuki/grand_vitara/1104772784-54afe445/\n",
      "\n",
      "https://auto.ru/cars/used/sale/suzuki/swift/1105159290-b61db4de/\n",
      "\n",
      "https://auto.ru/cars/used/sale/suzuki/swift/1105155682-f64743a8/\n",
      "\n",
      "https://auto.ru/cars/used/sale/suzuki/grand_vitara/1102585691-a04bced2/\n",
      "\n",
      "https://auto.ru/cars/used/sale/suzuki/splash/1104822954-d4b69467/\n",
      "\n",
      "https://auto.ru/cars/used/sale/suzuki/splash/1104866120-d7a5f516/\n",
      "\n",
      "https://auto.ru/cars/used/sale/suzuki/grand_vitara/1104820685-fd848d07/\n",
      "\n",
      "https://auto.ru/cars/used/sale/suzuki/sx4/1104866595-08d39fd5/\n",
      "\n",
      "https://auto.ru/cars/used/sale/suzuki/grand_vitara/1104701307-c9ec5230/\n",
      "\n",
      "https://auto.ru/cars/used/sale/suzuki/ignis/1104960819-614beb69/\n",
      "\n",
      "https://auto.ru/cars/used/sale/suzuki/swift/1104905148-8e9c09b3/\n",
      "\n"
     ]
    }
   ],
   "source": [
    "link = pages_list[1895]\n",
    "response = requests.get(link, headers={'User-Agent': UserAgent().chrome})\n",
    "page = BeautifulSoup(response.text, 'lxml')\n",
    "tags = page.find_all('a', \"Link ListingItemTitle__link\")\n",
    "for i in range(len(tags)):\n",
    "    print(tags[i]['href'] +\"\\n\")\n",
    "time.sleep(1)"
   ]
  },
  {
   "cell_type": "code",
   "execution_count": null,
   "metadata": {},
   "outputs": [],
   "source": []
  },
  {
   "cell_type": "code",
   "execution_count": null,
   "metadata": {},
   "outputs": [],
   "source": []
  },
  {
   "cell_type": "code",
   "execution_count": null,
   "metadata": {},
   "outputs": [],
   "source": []
  },
  {
   "cell_type": "code",
   "execution_count": 236,
   "metadata": {
    "scrolled": true
   },
   "outputs": [
    {
     "data": {
      "text/plain": [
       "200"
      ]
     },
     "execution_count": 236,
     "metadata": {},
     "output_type": "execute_result"
    }
   ],
   "source": [
    "url = 'https://auto.ru/cars/infiniti/used/?page=12'\n",
    "\n",
    "response = requests.get(url, headers={'User-Agent': UserAgent().chrome}) \n",
    "response.status_code"
   ]
  },
  {
   "cell_type": "code",
   "execution_count": 237,
   "metadata": {},
   "outputs": [
    {
     "data": {
      "text/plain": [
       "'https://auto.ru/cars/used/sale/infiniti/qx80/1103572272-d0c23ce6/'"
      ]
     },
     "execution_count": 237,
     "metadata": {},
     "output_type": "execute_result"
    }
   ],
   "source": [
    "#page = BeautifulSoup(response.text, 'html.parser')\n",
    "page = BeautifulSoup(response.text, 'lxml')\n",
    "\n",
    "page.find_all('a', \"Link ListingItemTitle__link\")[2]['href']"
   ]
  },
  {
   "cell_type": "code",
   "execution_count": 275,
   "metadata": {},
   "outputs": [
    {
     "name": "stdout",
     "output_type": "stream",
     "text": [
      "38\n",
      "https://auto.ru/cars/used/sale/infiniti/qx70/1105087664-36504e16/\n",
      "https://auto.ru/cars/used/sale/infiniti/fx/1105151591-94b209a4/\n",
      "https://auto.ru/cars/used/sale/infiniti/qx80/1105110949-45d27acc/\n",
      "https://auto.ru/cars/used/sale/infiniti/g35/1105162853-707a2467/\n",
      "https://auto.ru/cars/used/sale/infiniti/g35/1105141500-1b5f642b/\n",
      "https://auto.ru/cars/used/sale/infiniti/qx80/1103572272-d0c23ce6/\n",
      "https://auto.ru/cars/used/sale/infiniti/q70/1103807891-bd77cc79/\n",
      "https://auto.ru/cars/used/sale/infiniti/jx/1105166947-2e2d8c07/\n",
      "https://auto.ru/cars/used/sale/infiniti/jx/1105168273-b4fb94bb/\n",
      "https://auto.ru/cars/used/sale/infiniti/qx70/1105051758-e67411b1/\n",
      "https://auto.ru/cars/used/sale/infiniti/qx50/1104272817-e41e4b83/\n",
      "https://auto.ru/cars/used/sale/infiniti/qx56/1105168455-8972508a/\n",
      "https://auto.ru/cars/used/sale/infiniti/qx50/1104198499-228f40aa/\n",
      "https://auto.ru/cars/used/sale/infiniti/qx56/1105163040-fa57b0fd/\n",
      "https://auto.ru/cars/used/sale/infiniti/qx56/1103759875-9099d077/\n",
      "https://auto.ru/cars/used/sale/infiniti/qx60/1103105059-f245ac12/\n",
      "https://auto.ru/cars/used/sale/infiniti/qx80/1103520197-607c7004/\n",
      "https://auto.ru/cars/used/sale/infiniti/qx80/1105134024-17c27fec/\n",
      "https://auto.ru/cars/used/sale/infiniti/fx/1105167506-6632c384/\n",
      "https://auto.ru/cars/used/sale/infiniti/fx/1105060821-2fb4ca41/\n",
      "https://auto.ru/cars/used/sale/infiniti/g35/1104902640-1e7dd64d/\n",
      "https://auto.ru/cars/used/sale/infiniti/fx/1104686122-b28d0a0d/\n",
      "https://auto.ru/cars/used/sale/infiniti/qx80/1104639666-cc755384/\n",
      "https://auto.ru/cars/used/sale/infiniti/g35/1104811194-97f5dd11/\n",
      "https://auto.ru/cars/used/sale/infiniti/fx/1105156780-3759b87e/\n",
      "https://auto.ru/cars/used/sale/infiniti/jx/1104645469-64c44371/\n",
      "https://auto.ru/cars/used/sale/infiniti/jx/1105157148-cc0fd19a/\n",
      "https://auto.ru/cars/used/sale/infiniti/qx80/1104992388-e3c139ba/\n",
      "https://auto.ru/cars/used/sale/infiniti/g35/1103795053-05688154/\n",
      "https://auto.ru/cars/used/sale/infiniti/qx80/1105166756-20361747/\n",
      "https://auto.ru/cars/used/sale/infiniti/fx/1104984663-a06b9bff/\n",
      "https://auto.ru/cars/used/sale/infiniti/qx50/1105153337-000a512b/\n",
      "https://auto.ru/cars/used/sale/infiniti/m/1105153339-a8486dfd/\n",
      "https://auto.ru/cars/used/sale/infiniti/qx60/1105151754-6473aaf0/\n",
      "https://auto.ru/cars/used/sale/infiniti/qx50/1104170283-40822d40/\n",
      "https://auto.ru/cars/used/sale/infiniti/fx/1104633081-1916d293/\n",
      "https://auto.ru/cars/used/sale/infiniti/g35/1104846282-48e626c5/\n",
      "https://auto.ru/cars/used/sale/infiniti/qx60/1103804880-a222057f/\n"
     ]
    }
   ],
   "source": [
    "url_1 = 'https://auto.ru/cars/infiniti/used/?page=2'\n",
    "url_2 = 'https://auto.ru/cars/skoda/used/?page=1'\n",
    "url_3 = 'https://auto.ru/cars/mercedes/used/?page=1'\n",
    "\n",
    "response = requests.get(url_1, headers={'User-Agent': UserAgent().chrome}) \n",
    "response.status_code\n",
    "\n",
    "page = BeautifulSoup(response.text, 'lxml')\n",
    "\n",
    "tags = page.find_all('a', \"Link ListingItemTitle__link\")\n",
    "links = []\n",
    "print(len(tags))\n",
    "for i in range(len(tags)):\n",
    "    print(tags[i]['href'])\n",
    "    #    links.append(tags[i]['href'])\n",
    "#time.sleep(1)"
   ]
  },
  {
   "cell_type": "code",
   "execution_count": null,
   "metadata": {},
   "outputs": [],
   "source": []
  },
  {
   "cell_type": "code",
   "execution_count": 356,
   "metadata": {},
   "outputs": [
    {
     "ename": "KeyboardInterrupt",
     "evalue": "",
     "output_type": "error",
     "traceback": [
      "\u001b[0;31m---------------------------------------------------------------------------\u001b[0m",
      "\u001b[0;31mKeyboardInterrupt\u001b[0m                         Traceback (most recent call last)",
      "\u001b[0;32m<ipython-input-356-070b7ea4dd73>\u001b[0m in \u001b[0;36m<module>\u001b[0;34m\u001b[0m\n\u001b[1;32m      9\u001b[0m         \u001b[0;32mfor\u001b[0m \u001b[0mi\u001b[0m \u001b[0;32min\u001b[0m \u001b[0mrange\u001b[0m\u001b[0;34m(\u001b[0m\u001b[0mlen\u001b[0m\u001b[0;34m(\u001b[0m\u001b[0mtags\u001b[0m\u001b[0;34m)\u001b[0m\u001b[0;34m)\u001b[0m\u001b[0;34m:\u001b[0m\u001b[0;34m\u001b[0m\u001b[0;34m\u001b[0m\u001b[0m\n\u001b[1;32m     10\u001b[0m             \u001b[0mcar_links_2\u001b[0m\u001b[0;34m.\u001b[0m\u001b[0mappend\u001b[0m\u001b[0;34m(\u001b[0m\u001b[0mtags\u001b[0m\u001b[0;34m[\u001b[0m\u001b[0mi\u001b[0m\u001b[0;34m]\u001b[0m\u001b[0;34m[\u001b[0m\u001b[0;34m'href'\u001b[0m\u001b[0;34m]\u001b[0m\u001b[0;34m)\u001b[0m\u001b[0;34m\u001b[0m\u001b[0;34m\u001b[0m\u001b[0m\n\u001b[0;32m---> 11\u001b[0;31m             \u001b[0mtime\u001b[0m\u001b[0;34m.\u001b[0m\u001b[0msleep\u001b[0m\u001b[0;34m(\u001b[0m\u001b[0;36m1\u001b[0m\u001b[0;34m)\u001b[0m\u001b[0;34m\u001b[0m\u001b[0;34m\u001b[0m\u001b[0m\n\u001b[0m\u001b[1;32m     12\u001b[0m     \u001b[0mtime\u001b[0m\u001b[0;34m.\u001b[0m\u001b[0msleep\u001b[0m\u001b[0;34m(\u001b[0m\u001b[0;36m10\u001b[0m\u001b[0;34m)\u001b[0m\u001b[0;34m\u001b[0m\u001b[0;34m\u001b[0m\u001b[0m\n",
      "\u001b[0;31mKeyboardInterrupt\u001b[0m: "
     ]
    }
   ],
   "source": [
    "car_links = []\n",
    "\n",
    "for x in range(1, len(pages_list), 12):\n",
    "    for y in (range(x, x+12)):\n",
    "        link = pages_list[y]\n",
    "        response = requests.get(link, headers={'User-Agent': UserAgent().chrome})\n",
    "        page = BeautifulSoup(response.text, 'lxml')\n",
    "        tags = page.find_all('a', \"Link ListingItemTitle__link\")\n",
    "        for i in range(len(tags)):\n",
    "            car_links_2.append(tags[i]['href'])\n",
    "            time.sleep(1)\n",
    "    time.sleep(10)"
   ]
  },
  {
   "cell_type": "code",
   "execution_count": null,
   "metadata": {},
   "outputs": [],
   "source": []
  },
  {
   "cell_type": "code",
   "execution_count": 333,
   "metadata": {
    "scrolled": true
   },
   "outputs": [
    {
     "data": {
      "text/plain": [
       "1824"
      ]
     },
     "execution_count": 333,
     "metadata": {},
     "output_type": "execute_result"
    }
   ],
   "source": [
    "len(car_links_2)"
   ]
  },
  {
   "cell_type": "code",
   "execution_count": 334,
   "metadata": {},
   "outputs": [
    {
     "data": {
      "text/plain": [
       "906"
      ]
     },
     "execution_count": 334,
     "metadata": {},
     "output_type": "execute_result"
    }
   ],
   "source": [
    "len(set(car_links_2))"
   ]
  },
  {
   "cell_type": "code",
   "execution_count": null,
   "metadata": {},
   "outputs": [],
   "source": []
  },
  {
   "cell_type": "code",
   "execution_count": null,
   "metadata": {},
   "outputs": [],
   "source": [
    "MyFile = open (PATH_to_file + 'car_links.txt', 'w') \n",
    "\n",
    "for link in car_links:\n",
    "     MyFile.write(link)\n",
    "     MyFile.write('\\n')\n",
    "MyFile.close()"
   ]
  },
  {
   "cell_type": "code",
   "execution_count": null,
   "metadata": {},
   "outputs": [],
   "source": []
  },
  {
   "cell_type": "code",
   "execution_count": null,
   "metadata": {},
   "outputs": [],
   "source": []
  },
  {
   "cell_type": "code",
   "execution_count": null,
   "metadata": {},
   "outputs": [],
   "source": []
  },
  {
   "cell_type": "code",
   "execution_count": null,
   "metadata": {},
   "outputs": [],
   "source": [
    "for link in pages_list:\n",
    "    response = requests.get(link, headers={'User-Agent': UserAgent().chrome})\n",
    "    page = BeautifulSoup(response.text, 'lxml')\n",
    "    tags = page.find_all('a', \"Link ListingItemTitle__link\")\n",
    "    for i in range(len(tags)):\n",
    "        car_links.append(tags[i]['href'])"
   ]
  },
  {
   "cell_type": "code",
   "execution_count": null,
   "metadata": {},
   "outputs": [],
   "source": []
  },
  {
   "cell_type": "code",
   "execution_count": null,
   "metadata": {},
   "outputs": [],
   "source": []
  },
  {
   "cell_type": "code",
   "execution_count": null,
   "metadata": {},
   "outputs": [],
   "source": []
  },
  {
   "cell_type": "code",
   "execution_count": null,
   "metadata": {},
   "outputs": [],
   "source": []
  },
  {
   "cell_type": "code",
   "execution_count": 143,
   "metadata": {},
   "outputs": [],
   "source": [
    "from fake_useragent import UserAgent "
   ]
  },
  {
   "cell_type": "code",
   "execution_count": 144,
   "metadata": {},
   "outputs": [
    {
     "data": {
      "text/plain": [
       "fake_useragent.fake.FakeUserAgent"
      ]
     },
     "execution_count": 144,
     "metadata": {},
     "output_type": "execute_result"
    }
   ],
   "source": [
    "response = requests.get(url, headers={'User-Agent': UserAgent().chrome})    \n",
    "    response.encoding ='utf8' "
   ]
  },
  {
   "cell_type": "code",
   "execution_count": 157,
   "metadata": {},
   "outputs": [
    {
     "data": {
      "text/plain": [
       "'Mozilla/5.0 (X11; NetBSD) AppleWebKit/537.36 (KHTML, like Gecko) Chrome/27.0.1453.116 Safari/537.36'"
      ]
     },
     "execution_count": 157,
     "metadata": {},
     "output_type": "execute_result"
    }
   ],
   "source": [
    "UserAgent().chrome"
   ]
  }
 ],
 "metadata": {
  "kernelspec": {
   "display_name": "Python 3",
   "language": "python",
   "name": "python3"
  },
  "language_info": {
   "codemirror_mode": {
    "name": "ipython",
    "version": 3
   },
   "file_extension": ".py",
   "mimetype": "text/x-python",
   "name": "python",
   "nbconvert_exporter": "python",
   "pygments_lexer": "ipython3",
   "version": "3.8.5"
  }
 },
 "nbformat": 4,
 "nbformat_minor": 4
}
