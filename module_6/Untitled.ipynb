{
 "cells": [
  {
   "cell_type": "code",
   "execution_count": null,
   "metadata": {},
   "outputs": [],
   "source": []
  },
  {
   "cell_type": "code",
   "execution_count": 1,
   "metadata": {},
   "outputs": [],
   "source": [
    "# Импортируем библиотеки:\n",
    "\n",
    "import pandas as pd\n",
    "import numpy as np\n",
    "import matplotlib\n",
    "import matplotlib.pyplot as plt\n",
    "import seaborn as sns\n",
    "import requests\n",
    "import time\n",
    "import os\n",
    "import re\n",
    "import json\n",
    "from bs4 import BeautifulSoup\n",
    "from fake_useragent import UserAgent \n",
    "from tqdm import tqdm\n",
    "from pprint import pprint"
   ]
  },
  {
   "cell_type": "code",
   "execution_count": 2,
   "metadata": {},
   "outputs": [],
   "source": [
    "# Увеличиваем число отображаемых строк и столбцов в pandas:\n",
    "\n",
    "pd.set_option('display.max_rows', 50)\n",
    "pd.set_option('display.max_columns', 50)\n",
    "pd.set_option('display.width', 1000)"
   ]
  },
  {
   "cell_type": "code",
   "execution_count": 3,
   "metadata": {},
   "outputs": [
    {
     "name": "stdout",
     "output_type": "stream",
     "text": [
      "./data/.DS_Store\n",
      "./data/test.csv\n",
      "./data/sample_submission.csv\n"
     ]
    }
   ],
   "source": [
    "# Задаем дирректорию для работы с файлами:\n",
    "\n",
    "# При выполнении на kaggle раскомментировать этот блок:\n",
    "# for dirname, _, filenames in os.walk('/kaggle/input'):\n",
    "#    for filename in filenames:\n",
    "#        print(os.path.join(dirname, filename))\n",
    "# PATH_to_file = '/kaggle/input/sf-dst-scoring/'\n",
    "\n",
    "# При выполнении локально раскомментировать этот блок:\n",
    "for dirname, _, filenames in os.walk('./data'):\n",
    "    for filename in filenames:\n",
    "        print(os.path.join(dirname, filename))\n",
    "PATH_to_file = './data/'"
   ]
  },
  {
   "cell_type": "code",
   "execution_count": 4,
   "metadata": {},
   "outputs": [
    {
     "name": "stdout",
     "output_type": "stream",
     "text": [
      "Размер тестового датасета:  (34686, 32)\n"
     ]
    },
    {
     "data": {
      "text/html": [
       "<div>\n",
       "<style scoped>\n",
       "    .dataframe tbody tr th:only-of-type {\n",
       "        vertical-align: middle;\n",
       "    }\n",
       "\n",
       "    .dataframe tbody tr th {\n",
       "        vertical-align: top;\n",
       "    }\n",
       "\n",
       "    .dataframe thead th {\n",
       "        text-align: right;\n",
       "    }\n",
       "</style>\n",
       "<table border=\"1\" class=\"dataframe\">\n",
       "  <thead>\n",
       "    <tr style=\"text-align: right;\">\n",
       "      <th></th>\n",
       "      <th>bodyType</th>\n",
       "      <th>brand</th>\n",
       "      <th>car_url</th>\n",
       "      <th>color</th>\n",
       "      <th>complectation_dict</th>\n",
       "      <th>description</th>\n",
       "      <th>engineDisplacement</th>\n",
       "      <th>enginePower</th>\n",
       "      <th>equipment_dict</th>\n",
       "      <th>fuelType</th>\n",
       "      <th>image</th>\n",
       "      <th>mileage</th>\n",
       "      <th>modelDate</th>\n",
       "      <th>model_info</th>\n",
       "      <th>model_name</th>\n",
       "      <th>name</th>\n",
       "      <th>numberOfDoors</th>\n",
       "      <th>parsing_unixtime</th>\n",
       "      <th>priceCurrency</th>\n",
       "      <th>productionDate</th>\n",
       "      <th>sell_id</th>\n",
       "      <th>super_gen</th>\n",
       "      <th>vehicleConfiguration</th>\n",
       "      <th>vehicleTransmission</th>\n",
       "      <th>vendor</th>\n",
       "      <th>Владельцы</th>\n",
       "      <th>Владение</th>\n",
       "      <th>ПТС</th>\n",
       "      <th>Привод</th>\n",
       "      <th>Руль</th>\n",
       "      <th>Состояние</th>\n",
       "      <th>Таможня</th>\n",
       "    </tr>\n",
       "  </thead>\n",
       "  <tbody>\n",
       "    <tr>\n",
       "      <th>10882</th>\n",
       "      <td>внедорожник 5 дв.</td>\n",
       "      <td>BMW</td>\n",
       "      <td>https://auto.ru/cars/used/sale/bmw/x1/11012616...</td>\n",
       "      <td>коричневый</td>\n",
       "      <td>NaN</td>\n",
       "      <td>Продаю отличный автомобиль. Два комплекта рези...</td>\n",
       "      <td>2.0 LTR</td>\n",
       "      <td>177 N12</td>\n",
       "      <td>{\"engine-proof\":true,\"start-stop-function\":tru...</td>\n",
       "      <td>дизель</td>\n",
       "      <td>https://avatars.mds.yandex.net/get-autoru-vos/...</td>\n",
       "      <td>77500</td>\n",
       "      <td>2009</td>\n",
       "      <td>{\"code\":\"X1\",\"name\":\"X1\",\"ru_name\":\"Х1\",\"morph...</td>\n",
       "      <td>X1</td>\n",
       "      <td>20d 2.0d AT (177 л.с.) 4WD</td>\n",
       "      <td>5</td>\n",
       "      <td>1603120845</td>\n",
       "      <td>RUB</td>\n",
       "      <td>2012</td>\n",
       "      <td>1101261609</td>\n",
       "      <td>{\"id\":\"5018166\",\"name\":\"20d\",\"nameplate\":\"20d\"...</td>\n",
       "      <td>ALLROAD_5_DOORS AUTOMATIC 2.0</td>\n",
       "      <td>автоматическая</td>\n",
       "      <td>EUROPEAN</td>\n",
       "      <td>3 или более</td>\n",
       "      <td>5 месяцев</td>\n",
       "      <td>Оригинал</td>\n",
       "      <td>полный</td>\n",
       "      <td>Левый</td>\n",
       "      <td>Не требует ремонта</td>\n",
       "      <td>Растаможен</td>\n",
       "    </tr>\n",
       "    <tr>\n",
       "      <th>1475</th>\n",
       "      <td>лифтбек</td>\n",
       "      <td>SKODA</td>\n",
       "      <td>https://auto.ru/cars/used/sale/skoda/rapid/107...</td>\n",
       "      <td>белый</td>\n",
       "      <td>NaN</td>\n",
       "      <td>Переднее крыло и заднее протерто с левой сторо...</td>\n",
       "      <td>1.6 LTR</td>\n",
       "      <td>90 N12</td>\n",
       "      <td>{\"steel-wheels\":true,\"esp\":true,\"airbag-driver...</td>\n",
       "      <td>бензин</td>\n",
       "      <td>https://avatars.mds.yandex.net/get-autoru-vos/...</td>\n",
       "      <td>76078</td>\n",
       "      <td>2012</td>\n",
       "      <td>{\"code\":\"RAPID\",\"name\":\"Rapid\",\"ru_name\":\"Рапи...</td>\n",
       "      <td>RAPID</td>\n",
       "      <td>1.6 MT (90 л.с.)</td>\n",
       "      <td>5</td>\n",
       "      <td>1603231842</td>\n",
       "      <td>RUB</td>\n",
       "      <td>2017</td>\n",
       "      <td>1076854771</td>\n",
       "      <td>{\"id\":\"20637133\",\"displacement\":1598,\"engine_t...</td>\n",
       "      <td>LIFTBACK MECHANICAL 1.6</td>\n",
       "      <td>механическая</td>\n",
       "      <td>EUROPEAN</td>\n",
       "      <td>2 владельца</td>\n",
       "      <td>2 года и 5 месяцев</td>\n",
       "      <td>Оригинал</td>\n",
       "      <td>передний</td>\n",
       "      <td>Левый</td>\n",
       "      <td>Не требует ремонта</td>\n",
       "      <td>Растаможен</td>\n",
       "    </tr>\n",
       "    <tr>\n",
       "      <th>21019</th>\n",
       "      <td>компактвэн</td>\n",
       "      <td>TOYOTA</td>\n",
       "      <td>https://auto.ru/cars/used/sale/toyota/verso/11...</td>\n",
       "      <td>голубой</td>\n",
       "      <td>NaN</td>\n",
       "      <td>Безопасность: 4. Комфорт: 3. Салон: 2. Защита ...</td>\n",
       "      <td>1.8 LTR</td>\n",
       "      <td>147 N12</td>\n",
       "      <td>{\"airbag-passenger\":true,\"condition\":true,\"abs...</td>\n",
       "      <td>бензин</td>\n",
       "      <td>https://autoru.naydex.net/imflT9272/520f62I9/2...</td>\n",
       "      <td>138000</td>\n",
       "      <td>2009</td>\n",
       "      <td>{\"code\":\"VERSO\",\"name\":\"Verso\",\"ru_name\":\"Верс...</td>\n",
       "      <td>VERSO</td>\n",
       "      <td>1.8 MT (147 л.с.)</td>\n",
       "      <td>5</td>\n",
       "      <td>1603293951</td>\n",
       "      <td>RUB</td>\n",
       "      <td>2010</td>\n",
       "      <td>1101084231</td>\n",
       "      <td>{\"id\":\"20388832\",\"displacement\":1798,\"engine_t...</td>\n",
       "      <td>COMPACTVAN MECHANICAL 1.8</td>\n",
       "      <td>механическая</td>\n",
       "      <td>JAPANESE</td>\n",
       "      <td>1 владелец</td>\n",
       "      <td>NaN</td>\n",
       "      <td>Оригинал</td>\n",
       "      <td>передний</td>\n",
       "      <td>Левый</td>\n",
       "      <td>Не требует ремонта</td>\n",
       "      <td>Растаможен</td>\n",
       "    </tr>\n",
       "    <tr>\n",
       "      <th>26425</th>\n",
       "      <td>хэтчбек 5 дв.</td>\n",
       "      <td>VOLKSWAGEN</td>\n",
       "      <td>https://auto.ru/cars/used/sale/volkswagen/golf...</td>\n",
       "      <td>серый</td>\n",
       "      <td>NaN</td>\n",
       "      <td>Авто во владении давно, собственник я, в птс т...</td>\n",
       "      <td>1.4 LTR</td>\n",
       "      <td>122 N12</td>\n",
       "      <td>{\"cruise-control\":true,\"asr\":true,\"tinted-glas...</td>\n",
       "      <td>бензин</td>\n",
       "      <td>https://autoru.naydex.net/o9DBXQ270/5ac010hAY0...</td>\n",
       "      <td>140000</td>\n",
       "      <td>2012</td>\n",
       "      <td>{\"code\":\"GOLF\",\"name\":\"Golf\",\"ru_name\":\"Гольф\"...</td>\n",
       "      <td>GOLF</td>\n",
       "      <td>1.4 MT (122 л.с.)</td>\n",
       "      <td>5</td>\n",
       "      <td>1603225120</td>\n",
       "      <td>RUB</td>\n",
       "      <td>2014</td>\n",
       "      <td>1101110613</td>\n",
       "      <td>{\"id\":\"9290828\",\"displacement\":1395,\"engine_ty...</td>\n",
       "      <td>HATCHBACK_5_DOORS MECHANICAL 1.4</td>\n",
       "      <td>механическая</td>\n",
       "      <td>EUROPEAN</td>\n",
       "      <td>2 владельца</td>\n",
       "      <td>NaN</td>\n",
       "      <td>Оригинал</td>\n",
       "      <td>передний</td>\n",
       "      <td>Левый</td>\n",
       "      <td>Не требует ремонта</td>\n",
       "      <td>Растаможен</td>\n",
       "    </tr>\n",
       "    <tr>\n",
       "      <th>7260</th>\n",
       "      <td>седан</td>\n",
       "      <td>VOLVO</td>\n",
       "      <td>https://auto.ru/cars/used/sale/volvo/s60/10988...</td>\n",
       "      <td>чёрный</td>\n",
       "      <td>NaN</td>\n",
       "      <td>Есть незначительные недостатки по кузову</td>\n",
       "      <td>2.4 LTR</td>\n",
       "      <td>140 N12</td>\n",
       "      <td>NaN</td>\n",
       "      <td>бензин</td>\n",
       "      <td>https://autoru.naydex.net/ESooa9149/468b9eoMem...</td>\n",
       "      <td>167000</td>\n",
       "      <td>2004</td>\n",
       "      <td>{\"code\":\"S60\",\"name\":\"S60\",\"ru_name\":\"S60\",\"mo...</td>\n",
       "      <td>S60</td>\n",
       "      <td>2.4 AT (140 л.с.)</td>\n",
       "      <td>4</td>\n",
       "      <td>1603239099</td>\n",
       "      <td>RUB</td>\n",
       "      <td>2008</td>\n",
       "      <td>1098861710</td>\n",
       "      <td>{\"id\":\"2458055\",\"displacement\":2435,\"engine_ty...</td>\n",
       "      <td>SEDAN AUTOMATIC 2.4</td>\n",
       "      <td>автоматическая</td>\n",
       "      <td>EUROPEAN</td>\n",
       "      <td>3 или более</td>\n",
       "      <td>NaN</td>\n",
       "      <td>Оригинал</td>\n",
       "      <td>передний</td>\n",
       "      <td>Левый</td>\n",
       "      <td>Не требует ремонта</td>\n",
       "      <td>Растаможен</td>\n",
       "    </tr>\n",
       "  </tbody>\n",
       "</table>\n",
       "</div>"
      ],
      "text/plain": [
       "                bodyType       brand                                            car_url       color complectation_dict                                        description engineDisplacement enginePower                                     equipment_dict fuelType                                              image  mileage  modelDate                                         model_info model_name                        name  numberOfDoors  parsing_unixtime priceCurrency  productionDate     sell_id                                          super_gen              vehicleConfiguration vehicleTransmission    vendor    Владельцы            Владение       ПТС    Привод   Руль           Состояние     Таможня\n",
       "10882  внедорожник 5 дв.         BMW  https://auto.ru/cars/used/sale/bmw/x1/11012616...  коричневый                NaN  Продаю отличный автомобиль. Два комплекта рези...            2.0 LTR     177 N12  {\"engine-proof\":true,\"start-stop-function\":tru...   дизель  https://avatars.mds.yandex.net/get-autoru-vos/...    77500       2009  {\"code\":\"X1\",\"name\":\"X1\",\"ru_name\":\"Х1\",\"morph...         X1  20d 2.0d AT (177 л.с.) 4WD              5        1603120845           RUB            2012  1101261609  {\"id\":\"5018166\",\"name\":\"20d\",\"nameplate\":\"20d\"...     ALLROAD_5_DOORS AUTOMATIC 2.0      автоматическая  EUROPEAN  3 или более           5 месяцев  Оригинал    полный  Левый  Не требует ремонта  Растаможен\n",
       "1475             лифтбек       SKODA  https://auto.ru/cars/used/sale/skoda/rapid/107...       белый                NaN  Переднее крыло и заднее протерто с левой сторо...            1.6 LTR      90 N12  {\"steel-wheels\":true,\"esp\":true,\"airbag-driver...   бензин  https://avatars.mds.yandex.net/get-autoru-vos/...    76078       2012  {\"code\":\"RAPID\",\"name\":\"Rapid\",\"ru_name\":\"Рапи...      RAPID            1.6 MT (90 л.с.)              5        1603231842           RUB            2017  1076854771  {\"id\":\"20637133\",\"displacement\":1598,\"engine_t...           LIFTBACK MECHANICAL 1.6        механическая  EUROPEAN  2 владельца  2 года и 5 месяцев  Оригинал  передний  Левый  Не требует ремонта  Растаможен\n",
       "21019         компактвэн      TOYOTA  https://auto.ru/cars/used/sale/toyota/verso/11...     голубой                NaN  Безопасность: 4. Комфорт: 3. Салон: 2. Защита ...            1.8 LTR     147 N12  {\"airbag-passenger\":true,\"condition\":true,\"abs...   бензин  https://autoru.naydex.net/imflT9272/520f62I9/2...   138000       2009  {\"code\":\"VERSO\",\"name\":\"Verso\",\"ru_name\":\"Верс...      VERSO           1.8 MT (147 л.с.)              5        1603293951           RUB            2010  1101084231  {\"id\":\"20388832\",\"displacement\":1798,\"engine_t...         COMPACTVAN MECHANICAL 1.8        механическая  JAPANESE   1 владелец                 NaN  Оригинал  передний  Левый  Не требует ремонта  Растаможен\n",
       "26425      хэтчбек 5 дв.  VOLKSWAGEN  https://auto.ru/cars/used/sale/volkswagen/golf...       серый                NaN  Авто во владении давно, собственник я, в птс т...            1.4 LTR     122 N12  {\"cruise-control\":true,\"asr\":true,\"tinted-glas...   бензин  https://autoru.naydex.net/o9DBXQ270/5ac010hAY0...   140000       2012  {\"code\":\"GOLF\",\"name\":\"Golf\",\"ru_name\":\"Гольф\"...       GOLF           1.4 MT (122 л.с.)              5        1603225120           RUB            2014  1101110613  {\"id\":\"9290828\",\"displacement\":1395,\"engine_ty...  HATCHBACK_5_DOORS MECHANICAL 1.4        механическая  EUROPEAN  2 владельца                 NaN  Оригинал  передний  Левый  Не требует ремонта  Растаможен\n",
       "7260               седан       VOLVO  https://auto.ru/cars/used/sale/volvo/s60/10988...      чёрный                NaN           Есть незначительные недостатки по кузову            2.4 LTR     140 N12                                                NaN   бензин  https://autoru.naydex.net/ESooa9149/468b9eoMem...   167000       2004  {\"code\":\"S60\",\"name\":\"S60\",\"ru_name\":\"S60\",\"mo...        S60           2.4 AT (140 л.с.)              4        1603239099           RUB            2008  1098861710  {\"id\":\"2458055\",\"displacement\":2435,\"engine_ty...               SEDAN AUTOMATIC 2.4      автоматическая  EUROPEAN  3 или более                 NaN  Оригинал  передний  Левый  Не требует ремонта  Растаможен"
      ]
     },
     "metadata": {},
     "output_type": "display_data"
    }
   ],
   "source": [
    "# Загрузим наш тестовый датасет:\n",
    "\n",
    "test = pd.read_csv(PATH_to_file + 'test.csv')\n",
    "\n",
    "print('Размер тестового датасета: ', test.shape)\n",
    "display(test.sample(5))"
   ]
  },
  {
   "cell_type": "code",
   "execution_count": 5,
   "metadata": {},
   "outputs": [],
   "source": [
    "# В датасете присутствуют названия столбцов на русском языке, а так-же трудно воспринимаемые, переименуем их:\n",
    "\n",
    "test.columns = ['body_type', 'brand', 'car_url', 'color',\n",
    "                'complectation', 'description', 'engine_volume',\n",
    "                'engine_power', 'equipment', 'fuel_type', 'image',\n",
    "                'mileage', 'model_date', 'model_info', 'model_name',\n",
    "                'name', 'doors_num', 'parsing_unixtime', 'currency',\n",
    "                'production_date', 'sell_id', 'super_gen', 'configuration',\n",
    "                'transmission', 'vendor', 'owners_count', 'ownership',\n",
    "                'docs', 'drive', 'steering', 'state', 'customs']"
   ]
  },
  {
   "cell_type": "code",
   "execution_count": 6,
   "metadata": {},
   "outputs": [],
   "source": [
    "# Удаляем ненужные столбцы:\n",
    "\n",
    "test.drop(columns=['customs', 'currency', 'state'], inplace=True)\n",
    "test.drop(columns=['sell_id', 'car_url', 'image'], inplace=True)"
   ]
  },
  {
   "cell_type": "code",
   "execution_count": 7,
   "metadata": {},
   "outputs": [],
   "source": [
    "# Заполняем пробел в столбце docs\n",
    "\n",
    "test.docs = test.docs.fillna(test.docs.value_counts().index[0])"
   ]
  },
  {
   "cell_type": "code",
   "execution_count": 8,
   "metadata": {},
   "outputs": [],
   "source": [
    "# Преобразуем owners_count в число, которое содержится в начале строки:\n",
    "\n",
    "test.owners_count = test.owners_count.str[0].astype('int')"
   ]
  },
  {
   "cell_type": "code",
   "execution_count": 9,
   "metadata": {},
   "outputs": [],
   "source": [
    "# Удаляем configuration т.к. он дублирует body_type, transmission и engine_volume\n",
    "\n",
    "test.drop(columns='configuration', inplace=True)"
   ]
  },
  {
   "cell_type": "code",
   "execution_count": 10,
   "metadata": {},
   "outputs": [
    {
     "ename": "IndentationError",
     "evalue": "unexpected indent (<ipython-input-10-ceebd8f41d9e>, line 4)",
     "output_type": "error",
     "traceback": [
      "\u001b[0;36m  File \u001b[0;32m\"<ipython-input-10-ceebd8f41d9e>\"\u001b[0;36m, line \u001b[0;32m4\u001b[0m\n\u001b[0;31m    else x.split()[0]).astype('float')\u001b[0m\n\u001b[0m    ^\u001b[0m\n\u001b[0;31mIndentationError\u001b[0m\u001b[0;31m:\u001b[0m unexpected indent\n"
     ]
    }
   ],
   "source": [
    "# Потом пригодится для общего датасета\n",
    "\n",
    "#test.engine_volume = test.engine_volume.apply(lambda x: '0.0' if x == ' LTR' \n",
    "#                                              else x.split()[0]).astype('float')"
   ]
  },
  {
   "cell_type": "code",
   "execution_count": 11,
   "metadata": {},
   "outputs": [],
   "source": [
    "# Если не обращать внимания на иногда попадающиеся \"приписки\", то столбец  name\n",
    "# содержит информацию об объеме двигателя, типе коробки передач и мощности.\n",
    "# Удаляем его\n",
    "\n",
    "test.drop(columns='name', inplace=True)"
   ]
  },
  {
   "cell_type": "code",
   "execution_count": 12,
   "metadata": {},
   "outputs": [],
   "source": [
    "# Потом пригодится для общего датасета\n",
    "\n",
    "# test.engine_power = test.engine_power.apply(lambda x: x.split()[0]).astype('int')\n",
    "\n"
   ]
  },
  {
   "cell_type": "code",
   "execution_count": 13,
   "metadata": {},
   "outputs": [],
   "source": [
    "test.drop(columns='model_info', inplace=True)\n",
    "test.drop(columns='super_gen', inplace=True)"
   ]
  },
  {
   "cell_type": "code",
   "execution_count": 14,
   "metadata": {},
   "outputs": [],
   "source": [
    "months = test.ownership.str.extract(\n",
    "    '(\\d{1,2})\\sмес', expand=False).astype('float')\n",
    "years = test.ownership.str.extract(\n",
    "    '(\\d{1,2})\\s(?:лет|год)', expand=False).astype('float')\n",
    "\n",
    "test.ownership = (years*12 + months)"
   ]
  },
  {
   "cell_type": "code",
   "execution_count": null,
   "metadata": {},
   "outputs": [],
   "source": []
  },
  {
   "cell_type": "code",
   "execution_count": 15,
   "metadata": {},
   "outputs": [
    {
     "name": "stdout",
     "output_type": "stream",
     "text": [
      "<class 'pandas.core.frame.DataFrame'>\n",
      "RangeIndex: 34686 entries, 0 to 34685\n",
      "Data columns (total 22 columns):\n",
      " #   Column            Non-Null Count  Dtype  \n",
      "---  ------            --------------  -----  \n",
      " 0   body_type         34686 non-null  object \n",
      " 1   brand             34686 non-null  object \n",
      " 2   color             34686 non-null  object \n",
      " 3   complectation     6418 non-null   object \n",
      " 4   description       34686 non-null  object \n",
      " 5   engine_volume     34686 non-null  object \n",
      " 6   engine_power      34686 non-null  object \n",
      " 7   equipment         24690 non-null  object \n",
      " 8   fuel_type         34686 non-null  object \n",
      " 9   mileage           34686 non-null  int64  \n",
      " 10  model_date        34686 non-null  int64  \n",
      " 11  model_name        34686 non-null  object \n",
      " 12  doors_num         34686 non-null  int64  \n",
      " 13  parsing_unixtime  34686 non-null  int64  \n",
      " 14  production_date   34686 non-null  int64  \n",
      " 15  transmission      34686 non-null  object \n",
      " 16  vendor            34686 non-null  object \n",
      " 17  owners_count      34686 non-null  int64  \n",
      " 18  ownership         9730 non-null   float64\n",
      " 19  docs              34686 non-null  object \n",
      " 20  drive             34686 non-null  object \n",
      " 21  steering          34686 non-null  object \n",
      "dtypes: float64(1), int64(6), object(15)\n",
      "memory usage: 5.8+ MB\n"
     ]
    }
   ],
   "source": [
    "test.info()"
   ]
  },
  {
   "cell_type": "code",
   "execution_count": 19,
   "metadata": {},
   "outputs": [
    {
     "data": {
      "text/plain": [
       "array(['Оригинал', 'Дубликат'], dtype=object)"
      ]
     },
     "execution_count": 19,
     "metadata": {},
     "output_type": "execute_result"
    }
   ],
   "source": [
    "test.docs.unique()"
   ]
  },
  {
   "cell_type": "code",
   "execution_count": 20,
   "metadata": {},
   "outputs": [
    {
     "data": {
      "text/plain": [
       "array(['передний', 'полный', 'задний'], dtype=object)"
      ]
     },
     "execution_count": 20,
     "metadata": {},
     "output_type": "execute_result"
    }
   ],
   "source": [
    "test.drive.unique()"
   ]
  },
  {
   "cell_type": "code",
   "execution_count": 21,
   "metadata": {},
   "outputs": [
    {
     "data": {
      "text/plain": [
       "array(['Левый', 'Правый'], dtype=object)"
      ]
     },
     "execution_count": 21,
     "metadata": {},
     "output_type": "execute_result"
    }
   ],
   "source": [
    "test.steering.unique()"
   ]
  },
  {
   "cell_type": "code",
   "execution_count": null,
   "metadata": {},
   "outputs": [],
   "source": []
  },
  {
   "cell_type": "code",
   "execution_count": 22,
   "metadata": {},
   "outputs": [],
   "source": [
    "pages_list = []\n",
    "\n",
    "for i in range(1, 100):\n",
    "    for brand in test.brand.unique():\n",
    "        url = 'https://auto.ru/cars/' + brand + '/used/?page=' + str(i)\n",
    "        pages_list.append(url)"
   ]
  },
  {
   "cell_type": "code",
   "execution_count": 25,
   "metadata": {},
   "outputs": [],
   "source": [
    "MyFile = open (PATH_to_file + 'links.txt', 'w') \n",
    "#MyList = map (lambda x: x + '\\ n', pages_list) \n",
    "#MyFile.writelines (MyList) \n",
    "#MyFile.close ()\n",
    "\n",
    "for element in pages_list:\n",
    "     MyFile.write(element)\n",
    "     MyFile.write('\\n')\n",
    "MyFile.close()"
   ]
  },
  {
   "cell_type": "code",
   "execution_count": 27,
   "metadata": {},
   "outputs": [],
   "source": [
    "with open(PATH_to_file + 'links.txt', 'w') as f:\n",
    "    for link in pages_list:\n",
    "        f.write(str(link) +\"\\n\")"
   ]
  },
  {
   "cell_type": "code",
   "execution_count": 29,
   "metadata": {},
   "outputs": [],
   "source": [
    "page_list_2 = []\n",
    "\n",
    "with open(PATH_to_file + 'links.txt', 'r') as f:\n",
    "  for line in f:\n",
    "    page_list_2.append(str(line.strip()))"
   ]
  },
  {
   "cell_type": "code",
   "execution_count": 43,
   "metadata": {},
   "outputs": [
    {
     "data": {
      "text/plain": [
       "array(['SKODA', 'AUDI', 'VOLVO', 'BMW', 'MERCEDES', 'VOLKSWAGEN'],\n",
       "      dtype=object)"
      ]
     },
     "execution_count": 43,
     "metadata": {},
     "output_type": "execute_result"
    }
   ],
   "source": [
    "test[test.vendor == test.vendor.unique()[0]].brand.unique()"
   ]
  },
  {
   "cell_type": "code",
   "execution_count": 44,
   "metadata": {},
   "outputs": [
    {
     "data": {
      "text/plain": [
       "array(['HONDA', 'NISSAN', 'INFINITI', 'TOYOTA', 'LEXUS', 'MITSUBISHI'],\n",
       "      dtype=object)"
      ]
     },
     "execution_count": 44,
     "metadata": {},
     "output_type": "execute_result"
    }
   ],
   "source": [
    "test[test.vendor == test.vendor.unique()[1]].brand.unique()"
   ]
  },
  {
   "cell_type": "code",
   "execution_count": 51,
   "metadata": {},
   "outputs": [],
   "source": [
    "more_brands=['citroen', 'datsun', 'fiat', 'land_rover', 'mazda', 'mini', \n",
    " 'opel', 'peugeot', 'porsche', 'renault', 'subaru', 'suzuki'] "
   ]
  },
  {
   "cell_type": "code",
   "execution_count": 45,
   "metadata": {},
   "outputs": [
    {
     "data": {
      "text/plain": [
       "array(['SKODA', 'AUDI', 'HONDA', 'VOLVO', 'BMW', 'NISSAN', 'INFINITI',\n",
       "       'MERCEDES', 'TOYOTA', 'LEXUS', 'VOLKSWAGEN', 'MITSUBISHI'],\n",
       "      dtype=object)"
      ]
     },
     "execution_count": 45,
     "metadata": {},
     "output_type": "execute_result"
    }
   ],
   "source": [
    "test.brand.unique()"
   ]
  },
  {
   "cell_type": "code",
   "execution_count": 47,
   "metadata": {},
   "outputs": [],
   "source": [
    "brands = []"
   ]
  },
  {
   "cell_type": "code",
   "execution_count": 49,
   "metadata": {},
   "outputs": [],
   "source": [
    "for i in range(len(test.brand.unique())):\n",
    "    brands.append((test.brand.unique()[i]).lower())"
   ]
  },
  {
   "cell_type": "code",
   "execution_count": 53,
   "metadata": {},
   "outputs": [],
   "source": [
    "brands.extend(more_brands)"
   ]
  },
  {
   "cell_type": "code",
   "execution_count": 54,
   "metadata": {},
   "outputs": [
    {
     "data": {
      "text/plain": [
       "['skoda',\n",
       " 'audi',\n",
       " 'honda',\n",
       " 'volvo',\n",
       " 'bmw',\n",
       " 'nissan',\n",
       " 'infiniti',\n",
       " 'mercedes',\n",
       " 'toyota',\n",
       " 'lexus',\n",
       " 'volkswagen',\n",
       " 'mitsubishi',\n",
       " 'citroen',\n",
       " 'datsun',\n",
       " 'fiat',\n",
       " 'land_rover',\n",
       " 'mazda',\n",
       " 'mini',\n",
       " 'opel',\n",
       " 'peugeot',\n",
       " 'porsche',\n",
       " 'renault',\n",
       " 'subaru',\n",
       " 'suzuki']"
      ]
     },
     "execution_count": 54,
     "metadata": {},
     "output_type": "execute_result"
    }
   ],
   "source": [
    "brands"
   ]
  },
  {
   "cell_type": "code",
   "execution_count": 122,
   "metadata": {},
   "outputs": [],
   "source": [
    "url = 'https://auto.ru/cars/audi/used/'\n",
    "response = requests.get(url, headers={'User-Agent': UserAgent().chrome})\n",
    "response.encoding = 'utf-8'\n",
    "page = BeautifulSoup(response.text, 'html.parser')"
   ]
  },
  {
   "cell_type": "code",
   "execution_count": 123,
   "metadata": {},
   "outputs": [],
   "source": [
    "json_data = json.loads(page.find('script', type=\"application/ld+json\").string)"
   ]
  },
  {
   "cell_type": "code",
   "execution_count": 124,
   "metadata": {},
   "outputs": [
    {
     "data": {
      "text/plain": [
       "{'@context': 'https://schema.org',\n",
       " '@type': 'Car',\n",
       " 'aggregateRating': {'@type': 'AggregateRating',\n",
       "  'ratingValue': '4.6247653106839515',\n",
       "  'bestRating': '5',\n",
       "  'reviewCount': '2279'},\n",
       " 'image': '//avatars.mds.yandex.net/get-verba/3587101/2a00000179af710f40b85f9c3aedb68201fd/logo',\n",
       " 'name': 'AUDI ',\n",
       " 'offers': {'@type': 'AggregateOffer',\n",
       "  'highPrice': 18540000,\n",
       "  'lowPrice': 30000,\n",
       "  'priceCurrency': 'RUR',\n",
       "  'offerCount': 2696,\n",
       "  'offers': [{'@type': 'Offer',\n",
       "    'url': 'https://auto.ru/cars/used/sale/audi/q3/1105160799-752504bc/',\n",
       "    'name': 'Audi Q3 I (8U) Рестайлинг',\n",
       "    'price': 2237400,\n",
       "    'priceCurrency': 'RUR',\n",
       "    'availability': 'https://schema.org/InStock',\n",
       "    'priceValidUntil': '2021-09-13'},\n",
       "   {'@type': 'Offer',\n",
       "    'url': 'https://auto.ru/cars/used/sale/audi/r8/1104116209-c49956aa/',\n",
       "    'name': 'Audi R8 V8 I (Typ 42)',\n",
       "    'price': 2888400,\n",
       "    'priceCurrency': 'RUR',\n",
       "    'availability': 'https://schema.org/InStock',\n",
       "    'priceValidUntil': '2021-09-13'},\n",
       "   {'@type': 'Offer',\n",
       "    'url': 'https://auto.ru/cars/used/sale/audi/a8/1104637013-ae640367/',\n",
       "    'name': 'Audi A8 Long II (D3) Рестайлинг',\n",
       "    'price': 609000,\n",
       "    'priceCurrency': 'RUR',\n",
       "    'availability': 'https://schema.org/InStock',\n",
       "    'priceValidUntil': '2021-09-13'},\n",
       "   {'@type': 'Offer',\n",
       "    'url': 'https://auto.ru/cars/used/sale/audi/allroad/1104888514-cce20ace/',\n",
       "    'name': 'Audi A6 allroad 50 TDI IV (C8)',\n",
       "    'price': 6128500,\n",
       "    'priceCurrency': 'RUR',\n",
       "    'availability': 'https://schema.org/InStock',\n",
       "    'priceValidUntil': '2021-09-13'},\n",
       "   {'@type': 'Offer',\n",
       "    'url': 'https://auto.ru/cars/used/sale/audi/a6/1105157224-d4dccbf4/',\n",
       "    'name': 'Audi A6 II (C5)',\n",
       "    'price': 392000,\n",
       "    'priceCurrency': 'RUR',\n",
       "    'availability': 'https://schema.org/InStock',\n",
       "    'priceValidUntil': '2021-09-13'},\n",
       "   {'@type': 'Offer',\n",
       "    'url': 'https://auto.ru/cars/used/sale/audi/allroad/1104666189-2da935b7/',\n",
       "    'name': 'Audi A6 allroad I (C5)',\n",
       "    'price': 484800,\n",
       "    'priceCurrency': 'RUR',\n",
       "    'availability': 'https://schema.org/InStock',\n",
       "    'priceValidUntil': '2021-09-13'},\n",
       "   {'@type': 'Offer',\n",
       "    'url': 'https://auto.ru/cars/used/sale/audi/q3/1105152576-6d82f25f/',\n",
       "    'name': 'Audi Q3 I (8U)',\n",
       "    'price': 1773100,\n",
       "    'priceCurrency': 'RUR',\n",
       "    'availability': 'https://schema.org/InStock',\n",
       "    'priceValidUntil': '2021-09-13'},\n",
       "   {'@type': 'Offer',\n",
       "    'url': 'https://auto.ru/cars/used/sale/audi/80/1104700029-e2c572e8/',\n",
       "    'name': 'Audi 80 IV (B3)',\n",
       "    'price': 87750,\n",
       "    'priceCurrency': 'RUR',\n",
       "    'availability': 'https://schema.org/InStock',\n",
       "    'priceValidUntil': '2021-09-13'},\n",
       "   {'@type': 'Offer',\n",
       "    'url': 'https://auto.ru/cars/used/sale/audi/a4/1104708406-ee1b381d/',\n",
       "    'name': 'Audi A4 I (B5)',\n",
       "    'price': 163500,\n",
       "    'priceCurrency': 'RUR',\n",
       "    'availability': 'https://schema.org/InStock',\n",
       "    'priceValidUntil': '2021-09-13'},\n",
       "   {'@type': 'Offer',\n",
       "    'url': 'https://auto.ru/cars/used/sale/audi/a6/1105110099-aa2f83e8/',\n",
       "    'name': 'Audi A6 IV (C7) Рестайлинг',\n",
       "    'price': 1744000,\n",
       "    'priceCurrency': 'RUR',\n",
       "    'availability': 'https://schema.org/InStock',\n",
       "    'priceValidUntil': '2021-09-13'},\n",
       "   {'@type': 'Offer',\n",
       "    'url': 'https://auto.ru/cars/used/sale/audi/q7/1104950298-fc5ddc58/',\n",
       "    'name': 'Audi Q7 I (4L) Рестайлинг',\n",
       "    'price': 1896600,\n",
       "    'priceCurrency': 'RUR',\n",
       "    'availability': 'https://schema.org/InStock',\n",
       "    'priceValidUntil': '2021-09-13'},\n",
       "   {'@type': 'Offer',\n",
       "    'url': 'https://auto.ru/cars/used/sale/audi/a8/1093370538-a6b9abb5/',\n",
       "    'name': 'Audi A8 I (D2)',\n",
       "    'price': 309000,\n",
       "    'priceCurrency': 'RUR',\n",
       "    'availability': 'https://schema.org/InStock',\n",
       "    'priceValidUntil': '2021-09-13'},\n",
       "   {'@type': 'Offer',\n",
       "    'url': 'https://auto.ru/cars/used/sale/audi/a5/1105020336-0e57b510/',\n",
       "    'name': 'Audi A5 I (8T)',\n",
       "    'price': 834600,\n",
       "    'priceCurrency': 'RUR',\n",
       "    'availability': 'https://schema.org/InStock',\n",
       "    'priceValidUntil': '2021-09-13'},\n",
       "   {'@type': 'Offer',\n",
       "    'url': 'https://auto.ru/cars/used/sale/audi/100/1103219866-b22b0cf7/',\n",
       "    'name': 'Audi 100 III (C3)',\n",
       "    'price': 88500,\n",
       "    'priceCurrency': 'RUR',\n",
       "    'availability': 'https://schema.org/InStock',\n",
       "    'priceValidUntil': '2021-09-13'},\n",
       "   {'@type': 'Offer',\n",
       "    'url': 'https://auto.ru/cars/used/sale/audi/80/1105139082-b659d279/',\n",
       "    'name': 'Audi 80 IV (B3)',\n",
       "    'price': 130800,\n",
       "    'priceCurrency': 'RUR',\n",
       "    'availability': 'https://schema.org/InStock',\n",
       "    'priceValidUntil': '2021-09-13'},\n",
       "   {'@type': 'Offer',\n",
       "    'url': 'https://auto.ru/cars/used/sale/audi/a5/1105172227-65339407/',\n",
       "    'name': 'Audi A5 II (F5)',\n",
       "    'price': 3568810,\n",
       "    'priceCurrency': 'RUR',\n",
       "    'availability': 'https://schema.org/InStock',\n",
       "    'priceValidUntil': '2021-09-13'},\n",
       "   {'@type': 'Offer',\n",
       "    'url': 'https://auto.ru/cars/used/sale/audi/q5/1105172763-2e67570b/',\n",
       "    'name': 'Audi Q5 II (FY)',\n",
       "    'price': 3266550,\n",
       "    'priceCurrency': 'RUR',\n",
       "    'availability': 'https://schema.org/InStock',\n",
       "    'priceValidUntil': '2021-09-13'},\n",
       "   {'@type': 'Offer',\n",
       "    'url': 'https://auto.ru/cars/used/sale/audi/q3/1105166661-33efe909/',\n",
       "    'name': 'Audi Q3 I (8U) Рестайлинг',\n",
       "    'availability': 'https://schema.org/InStock',\n",
       "    'priceValidUntil': '2021-09-13'},\n",
       "   {'@type': 'Offer',\n",
       "    'url': 'https://auto.ru/cars/used/sale/audi/q5/1105172225-c80f6d6f/',\n",
       "    'name': 'Audi Q5 I (8R) Рестайлинг',\n",
       "    'price': 1817930,\n",
       "    'priceCurrency': 'RUR',\n",
       "    'availability': 'https://schema.org/InStock',\n",
       "    'priceValidUntil': '2021-09-13'},\n",
       "   {'@type': 'Offer',\n",
       "    'url': 'https://auto.ru/cars/used/sale/audi/q5/1105172772-a192a4fc/',\n",
       "    'name': 'Audi Q5 I (8R)',\n",
       "    'price': 1166300,\n",
       "    'priceCurrency': 'RUR',\n",
       "    'availability': 'https://schema.org/InStock',\n",
       "    'priceValidUntil': '2021-09-13'},\n",
       "   {'@type': 'Offer',\n",
       "    'url': 'https://auto.ru/cars/used/sale/audi/a6/1105171240-88278567/',\n",
       "    'name': 'Audi A6 40 TFSI V (C8)',\n",
       "    'price': 3619980,\n",
       "    'priceCurrency': 'RUR',\n",
       "    'availability': 'https://schema.org/InStock',\n",
       "    'priceValidUntil': '2021-09-13'},\n",
       "   {'@type': 'Offer',\n",
       "    'url': 'https://auto.ru/cars/used/sale/audi/a6/1105172229-2749c56e/',\n",
       "    'name': 'Audi A6 IV (C7) Рестайлинг',\n",
       "    'price': 2823870,\n",
       "    'priceCurrency': 'RUR',\n",
       "    'availability': 'https://schema.org/InStock',\n",
       "    'priceValidUntil': '2021-09-13'},\n",
       "   {'@type': 'Offer',\n",
       "    'url': 'https://auto.ru/cars/used/sale/audi/a5/1105018877-73aefaaf/',\n",
       "    'name': 'Audi A5 I (8T) Рестайлинг',\n",
       "    'price': 1677500,\n",
       "    'priceCurrency': 'RUR',\n",
       "    'availability': 'https://schema.org/InStock',\n",
       "    'priceValidUntil': '2021-09-13'},\n",
       "   {'@type': 'Offer',\n",
       "    'url': 'https://auto.ru/cars/used/sale/audi/a6/1105172005-65cca4a5/',\n",
       "    'name': 'Audi A6 IV (C7) Рестайлинг',\n",
       "    'price': 1648900,\n",
       "    'priceCurrency': 'RUR',\n",
       "    'availability': 'https://schema.org/InStock',\n",
       "    'priceValidUntil': '2021-09-13'},\n",
       "   {'@type': 'Offer',\n",
       "    'url': 'https://auto.ru/cars/used/sale/audi/q7/1104738745-33b57edc/',\n",
       "    'name': 'Audi Q7 I (4L) Рестайлинг',\n",
       "    'price': 2191240,\n",
       "    'priceCurrency': 'RUR',\n",
       "    'availability': 'https://schema.org/InStock',\n",
       "    'priceValidUntil': '2021-09-13'},\n",
       "   {'@type': 'Offer',\n",
       "    'url': 'https://auto.ru/cars/used/sale/audi/q3_sportback/1105077892-5304b906/',\n",
       "    'name': 'Audi Q3 Sportback 45 TFSI I (F3)',\n",
       "    'price': 3477430,\n",
       "    'priceCurrency': 'RUR',\n",
       "    'availability': 'https://schema.org/InStock',\n",
       "    'priceValidUntil': '2021-09-13'},\n",
       "   {'@type': 'Offer',\n",
       "    'url': 'https://auto.ru/cars/used/sale/audi/q8/1105171244-febf2d21/',\n",
       "    'name': 'Audi Q8 45 TDI',\n",
       "    'price': 7548000,\n",
       "    'priceCurrency': 'RUR',\n",
       "    'availability': 'https://schema.org/InStock',\n",
       "    'priceValidUntil': '2021-09-13'},\n",
       "   {'@type': 'Offer',\n",
       "    'url': 'https://auto.ru/cars/used/sale/audi/a4/1105172228-3e3077bc/',\n",
       "    'name': 'Audi A4 IV (B8) Рестайлинг',\n",
       "    'price': 1686220,\n",
       "    'priceCurrency': 'RUR',\n",
       "    'availability': 'https://schema.org/InStock',\n",
       "    'priceValidUntil': '2021-09-13'},\n",
       "   {'@type': 'Offer',\n",
       "    'url': 'https://auto.ru/cars/used/sale/audi/q5/1105146852-94d82b9f/',\n",
       "    'name': 'Audi Q5 I (8R) Рестайлинг',\n",
       "    'price': 1830600,\n",
       "    'priceCurrency': 'RUR',\n",
       "    'availability': 'https://schema.org/InStock',\n",
       "    'priceValidUntil': '2021-09-13'},\n",
       "   {'@type': 'Offer',\n",
       "    'url': 'https://auto.ru/cars/used/sale/audi/a6/1103993609-2feacf92/',\n",
       "    'name': 'Audi A6 III (C6)',\n",
       "    'price': 666740,\n",
       "    'priceCurrency': 'RUR',\n",
       "    'availability': 'https://schema.org/InStock',\n",
       "    'priceValidUntil': '2021-09-13'},\n",
       "   {'@type': 'Offer',\n",
       "    'url': 'https://auto.ru/cars/used/sale/audi/q7/1105065444-1baa723b/',\n",
       "    'name': 'Audi Q7 I (4L)',\n",
       "    'price': 1044750,\n",
       "    'priceCurrency': 'RUR',\n",
       "    'availability': 'https://schema.org/InStock',\n",
       "    'priceValidUntil': '2021-09-13'},\n",
       "   {'@type': 'Offer',\n",
       "    'url': 'https://auto.ru/cars/used/sale/audi/q7/1105170800-4b18f18b/',\n",
       "    'name': 'Audi Q7 II (4M)',\n",
       "    'price': 4025000,\n",
       "    'priceCurrency': 'RUR',\n",
       "    'availability': 'https://schema.org/InStock',\n",
       "    'priceValidUntil': '2021-09-13'},\n",
       "   {'@type': 'Offer',\n",
       "    'url': 'https://auto.ru/cars/used/sale/audi/a6/1105166923-dd99f9f0/',\n",
       "    'name': 'Audi A6 IV (C7) Рестайлинг',\n",
       "    'price': 2188800,\n",
       "    'priceCurrency': 'RUR',\n",
       "    'availability': 'https://schema.org/InStock',\n",
       "    'priceValidUntil': '2021-09-13'},\n",
       "   {'@type': 'Offer',\n",
       "    'url': 'https://auto.ru/cars/used/sale/audi/q7/1105170130-b4ab594a/',\n",
       "    'name': 'Audi Q7 II (4M)',\n",
       "    'price': 3202500,\n",
       "    'priceCurrency': 'RUR',\n",
       "    'availability': 'https://schema.org/InStock',\n",
       "    'priceValidUntil': '2021-09-13'},\n",
       "   {'@type': 'Offer',\n",
       "    'url': 'https://auto.ru/cars/used/sale/audi/a6/1104082603-a5c32442/',\n",
       "    'name': 'Audi A6 IV (C7)',\n",
       "    'price': 1484000,\n",
       "    'priceCurrency': 'RUR',\n",
       "    'availability': 'https://schema.org/InStock',\n",
       "    'priceValidUntil': '2021-09-13'},\n",
       "   {'@type': 'Offer',\n",
       "    'url': 'https://auto.ru/cars/used/sale/audi/q5/1104617820-9f1029ce/',\n",
       "    'name': 'Audi Q5 I (8R) Рестайлинг',\n",
       "    'price': 2463840,\n",
       "    'priceCurrency': 'RUR',\n",
       "    'availability': 'https://schema.org/InStock',\n",
       "    'priceValidUntil': '2021-09-13'},\n",
       "   {'@type': 'Offer',\n",
       "    'url': 'https://auto.ru/cars/used/sale/audi/a4/1105167275-a8cbc753/',\n",
       "    'name': 'Audi A4 V (B9)',\n",
       "    'price': 2048800,\n",
       "    'priceCurrency': 'RUR',\n",
       "    'availability': 'https://schema.org/InStock',\n",
       "    'priceValidUntil': '2021-09-13'},\n",
       "   {'@type': 'Offer',\n",
       "    'url': 'https://auto.ru/cars/used/sale/audi/a6/1104755965-9dcad65c/',\n",
       "    'name': 'Audi A6 III (C6) Рестайлинг',\n",
       "    'price': 861400,\n",
       "    'priceCurrency': 'RUR',\n",
       "    'availability': 'https://schema.org/InStock',\n",
       "    'priceValidUntil': '2021-09-13'}]}}"
      ]
     },
     "execution_count": 124,
     "metadata": {},
     "output_type": "execute_result"
    }
   ],
   "source": [
    "json_data"
   ]
  },
  {
   "cell_type": "code",
   "execution_count": null,
   "metadata": {},
   "outputs": [],
   "source": [
    "{\"@context\":\"https://schema.org\",\"@type\":\"Car\",\"aggregateRating\":{\"@type\":\"AggregateRating\",\"ratingValue\":\"4.6247653106839515\",\"bestRating\":\"5\",\"reviewCount\":\"2279\"},\"image\":\"//avatars.mds.yandex.net/get-verba/3587101/2a00000179af710f40b85f9c3aedb68201fd/logo\",\"name\":\"AUDI \",\"offers\":{\"@type\":\"AggregateOffer\",\"highPrice\":18540000,\"lowPrice\":25000,\"priceCurrency\":\"RUR\",\"offerCount\":8106,"
   ]
  },
  {
   "cell_type": "code",
   "execution_count": null,
   "metadata": {},
   "outputs": [],
   "source": []
  },
  {
   "cell_type": "code",
   "execution_count": 93,
   "metadata": {},
   "outputs": [],
   "source": [
    "container = page.find('div', class_=\"ListingSearchSave__count\")\n",
    "#txt = container.find('span', class_=\"ControlGroup ControlGroup_responsive_no ControlGroup_size_s ListingPagination-module__pages\").text"
   ]
  },
  {
   "cell_type": "code",
   "execution_count": 94,
   "metadata": {},
   "outputs": [
    {
     "data": {
      "text/plain": [
       "'2\\xa0696\\xa0объявлений'"
      ]
     },
     "execution_count": 94,
     "metadata": {},
     "output_type": "execute_result"
    }
   ],
   "source": [
    "container.text"
   ]
  },
  {
   "cell_type": "code",
   "execution_count": 78,
   "metadata": {},
   "outputs": [],
   "source": [
    "url = 'https://auto.ru/cars/audi/used/'\n",
    "response = requests.get(url, headers={'User-Agent': UserAgent().chrome})\n",
    "response.encoding = 'utf-8'\n",
    "page = BeautifulSoup(response.text, 'html.parser')"
   ]
  },
  {
   "cell_type": "code",
   "execution_count": 71,
   "metadata": {},
   "outputs": [
    {
     "data": {
      "text/plain": [
       "<div class=\"ListingPopularMMM PageListing__popularMMM\" id=\"popularMMM\"><div class=\"ListingPopularMMM__items\"><div class=\"ListingPopularMMM__column\"><div class=\"ListingPopularMMM__item\"><a class=\"Link ListingPopularMMM__itemName\" href=\"https://auto.ru/korolev/cars/audi/used/\">Audi</a><div class=\"ListingPopularMMM__itemCount\">2697</div></div><div class=\"ListingPopularMMM__item\"><a class=\"Link ListingPopularMMM__itemName\" href=\"https://auto.ru/korolev/cars/bmw/used/\">BMW</a><div class=\"ListingPopularMMM__itemCount\">4604</div></div><div class=\"ListingPopularMMM__item\"><a class=\"Link ListingPopularMMM__itemName\" href=\"https://auto.ru/korolev/cars/ford/used/\">Ford</a><div class=\"ListingPopularMMM__itemCount\">3263</div></div></div><div class=\"ListingPopularMMM__column\"><div class=\"ListingPopularMMM__item\"><a class=\"Link ListingPopularMMM__itemName\" href=\"https://auto.ru/korolev/cars/hyundai/used/\">Hyundai</a><div class=\"ListingPopularMMM__itemCount\">3992</div></div><div class=\"ListingPopularMMM__item\"><a class=\"Link ListingPopularMMM__itemName\" href=\"https://auto.ru/korolev/cars/kia/used/\">Kia</a><div class=\"ListingPopularMMM__itemCount\">4371</div></div><div class=\"ListingPopularMMM__item\"><a class=\"Link ListingPopularMMM__itemName\" href=\"https://auto.ru/korolev/cars/vaz/used/\">LADA (ВАЗ)</a><div class=\"ListingPopularMMM__itemCount\">6306</div></div></div><div class=\"ListingPopularMMM__column\"><div class=\"ListingPopularMMM__item\"><a class=\"Link ListingPopularMMM__itemName\" href=\"https://auto.ru/korolev/cars/mercedes/used/\">Mercedes-Benz</a><div class=\"ListingPopularMMM__itemCount\">5264</div></div><div class=\"ListingPopularMMM__item\"><a class=\"Link ListingPopularMMM__itemName\" href=\"https://auto.ru/korolev/cars/mitsubishi/used/\">Mitsubishi</a><div class=\"ListingPopularMMM__itemCount\">2282</div></div><div class=\"ListingPopularMMM__item\"><a class=\"Link ListingPopularMMM__itemName\" href=\"https://auto.ru/korolev/cars/nissan/used/\">Nissan</a><div class=\"ListingPopularMMM__itemCount\">3243</div></div></div><div class=\"ListingPopularMMM__column\"><div class=\"ListingPopularMMM__item\"><a class=\"Link ListingPopularMMM__itemName\" href=\"https://auto.ru/korolev/cars/toyota/used/\">Toyota</a><div class=\"ListingPopularMMM__itemCount\">3524</div></div><div class=\"ListingPopularMMM__item\"><a class=\"Link ListingPopularMMM__itemName\" href=\"https://auto.ru/korolev/cars/volkswagen/used/\">Volkswagen</a><div class=\"ListingPopularMMM__itemCount\">4296</div></div><span class=\"Link ListingPopularMMM__expandLink\" role=\"button\" tabindex=\"0\">Все марки — 280</span></div></div></div>"
      ]
     },
     "execution_count": 71,
     "metadata": {},
     "output_type": "execute_result"
    }
   ],
   "source": [
    "page.find('div', class_='ListingPopularMMM PageListing__popularMMM')"
   ]
  }
 ],
 "metadata": {
  "kernelspec": {
   "display_name": "Python 3",
   "language": "python",
   "name": "python3"
  },
  "language_info": {
   "codemirror_mode": {
    "name": "ipython",
    "version": 3
   },
   "file_extension": ".py",
   "mimetype": "text/x-python",
   "name": "python",
   "nbconvert_exporter": "python",
   "pygments_lexer": "ipython3",
   "version": "3.8.5"
  }
 },
 "nbformat": 4,
 "nbformat_minor": 4
}
