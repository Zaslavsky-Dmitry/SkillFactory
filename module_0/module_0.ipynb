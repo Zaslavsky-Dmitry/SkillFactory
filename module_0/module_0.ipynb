{
 "cells": [
  {
   "cell_type": "markdown",
   "metadata": {},
   "source": [
    "# <Center>Итоговое задание по модулю 0</Center>"
   ]
  },
  {
   "cell_type": "code",
   "execution_count": 1,
   "metadata": {},
   "outputs": [],
   "source": [
    "def my_game_core(number):\n",
    "    '''На каждом шаге выбирается середина интервала, в котором находится искомое число,\n",
    "    и происходит проверка: если число угадано, то выходим из алгоритма, если искомое число больше,\n",
    "    то для следующего шага берется верхняя половина интервала, а если число меньше, то нижняя. \n",
    "    Повторяем данные действия, пока не угадаем искомое число.'''\n",
    "    count = 1        #Счетчик попыток, начинается с 1, т.к. мы сразу пробуем '50'\n",
    "    low_bound = 1    #Нижняя граница интервала\n",
    "    up_bound = 101   #Верхняя граница интервала (на 1 больше из-за использования int() для \"округления\")\n",
    "    while number != int((low_bound + up_bound)/2):\n",
    "        count+=1\n",
    "        if number > int((low_bound + up_bound)/2):\n",
    "            low_bound = int((low_bound + up_bound)/2)\n",
    "            print(f\"Заданное число больше {low_bound} и находится в диапазоне от {low_bound} до {up_bound}\")\n",
    "        elif number < int((low_bound + up_bound)/2):\n",
    "            up_bound = int((low_bound + up_bound)/2)\n",
    "            print(f\"Заданное число меньше {up_bound} и находится в диапазоне от {low_bound} до {up_bound}\")\n",
    "    print(f\"Ваш алгоритм угадывает число {number} за {count} попыток\")\n",
    "    return(count)\n",
    "        "
   ]
  },
  {
   "cell_type": "code",
   "execution_count": 2,
   "metadata": {},
   "outputs": [
    {
     "name": "stdout",
     "output_type": "stream",
     "text": [
      "Введите число от 1 до 100: \n",
      "51\n",
      "Ваш алгоритм угадывает число 51 за 1 попыток\n"
     ]
    },
    {
     "data": {
      "text/plain": [
       "1"
      ]
     },
     "execution_count": 2,
     "metadata": {},
     "output_type": "execute_result"
    }
   ],
   "source": [
    "'''Проверяем работу функции'''\n",
    "my_game_core(int(input('Введите число от 1 до 100: \\n' )))"
   ]
  }
 ],
 "metadata": {
  "kernelspec": {
   "display_name": "Python 3",
   "language": "python",
   "name": "python3"
  },
  "language_info": {
   "codemirror_mode": {
    "name": "ipython",
    "version": 3
   },
   "file_extension": ".py",
   "mimetype": "text/x-python",
   "name": "python",
   "nbconvert_exporter": "python",
   "pygments_lexer": "ipython3",
   "version": "3.8.5"
  }
 },
 "nbformat": 4,
 "nbformat_minor": 4
}
