{
 "cells": [
  {
   "cell_type": "markdown",
   "metadata": {},
   "source": [
    "# <Center>Итоговое задание по модулю 0</Center>"
   ]
  },
  {
   "cell_type": "code",
   "execution_count": 16,
   "metadata": {},
   "outputs": [],
   "source": [
    "def my_game_core(number):\n",
    "    '''На каждом шаге выбирается середина интервала, в котором находится искомое число,\n",
    "    и происходит проверка: если число угадано, то выходим из алгоритма, если искомое число больше,\n",
    "    то для следующего шага берется верхняя половина интервала, а если число меньше, то нижняя. \n",
    "    Повторяем данные действия, пока не угадаем искомое число.'''\n",
    "    count = 1        #Счетчик попыток, начинается с 1, т.к. мы сразу пробуем '51'\n",
    "    low_bound = 1    #Нижняя граница интервала\n",
    "    up_bound = 101   #Верхняя граница интервала (на 1 больше из-за использования int() для \"округления\")\n",
    "    while number != (low_bound + up_bound)//2:\n",
    "        count+=1\n",
    "        if number > (low_bound + up_bound)//2:\n",
    "            low_bound = (low_bound + up_bound)//2\n",
    "        elif number < (low_bound + up_bound)//2:\n",
    "            up_bound = (low_bound + up_bound)//2\n",
    "    return(count)\n",
    "        "
   ]
  },
  {
   "cell_type": "code",
   "execution_count": 20,
   "metadata": {},
   "outputs": [],
   "source": [
    "import numpy as np #Подключаем к блокноту библиотеку numpy\n",
    "\n",
    "def score_game(game_core):\n",
    "    '''Запускаем игру 1000 раз, чтобы узнать, как быстро игра угадывает число'''\n",
    "    count_ls = []\n",
    "    np.random.seed(1)  # фиксируем RANDOM SEED, чтобы ваш эксперимент был воспроизводим!\n",
    "    random_array = np.random.randint(1,101, size=(1000))\n",
    "    for number in random_array:\n",
    "        count_ls.append(game_core(number))\n",
    "    score = int(np.mean(count_ls))\n",
    "    print(f\"Ваш алгоритм угадывает число в среднем за {score} попыток\")\n",
    "    return(score)"
   ]
  },
  {
   "cell_type": "code",
   "execution_count": 21,
   "metadata": {},
   "outputs": [
    {
     "name": "stdout",
     "output_type": "stream",
     "text": [
      "Ваш алгоритм угадывает число в среднем за 5 попыток\n"
     ]
    },
    {
     "data": {
      "text/plain": [
       "5"
      ]
     },
     "execution_count": 21,
     "metadata": {},
     "output_type": "execute_result"
    }
   ],
   "source": [
    "score_game(my_game_core)"
   ]
  }
 ],
 "metadata": {
  "kernelspec": {
   "display_name": "Python 3",
   "language": "python",
   "name": "python3"
  },
  "language_info": {
   "codemirror_mode": {
    "name": "ipython",
    "version": 3
   },
   "file_extension": ".py",
   "mimetype": "text/x-python",
   "name": "python",
   "nbconvert_exporter": "python",
   "pygments_lexer": "ipython3",
   "version": "3.8.5"
  }
 },
 "nbformat": 4,
 "nbformat_minor": 4
}
