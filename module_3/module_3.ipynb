{
 "cells": [
  {
   "cell_type": "markdown",
   "metadata": {},
   "source": [
    "## 1. Импортируем библиотеки и данные"
   ]
  },
  {
   "cell_type": "code",
   "execution_count": 248,
   "metadata": {
    "_cell_guid": "b1076dfc-b9ad-4769-8c92-a6c4dae69d19",
    "_uuid": "8f2839f25d086af736a60e9eeb907d3b93b6e0e5"
   },
   "outputs": [],
   "source": [
    "import numpy as np\n",
    "import pandas as pd\n",
    "import datetime as dt\n",
    "import os\n",
    "import re\n",
    "import unicodedata\n",
    "import matplotlib.pyplot as plt\n",
    "import seaborn as sns\n",
    "import warnings\n",
    "warnings.filterwarnings('ignore')\n",
    "%matplotlib inline\n",
    "from sklearn.model_selection import train_test_split"
   ]
  },
  {
   "cell_type": "code",
   "execution_count": 249,
   "metadata": {},
   "outputs": [
    {
     "name": "stdout",
     "output_type": "stream",
     "text": [
      "./data/kaggle_task.csv\n",
      "./data/main_task.csv\n",
      "./data/sample_submission.csv\n"
     ]
    }
   ],
   "source": [
    "for dirname, _, filenames in os.walk('./data'):\n",
    "    for filename in filenames:\n",
    "        print(os.path.join(dirname, filename))"
   ]
  },
  {
   "cell_type": "code",
   "execution_count": 250,
   "metadata": {},
   "outputs": [],
   "source": [
    "# Фиксируем RANDOM_SEED для воспроизводимости экспериментов:\n",
    "RANDOM_SEED = 42"
   ]
  },
  {
   "cell_type": "code",
   "execution_count": 251,
   "metadata": {},
   "outputs": [],
   "source": [
    "# Фиксируем версию пакетов, для воспроизводимости экспериментов:\n",
    "!pip freeze > requirements.txt"
   ]
  },
  {
   "cell_type": "markdown",
   "metadata": {},
   "source": [
    "### Посмотрим на наши данные:"
   ]
  },
  {
   "cell_type": "code",
   "execution_count": 252,
   "metadata": {
    "_cell_guid": "79c7e3d0-c299-4dcb-8224-4455121ee9b0",
    "_uuid": "d629ff2d2480ee46fbb7e2d37f6b5fab8052498a"
   },
   "outputs": [],
   "source": [
    "DATA_DIR = './data/'\n",
    "df_train = pd.read_csv(DATA_DIR+'/main_task.csv')\n",
    "df_test = pd.read_csv(DATA_DIR+'kaggle_task.csv')\n",
    "sample_submission = pd.read_csv(DATA_DIR+'/sample_submission.csv')"
   ]
  },
  {
   "cell_type": "code",
   "execution_count": 253,
   "metadata": {},
   "outputs": [
    {
     "name": "stdout",
     "output_type": "stream",
     "text": [
      "<class 'pandas.core.frame.DataFrame'>\n",
      "RangeIndex: 40000 entries, 0 to 39999\n",
      "Data columns (total 10 columns):\n",
      " #   Column             Non-Null Count  Dtype  \n",
      "---  ------             --------------  -----  \n",
      " 0   Restaurant_id      40000 non-null  object \n",
      " 1   City               40000 non-null  object \n",
      " 2   Cuisine Style      30717 non-null  object \n",
      " 3   Ranking            40000 non-null  float64\n",
      " 4   Rating             40000 non-null  float64\n",
      " 5   Price Range        26114 non-null  object \n",
      " 6   Number of Reviews  37457 non-null  float64\n",
      " 7   Reviews            40000 non-null  object \n",
      " 8   URL_TA             40000 non-null  object \n",
      " 9   ID_TA              40000 non-null  object \n",
      "dtypes: float64(3), object(7)\n",
      "memory usage: 3.1+ MB\n"
     ]
    }
   ],
   "source": [
    "df_train.info()"
   ]
  },
  {
   "cell_type": "code",
   "execution_count": 254,
   "metadata": {},
   "outputs": [
    {
     "data": {
      "text/html": [
       "<div>\n",
       "<style scoped>\n",
       "    .dataframe tbody tr th:only-of-type {\n",
       "        vertical-align: middle;\n",
       "    }\n",
       "\n",
       "    .dataframe tbody tr th {\n",
       "        vertical-align: top;\n",
       "    }\n",
       "\n",
       "    .dataframe thead th {\n",
       "        text-align: right;\n",
       "    }\n",
       "</style>\n",
       "<table border=\"1\" class=\"dataframe\">\n",
       "  <thead>\n",
       "    <tr style=\"text-align: right;\">\n",
       "      <th></th>\n",
       "      <th>Restaurant_id</th>\n",
       "      <th>City</th>\n",
       "      <th>Cuisine Style</th>\n",
       "      <th>Ranking</th>\n",
       "      <th>Rating</th>\n",
       "      <th>Price Range</th>\n",
       "      <th>Number of Reviews</th>\n",
       "      <th>Reviews</th>\n",
       "      <th>URL_TA</th>\n",
       "      <th>ID_TA</th>\n",
       "    </tr>\n",
       "  </thead>\n",
       "  <tbody>\n",
       "    <tr>\n",
       "      <th>0</th>\n",
       "      <td>id_5569</td>\n",
       "      <td>Paris</td>\n",
       "      <td>['European', 'French', 'International']</td>\n",
       "      <td>5570.0</td>\n",
       "      <td>3.5</td>\n",
       "      <td>$$ - $$$</td>\n",
       "      <td>194.0</td>\n",
       "      <td>[['Good food at your doorstep', 'A good hotel ...</td>\n",
       "      <td>/Restaurant_Review-g187147-d1912643-Reviews-R_...</td>\n",
       "      <td>d1912643</td>\n",
       "    </tr>\n",
       "    <tr>\n",
       "      <th>1</th>\n",
       "      <td>id_1535</td>\n",
       "      <td>Stockholm</td>\n",
       "      <td>NaN</td>\n",
       "      <td>1537.0</td>\n",
       "      <td>4.0</td>\n",
       "      <td>NaN</td>\n",
       "      <td>10.0</td>\n",
       "      <td>[['Unique cuisine', 'Delicious Nepalese food']...</td>\n",
       "      <td>/Restaurant_Review-g189852-d7992032-Reviews-Bu...</td>\n",
       "      <td>d7992032</td>\n",
       "    </tr>\n",
       "    <tr>\n",
       "      <th>2</th>\n",
       "      <td>id_352</td>\n",
       "      <td>London</td>\n",
       "      <td>['Japanese', 'Sushi', 'Asian', 'Grill', 'Veget...</td>\n",
       "      <td>353.0</td>\n",
       "      <td>4.5</td>\n",
       "      <td>$$$$</td>\n",
       "      <td>688.0</td>\n",
       "      <td>[['Catch up with friends', 'Not exceptional'],...</td>\n",
       "      <td>/Restaurant_Review-g186338-d8632781-Reviews-RO...</td>\n",
       "      <td>d8632781</td>\n",
       "    </tr>\n",
       "    <tr>\n",
       "      <th>3</th>\n",
       "      <td>id_3456</td>\n",
       "      <td>Berlin</td>\n",
       "      <td>NaN</td>\n",
       "      <td>3458.0</td>\n",
       "      <td>5.0</td>\n",
       "      <td>NaN</td>\n",
       "      <td>3.0</td>\n",
       "      <td>[[], []]</td>\n",
       "      <td>/Restaurant_Review-g187323-d1358776-Reviews-Es...</td>\n",
       "      <td>d1358776</td>\n",
       "    </tr>\n",
       "    <tr>\n",
       "      <th>4</th>\n",
       "      <td>id_615</td>\n",
       "      <td>Munich</td>\n",
       "      <td>['German', 'Central European', 'Vegetarian Fri...</td>\n",
       "      <td>621.0</td>\n",
       "      <td>4.0</td>\n",
       "      <td>$$ - $$$</td>\n",
       "      <td>84.0</td>\n",
       "      <td>[['Best place to try a Bavarian food', 'Nice b...</td>\n",
       "      <td>/Restaurant_Review-g187309-d6864963-Reviews-Au...</td>\n",
       "      <td>d6864963</td>\n",
       "    </tr>\n",
       "  </tbody>\n",
       "</table>\n",
       "</div>"
      ],
      "text/plain": [
       "  Restaurant_id       City                                      Cuisine Style  \\\n",
       "0       id_5569      Paris            ['European', 'French', 'International']   \n",
       "1       id_1535  Stockholm                                                NaN   \n",
       "2        id_352     London  ['Japanese', 'Sushi', 'Asian', 'Grill', 'Veget...   \n",
       "3       id_3456     Berlin                                                NaN   \n",
       "4        id_615     Munich  ['German', 'Central European', 'Vegetarian Fri...   \n",
       "\n",
       "   Ranking  Rating Price Range  Number of Reviews  \\\n",
       "0   5570.0     3.5    $$ - $$$              194.0   \n",
       "1   1537.0     4.0         NaN               10.0   \n",
       "2    353.0     4.5        $$$$              688.0   \n",
       "3   3458.0     5.0         NaN                3.0   \n",
       "4    621.0     4.0    $$ - $$$               84.0   \n",
       "\n",
       "                                             Reviews  \\\n",
       "0  [['Good food at your doorstep', 'A good hotel ...   \n",
       "1  [['Unique cuisine', 'Delicious Nepalese food']...   \n",
       "2  [['Catch up with friends', 'Not exceptional'],...   \n",
       "3                                           [[], []]   \n",
       "4  [['Best place to try a Bavarian food', 'Nice b...   \n",
       "\n",
       "                                              URL_TA     ID_TA  \n",
       "0  /Restaurant_Review-g187147-d1912643-Reviews-R_...  d1912643  \n",
       "1  /Restaurant_Review-g189852-d7992032-Reviews-Bu...  d7992032  \n",
       "2  /Restaurant_Review-g186338-d8632781-Reviews-RO...  d8632781  \n",
       "3  /Restaurant_Review-g187323-d1358776-Reviews-Es...  d1358776  \n",
       "4  /Restaurant_Review-g187309-d6864963-Reviews-Au...  d6864963  "
      ]
     },
     "execution_count": 254,
     "metadata": {},
     "output_type": "execute_result"
    }
   ],
   "source": [
    "df_train.head(5)"
   ]
  },
  {
   "cell_type": "code",
   "execution_count": 140,
   "metadata": {},
   "outputs": [
    {
     "name": "stdout",
     "output_type": "stream",
     "text": [
      "<class 'pandas.core.frame.DataFrame'>\n",
      "RangeIndex: 10000 entries, 0 to 9999\n",
      "Data columns (total 9 columns):\n",
      " #   Column             Non-Null Count  Dtype  \n",
      "---  ------             --------------  -----  \n",
      " 0   Restaurant_id      10000 non-null  object \n",
      " 1   City               10000 non-null  object \n",
      " 2   Cuisine Style      7693 non-null   object \n",
      " 3   Ranking            10000 non-null  float64\n",
      " 4   Price Range        6525 non-null   object \n",
      " 5   Number of Reviews  9343 non-null   float64\n",
      " 6   Reviews            9998 non-null   object \n",
      " 7   URL_TA             10000 non-null  object \n",
      " 8   ID_TA              10000 non-null  object \n",
      "dtypes: float64(2), object(7)\n",
      "memory usage: 703.2+ KB\n"
     ]
    }
   ],
   "source": [
    "df_test.info()"
   ]
  },
  {
   "cell_type": "code",
   "execution_count": 255,
   "metadata": {},
   "outputs": [
    {
     "data": {
      "text/html": [
       "<div>\n",
       "<style scoped>\n",
       "    .dataframe tbody tr th:only-of-type {\n",
       "        vertical-align: middle;\n",
       "    }\n",
       "\n",
       "    .dataframe tbody tr th {\n",
       "        vertical-align: top;\n",
       "    }\n",
       "\n",
       "    .dataframe thead th {\n",
       "        text-align: right;\n",
       "    }\n",
       "</style>\n",
       "<table border=\"1\" class=\"dataframe\">\n",
       "  <thead>\n",
       "    <tr style=\"text-align: right;\">\n",
       "      <th></th>\n",
       "      <th>Restaurant_id</th>\n",
       "      <th>City</th>\n",
       "      <th>Cuisine Style</th>\n",
       "      <th>Ranking</th>\n",
       "      <th>Price Range</th>\n",
       "      <th>Number of Reviews</th>\n",
       "      <th>Reviews</th>\n",
       "      <th>URL_TA</th>\n",
       "      <th>ID_TA</th>\n",
       "    </tr>\n",
       "  </thead>\n",
       "  <tbody>\n",
       "    <tr>\n",
       "      <th>0</th>\n",
       "      <td>id_0</td>\n",
       "      <td>Paris</td>\n",
       "      <td>['Bar', 'Pub']</td>\n",
       "      <td>12963.0</td>\n",
       "      <td>$$ - $$$</td>\n",
       "      <td>4.0</td>\n",
       "      <td>[[], []]</td>\n",
       "      <td>/Restaurant_Review-g187147-d10746918-Reviews-L...</td>\n",
       "      <td>d10746918</td>\n",
       "    </tr>\n",
       "    <tr>\n",
       "      <th>1</th>\n",
       "      <td>id_1</td>\n",
       "      <td>Helsinki</td>\n",
       "      <td>['European', 'Scandinavian', 'Gluten Free Opti...</td>\n",
       "      <td>106.0</td>\n",
       "      <td>$$ - $$$</td>\n",
       "      <td>97.0</td>\n",
       "      <td>[['Very good reviews!', 'Fine dining in Hakani...</td>\n",
       "      <td>/Restaurant_Review-g189934-d6674944-Reviews-Ra...</td>\n",
       "      <td>d6674944</td>\n",
       "    </tr>\n",
       "    <tr>\n",
       "      <th>2</th>\n",
       "      <td>id_2</td>\n",
       "      <td>Edinburgh</td>\n",
       "      <td>['Vegetarian Friendly']</td>\n",
       "      <td>810.0</td>\n",
       "      <td>$$ - $$$</td>\n",
       "      <td>28.0</td>\n",
       "      <td>[['Better than the Links', 'Ivy Black'], ['12/...</td>\n",
       "      <td>/Restaurant_Review-g186525-d13129638-Reviews-B...</td>\n",
       "      <td>d13129638</td>\n",
       "    </tr>\n",
       "    <tr>\n",
       "      <th>3</th>\n",
       "      <td>id_3</td>\n",
       "      <td>London</td>\n",
       "      <td>['Italian', 'Mediterranean', 'European', 'Vege...</td>\n",
       "      <td>1669.0</td>\n",
       "      <td>$$$$</td>\n",
       "      <td>202.0</td>\n",
       "      <td>[['Most exquisite', 'Delicious and authentic']...</td>\n",
       "      <td>/Restaurant_Review-g186338-d680417-Reviews-Qui...</td>\n",
       "      <td>d680417</td>\n",
       "    </tr>\n",
       "    <tr>\n",
       "      <th>4</th>\n",
       "      <td>id_4</td>\n",
       "      <td>Bratislava</td>\n",
       "      <td>['Italian', 'Mediterranean', 'European', 'Seaf...</td>\n",
       "      <td>37.0</td>\n",
       "      <td>$$$$</td>\n",
       "      <td>162.0</td>\n",
       "      <td>[['Always the best in bratislava', 'Very good ...</td>\n",
       "      <td>/Restaurant_Review-g274924-d1112354-Reviews-Ma...</td>\n",
       "      <td>d1112354</td>\n",
       "    </tr>\n",
       "  </tbody>\n",
       "</table>\n",
       "</div>"
      ],
      "text/plain": [
       "  Restaurant_id        City  \\\n",
       "0          id_0       Paris   \n",
       "1          id_1    Helsinki   \n",
       "2          id_2   Edinburgh   \n",
       "3          id_3      London   \n",
       "4          id_4  Bratislava   \n",
       "\n",
       "                                       Cuisine Style  Ranking Price Range  \\\n",
       "0                                     ['Bar', 'Pub']  12963.0    $$ - $$$   \n",
       "1  ['European', 'Scandinavian', 'Gluten Free Opti...    106.0    $$ - $$$   \n",
       "2                            ['Vegetarian Friendly']    810.0    $$ - $$$   \n",
       "3  ['Italian', 'Mediterranean', 'European', 'Vege...   1669.0        $$$$   \n",
       "4  ['Italian', 'Mediterranean', 'European', 'Seaf...     37.0        $$$$   \n",
       "\n",
       "   Number of Reviews                                            Reviews  \\\n",
       "0                4.0                                           [[], []]   \n",
       "1               97.0  [['Very good reviews!', 'Fine dining in Hakani...   \n",
       "2               28.0  [['Better than the Links', 'Ivy Black'], ['12/...   \n",
       "3              202.0  [['Most exquisite', 'Delicious and authentic']...   \n",
       "4              162.0  [['Always the best in bratislava', 'Very good ...   \n",
       "\n",
       "                                              URL_TA      ID_TA  \n",
       "0  /Restaurant_Review-g187147-d10746918-Reviews-L...  d10746918  \n",
       "1  /Restaurant_Review-g189934-d6674944-Reviews-Ra...   d6674944  \n",
       "2  /Restaurant_Review-g186525-d13129638-Reviews-B...  d13129638  \n",
       "3  /Restaurant_Review-g186338-d680417-Reviews-Qui...    d680417  \n",
       "4  /Restaurant_Review-g274924-d1112354-Reviews-Ma...   d1112354  "
      ]
     },
     "execution_count": 255,
     "metadata": {},
     "output_type": "execute_result"
    }
   ],
   "source": [
    "df_test.head(5)"
   ]
  },
  {
   "cell_type": "code",
   "execution_count": 256,
   "metadata": {},
   "outputs": [
    {
     "data": {
      "text/html": [
       "<div>\n",
       "<style scoped>\n",
       "    .dataframe tbody tr th:only-of-type {\n",
       "        vertical-align: middle;\n",
       "    }\n",
       "\n",
       "    .dataframe tbody tr th {\n",
       "        vertical-align: top;\n",
       "    }\n",
       "\n",
       "    .dataframe thead th {\n",
       "        text-align: right;\n",
       "    }\n",
       "</style>\n",
       "<table border=\"1\" class=\"dataframe\">\n",
       "  <thead>\n",
       "    <tr style=\"text-align: right;\">\n",
       "      <th></th>\n",
       "      <th>Restaurant_id</th>\n",
       "      <th>Rating</th>\n",
       "    </tr>\n",
       "  </thead>\n",
       "  <tbody>\n",
       "    <tr>\n",
       "      <th>0</th>\n",
       "      <td>id_0</td>\n",
       "      <td>2.0</td>\n",
       "    </tr>\n",
       "    <tr>\n",
       "      <th>1</th>\n",
       "      <td>id_1</td>\n",
       "      <td>2.5</td>\n",
       "    </tr>\n",
       "    <tr>\n",
       "      <th>2</th>\n",
       "      <td>id_2</td>\n",
       "      <td>4.0</td>\n",
       "    </tr>\n",
       "    <tr>\n",
       "      <th>3</th>\n",
       "      <td>id_3</td>\n",
       "      <td>1.0</td>\n",
       "    </tr>\n",
       "    <tr>\n",
       "      <th>4</th>\n",
       "      <td>id_4</td>\n",
       "      <td>4.0</td>\n",
       "    </tr>\n",
       "  </tbody>\n",
       "</table>\n",
       "</div>"
      ],
      "text/plain": [
       "  Restaurant_id  Rating\n",
       "0          id_0     2.0\n",
       "1          id_1     2.5\n",
       "2          id_2     4.0\n",
       "3          id_3     1.0\n",
       "4          id_4     4.0"
      ]
     },
     "execution_count": 256,
     "metadata": {},
     "output_type": "execute_result"
    }
   ],
   "source": [
    "sample_submission.head(5)"
   ]
  },
  {
   "cell_type": "code",
   "execution_count": 143,
   "metadata": {},
   "outputs": [
    {
     "name": "stdout",
     "output_type": "stream",
     "text": [
      "<class 'pandas.core.frame.DataFrame'>\n",
      "RangeIndex: 10000 entries, 0 to 9999\n",
      "Data columns (total 2 columns):\n",
      " #   Column         Non-Null Count  Dtype  \n",
      "---  ------         --------------  -----  \n",
      " 0   Restaurant_id  10000 non-null  object \n",
      " 1   Rating         10000 non-null  float64\n",
      "dtypes: float64(1), object(1)\n",
      "memory usage: 156.4+ KB\n"
     ]
    }
   ],
   "source": [
    "sample_submission.info()"
   ]
  },
  {
   "cell_type": "code",
   "execution_count": 144,
   "metadata": {},
   "outputs": [],
   "source": [
    "# ВАЖНО! Для корректной обработки признаков объединяем трейн и тест в один датасет\n",
    "df_train['sample'] = 1 # помечаем где у нас трейн\n",
    "df_test['sample'] = 0 # помечаем где у нас тест\n",
    "df_test['Rating'] = 0 # в тесте у нас нет значения Rating, мы его должны предсказать, по этому пока просто заполняем нулями\n",
    "\n",
    "data = df_test.append(df_train, sort=False).reset_index(drop=True) # объединяем"
   ]
  },
  {
   "cell_type": "code",
   "execution_count": 145,
   "metadata": {},
   "outputs": [
    {
     "name": "stdout",
     "output_type": "stream",
     "text": [
      "<class 'pandas.core.frame.DataFrame'>\n",
      "RangeIndex: 50000 entries, 0 to 49999\n",
      "Data columns (total 11 columns):\n",
      " #   Column             Non-Null Count  Dtype  \n",
      "---  ------             --------------  -----  \n",
      " 0   Restaurant_id      50000 non-null  object \n",
      " 1   City               50000 non-null  object \n",
      " 2   Cuisine Style      38410 non-null  object \n",
      " 3   Ranking            50000 non-null  float64\n",
      " 4   Price Range        32639 non-null  object \n",
      " 5   Number of Reviews  46800 non-null  float64\n",
      " 6   Reviews            49998 non-null  object \n",
      " 7   URL_TA             50000 non-null  object \n",
      " 8   ID_TA              50000 non-null  object \n",
      " 9   sample             50000 non-null  int64  \n",
      " 10  Rating             50000 non-null  float64\n",
      "dtypes: float64(3), int64(1), object(7)\n",
      "memory usage: 4.2+ MB\n"
     ]
    }
   ],
   "source": [
    "data.info()"
   ]
  },
  {
   "cell_type": "markdown",
   "metadata": {},
   "source": [
    "### Подробнее по признакам:"
   ]
  },
  {
   "cell_type": "markdown",
   "metadata": {},
   "source": [
    "* City: Город \n",
    "* Cuisine Style: Кухня\n",
    "* Ranking: Ранг ресторана относительно других ресторанов в этом городе\n",
    "* Price Range: Цены в ресторане в 3 категориях\n",
    "* Number of Reviews: Количество отзывов\n",
    "* Reviews: 2 последних отзыва и даты этих отзывов\n",
    "* URL_TA: страница ресторана на 'www.tripadvisor.com' \n",
    "* ID_TA: ID ресторана в TripAdvisor\n",
    "* Rating: Рейтинг ресторана"
   ]
  },
  {
   "cell_type": "code",
   "execution_count": 146,
   "metadata": {},
   "outputs": [
    {
     "data": {
      "text/html": [
       "<div>\n",
       "<style scoped>\n",
       "    .dataframe tbody tr th:only-of-type {\n",
       "        vertical-align: middle;\n",
       "    }\n",
       "\n",
       "    .dataframe tbody tr th {\n",
       "        vertical-align: top;\n",
       "    }\n",
       "\n",
       "    .dataframe thead th {\n",
       "        text-align: right;\n",
       "    }\n",
       "</style>\n",
       "<table border=\"1\" class=\"dataframe\">\n",
       "  <thead>\n",
       "    <tr style=\"text-align: right;\">\n",
       "      <th></th>\n",
       "      <th>Restaurant_id</th>\n",
       "      <th>City</th>\n",
       "      <th>Cuisine Style</th>\n",
       "      <th>Ranking</th>\n",
       "      <th>Price Range</th>\n",
       "      <th>Number of Reviews</th>\n",
       "      <th>Reviews</th>\n",
       "      <th>URL_TA</th>\n",
       "      <th>ID_TA</th>\n",
       "      <th>sample</th>\n",
       "      <th>Rating</th>\n",
       "    </tr>\n",
       "  </thead>\n",
       "  <tbody>\n",
       "    <tr>\n",
       "      <th>4437</th>\n",
       "      <td>id_4437</td>\n",
       "      <td>London</td>\n",
       "      <td>['Pizza', 'Italian', 'Fast Food']</td>\n",
       "      <td>7816.0</td>\n",
       "      <td>$</td>\n",
       "      <td>14.0</td>\n",
       "      <td>[['Very nice', 'Fantastic!'], ['12/18/2017', '...</td>\n",
       "      <td>/Restaurant_Review-g186338-d5814973-Reviews-Pi...</td>\n",
       "      <td>d5814973</td>\n",
       "      <td>0</td>\n",
       "      <td>0.0</td>\n",
       "    </tr>\n",
       "    <tr>\n",
       "      <th>3410</th>\n",
       "      <td>id_3410</td>\n",
       "      <td>Berlin</td>\n",
       "      <td>NaN</td>\n",
       "      <td>5542.0</td>\n",
       "      <td>NaN</td>\n",
       "      <td>14.0</td>\n",
       "      <td>[['lovely place', 'Great coffee!!!!!!!'], ['07...</td>\n",
       "      <td>/Restaurant_Review-g187323-d9597167-Reviews-Ei...</td>\n",
       "      <td>d9597167</td>\n",
       "      <td>0</td>\n",
       "      <td>0.0</td>\n",
       "    </tr>\n",
       "    <tr>\n",
       "      <th>26078</th>\n",
       "      <td>id_3296</td>\n",
       "      <td>Prague</td>\n",
       "      <td>['Fast Food', 'Asian']</td>\n",
       "      <td>3303.0</td>\n",
       "      <td>$$ - $$$</td>\n",
       "      <td>19.0</td>\n",
       "      <td>[['Shisha and Karaoke!', 'Lack of customer ser...</td>\n",
       "      <td>/Restaurant_Review-g274707-d4894352-Reviews-Ba...</td>\n",
       "      <td>d4894352</td>\n",
       "      <td>1</td>\n",
       "      <td>3.5</td>\n",
       "    </tr>\n",
       "    <tr>\n",
       "      <th>10746</th>\n",
       "      <td>id_963</td>\n",
       "      <td>Milan</td>\n",
       "      <td>['Italian', 'Vegetarian Friendly']</td>\n",
       "      <td>965.0</td>\n",
       "      <td>$$ - $$$</td>\n",
       "      <td>306.0</td>\n",
       "      <td>[['Great Food', 'Unfriendly owner, bad food'],...</td>\n",
       "      <td>/Restaurant_Review-g187849-d3181841-Reviews-Ri...</td>\n",
       "      <td>d3181841</td>\n",
       "      <td>1</td>\n",
       "      <td>4.0</td>\n",
       "    </tr>\n",
       "    <tr>\n",
       "      <th>8925</th>\n",
       "      <td>id_8925</td>\n",
       "      <td>Barcelona</td>\n",
       "      <td>['Bar', 'Mediterranean', 'European', 'Spanish'...</td>\n",
       "      <td>1803.0</td>\n",
       "      <td>$$ - $$$</td>\n",
       "      <td>161.0</td>\n",
       "      <td>[['Lunch in the sun', 'Tasty tapas, terrible i...</td>\n",
       "      <td>/Restaurant_Review-g187497-d4156838-Reviews-Re...</td>\n",
       "      <td>d4156838</td>\n",
       "      <td>0</td>\n",
       "      <td>0.0</td>\n",
       "    </tr>\n",
       "  </tbody>\n",
       "</table>\n",
       "</div>"
      ],
      "text/plain": [
       "      Restaurant_id       City  \\\n",
       "4437        id_4437     London   \n",
       "3410        id_3410     Berlin   \n",
       "26078       id_3296     Prague   \n",
       "10746        id_963      Milan   \n",
       "8925        id_8925  Barcelona   \n",
       "\n",
       "                                           Cuisine Style  Ranking Price Range  \\\n",
       "4437                   ['Pizza', 'Italian', 'Fast Food']   7816.0           $   \n",
       "3410                                                 NaN   5542.0         NaN   \n",
       "26078                             ['Fast Food', 'Asian']   3303.0    $$ - $$$   \n",
       "10746                 ['Italian', 'Vegetarian Friendly']    965.0    $$ - $$$   \n",
       "8925   ['Bar', 'Mediterranean', 'European', 'Spanish'...   1803.0    $$ - $$$   \n",
       "\n",
       "       Number of Reviews                                            Reviews  \\\n",
       "4437                14.0  [['Very nice', 'Fantastic!'], ['12/18/2017', '...   \n",
       "3410                14.0  [['lovely place', 'Great coffee!!!!!!!'], ['07...   \n",
       "26078               19.0  [['Shisha and Karaoke!', 'Lack of customer ser...   \n",
       "10746              306.0  [['Great Food', 'Unfriendly owner, bad food'],...   \n",
       "8925               161.0  [['Lunch in the sun', 'Tasty tapas, terrible i...   \n",
       "\n",
       "                                                  URL_TA     ID_TA  sample  \\\n",
       "4437   /Restaurant_Review-g186338-d5814973-Reviews-Pi...  d5814973       0   \n",
       "3410   /Restaurant_Review-g187323-d9597167-Reviews-Ei...  d9597167       0   \n",
       "26078  /Restaurant_Review-g274707-d4894352-Reviews-Ba...  d4894352       1   \n",
       "10746  /Restaurant_Review-g187849-d3181841-Reviews-Ri...  d3181841       1   \n",
       "8925   /Restaurant_Review-g187497-d4156838-Reviews-Re...  d4156838       0   \n",
       "\n",
       "       Rating  \n",
       "4437      0.0  \n",
       "3410      0.0  \n",
       "26078     3.5  \n",
       "10746     4.0  \n",
       "8925      0.0  "
      ]
     },
     "execution_count": 146,
     "metadata": {},
     "output_type": "execute_result"
    }
   ],
   "source": [
    "data.sample(5)"
   ]
  },
  {
   "cell_type": "code",
   "execution_count": 261,
   "metadata": {},
   "outputs": [
    {
     "data": {
      "text/plain": [
       "'В столбце Restaurant_id пустых значений не обнаружено.'"
      ]
     },
     "metadata": {},
     "output_type": "display_data"
    },
    {
     "data": {
      "text/plain": [
       "'В столбце City пустых значений не обнаружено.'"
      ]
     },
     "metadata": {},
     "output_type": "display_data"
    },
    {
     "data": {
      "text/plain": [
       "'В столбце Cuisine Style обнаружено         11590 пустых значений.'"
      ]
     },
     "metadata": {},
     "output_type": "display_data"
    },
    {
     "data": {
      "text/plain": [
       "'В столбце Ranking пустых значений не обнаружено.'"
      ]
     },
     "metadata": {},
     "output_type": "display_data"
    },
    {
     "data": {
      "text/plain": [
       "'В столбце Price Range обнаружено         17361 пустых значений.'"
      ]
     },
     "metadata": {},
     "output_type": "display_data"
    },
    {
     "data": {
      "text/plain": [
       "'В столбце Number of Reviews обнаружено         3200 пустых значений.'"
      ]
     },
     "metadata": {},
     "output_type": "display_data"
    },
    {
     "data": {
      "text/plain": [
       "'В столбце Reviews обнаружено         2 пустых значений.'"
      ]
     },
     "metadata": {},
     "output_type": "display_data"
    },
    {
     "data": {
      "text/plain": [
       "'В столбце URL_TA пустых значений не обнаружено.'"
      ]
     },
     "metadata": {},
     "output_type": "display_data"
    },
    {
     "data": {
      "text/plain": [
       "'В столбце ID_TA пустых значений не обнаружено.'"
      ]
     },
     "metadata": {},
     "output_type": "display_data"
    },
    {
     "data": {
      "text/plain": [
       "'В столбце sample пустых значений не обнаружено.'"
      ]
     },
     "metadata": {},
     "output_type": "display_data"
    },
    {
     "data": {
      "text/plain": [
       "'В столбце Rating пустых значений не обнаружено.'"
      ]
     },
     "metadata": {},
     "output_type": "display_data"
    }
   ],
   "source": [
    "# Смотрим количество пустых значений в столбцах:\n",
    "\n",
    "for column in data.columns:\n",
    "    if data[column].isna().value_counts()[False] != len(data):\n",
    "        display(f'В столбце {column} обнаружено \\\n",
    "        {data[column].isna().value_counts()[True]} пустых значений.')\n",
    "    else:\n",
    "        display(f'В столбце {column} пустых значений не обнаружено.')"
   ]
  },
  {
   "cell_type": "markdown",
   "metadata": {},
   "source": [
    "## 2. Обработка признаков"
   ]
  },
  {
   "cell_type": "code",
   "execution_count": 148,
   "metadata": {},
   "outputs": [],
   "source": [
    "# Модель может обучаться точько на числовых данных, поэтому можно сразу удалять столбцы, \n",
    "# котрые мы не будем использовать в дальнейшем:\n",
    "\n",
    "data.drop(['Restaurant_id', 'URL_TA', 'ID_TA'], axis = 1, inplace=True)"
   ]
  },
  {
   "cell_type": "code",
   "execution_count": 149,
   "metadata": {},
   "outputs": [],
   "source": [
    "# Признак 'City' нам понадобится в дальнейшем, так-что пока его обработку откладываем."
   ]
  },
  {
   "cell_type": "markdown",
   "metadata": {},
   "source": [
    "#### 2.1 Займемся признаком 'Cuisine Style':"
   ]
  },
  {
   "cell_type": "code",
   "execution_count": 150,
   "metadata": {},
   "outputs": [],
   "source": [
    "# Заполним пропуски значением 'Other':\n",
    "\n",
    "data['Cuisine Style'] = data['Cuisine Style'].fillna('Other')"
   ]
  },
  {
   "cell_type": "code",
   "execution_count": 151,
   "metadata": {},
   "outputs": [],
   "source": [
    "# Превратим перечисление кухонь в список:\n",
    "\n",
    "for i in ['\\'', '[', ']']:\n",
    "    data['Cuisine Style'] = data['Cuisine Style'].apply(\n",
    "        lambda x: x.replace(i, ''))\n",
    "\n",
    "data['Cuisine Style'] = data['Cuisine Style'].apply(lambda x: x.split(', '))"
   ]
  },
  {
   "cell_type": "code",
   "execution_count": 152,
   "metadata": {},
   "outputs": [
    {
     "data": {
      "text/plain": [
       "Vegetarian Friendly    14021\n",
       "European               12561\n",
       "Other                  11590\n",
       "Mediterranean           7820\n",
       "Italian                 7433\n",
       "                       ...  \n",
       "Polynesian                 2\n",
       "Latvian                    1\n",
       "Burmese                    1\n",
       "Xinjiang                   1\n",
       "Salvadoran                 1\n",
       "Name: Cuisine Style, Length: 126, dtype: int64"
      ]
     },
     "metadata": {},
     "output_type": "display_data"
    }
   ],
   "source": [
    "# Посмотрим сколько всего получилось кухонь:\n",
    "\n",
    "Cusines_count = data['Cuisine Style'].explode().value_counts()\n",
    "\n",
    "display(Cusines_count)"
   ]
  },
  {
   "cell_type": "code",
   "execution_count": 153,
   "metadata": {},
   "outputs": [],
   "source": [
    "# 126 типов кухонь, некоторые из которых встречаются всего несколько раз, это слишком много.\n",
    "# Составим список самых редких кухонь (первый квартиль списка кухонь):\n",
    "\n",
    "not_pop_cousine = []\n",
    "\n",
    "for i in range(len(Cusines_count)):\n",
    "    if Cusines_count[i] < Cusines_count.quantile(0.25):\n",
    "        not_pop_cousine.append(Cusines_count.index[i])"
   ]
  },
  {
   "cell_type": "code",
   "execution_count": 154,
   "metadata": {},
   "outputs": [],
   "source": [
    "# Заменим все редкие кухни на 'Other' и, если в одном ресторане станет несколько кухонь с одинаковым значением,\n",
    "# объединим их в одну:\n",
    "\n",
    "def replace_cousines(cousines):\n",
    "    for i in range(len(cousines)):\n",
    "        if cousines[i] in not_pop_cousine:\n",
    "            cousines[i] = 'Other'\n",
    "    return list(set(cousines))\n",
    "\n",
    "data['Cuisine Style'] = data['Cuisine Style'].apply(replace_cousines)"
   ]
  },
  {
   "cell_type": "code",
   "execution_count": 155,
   "metadata": {},
   "outputs": [],
   "source": [
    "# Чуть попозже из списка кухонь мы сделаем dummies-переменную."
   ]
  },
  {
   "cell_type": "code",
   "execution_count": null,
   "metadata": {},
   "outputs": [],
   "source": []
  },
  {
   "cell_type": "markdown",
   "metadata": {},
   "source": [
    "#### 2.2 Займемся признаком 'Ranking':"
   ]
  },
  {
   "cell_type": "code",
   "execution_count": 156,
   "metadata": {},
   "outputs": [
    {
     "data": {
      "text/plain": [
       "<AxesSubplot:>"
      ]
     },
     "execution_count": 156,
     "metadata": {},
     "output_type": "execute_result"
    },
    {
     "data": {
      "image/png": "[encoded data removed]",
      "text/plain": [
       "<Figure size 720x504 with 1 Axes>"
      ]
     },
     "metadata": {
      "needs_background": "light"
     },
     "output_type": "display_data"
    }
   ],
   "source": [
    "# Посмотрим на его распределение:\n",
    "\n",
    "plt.rcParams['figure.figsize'] = (10,7)\n",
    "data['Ranking'].hist(bins=100)"
   ]
  },
  {
   "cell_type": "code",
   "execution_count": 157,
   "metadata": {},
   "outputs": [
    {
     "data": {
      "text/plain": [
       "<AxesSubplot:>"
      ]
     },
     "execution_count": 157,
     "metadata": {},
     "output_type": "execute_result"
    },
    {
     "data": {
      "image/png": "[encoded data removed]",
      "text/plain": [
       "<Figure size 720x504 with 1 Axes>"
      ]
     },
     "metadata": {
      "needs_background": "light"
     },
     "output_type": "display_data"
    }
   ],
   "source": [
    "# Распределение слишком сильно смещено \"влево\", посмотрим с чем это связано.\n",
    "# Для начала посмотрим сколько у нас ресторанов в разных городах:\n",
    "\n",
    "data['City'].value_counts(ascending=True).plot(kind='barh')"
   ]
  },
  {
   "cell_type": "code",
   "execution_count": 158,
   "metadata": {},
   "outputs": [
    {
     "data": {
      "image/png": "[encoded data removed]",
      "text/plain": [
       "<Figure size 720x504 with 1 Axes>"
      ]
     },
     "metadata": {
      "needs_background": "light"
     },
     "output_type": "display_data"
    }
   ],
   "source": [
    "# Посмотрим на распределение признака для топ отдельных городов:\n",
    "for x in (data['City'].value_counts()).index:\n",
    "    data['Ranking'][data['City'] == x].hist(bins=100)\n",
    "plt.show()"
   ]
  },
  {
   "cell_type": "code",
   "execution_count": null,
   "metadata": {},
   "outputs": [],
   "source": [
    "# Получается что признак имеет нормальное распределение, просто в больших городах больше ресторанов,\n",
    "# из-за мы этого имеем смещение. \"Нормализуем\" признак, разделив его для каждого ресторана\n",
    "# в отдельном городе на количество ресторанов в этом городе.\n",
    "\n",
    "rest_count = {}\n",
    "\n",
    "for i in range(len(data['City'].value_counts().index)):\n",
    "    rest_count[data['City'].value_counts().index[i]] = data['City'].value_counts()[\n",
    "        data['City'].value_counts().index[i]]\n",
    "    \n",
    "for i in range(len(data)):\n",
    "    data['Ranking'][i] = (data['Ranking'][i] / rest_count[(data['City'][i])])    "
   ]
  },
  {
   "cell_type": "code",
   "execution_count": 160,
   "metadata": {},
   "outputs": [
    {
     "data": {
      "text/plain": [
       "<AxesSubplot:>"
      ]
     },
     "execution_count": 160,
     "metadata": {},
     "output_type": "execute_result"
    },
    {
     "data": {
      "image/png": "[encoded data removed]",
      "text/plain": [
       "<Figure size 720x504 with 1 Axes>"
      ]
     },
     "metadata": {
      "needs_background": "light"
     },
     "output_type": "display_data"
    }
   ],
   "source": [
    "# Посмотрим как изменилось распределение:\n",
    "\n",
    "plt.rcParams['figure.figsize'] = (10,7)\n",
    "data['Ranking'].hist(bins=100)"
   ]
  },
  {
   "cell_type": "code",
   "execution_count": 161,
   "metadata": {},
   "outputs": [],
   "source": [
    "# Распределение стало более \"нормальным\". Наверняка можно было придумать что-то поулчше, \n",
    "# но пока оставляем его таким."
   ]
  },
  {
   "cell_type": "code",
   "execution_count": null,
   "metadata": {},
   "outputs": [],
   "source": []
  },
  {
   "cell_type": "markdown",
   "metadata": {},
   "source": [
    "#### 2.3 Займемся признаком 'Price Range':"
   ]
  },
  {
   "cell_type": "code",
   "execution_count": 162,
   "metadata": {},
   "outputs": [
    {
     "data": {
      "text/plain": [
       "$$ - $$$    23041\n",
       "$            7816\n",
       "$$$$         1782\n",
       "Name: Price Range, dtype: int64"
      ]
     },
     "execution_count": 162,
     "metadata": {},
     "output_type": "execute_result"
    }
   ],
   "source": [
    "# Посмотрим какие у нас есть значения цен:\n",
    "\n",
    "data['Price Range'].value_counts()"
   ]
  },
  {
   "cell_type": "code",
   "execution_count": 163,
   "metadata": {},
   "outputs": [],
   "source": [
    "# Среднее значение самое популярное, заполним им пропуски в данных:\n",
    "\n",
    "data['Price Range'] = data['Price Range'].fillna('$$ - $$$')"
   ]
  },
  {
   "cell_type": "code",
   "execution_count": 164,
   "metadata": {},
   "outputs": [],
   "source": [
    "# Уровень цен это ранжируемый категориальный признак. Заменим его числовыми значениями от 1 до 3:\n",
    "\n",
    "def price_change(price):\n",
    "    if price == '$':\n",
    "        return 1\n",
    "    elif price == '$$ - $$$':\n",
    "        return 2\n",
    "    elif price == '$$$$':\n",
    "        return 3"
   ]
  },
  {
   "cell_type": "code",
   "execution_count": 165,
   "metadata": {},
   "outputs": [],
   "source": [
    "# Применяем нашу функцию:\n",
    "\n",
    "data['Price Range'] = data['Price Range'].apply(price_change)"
   ]
  },
  {
   "cell_type": "markdown",
   "metadata": {},
   "source": [
    "#### 2.4 Займемся признаком 'Number of Reviews':"
   ]
  },
  {
   "cell_type": "code",
   "execution_count": 166,
   "metadata": {},
   "outputs": [],
   "source": [
    "# Заполним пустые значения медианным числом отзывов:\n",
    "\n",
    "data['Number of Reviews'] = data['Number of Reviews'].fillna(\n",
    "    data['Number of Reviews'].median())"
   ]
  },
  {
   "cell_type": "code",
   "execution_count": 167,
   "metadata": {},
   "outputs": [],
   "source": [
    "# На всякий случай переведем число отзывов из float в int, т.к. оно точно не может быть дробным:\n",
    "\n",
    "data['Number of Reviews'] = data['Number of Reviews'].apply(lambda x: int(x))"
   ]
  },
  {
   "cell_type": "code",
   "execution_count": null,
   "metadata": {},
   "outputs": [],
   "source": []
  },
  {
   "cell_type": "markdown",
   "metadata": {},
   "source": [
    "#### 2.5 Займемся признаком 'Reviews':"
   ]
  },
  {
   "cell_type": "code",
   "execution_count": 168,
   "metadata": {},
   "outputs": [],
   "source": [
    "# Сначала заполним пропуски:\n",
    "\n",
    "data['Reviews'] = data['Reviews'].fillna('[[], []]')"
   ]
  },
  {
   "cell_type": "code",
   "execution_count": 169,
   "metadata": {},
   "outputs": [],
   "source": [
    "# Признак 'Reviews' содержит в себе как сами отзывы, так и их даты. Разделим их обработку на 2 части.\n",
    "# Сначала займемся датами отзывов:"
   ]
  },
  {
   "cell_type": "code",
   "execution_count": 170,
   "metadata": {},
   "outputs": [],
   "source": [
    "# Создаем функцию, которая возвращает число дней с последнего отзыва (на 22.04.2021).\n",
    "# У нас возможны 3 варианта:\n",
    "# 1. Нет отзывов и дат, тогда возвращаем 7782 (кол-во дней между 22.04.2021 и 01.01.2000).\n",
    "# 2. Есть один отзыв и одна дата. Возвращаем разницу между этой датой и 22.04.2021.\n",
    "# 3. Есть 2 отзыва с датами. Возвращаем разницу между бОльшей из дат и 22.04.2021.\n",
    "\n",
    "def days_from_last_rev(review):\n",
    "    if review == '[[], []]':         \n",
    "        days = 7782                  \n",
    "    else:\n",
    "        for i in ['[[', ']]']:\n",
    "            review = review.replace(i, '')\n",
    "        review = review.split('], [')\n",
    "        review = review[1]\n",
    "        review = review[1 : -1]\n",
    "        review = review.split('\\', \\'')\n",
    "        for i in range(len(review)):\n",
    "            review[i] = dt.datetime.strptime(review[i], '%m/%d/%Y')\n",
    "        if len(review) > 1:\n",
    "            if review[0] > review[1]:                \n",
    "                review = review[0]\n",
    "            else:\n",
    "                review = review[1]\n",
    "        else:\n",
    "            review = review[0]\n",
    "        days = (dt.datetime(2021, 4, 22, 0, 0) - review).days   \n",
    "    return days"
   ]
  },
  {
   "cell_type": "code",
   "execution_count": 171,
   "metadata": {},
   "outputs": [],
   "source": [
    "# Создадим отдельную колонку, в которую запишем результат применения функции, созданной выше:\n",
    "\n",
    "data['Last_rev_days'] = data['Reviews'].apply(days_from_last_rev)"
   ]
  },
  {
   "cell_type": "code",
   "execution_count": 172,
   "metadata": {},
   "outputs": [],
   "source": [
    "# Теперь займемся непосредственно отзывами. Создадим функцию которая \"разберет\" отзывы на отдельные слова.\n",
    "# В дальнейшем из этих слов составим списки \"положительных\" и \"отрицательных\" слов \n",
    "# и подсчитаем их количество для каждого отдельного ресторана.\n",
    "\n",
    "def rev_to_words(review):\n",
    "    if review == '[[], []]':         \n",
    "        return ['-']                  \n",
    "    else:\n",
    "        for i in ['[[', ']]']:\n",
    "            review = review.replace(i, '')\n",
    "        review = review.split('], [')\n",
    "        review = review[0]\n",
    "        for i in ['\\'', ',']:\n",
    "            review = review.replace(i, '')\n",
    "        return re.sub(r\"[^a-zA-Z]+ \", \"\", review).lower().split(' ')   "
   ]
  },
  {
   "cell_type": "code",
   "execution_count": 173,
   "metadata": {},
   "outputs": [],
   "source": [
    "# Применяем нашу функцию непосредственно к столбцу 'Reviews':\n",
    "\n",
    "data['Reviews'] = data['Reviews'].apply(rev_to_words)"
   ]
  },
  {
   "cell_type": "code",
   "execution_count": 174,
   "metadata": {},
   "outputs": [],
   "source": [
    "# Создадим словарь из всех слов, используемых в отзывах, формата:\n",
    "# {слово : кол-во использований слова}\n",
    "\n",
    "words = {}\n",
    "\n",
    "for i in range(len(data)):\n",
    "    for word in data['Reviews'][i]:\n",
    "        if word in words:\n",
    "            words[word] += 1\n",
    "        else:\n",
    "            words[word] = 1"
   ]
  },
  {
   "cell_type": "code",
   "execution_count": 175,
   "metadata": {},
   "outputs": [
    {
     "data": {
      "text/plain": [
       "30836"
      ]
     },
     "metadata": {},
     "output_type": "display_data"
    }
   ],
   "source": [
    "# Посмотрим сколько всего у нас различных слов в отзывах:\n",
    "\n",
    "display(len(words.values()))"
   ]
  },
  {
   "cell_type": "code",
   "execution_count": 176,
   "metadata": {},
   "outputs": [
    {
     "name": "stdout",
     "output_type": "stream",
     "text": [
      "['-', 'very', 'good', 'dining', 'in', 'better', 'than', 'the', 'most', 'delicious', 'and', 'authentic', 'always', 'best', 'but', 'pricey', 'lunch', 'break', 'to', 'quick', 'bite', 'big', 'food', 'slow', 'service', 'pizza', 'drinks', 'are', 'top', 'a', 'bar', 'great', 'with', 'style', 'disappointing', 'you', 'welcome', 'at', 'this', 'yummy', 'beer', 'value', 'eat', 'nice', 'staff', 'lovely', 'location', 'i', 'from', 'quite', 'decent', 'pub', 'of', 'nothing', 'local', 'cozy', 'cute', 'on', 'atmosphere', 'amazing', 'loved', 'cosy', 'is', 'experience', 'friendly', 'bit', 'old', 'place', 'time', 'tapas', 'tasty', 'like', 'it', 'more', 'too', 'special', 'trip', 'out', 'city', 'place!', 'my', 'go', 'for', 'taste', 'spot', 'or', 'have', 'brunch', 'pleasant', 'expensive', 'fantastic', 'high', 'quality', 'neighborhood', 'coffee', 'do', 'worst', 'not', 'ok', 'wine', 'much', 'an', 'turkish', 'so', 'selection', 'food!', 'cafe', 'was', 'as', 'price', 'dinner', 'birthday', 'surprise', 'cocktails', 'afternoon', 'stop', 'superb', 'little', 'hidden', 'worth', 'visit', 'fish', 'meal', 'here', 'recommended', 'breakfast', 'beers', 'choice', 'perfect', 'christmas', 'up', 'evening', 'outstanding', 'restaurant', 'excellent', 'cuisine', 'favourite', 'money', 'madrid', 'awesome', 'burger', 'well', 'italian', '\"dont', 'be', 'by', 'average', 'still', 'curry', 'gem', 'wonderful', 'beautiful', 'awful', 'poor', 'menu', 'street', 'find', 'all', 'could', 'after', 'fun', 'just', 'off', 'warm', 'busy', 'sunday', 'day', 'snack', 'simple', 'hot', 'its', 'real', 'typical', 'traditional', 'relaxed', 'there', 'cheap', 'locals', 'some', 'enjoyable', 'our', 'super', 'near', 'okay', 'reasonable', 'affordable', 'one', 'prices', 'new', 'area', 'view', 'portions', 'people', 'welcoming', 'ambience', 'small', 'night', 'can', 'meals', 'bad', 'fine', '\"its', 'shop', 'way', 'tea', 'your', 'fast', 'fresh', 'burgers', 'pizzas', 'meat', 'really', 'steak', 'what', 'home', 'fabulous', 'business', 'hotel', 'first', 'absolutely', 'about', 'mexican', 'french', 'classic', 'bistro', 'sushi', 'that', 'we', 'chicken', 'pasta', 'music', 'indian', 'london', 'before', 'healthy', 'favorite', 'thai', 'setting', 'cool', 'ever', 'terrible', 'when', 'japanese', 'casual', 'vegan', 'vietnamese', 'take', 'berlin', 'seafood', 'love', 'had', 'made', 'quiet', 'if', 'no', 'chinese', 'friends', 'asian', 'kebab', 'family', 'close', 'brilliant', 'away', 'tourist', 'will', 'try', 'pretty', 'interesting', 'rude', 'buffet', 'barcelona', 'late', 'get', 'customer', 'overpriced', 'different', 'dishes', 'greek', 'rome', 'avoid', 'drink', 'must', 'paris', 'never', 'takeaway', 'town', 'heart', 'another', 'vegetarian', 'horrible', '!', 'charming', 'priced', 'easy', 'only', 'option', 'happy', 'ive', 'back', 'spanish', 'sandwiches', 'long']\n"
     ]
    }
   ],
   "source": [
    "# Выберем 300 самых популярных слов:\n",
    "\n",
    "words_count = [i for i in words.values()]\n",
    "words_count.sort(reverse = True)\n",
    "\n",
    "popular_words = []\n",
    "\n",
    "for key, value in words.items():\n",
    "    if value >= words_count[299]:\n",
    "        popular_words.append(key)\n",
    "        \n",
    "print(popular_words)"
   ]
  },
  {
   "cell_type": "code",
   "execution_count": 177,
   "metadata": {},
   "outputs": [],
   "source": [
    "# Составим списки \"хороших\" и \"плохих\" слов из наиболее популярных слов:\n",
    "\n",
    "good_words = ['good', 'better', 'delicious', 'best', 'quick', 'top', 'great',\n",
    "              'nice', 'lovely', 'cozy', 'cute', 'amazing', 'loved', 'friendly',\n",
    "              'tasty', 'like', 'pleasant', 'fantastic', 'recommended', 'perfect',\n",
    "              'outstanding', 'excellent', 'favourite', 'awesome', 'well',\n",
    "              'wonderful', 'beautiful', 'enjoyable', 'super', 'reasonable',\n",
    "              'affordable', 'welcoming', 'fine', 'fast', 'fabulous', 'favorite',\n",
    "              'love', 'brilliant', 'pretty', 'interesting', 'charming', 'happy']\n",
    "\n",
    "bad_words = ['pricey', 'slow', 'disappointing', 'expensive', 'worst', 'awful',\n",
    "             'bad', 'terrible', 'rude', 'overpriced', 'avoid', 'horrible']"
   ]
  },
  {
   "cell_type": "code",
   "execution_count": 178,
   "metadata": {},
   "outputs": [],
   "source": [
    "# \"Хороших\" слов получилось гораздо больше чем \"плохих\", возможно этому можно найти какое-то объяснение?"
   ]
  },
  {
   "cell_type": "code",
   "execution_count": 179,
   "metadata": {},
   "outputs": [],
   "source": [
    "# Напишем функцию, возвращающую вместо списка слов в отзыве их числовой \"эквивалент\":\n",
    "# 0 по умолчанию, +1 за каждое \"хорошее\" слово и -1 за каждое \"плохое\".\n",
    "\n",
    "def review_rating(review):\n",
    "    rating = 0\n",
    "    for word in review:\n",
    "        if word in good_words:\n",
    "            rating += 1\n",
    "        if word in bad_words:\n",
    "            rating -= 1\n",
    "    return rating"
   ]
  },
  {
   "cell_type": "code",
   "execution_count": 180,
   "metadata": {},
   "outputs": [],
   "source": [
    "# Применим нашу функцию:\n",
    "\n",
    "data['Reviews'] = data['Reviews'].apply(review_rating)"
   ]
  },
  {
   "cell_type": "code",
   "execution_count": null,
   "metadata": {},
   "outputs": [],
   "source": []
  },
  {
   "cell_type": "markdown",
   "metadata": {},
   "source": [
    "#### 2.5 Займемся признаком 'City':"
   ]
  },
  {
   "cell_type": "code",
   "execution_count": 181,
   "metadata": {},
   "outputs": [],
   "source": [
    "# Сам по себе признык 'City' идеально подходит что-бы сделать из него dummies-переменную.\n",
    "# Но сначала мы добавим в наш датасет 2 дополнительных признака, основанных на информации \n",
    "# о городе: является-ли он столицей или нет и его население. Всю информацию возьмем из\n",
    "# открытых источникв в интернете."
   ]
  },
  {
   "cell_type": "code",
   "execution_count": 182,
   "metadata": {},
   "outputs": [
    {
     "data": {
      "text/plain": [
       "array(['Paris', 'Helsinki', 'Edinburgh', 'London', 'Bratislava', 'Lisbon',\n",
       "       'Budapest', 'Stockholm', 'Rome', 'Milan', 'Munich', 'Hamburg',\n",
       "       'Prague', 'Vienna', 'Dublin', 'Barcelona', 'Brussels', 'Madrid',\n",
       "       'Oslo', 'Amsterdam', 'Berlin', 'Lyon', 'Athens', 'Warsaw',\n",
       "       'Oporto', 'Krakow', 'Copenhagen', 'Luxembourg', 'Zurich', 'Geneva',\n",
       "       'Ljubljana'], dtype=object)"
      ]
     },
     "metadata": {},
     "output_type": "display_data"
    }
   ],
   "source": [
    "# Получуаем списко всех городов в нашем датасете:\n",
    "\n",
    "display(data['City'].unique())"
   ]
  },
  {
   "cell_type": "code",
   "execution_count": 183,
   "metadata": {},
   "outputs": [],
   "source": [
    "# Сделаем словарь, в котором для каждого города укажем столица он (1) или нет(0)\n",
    "\n",
    "capital = {'Paris' : 1,\n",
    "           'Stockholm' : 1,\n",
    "           'London' : 1,\n",
    "           'Berlin' : 1,\n",
    "           'Munich' : 0,\n",
    "           'Oporto' : 0, \n",
    "           'Milan' : 0,\n",
    "           'Bratislava' : 1,\n",
    "           'Vienna' : 1,\n",
    "           'Rome' : 1,\n",
    "           'Barcelona' : 0,\n",
    "           'Madrid' : 1,\n",
    "           'Dublin' : 1,\n",
    "           'Brussels' : 1, \n",
    "           'Zurich' : 1,\n",
    "           'Warsaw' : 1,\n",
    "           'Budapest' : 1,\n",
    "           'Copenhagen' : 1,\n",
    "           'Amsterdam' : 1,\n",
    "           'Lyon' : 0,\n",
    "           'Hamburg' : 0,\n",
    "           'Lisbon' : 1,\n",
    "           'Prague' : 1,\n",
    "           'Oslo' : 1,\n",
    "           'Helsinki' : 1,\n",
    "           'Edinburgh' : 0,\n",
    "           'Geneva' : 0,\n",
    "           'Ljubljana' : 1,\n",
    "           'Athens' : 1,\n",
    "           'Luxembourg' : 1,\n",
    "           'Krakow' : 0\n",
    "          }"
   ]
  },
  {
   "cell_type": "code",
   "execution_count": 184,
   "metadata": {},
   "outputs": [],
   "source": [
    "# Сделаем словарь где укажем население для каждого из городов\n",
    "\n",
    "population = {'Paris' : 2148327,\n",
    "           'Stockholm' : 961609,\n",
    "           'London' : 8908081,\n",
    "           'Berlin' : 3644826,\n",
    "           'Munich' : 1471508,\n",
    "           'Oporto' : 237591, \n",
    "           'Milan' : 1378689,\n",
    "           'Bratislava' : 437725,\n",
    "           'Vienna' : 1897491,\n",
    "           'Rome' : 2870500,\n",
    "           'Barcelona' : 1664182,\n",
    "           'Madrid' : 3266126,\n",
    "           'Dublin' : 1173179,\n",
    "           'Brussels' : 179277, \n",
    "           'Zurich' : 428737,\n",
    "           'Warsaw' : 1790658,\n",
    "           'Budapest' : 1752286,\n",
    "           'Copenhagen' : 615993,\n",
    "           'Amsterdam' : 872757,\n",
    "           'Lyon' : 506615,\n",
    "           'Hamburg' : 1841179,\n",
    "           'Lisbon' : 505526,\n",
    "           'Prague' : 1301132,\n",
    "           'Oslo' : 673469,\n",
    "           'Helsinki' : 655281,\n",
    "           'Edinburgh' : 488100,\n",
    "           'Geneva' : 200548,\n",
    "           'Ljubljana' : 284355,\n",
    "           'Athens' : 664046,\n",
    "           'Luxembourg' : 114303,\n",
    "           'Krakow' : 766683\n",
    "          }"
   ]
  },
  {
   "cell_type": "code",
   "execution_count": 185,
   "metadata": {},
   "outputs": [],
   "source": [
    "# Добавим к нашему датасету колонку 'Capital':\n",
    "\n",
    "data['Capital'] = data['City'].apply(lambda x: capital[x])"
   ]
  },
  {
   "cell_type": "code",
   "execution_count": 186,
   "metadata": {},
   "outputs": [],
   "source": [
    "# Добавим к нашему датасету колонку 'Population':\n",
    "\n",
    "data['Population'] = data['City'].apply(lambda x: population[x])"
   ]
  },
  {
   "cell_type": "code",
   "execution_count": null,
   "metadata": {},
   "outputs": [],
   "source": []
  },
  {
   "cell_type": "markdown",
   "metadata": {},
   "source": [
    "#### 2.5 Dummies-переменные:"
   ]
  },
  {
   "cell_type": "code",
   "execution_count": 188,
   "metadata": {},
   "outputs": [],
   "source": [
    "# Создаем dummies из городов\n",
    "\n",
    "dummies_city = pd.get_dummies(data['City'], dummy_na=True)"
   ]
  },
  {
   "cell_type": "code",
   "execution_count": 190,
   "metadata": {},
   "outputs": [],
   "source": [
    "# Создаем dummies из кухонь\n",
    "\n",
    "dummies_cuisine = pd.get_dummies(\n",
    "    data['Cuisine Style'].apply(pd.Series).stack()).sum(level=0)"
   ]
  },
  {
   "cell_type": "code",
   "execution_count": 192,
   "metadata": {},
   "outputs": [],
   "source": [
    "# Присоединяем dummies с городами к основному датасету:\n",
    "\n",
    "data = pd.concat([data, dummies_city], axis=1)"
   ]
  },
  {
   "cell_type": "code",
   "execution_count": 193,
   "metadata": {},
   "outputs": [],
   "source": [
    "# И удаляем ненужный более столбец city:\n",
    "\n",
    "data.drop(['City'], axis = 1, inplace=True)"
   ]
  },
  {
   "cell_type": "code",
   "execution_count": 194,
   "metadata": {},
   "outputs": [],
   "source": [
    "# Присоединяем dummies с кухнями к основному датасету:\n",
    "\n",
    "data = pd.concat([data, dummies_cuisine], axis=1)"
   ]
  },
  {
   "cell_type": "code",
   "execution_count": 195,
   "metadata": {},
   "outputs": [],
   "source": [
    "# А в столбец с кухнями вместо их перечисления запишем их количество:\n",
    "\n",
    "data['Cuisine Style'] = data['Cuisine Style'].apply(lambda x: len(x))"
   ]
  },
  {
   "cell_type": "code",
   "execution_count": null,
   "metadata": {},
   "outputs": [],
   "source": []
  },
  {
   "cell_type": "markdown",
   "metadata": {},
   "source": [
    "## 3. Проверяем что в итоге получилось"
   ]
  },
  {
   "cell_type": "code",
   "execution_count": 196,
   "metadata": {},
   "outputs": [
    {
     "data": {
      "text/html": [
       "<div>\n",
       "<style scoped>\n",
       "    .dataframe tbody tr th:only-of-type {\n",
       "        vertical-align: middle;\n",
       "    }\n",
       "\n",
       "    .dataframe tbody tr th {\n",
       "        vertical-align: top;\n",
       "    }\n",
       "\n",
       "    .dataframe thead th {\n",
       "        text-align: right;\n",
       "    }\n",
       "</style>\n",
       "<table border=\"1\" class=\"dataframe\">\n",
       "  <thead>\n",
       "    <tr style=\"text-align: right;\">\n",
       "      <th></th>\n",
       "      <th>Cuisine Style</th>\n",
       "      <th>Ranking</th>\n",
       "      <th>Price Range</th>\n",
       "      <th>Number of Reviews</th>\n",
       "      <th>Reviews</th>\n",
       "      <th>sample</th>\n",
       "      <th>Rating</th>\n",
       "      <th>Last_rev_days</th>\n",
       "      <th>Capital</th>\n",
       "      <th>Population</th>\n",
       "      <th>...</th>\n",
       "      <th>Swiss</th>\n",
       "      <th>Taiwanese</th>\n",
       "      <th>Thai</th>\n",
       "      <th>Tibetan</th>\n",
       "      <th>Turkish</th>\n",
       "      <th>Vegan Options</th>\n",
       "      <th>Vegetarian Friendly</th>\n",
       "      <th>Venezuelan</th>\n",
       "      <th>Vietnamese</th>\n",
       "      <th>Wine Bar</th>\n",
       "    </tr>\n",
       "  </thead>\n",
       "  <tbody>\n",
       "    <tr>\n",
       "      <th>0</th>\n",
       "      <td>2</td>\n",
       "      <td>2.122299</td>\n",
       "      <td>2</td>\n",
       "      <td>4</td>\n",
       "      <td>0</td>\n",
       "      <td>0</td>\n",
       "      <td>0.0</td>\n",
       "      <td>7782</td>\n",
       "      <td>1</td>\n",
       "      <td>2148327</td>\n",
       "      <td>...</td>\n",
       "      <td>0</td>\n",
       "      <td>0</td>\n",
       "      <td>0</td>\n",
       "      <td>0</td>\n",
       "      <td>0</td>\n",
       "      <td>0</td>\n",
       "      <td>0</td>\n",
       "      <td>0</td>\n",
       "      <td>0</td>\n",
       "      <td>0</td>\n",
       "    </tr>\n",
       "    <tr>\n",
       "      <th>1</th>\n",
       "      <td>5</td>\n",
       "      <td>0.223158</td>\n",
       "      <td>2</td>\n",
       "      <td>97</td>\n",
       "      <td>1</td>\n",
       "      <td>0</td>\n",
       "      <td>0.0</td>\n",
       "      <td>1234</td>\n",
       "      <td>1</td>\n",
       "      <td>655281</td>\n",
       "      <td>...</td>\n",
       "      <td>0</td>\n",
       "      <td>0</td>\n",
       "      <td>0</td>\n",
       "      <td>0</td>\n",
       "      <td>0</td>\n",
       "      <td>1</td>\n",
       "      <td>1</td>\n",
       "      <td>0</td>\n",
       "      <td>0</td>\n",
       "      <td>0</td>\n",
       "    </tr>\n",
       "    <tr>\n",
       "      <th>2</th>\n",
       "      <td>1</td>\n",
       "      <td>1.087248</td>\n",
       "      <td>2</td>\n",
       "      <td>28</td>\n",
       "      <td>1</td>\n",
       "      <td>0</td>\n",
       "      <td>0.0</td>\n",
       "      <td>1211</td>\n",
       "      <td>0</td>\n",
       "      <td>488100</td>\n",
       "      <td>...</td>\n",
       "      <td>0</td>\n",
       "      <td>0</td>\n",
       "      <td>0</td>\n",
       "      <td>0</td>\n",
       "      <td>0</td>\n",
       "      <td>0</td>\n",
       "      <td>1</td>\n",
       "      <td>0</td>\n",
       "      <td>0</td>\n",
       "      <td>0</td>\n",
       "    </tr>\n",
       "    <tr>\n",
       "      <th>3</th>\n",
       "      <td>5</td>\n",
       "      <td>0.232031</td>\n",
       "      <td>3</td>\n",
       "      <td>202</td>\n",
       "      <td>1</td>\n",
       "      <td>0</td>\n",
       "      <td>0.0</td>\n",
       "      <td>1233</td>\n",
       "      <td>1</td>\n",
       "      <td>8908081</td>\n",
       "      <td>...</td>\n",
       "      <td>0</td>\n",
       "      <td>0</td>\n",
       "      <td>0</td>\n",
       "      <td>0</td>\n",
       "      <td>0</td>\n",
       "      <td>0</td>\n",
       "      <td>1</td>\n",
       "      <td>0</td>\n",
       "      <td>0</td>\n",
       "      <td>0</td>\n",
       "    </tr>\n",
       "    <tr>\n",
       "      <th>4</th>\n",
       "      <td>6</td>\n",
       "      <td>0.097368</td>\n",
       "      <td>3</td>\n",
       "      <td>162</td>\n",
       "      <td>1</td>\n",
       "      <td>0</td>\n",
       "      <td>0.0</td>\n",
       "      <td>1169</td>\n",
       "      <td>1</td>\n",
       "      <td>437725</td>\n",
       "      <td>...</td>\n",
       "      <td>0</td>\n",
       "      <td>0</td>\n",
       "      <td>0</td>\n",
       "      <td>0</td>\n",
       "      <td>0</td>\n",
       "      <td>0</td>\n",
       "      <td>1</td>\n",
       "      <td>0</td>\n",
       "      <td>0</td>\n",
       "      <td>0</td>\n",
       "    </tr>\n",
       "    <tr>\n",
       "      <th>...</th>\n",
       "      <td>...</td>\n",
       "      <td>...</td>\n",
       "      <td>...</td>\n",
       "      <td>...</td>\n",
       "      <td>...</td>\n",
       "      <td>...</td>\n",
       "      <td>...</td>\n",
       "      <td>...</td>\n",
       "      <td>...</td>\n",
       "      <td>...</td>\n",
       "      <td>...</td>\n",
       "      <td>...</td>\n",
       "      <td>...</td>\n",
       "      <td>...</td>\n",
       "      <td>...</td>\n",
       "      <td>...</td>\n",
       "      <td>...</td>\n",
       "      <td>...</td>\n",
       "      <td>...</td>\n",
       "      <td>...</td>\n",
       "      <td>...</td>\n",
       "    </tr>\n",
       "    <tr>\n",
       "      <th>49995</th>\n",
       "      <td>4</td>\n",
       "      <td>0.185598</td>\n",
       "      <td>2</td>\n",
       "      <td>79</td>\n",
       "      <td>1</td>\n",
       "      <td>1</td>\n",
       "      <td>4.5</td>\n",
       "      <td>1223</td>\n",
       "      <td>0</td>\n",
       "      <td>1378689</td>\n",
       "      <td>...</td>\n",
       "      <td>0</td>\n",
       "      <td>0</td>\n",
       "      <td>0</td>\n",
       "      <td>0</td>\n",
       "      <td>0</td>\n",
       "      <td>1</td>\n",
       "      <td>1</td>\n",
       "      <td>0</td>\n",
       "      <td>0</td>\n",
       "      <td>0</td>\n",
       "    </tr>\n",
       "    <tr>\n",
       "      <th>49996</th>\n",
       "      <td>5</td>\n",
       "      <td>1.038147</td>\n",
       "      <td>2</td>\n",
       "      <td>542</td>\n",
       "      <td>0</td>\n",
       "      <td>1</td>\n",
       "      <td>3.5</td>\n",
       "      <td>1218</td>\n",
       "      <td>1</td>\n",
       "      <td>2148327</td>\n",
       "      <td>...</td>\n",
       "      <td>0</td>\n",
       "      <td>0</td>\n",
       "      <td>0</td>\n",
       "      <td>0</td>\n",
       "      <td>0</td>\n",
       "      <td>0</td>\n",
       "      <td>1</td>\n",
       "      <td>0</td>\n",
       "      <td>0</td>\n",
       "      <td>0</td>\n",
       "    </tr>\n",
       "    <tr>\n",
       "      <th>49997</th>\n",
       "      <td>2</td>\n",
       "      <td>1.599226</td>\n",
       "      <td>2</td>\n",
       "      <td>4</td>\n",
       "      <td>1</td>\n",
       "      <td>1</td>\n",
       "      <td>4.5</td>\n",
       "      <td>1631</td>\n",
       "      <td>1</td>\n",
       "      <td>961609</td>\n",
       "      <td>...</td>\n",
       "      <td>0</td>\n",
       "      <td>0</td>\n",
       "      <td>0</td>\n",
       "      <td>0</td>\n",
       "      <td>0</td>\n",
       "      <td>0</td>\n",
       "      <td>0</td>\n",
       "      <td>0</td>\n",
       "      <td>0</td>\n",
       "      <td>0</td>\n",
       "    </tr>\n",
       "    <tr>\n",
       "      <th>49998</th>\n",
       "      <td>5</td>\n",
       "      <td>0.692973</td>\n",
       "      <td>2</td>\n",
       "      <td>70</td>\n",
       "      <td>0</td>\n",
       "      <td>1</td>\n",
       "      <td>4.0</td>\n",
       "      <td>1381</td>\n",
       "      <td>1</td>\n",
       "      <td>1790658</td>\n",
       "      <td>...</td>\n",
       "      <td>0</td>\n",
       "      <td>0</td>\n",
       "      <td>0</td>\n",
       "      <td>0</td>\n",
       "      <td>0</td>\n",
       "      <td>0</td>\n",
       "      <td>1</td>\n",
       "      <td>0</td>\n",
       "      <td>0</td>\n",
       "      <td>0</td>\n",
       "    </tr>\n",
       "    <tr>\n",
       "      <th>49999</th>\n",
       "      <td>1</td>\n",
       "      <td>1.791759</td>\n",
       "      <td>2</td>\n",
       "      <td>260</td>\n",
       "      <td>1</td>\n",
       "      <td>1</td>\n",
       "      <td>3.0</td>\n",
       "      <td>1908</td>\n",
       "      <td>0</td>\n",
       "      <td>1378689</td>\n",
       "      <td>...</td>\n",
       "      <td>0</td>\n",
       "      <td>0</td>\n",
       "      <td>0</td>\n",
       "      <td>0</td>\n",
       "      <td>0</td>\n",
       "      <td>0</td>\n",
       "      <td>0</td>\n",
       "      <td>0</td>\n",
       "      <td>0</td>\n",
       "      <td>0</td>\n",
       "    </tr>\n",
       "  </tbody>\n",
       "</table>\n",
       "<p>50000 rows × 137 columns</p>\n",
       "</div>"
      ],
      "text/plain": [
       "       Cuisine Style   Ranking  Price Range  Number of Reviews  Reviews  \\\n",
       "0                  2  2.122299            2                  4        0   \n",
       "1                  5  0.223158            2                 97        1   \n",
       "2                  1  1.087248            2                 28        1   \n",
       "3                  5  0.232031            3                202        1   \n",
       "4                  6  0.097368            3                162        1   \n",
       "...              ...       ...          ...                ...      ...   \n",
       "49995              4  0.185598            2                 79        1   \n",
       "49996              5  1.038147            2                542        0   \n",
       "49997              2  1.599226            2                  4        1   \n",
       "49998              5  0.692973            2                 70        0   \n",
       "49999              1  1.791759            2                260        1   \n",
       "\n",
       "       sample  Rating  Last_rev_days  Capital  Population  ...  Swiss  \\\n",
       "0           0     0.0           7782        1     2148327  ...      0   \n",
       "1           0     0.0           1234        1      655281  ...      0   \n",
       "2           0     0.0           1211        0      488100  ...      0   \n",
       "3           0     0.0           1233        1     8908081  ...      0   \n",
       "4           0     0.0           1169        1      437725  ...      0   \n",
       "...       ...     ...            ...      ...         ...  ...    ...   \n",
       "49995       1     4.5           1223        0     1378689  ...      0   \n",
       "49996       1     3.5           1218        1     2148327  ...      0   \n",
       "49997       1     4.5           1631        1      961609  ...      0   \n",
       "49998       1     4.0           1381        1     1790658  ...      0   \n",
       "49999       1     3.0           1908        0     1378689  ...      0   \n",
       "\n",
       "       Taiwanese  Thai  Tibetan  Turkish  Vegan Options  Vegetarian Friendly  \\\n",
       "0              0     0        0        0              0                    0   \n",
       "1              0     0        0        0              1                    1   \n",
       "2              0     0        0        0              0                    1   \n",
       "3              0     0        0        0              0                    1   \n",
       "4              0     0        0        0              0                    1   \n",
       "...          ...   ...      ...      ...            ...                  ...   \n",
       "49995          0     0        0        0              1                    1   \n",
       "49996          0     0        0        0              0                    1   \n",
       "49997          0     0        0        0              0                    0   \n",
       "49998          0     0        0        0              0                    1   \n",
       "49999          0     0        0        0              0                    0   \n",
       "\n",
       "       Venezuelan  Vietnamese  Wine Bar  \n",
       "0               0           0         0  \n",
       "1               0           0         0  \n",
       "2               0           0         0  \n",
       "3               0           0         0  \n",
       "4               0           0         0  \n",
       "...           ...         ...       ...  \n",
       "49995           0           0         0  \n",
       "49996           0           0         0  \n",
       "49997           0           0         0  \n",
       "49998           0           0         0  \n",
       "49999           0           0         0  \n",
       "\n",
       "[50000 rows x 137 columns]"
      ]
     },
     "execution_count": 196,
     "metadata": {},
     "output_type": "execute_result"
    }
   ],
   "source": [
    "data"
   ]
  },
  {
   "cell_type": "code",
   "execution_count": 200,
   "metadata": {},
   "outputs": [
    {
     "name": "stdout",
     "output_type": "stream",
     "text": [
      "В датасете пустых значений не обнаружено.\n"
     ]
    }
   ],
   "source": [
    "# Проверяем что не осталось пустых значений:\n",
    "\n",
    "empty = True\n",
    "\n",
    "for column in data.columns:\n",
    "    if data[column].isna().value_counts()[False] != len(data):\n",
    "        display(f'В столбце {column} обнаружено \\\n",
    "        {data[column].isna().value_counts()[True]} пустых значений.')\n",
    "        empty = False\n",
    "        \n",
    "if empty:\n",
    "    print('В датасете пустых значений не обнаружено.')"
   ]
  },
  {
   "cell_type": "code",
   "execution_count": null,
   "metadata": {},
   "outputs": [],
   "source": []
  },
  {
   "cell_type": "markdown",
   "metadata": {},
   "source": [
    "## 4. Корреляция признаков"
   ]
  },
  {
   "cell_type": "code",
   "execution_count": 205,
   "metadata": {},
   "outputs": [
    {
     "data": {
      "text/plain": [
       "<AxesSubplot:>"
      ]
     },
     "execution_count": 205,
     "metadata": {},
     "output_type": "execute_result"
    },
    {
     "data": {
      "image/png": "[encoded data removed]",
      "text/plain": [
       "<Figure size 1152x720 with 2 Axes>"
      ]
     },
     "metadata": {
      "needs_background": "light"
     },
     "output_type": "display_data"
    }
   ],
   "source": [
    "# Построим тепловую карту матрицы корреляций, исключив из нее города и кухни (иначе ничего не разобрать):\n",
    "\n",
    "plt.rcParams['figure.figsize'] = (16, 10)\n",
    "data_corr = data[['Cuisine Style', 'Ranking', 'Price Range', 'Number of Reviews',\n",
    "                  'Reviews', 'Rating', 'Last_rev_days', 'Capital', 'Population']]\n",
    "sns.heatmap(data_corr.corr(), annot=True, cmap='coolwarm')"
   ]
  },
  {
   "cell_type": "code",
   "execution_count": 207,
   "metadata": {},
   "outputs": [],
   "source": [
    "# По графику видно, что слишком скоррелированных с целевой переменной признаков у нас нет."
   ]
  },
  {
   "cell_type": "code",
   "execution_count": null,
   "metadata": {},
   "outputs": [],
   "source": []
  },
  {
   "cell_type": "markdown",
   "metadata": {},
   "source": [
    "## 5. Data Preprocessing"
   ]
  },
  {
   "cell_type": "code",
   "execution_count": 208,
   "metadata": {},
   "outputs": [],
   "source": [
    "# Теперь, для удобства и воспроизводимости кода, завернем всю обработку в одну большую функцию."
   ]
  },
  {
   "cell_type": "code",
   "execution_count": 209,
   "metadata": {},
   "outputs": [
    {
     "name": "stdout",
     "output_type": "stream",
     "text": [
      "<class 'pandas.core.frame.DataFrame'>\n",
      "RangeIndex: 50000 entries, 0 to 49999\n",
      "Data columns (total 11 columns):\n",
      " #   Column             Non-Null Count  Dtype  \n",
      "---  ------             --------------  -----  \n",
      " 0   Restaurant_id      50000 non-null  object \n",
      " 1   City               50000 non-null  object \n",
      " 2   Cuisine Style      38410 non-null  object \n",
      " 3   Ranking            50000 non-null  float64\n",
      " 4   Price Range        32639 non-null  object \n",
      " 5   Number of Reviews  46800 non-null  float64\n",
      " 6   Reviews            49998 non-null  object \n",
      " 7   URL_TA             50000 non-null  object \n",
      " 8   ID_TA              50000 non-null  object \n",
      " 9   sample             50000 non-null  int64  \n",
      " 10  Rating             50000 non-null  float64\n",
      "dtypes: float64(3), int64(1), object(7)\n",
      "memory usage: 4.2+ MB\n"
     ]
    }
   ],
   "source": [
    "# на всякий случай, заново подгружаем данные\n",
    "df_train = pd.read_csv(DATA_DIR+'/main_task.csv')\n",
    "df_test = pd.read_csv(DATA_DIR+'/kaggle_task.csv')\n",
    "df_train['sample'] = 1 # помечаем где у нас трейн\n",
    "df_test['sample'] = 0 # помечаем где у нас тест\n",
    "df_test['Rating'] = 0 # в тесте у нас нет значения Rating, \n",
    "                      # мы его должны предсказать, по этому пока просто заполняем нулями\n",
    "\n",
    "data = df_test.append(df_train, sort=False).reset_index(drop=True) # объединяем\n",
    "data.info()"
   ]
  },
  {
   "cell_type": "code",
   "execution_count": 210,
   "metadata": {},
   "outputs": [],
   "source": [
    "# Создаем единую функцию для предобработки данных:\n",
    "\n",
    "def preproc_data(df_input):\n",
    "\n",
    "    df_output = df_input.copy()\n",
    "\n",
    "    # Убираем не нужные для модели признаки:\n",
    "    df_output.drop(['Restaurant_id', 'ID_TA', 'URL_TA'], axis=1, inplace=True)\n",
    "\n",
    "    # Заполняем пропуски:\n",
    "    df_output['Cuisine Style'] = df_output['Cuisine Style'].fillna('Other')\n",
    "    df_output['Price Range'] = df_output['Price Range'].fillna('$$ - $$$')\n",
    "    df_output['Number of Reviews'] = data['Number of Reviews'].fillna(\n",
    "        df_output['Number of Reviews'].median())\n",
    "    df_output['Reviews'] = df_output['Reviews'].fillna('[[], []]')\n",
    "\n",
    "    # Обрабатываем признак 'Cuisine Style':\n",
    "    for i in ['\\'', '[', ']']:\n",
    "        df_output['Cuisine Style'] = df_output['Cuisine Style'].apply(\n",
    "            lambda x: x.replace(i, ''))\n",
    "\n",
    "    df_output['Cuisine Style'] = df_output['Cuisine Style'].apply(\n",
    "        lambda x: x.split(', '))\n",
    "\n",
    "    not_pop_cousine = []\n",
    "\n",
    "    for i in range(len(Cusines_count)):\n",
    "        if Cusines_count[i] < Cusines_count.quantile(0.25):\n",
    "            not_pop_cousine.append(Cusines_count.index[i])\n",
    "\n",
    "    def replace_cousines(cousines):\n",
    "        for i in range(len(cousines)):\n",
    "            if cousines[i] in not_pop_cousine:\n",
    "                cousines[i] = 'Other'\n",
    "        return list(set(cousines))\n",
    "\n",
    "    df_output['Cuisine Style'] = df_output['Cuisine Style'].apply(\n",
    "        replace_cousines)\n",
    "\n",
    "    # Обрабатываем признак 'Ranking':\n",
    "    rest_count = {}\n",
    "\n",
    "    for i in range(len(df_output['City'].value_counts().index)):\n",
    "        rest_count[df_output['City'].value_counts().index[i]] = df_output['City'].value_counts()[\n",
    "            df_output['City'].value_counts().index[i]]\n",
    "\n",
    "    for i in range(len(df_output)):\n",
    "        df_output['Ranking'][i] = (\n",
    "            df_output['Ranking'][i] / rest_count[(df_output['City'][i])])\n",
    "\n",
    "    # Обрабатываем признак 'Price Range':\n",
    "    def price_change(price):\n",
    "        if price == '$':\n",
    "            return 1\n",
    "        elif price == '$$ - $$$':\n",
    "            return 2\n",
    "        elif price == '$$$$':\n",
    "            return 3\n",
    "\n",
    "    df_output['Price Range'] = df_output['Price Range'].apply(price_change)\n",
    "\n",
    "    # Обрабатываем признак 'Number of Reviews':\n",
    "    df_output['Number of Reviews'] = df_output['Number of Reviews'].apply(\n",
    "        lambda x: int(x))\n",
    "\n",
    "    # Обрабатываем признак 'Reviews':\n",
    "    def days_from_last_rev(review):\n",
    "        if review == '[[], []]':\n",
    "            days = 7782\n",
    "        else:\n",
    "            for i in ['[[', ']]']:\n",
    "                review = review.replace(i, '')\n",
    "            review = review.split('], [')\n",
    "            review = review[1]\n",
    "            review = review[1: -1]\n",
    "            review = review.split('\\', \\'')\n",
    "            for i in range(len(review)):\n",
    "                review[i] = dt.datetime.strptime(review[i], '%m/%d/%Y')\n",
    "            if len(review) > 1:\n",
    "                if review[0] > review[1]:\n",
    "                    review = review[0]\n",
    "                else:\n",
    "                    review = review[1]\n",
    "            else:\n",
    "                review = review[0]\n",
    "            days = (dt.datetime(2021, 4, 22, 0, 0) - review).days\n",
    "        return days\n",
    "\n",
    "    df_output['Last_rev_days'] = df_output['Reviews'].apply(days_from_last_rev)\n",
    "\n",
    "    def rev_to_words(review):\n",
    "        if review == '[[], []]':\n",
    "            return ['-']\n",
    "        else:\n",
    "            for i in ['[[', ']]']:\n",
    "                review = review.replace(i, '')\n",
    "            review = review.split('], [')\n",
    "            review = review[0]\n",
    "            for i in ['\\'', ',']:\n",
    "                review = review.replace(i, '')\n",
    "            return re.sub(r\"[^a-zA-Z]+ \", \"\", review).lower().split(' ')\n",
    "\n",
    "    df_output['Reviews'] = df_output['Reviews'].apply(rev_to_words)\n",
    "\n",
    "    good_words = ['good', 'better', 'delicious', 'best', 'quick', 'top', 'great',\n",
    "                  'nice', 'lovely', 'cozy', 'cute', 'amazing', 'loved', 'friendly',\n",
    "                  'tasty', 'like', 'pleasant', 'fantastic', 'recommended', 'perfect',\n",
    "                  'outstanding', 'excellent', 'favourite', 'awesome', 'well',\n",
    "                  'wonderful', 'beautiful', 'enjoyable', 'super', 'reasonable',\n",
    "                  'affordable', 'welcoming', 'fine', 'fast', 'fabulous', 'favorite',\n",
    "                  'love', 'brilliant', 'pretty', 'interesting', 'charming', 'happy']\n",
    "\n",
    "    bad_words = ['pricey', 'slow', 'disappointing', 'expensive', 'worst', 'awful',\n",
    "                 'bad', 'terrible', 'rude', 'overpriced', 'avoid', 'horrible']\n",
    "\n",
    "    def review_rating(review):\n",
    "        rating = 0\n",
    "        for word in review:\n",
    "            if word in good_words:\n",
    "                rating += 1\n",
    "            if word in bad_words:\n",
    "                rating -= 1\n",
    "        return rating\n",
    "\n",
    "    df_output['Reviews'] = df_output['Reviews'].apply(review_rating)\n",
    "\n",
    "    # Добавляем данные по столицам и населению:\n",
    "    capital = {'Paris': 1, 'Stockholm': 1, 'London': 1, 'Berlin': 1, 'Munich': 0,\n",
    "               'Oporto': 0, 'Milan': 0, 'Bratislava': 1, 'Vienna': 1, 'Rome': 1,\n",
    "               'Barcelona': 0, 'Madrid': 1, 'Dublin': 1, 'Brussels': 1, 'Zurich': 1,\n",
    "               'Warsaw': 1, 'Budapest': 1, 'Copenhagen': 1, 'Amsterdam': 1,\n",
    "               'Lyon': 0, 'Hamburg': 0, 'Lisbon': 1, 'Prague': 1, 'Oslo': 1,\n",
    "               'Helsinki': 1, 'Edinburgh': 0, 'Geneva': 0, 'Ljubljana': 1,\n",
    "               'Athens': 1, 'Luxembourg': 1, 'Krakow': 0}\n",
    "\n",
    "    population = {'Paris': 2148327, 'Stockholm': 961609, 'London': 8908081,\n",
    "                  'Berlin': 3644826, 'Munich': 1471508, 'Oporto': 237591,\n",
    "                  'Milan': 1378689, 'Bratislava': 437725, 'Vienna': 1897491,\n",
    "                  'Rome': 2870500, 'Barcelona': 1664182, 'Madrid': 3266126,\n",
    "                  'Dublin': 1173179, 'Brussels': 179277, 'Zurich': 428737,\n",
    "                  'Warsaw': 1790658, 'Budapest': 1752286, 'Copenhagen': 615993,\n",
    "                  'Amsterdam': 872757, 'Lyon': 506615, 'Hamburg': 1841179,\n",
    "                  'Lisbon': 505526, 'Prague': 1301132, 'Oslo': 673469,\n",
    "                  'Helsinki': 655281, 'Edinburgh': 488100, 'Geneva': 200548,\n",
    "                  'Ljubljana': 284355, 'Athens': 664046, 'Luxembourg': 114303,\n",
    "                  'Krakow': 766683}\n",
    "\n",
    "    df_output['Capital'] = df_output['City'].apply(lambda x: capital[x])\n",
    "\n",
    "    df_output['Population'] = df_output['City'].apply(lambda x: population[x])\n",
    "\n",
    "    # Создаем dummies-переменные:\n",
    "    dummies_city = pd.get_dummies(df_output['City'], dummy_na=True)\n",
    "\n",
    "    dummies_cuisine = pd.get_dummies(\n",
    "        df_output['Cuisine Style'].apply(pd.Series).stack()).sum(level=0)\n",
    "\n",
    "    df_output = pd.concat([df_output, dummies_city], axis=1)\n",
    "\n",
    "    df_output.drop(['City'], axis=1, inplace=True)\n",
    "\n",
    "    df_output = pd.concat([df_output, dummies_cuisine], axis=1)\n",
    "\n",
    "    df_output['Cuisine Style'] = df_output['Cuisine Style'].apply(\n",
    "        lambda x: len(x))\n",
    "\n",
    "    # Возвращаем подготовленный датасет:\n",
    "    return df_output"
   ]
  },
  {
   "cell_type": "code",
   "execution_count": null,
   "metadata": {},
   "outputs": [],
   "source": []
  },
  {
   "cell_type": "code",
   "execution_count": 213,
   "metadata": {},
   "outputs": [
    {
     "data": {
      "text/html": [
       "<div>\n",
       "<style scoped>\n",
       "    .dataframe tbody tr th:only-of-type {\n",
       "        vertical-align: middle;\n",
       "    }\n",
       "\n",
       "    .dataframe tbody tr th {\n",
       "        vertical-align: top;\n",
       "    }\n",
       "\n",
       "    .dataframe thead th {\n",
       "        text-align: right;\n",
       "    }\n",
       "</style>\n",
       "<table border=\"1\" class=\"dataframe\">\n",
       "  <thead>\n",
       "    <tr style=\"text-align: right;\">\n",
       "      <th></th>\n",
       "      <th>Cuisine Style</th>\n",
       "      <th>Ranking</th>\n",
       "      <th>Price Range</th>\n",
       "      <th>Number of Reviews</th>\n",
       "      <th>Reviews</th>\n",
       "      <th>sample</th>\n",
       "      <th>Rating</th>\n",
       "      <th>Last_rev_days</th>\n",
       "      <th>Capital</th>\n",
       "      <th>Population</th>\n",
       "      <th>...</th>\n",
       "      <th>Swiss</th>\n",
       "      <th>Taiwanese</th>\n",
       "      <th>Thai</th>\n",
       "      <th>Tibetan</th>\n",
       "      <th>Turkish</th>\n",
       "      <th>Vegan Options</th>\n",
       "      <th>Vegetarian Friendly</th>\n",
       "      <th>Venezuelan</th>\n",
       "      <th>Vietnamese</th>\n",
       "      <th>Wine Bar</th>\n",
       "    </tr>\n",
       "  </thead>\n",
       "  <tbody>\n",
       "    <tr>\n",
       "      <th>35951</th>\n",
       "      <td>1</td>\n",
       "      <td>1.356661</td>\n",
       "      <td>1</td>\n",
       "      <td>3</td>\n",
       "      <td>1</td>\n",
       "      <td>1</td>\n",
       "      <td>4.5</td>\n",
       "      <td>1485</td>\n",
       "      <td>0</td>\n",
       "      <td>1841179</td>\n",
       "      <td>...</td>\n",
       "      <td>0</td>\n",
       "      <td>0</td>\n",
       "      <td>0</td>\n",
       "      <td>0</td>\n",
       "      <td>0</td>\n",
       "      <td>0</td>\n",
       "      <td>0</td>\n",
       "      <td>0</td>\n",
       "      <td>0</td>\n",
       "      <td>0</td>\n",
       "    </tr>\n",
       "    <tr>\n",
       "      <th>29074</th>\n",
       "      <td>2</td>\n",
       "      <td>1.619679</td>\n",
       "      <td>1</td>\n",
       "      <td>32</td>\n",
       "      <td>2</td>\n",
       "      <td>1</td>\n",
       "      <td>3.5</td>\n",
       "      <td>1249</td>\n",
       "      <td>1</td>\n",
       "      <td>2148327</td>\n",
       "      <td>...</td>\n",
       "      <td>0</td>\n",
       "      <td>0</td>\n",
       "      <td>0</td>\n",
       "      <td>0</td>\n",
       "      <td>0</td>\n",
       "      <td>0</td>\n",
       "      <td>0</td>\n",
       "      <td>0</td>\n",
       "      <td>0</td>\n",
       "      <td>0</td>\n",
       "    </tr>\n",
       "    <tr>\n",
       "      <th>372</th>\n",
       "      <td>2</td>\n",
       "      <td>0.868330</td>\n",
       "      <td>2</td>\n",
       "      <td>32</td>\n",
       "      <td>0</td>\n",
       "      <td>0</td>\n",
       "      <td>0.0</td>\n",
       "      <td>1217</td>\n",
       "      <td>1</td>\n",
       "      <td>1897491</td>\n",
       "      <td>...</td>\n",
       "      <td>0</td>\n",
       "      <td>0</td>\n",
       "      <td>0</td>\n",
       "      <td>0</td>\n",
       "      <td>0</td>\n",
       "      <td>0</td>\n",
       "      <td>0</td>\n",
       "      <td>0</td>\n",
       "      <td>0</td>\n",
       "      <td>0</td>\n",
       "    </tr>\n",
       "    <tr>\n",
       "      <th>23061</th>\n",
       "      <td>4</td>\n",
       "      <td>0.853499</td>\n",
       "      <td>1</td>\n",
       "      <td>103</td>\n",
       "      <td>1</td>\n",
       "      <td>1</td>\n",
       "      <td>4.5</td>\n",
       "      <td>1268</td>\n",
       "      <td>1</td>\n",
       "      <td>872757</td>\n",
       "      <td>...</td>\n",
       "      <td>0</td>\n",
       "      <td>0</td>\n",
       "      <td>0</td>\n",
       "      <td>0</td>\n",
       "      <td>0</td>\n",
       "      <td>1</td>\n",
       "      <td>1</td>\n",
       "      <td>0</td>\n",
       "      <td>0</td>\n",
       "      <td>0</td>\n",
       "    </tr>\n",
       "    <tr>\n",
       "      <th>39575</th>\n",
       "      <td>1</td>\n",
       "      <td>1.813708</td>\n",
       "      <td>2</td>\n",
       "      <td>6</td>\n",
       "      <td>0</td>\n",
       "      <td>1</td>\n",
       "      <td>4.0</td>\n",
       "      <td>1925</td>\n",
       "      <td>1</td>\n",
       "      <td>8908081</td>\n",
       "      <td>...</td>\n",
       "      <td>0</td>\n",
       "      <td>0</td>\n",
       "      <td>0</td>\n",
       "      <td>0</td>\n",
       "      <td>0</td>\n",
       "      <td>0</td>\n",
       "      <td>0</td>\n",
       "      <td>0</td>\n",
       "      <td>0</td>\n",
       "      <td>0</td>\n",
       "    </tr>\n",
       "    <tr>\n",
       "      <th>26054</th>\n",
       "      <td>4</td>\n",
       "      <td>0.889650</td>\n",
       "      <td>2</td>\n",
       "      <td>51</td>\n",
       "      <td>0</td>\n",
       "      <td>1</td>\n",
       "      <td>4.0</td>\n",
       "      <td>1418</td>\n",
       "      <td>1</td>\n",
       "      <td>179277</td>\n",
       "      <td>...</td>\n",
       "      <td>0</td>\n",
       "      <td>0</td>\n",
       "      <td>0</td>\n",
       "      <td>0</td>\n",
       "      <td>0</td>\n",
       "      <td>0</td>\n",
       "      <td>1</td>\n",
       "      <td>0</td>\n",
       "      <td>0</td>\n",
       "      <td>0</td>\n",
       "    </tr>\n",
       "    <tr>\n",
       "      <th>34688</th>\n",
       "      <td>1</td>\n",
       "      <td>2.203667</td>\n",
       "      <td>2</td>\n",
       "      <td>19</td>\n",
       "      <td>2</td>\n",
       "      <td>1</td>\n",
       "      <td>3.0</td>\n",
       "      <td>1409</td>\n",
       "      <td>1</td>\n",
       "      <td>2148327</td>\n",
       "      <td>...</td>\n",
       "      <td>0</td>\n",
       "      <td>0</td>\n",
       "      <td>0</td>\n",
       "      <td>0</td>\n",
       "      <td>0</td>\n",
       "      <td>0</td>\n",
       "      <td>0</td>\n",
       "      <td>0</td>\n",
       "      <td>0</td>\n",
       "      <td>0</td>\n",
       "    </tr>\n",
       "    <tr>\n",
       "      <th>2079</th>\n",
       "      <td>7</td>\n",
       "      <td>0.353020</td>\n",
       "      <td>2</td>\n",
       "      <td>678</td>\n",
       "      <td>1</td>\n",
       "      <td>0</td>\n",
       "      <td>0.0</td>\n",
       "      <td>1201</td>\n",
       "      <td>0</td>\n",
       "      <td>488100</td>\n",
       "      <td>...</td>\n",
       "      <td>0</td>\n",
       "      <td>0</td>\n",
       "      <td>0</td>\n",
       "      <td>0</td>\n",
       "      <td>0</td>\n",
       "      <td>1</td>\n",
       "      <td>1</td>\n",
       "      <td>0</td>\n",
       "      <td>0</td>\n",
       "      <td>0</td>\n",
       "    </tr>\n",
       "    <tr>\n",
       "      <th>15684</th>\n",
       "      <td>6</td>\n",
       "      <td>1.074344</td>\n",
       "      <td>2</td>\n",
       "      <td>55</td>\n",
       "      <td>3</td>\n",
       "      <td>1</td>\n",
       "      <td>4.0</td>\n",
       "      <td>1278</td>\n",
       "      <td>1</td>\n",
       "      <td>872757</td>\n",
       "      <td>...</td>\n",
       "      <td>0</td>\n",
       "      <td>0</td>\n",
       "      <td>0</td>\n",
       "      <td>0</td>\n",
       "      <td>0</td>\n",
       "      <td>0</td>\n",
       "      <td>0</td>\n",
       "      <td>0</td>\n",
       "      <td>0</td>\n",
       "      <td>0</td>\n",
       "    </tr>\n",
       "    <tr>\n",
       "      <th>25422</th>\n",
       "      <td>1</td>\n",
       "      <td>1.929793</td>\n",
       "      <td>2</td>\n",
       "      <td>6</td>\n",
       "      <td>1</td>\n",
       "      <td>1</td>\n",
       "      <td>3.5</td>\n",
       "      <td>1255</td>\n",
       "      <td>1</td>\n",
       "      <td>8908081</td>\n",
       "      <td>...</td>\n",
       "      <td>0</td>\n",
       "      <td>0</td>\n",
       "      <td>0</td>\n",
       "      <td>0</td>\n",
       "      <td>1</td>\n",
       "      <td>0</td>\n",
       "      <td>0</td>\n",
       "      <td>0</td>\n",
       "      <td>0</td>\n",
       "      <td>0</td>\n",
       "    </tr>\n",
       "  </tbody>\n",
       "</table>\n",
       "<p>10 rows × 137 columns</p>\n",
       "</div>"
      ],
      "text/plain": [
       "       Cuisine Style   Ranking  Price Range  Number of Reviews  Reviews  \\\n",
       "35951              1  1.356661            1                  3        1   \n",
       "29074              2  1.619679            1                 32        2   \n",
       "372                2  0.868330            2                 32        0   \n",
       "23061              4  0.853499            1                103        1   \n",
       "39575              1  1.813708            2                  6        0   \n",
       "26054              4  0.889650            2                 51        0   \n",
       "34688              1  2.203667            2                 19        2   \n",
       "2079               7  0.353020            2                678        1   \n",
       "15684              6  1.074344            2                 55        3   \n",
       "25422              1  1.929793            2                  6        1   \n",
       "\n",
       "       sample  Rating  Last_rev_days  Capital  Population  ...  Swiss  \\\n",
       "35951       1     4.5           1485        0     1841179  ...      0   \n",
       "29074       1     3.5           1249        1     2148327  ...      0   \n",
       "372         0     0.0           1217        1     1897491  ...      0   \n",
       "23061       1     4.5           1268        1      872757  ...      0   \n",
       "39575       1     4.0           1925        1     8908081  ...      0   \n",
       "26054       1     4.0           1418        1      179277  ...      0   \n",
       "34688       1     3.0           1409        1     2148327  ...      0   \n",
       "2079        0     0.0           1201        0      488100  ...      0   \n",
       "15684       1     4.0           1278        1      872757  ...      0   \n",
       "25422       1     3.5           1255        1     8908081  ...      0   \n",
       "\n",
       "       Taiwanese  Thai  Tibetan  Turkish  Vegan Options  Vegetarian Friendly  \\\n",
       "35951          0     0        0        0              0                    0   \n",
       "29074          0     0        0        0              0                    0   \n",
       "372            0     0        0        0              0                    0   \n",
       "23061          0     0        0        0              1                    1   \n",
       "39575          0     0        0        0              0                    0   \n",
       "26054          0     0        0        0              0                    1   \n",
       "34688          0     0        0        0              0                    0   \n",
       "2079           0     0        0        0              1                    1   \n",
       "15684          0     0        0        0              0                    0   \n",
       "25422          0     0        0        1              0                    0   \n",
       "\n",
       "       Venezuelan  Vietnamese  Wine Bar  \n",
       "35951           0           0         0  \n",
       "29074           0           0         0  \n",
       "372             0           0         0  \n",
       "23061           0           0         0  \n",
       "39575           0           0         0  \n",
       "26054           0           0         0  \n",
       "34688           0           0         0  \n",
       "2079            0           0         0  \n",
       "15684           0           0         0  \n",
       "25422           0           0         0  \n",
       "\n",
       "[10 rows x 137 columns]"
      ]
     },
     "execution_count": 213,
     "metadata": {},
     "output_type": "execute_result"
    }
   ],
   "source": [
    "# Проверяем что функция работает правильно:\n",
    "\n",
    "df_preproc = preproc_data(data)\n",
    "df_preproc.sample(10)"
   ]
  },
  {
   "cell_type": "code",
   "execution_count": 214,
   "metadata": {},
   "outputs": [
    {
     "name": "stdout",
     "output_type": "stream",
     "text": [
      "<class 'pandas.core.frame.DataFrame'>\n",
      "RangeIndex: 50000 entries, 0 to 49999\n",
      "Columns: 137 entries, Cuisine Style to Wine Bar\n",
      "dtypes: float64(2), int64(8), uint8(127)\n",
      "memory usage: 9.9 MB\n"
     ]
    }
   ],
   "source": [
    "df_preproc.info()"
   ]
  },
  {
   "cell_type": "code",
   "execution_count": 215,
   "metadata": {},
   "outputs": [
    {
     "name": "stdout",
     "output_type": "stream",
     "text": [
      "В датасете пустых значений не обнаружено.\n"
     ]
    }
   ],
   "source": [
    "empty = True\n",
    "\n",
    "for column in df_preproc.columns:\n",
    "    if df_preproc[column].isna().value_counts()[False] != len(df_preproc):\n",
    "        display(f'В столбце {column} обнаружено \\\n",
    "        {df_preproc[column].isna().value_counts()[True]} пустых значений.')\n",
    "        empty = False\n",
    "        \n",
    "if empty:\n",
    "    print('В датасете пустых значений не обнаружено.')"
   ]
  },
  {
   "cell_type": "code",
   "execution_count": null,
   "metadata": {},
   "outputs": [],
   "source": [
    "# Похоже что все в порядке, функция работает как надо."
   ]
  },
  {
   "cell_type": "code",
   "execution_count": null,
   "metadata": {},
   "outputs": [],
   "source": []
  },
  {
   "cell_type": "code",
   "execution_count": 216,
   "metadata": {},
   "outputs": [],
   "source": [
    "# Теперь выделим тестовую часть\n",
    "train_data = df_preproc.query('sample == 1').drop(['sample'], axis=1)\n",
    "test_data = df_preproc.query('sample == 0').drop(['sample'], axis=1)\n",
    "\n",
    "y = train_data.Rating.values            # наш таргет\n",
    "X = train_data.drop(['Rating'], axis=1)"
   ]
  },
  {
   "cell_type": "code",
   "execution_count": 217,
   "metadata": {},
   "outputs": [],
   "source": [
    "# Воспользуемся специальной функцие train_test_split для разбивки тестовых данных\n",
    "# выделим 20% данных на валидацию (параметр test_size)\n",
    "X_train, X_test, y_train, y_test = train_test_split(\n",
    "    X, y, test_size=0.2, random_state=RANDOM_SEED)"
   ]
  },
  {
   "cell_type": "code",
   "execution_count": 218,
   "metadata": {},
   "outputs": [
    {
     "data": {
      "text/plain": [
       "((10000, 136), (40000, 136), (40000, 135), (32000, 135), (8000, 135))"
      ]
     },
     "execution_count": 218,
     "metadata": {},
     "output_type": "execute_result"
    }
   ],
   "source": [
    "# проверяем\n",
    "test_data.shape, train_data.shape, X.shape, X_train.shape, X_test.shape"
   ]
  },
  {
   "cell_type": "markdown",
   "metadata": {},
   "source": [
    "## 6. Model "
   ]
  },
  {
   "cell_type": "code",
   "execution_count": 219,
   "metadata": {},
   "outputs": [],
   "source": [
    "# Импортируем необходимые библиотеки:\n",
    "from sklearn.ensemble import RandomForestRegressor # инструмент для создания и обучения модели\n",
    "from sklearn import metrics # инструменты для оценки точности модели"
   ]
  },
  {
   "cell_type": "code",
   "execution_count": 220,
   "metadata": {},
   "outputs": [],
   "source": [
    "# Создаём модель (НАСТРОЙКИ НЕ ТРОГАЕМ)\n",
    "model = RandomForestRegressor(\n",
    "    n_estimators=100, verbose=1, n_jobs=-1, random_state=RANDOM_SEED)"
   ]
  },
  {
   "cell_type": "code",
   "execution_count": 221,
   "metadata": {
    "scrolled": true
   },
   "outputs": [
    {
     "name": "stderr",
     "output_type": "stream",
     "text": [
      "[Parallel(n_jobs=-1)]: Using backend ThreadingBackend with 8 concurrent workers.\n",
      "[Parallel(n_jobs=-1)]: Done  34 tasks      | elapsed:    5.5s\n",
      "[Parallel(n_jobs=-1)]: Done 100 out of 100 | elapsed:   13.6s finished\n",
      "[Parallel(n_jobs=8)]: Using backend ThreadingBackend with 8 concurrent workers.\n",
      "[Parallel(n_jobs=8)]: Done  34 tasks      | elapsed:    0.0s\n",
      "[Parallel(n_jobs=8)]: Done 100 out of 100 | elapsed:    0.1s finished\n"
     ]
    }
   ],
   "source": [
    "# Обучаем модель на тестовом наборе данных\n",
    "model.fit(X_train, y_train)\n",
    "\n",
    "# Используем обученную модель для предсказания рейтинга ресторанов в тестовой выборке.\n",
    "# Предсказанные значения записываем в переменную y_pred\n",
    "y_pred = model.predict(X_test)"
   ]
  },
  {
   "cell_type": "code",
   "execution_count": 225,
   "metadata": {},
   "outputs": [],
   "source": [
    "# В исходном датасете все значения рейтинга кратны 0.5, а на выходе нашей модели нет.\n",
    "# Создадим функцию для округления:\n",
    "\n",
    "def round_rate(rating):\n",
    "    return np.round(rating * 2) / 2\n",
    "\n",
    "y_pred = round_rate(y_pred) "
   ]
  },
  {
   "cell_type": "code",
   "execution_count": 247,
   "metadata": {},
   "outputs": [
    {
     "name": "stdout",
     "output_type": "stream",
     "text": [
      "MAE: 0.1748125\n"
     ]
    }
   ],
   "source": [
    "# Сравниваем предсказанные значения (y_pred) с реальными (y_test), и смотрим насколько они в среднем отличаются\n",
    "# Метрика называется Mean Absolute Error (MAE) и показывает среднее отклонение предсказанных значений от фактических.\n",
    "print('MAE:', metrics.mean_absolute_error(y_test, y_pred))"
   ]
  },
  {
   "cell_type": "code",
   "execution_count": 223,
   "metadata": {},
   "outputs": [
    {
     "data": {
      "text/plain": [
       "<AxesSubplot:>"
      ]
     },
     "execution_count": 223,
     "metadata": {},
     "output_type": "execute_result"
    },
    {
     "data": {
      "image/png": "[encoded data removed]",
      "text/plain": [
       "<Figure size 720x720 with 1 Axes>"
      ]
     },
     "metadata": {
      "needs_background": "light"
     },
     "output_type": "display_data"
    }
   ],
   "source": [
    "# в RandomForestRegressor есть возможность вывести самые важные признаки для модели\n",
    "plt.rcParams['figure.figsize'] = (10,10)\n",
    "feat_importances = pd.Series(model.feature_importances_, index=X.columns)\n",
    "feat_importances.nlargest(15).plot(kind='barh')"
   ]
  },
  {
   "cell_type": "markdown",
   "metadata": {},
   "source": [
    "## 7. Submission"
   ]
  },
  {
   "cell_type": "code",
   "execution_count": null,
   "metadata": {},
   "outputs": [],
   "source": [
    "# Подготовим submission для соревнования на kaggle:"
   ]
  },
  {
   "cell_type": "code",
   "execution_count": null,
   "metadata": {},
   "outputs": [],
   "source": [
    "test_data = test_data.drop(['Rating'], axis=1)"
   ]
  },
  {
   "cell_type": "code",
   "execution_count": 242,
   "metadata": {},
   "outputs": [
    {
     "name": "stderr",
     "output_type": "stream",
     "text": [
      "[Parallel(n_jobs=8)]: Using backend ThreadingBackend with 8 concurrent workers.\n",
      "[Parallel(n_jobs=8)]: Done  34 tasks      | elapsed:    0.0s\n",
      "[Parallel(n_jobs=8)]: Done 100 out of 100 | elapsed:    0.1s finished\n"
     ]
    }
   ],
   "source": [
    "predict_submission = model.predict(test_data)"
   ]
  },
  {
   "cell_type": "code",
   "execution_count": 243,
   "metadata": {},
   "outputs": [],
   "source": [
    "predict_submission = round_rate(predict_submission)"
   ]
  },
  {
   "cell_type": "code",
   "execution_count": 245,
   "metadata": {},
   "outputs": [
    {
     "data": {
      "text/html": [
       "<div>\n",
       "<style scoped>\n",
       "    .dataframe tbody tr th:only-of-type {\n",
       "        vertical-align: middle;\n",
       "    }\n",
       "\n",
       "    .dataframe tbody tr th {\n",
       "        vertical-align: top;\n",
       "    }\n",
       "\n",
       "    .dataframe thead th {\n",
       "        text-align: right;\n",
       "    }\n",
       "</style>\n",
       "<table border=\"1\" class=\"dataframe\">\n",
       "  <thead>\n",
       "    <tr style=\"text-align: right;\">\n",
       "      <th></th>\n",
       "      <th>Restaurant_id</th>\n",
       "      <th>Rating</th>\n",
       "    </tr>\n",
       "  </thead>\n",
       "  <tbody>\n",
       "    <tr>\n",
       "      <th>0</th>\n",
       "      <td>id_0</td>\n",
       "      <td>3.0</td>\n",
       "    </tr>\n",
       "    <tr>\n",
       "      <th>1</th>\n",
       "      <td>id_1</td>\n",
       "      <td>4.5</td>\n",
       "    </tr>\n",
       "    <tr>\n",
       "      <th>2</th>\n",
       "      <td>id_2</td>\n",
       "      <td>4.5</td>\n",
       "    </tr>\n",
       "    <tr>\n",
       "      <th>3</th>\n",
       "      <td>id_3</td>\n",
       "      <td>4.5</td>\n",
       "    </tr>\n",
       "    <tr>\n",
       "      <th>4</th>\n",
       "      <td>id_4</td>\n",
       "      <td>4.5</td>\n",
       "    </tr>\n",
       "    <tr>\n",
       "      <th>5</th>\n",
       "      <td>id_5</td>\n",
       "      <td>4.5</td>\n",
       "    </tr>\n",
       "    <tr>\n",
       "      <th>6</th>\n",
       "      <td>id_6</td>\n",
       "      <td>3.0</td>\n",
       "    </tr>\n",
       "    <tr>\n",
       "      <th>7</th>\n",
       "      <td>id_7</td>\n",
       "      <td>1.5</td>\n",
       "    </tr>\n",
       "    <tr>\n",
       "      <th>8</th>\n",
       "      <td>id_8</td>\n",
       "      <td>4.0</td>\n",
       "    </tr>\n",
       "    <tr>\n",
       "      <th>9</th>\n",
       "      <td>id_9</td>\n",
       "      <td>4.5</td>\n",
       "    </tr>\n",
       "  </tbody>\n",
       "</table>\n",
       "</div>"
      ],
      "text/plain": [
       "  Restaurant_id  Rating\n",
       "0          id_0     3.0\n",
       "1          id_1     4.5\n",
       "2          id_2     4.5\n",
       "3          id_3     4.5\n",
       "4          id_4     4.5\n",
       "5          id_5     4.5\n",
       "6          id_6     3.0\n",
       "7          id_7     1.5\n",
       "8          id_8     4.0\n",
       "9          id_9     4.5"
      ]
     },
     "execution_count": 245,
     "metadata": {},
     "output_type": "execute_result"
    }
   ],
   "source": [
    "sample_submission['Rating'] = predict_submission\n",
    "sample_submission.to_csv('submission.csv', index=False)\n",
    "sample_submission.head(10)"
   ]
  }
 ],
 "metadata": {
  "kernelspec": {
   "display_name": "Python 3",
   "language": "python",
   "name": "python3"
  },
  "language_info": {
   "codemirror_mode": {
    "name": "ipython",
    "version": 3
   },
   "file_extension": ".py",
   "mimetype": "text/x-python",
   "name": "python",
   "nbconvert_exporter": "python",
   "pygments_lexer": "ipython3",
   "version": "3.8.5"
  }
 },
 "nbformat": 4,
 "nbformat_minor": 1
}
