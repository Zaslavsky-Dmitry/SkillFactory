{
 "cells": [
  {
   "cell_type": "code",
   "execution_count": 1,
   "metadata": {},
   "outputs": [
    {
     "name": "stdout",
     "output_type": "stream",
     "text": [
      "Hello World!\n"
     ]
    }
   ],
   "source": [
    "print ('Hello World!')"
   ]
  },
  {
   "cell_type": "code",
   "execution_count": 2,
   "metadata": {},
   "outputs": [
    {
     "data": {
      "text/plain": [
       "20.0"
      ]
     },
     "execution_count": 2,
     "metadata": {},
     "output_type": "execute_result"
    }
   ],
   "source": [
    "(67+33)/25*(25-20)"
   ]
  },
  {
   "cell_type": "code",
   "execution_count": 3,
   "metadata": {},
   "outputs": [
    {
     "data": {
      "text/plain": [
       "17.414074767267998"
      ]
     },
     "execution_count": 3,
     "metadata": {},
     "output_type": "execute_result"
    }
   ],
   "source": [
    "(4+5*60-17+65/4)**(1/2)"
   ]
  },
  {
   "cell_type": "code",
   "execution_count": 4,
   "metadata": {},
   "outputs": [
    {
     "data": {
      "text/plain": [
       "1916.7312813742387"
      ]
     },
     "execution_count": 4,
     "metadata": {},
     "output_type": "execute_result"
    }
   ],
   "source": [
    "6.996+45*((13/2)**2)+2*(18**(1/2))"
   ]
  },
  {
   "cell_type": "code",
   "execution_count": 5,
   "metadata": {},
   "outputs": [
    {
     "data": {
      "text/plain": [
       "-0.3909200032552083"
      ]
     },
     "execution_count": 5,
     "metadata": {},
     "output_type": "execute_result"
    }
   ],
   "source": [
    "(1267-20*((5**3/2)**2))/((8**5)*(36**(1/2)))"
   ]
  },
  {
   "cell_type": "code",
   "execution_count": 6,
   "metadata": {},
   "outputs": [
    {
     "data": {
      "text/plain": [
       "-4251528.0"
      ]
     },
     "execution_count": 6,
     "metadata": {},
     "output_type": "execute_result"
    }
   ],
   "source": [
    "((((9**(1/2))**3)**2)**2)/(-2**(-3))"
   ]
  },
  {
   "cell_type": "code",
   "execution_count": 7,
   "metadata": {},
   "outputs": [
    {
     "name": "stdout",
     "output_type": "stream",
     "text": [
      "7 <class 'float'>\n"
     ]
    }
   ],
   "source": [
    "agent_name = 7.0\n",
    "\n",
    "print (int(agent_name), type (agent_name))\n",
    "#agent_name=int(agent_name)\n",
    "#type (agent_name)\n",
    "#print (agent_name, type (agent_name))"
   ]
  },
  {
   "cell_type": "code",
   "execution_count": 8,
   "metadata": {},
   "outputs": [
    {
     "data": {
      "text/plain": [
       "'hey!'"
      ]
     },
     "execution_count": 8,
     "metadata": {},
     "output_type": "execute_result"
    }
   ],
   "source": [
    "'hey'+'!'"
   ]
  },
  {
   "cell_type": "code",
   "execution_count": 9,
   "metadata": {},
   "outputs": [
    {
     "data": {
      "text/plain": [
       "float"
      ]
     },
     "execution_count": 9,
     "metadata": {},
     "output_type": "execute_result"
    }
   ],
   "source": [
    "type(2+3.4)"
   ]
  },
  {
   "cell_type": "code",
   "execution_count": 10,
   "metadata": {},
   "outputs": [
    {
     "data": {
      "text/plain": [
       "float"
      ]
     },
     "execution_count": 10,
     "metadata": {},
     "output_type": "execute_result"
    }
   ],
   "source": [
    "a = 4 ** (1/2)\n",
    "type (a)"
   ]
  },
  {
   "cell_type": "code",
   "execution_count": 11,
   "metadata": {},
   "outputs": [
    {
     "data": {
      "text/plain": [
       "str"
      ]
     },
     "execution_count": 11,
     "metadata": {},
     "output_type": "execute_result"
    }
   ],
   "source": [
    "type('I' + 'love' + 'Python')\n",
    "#a = type('I' + 'love' + 'Python')\n",
    "#type (a)"
   ]
  },
  {
   "cell_type": "code",
   "execution_count": 12,
   "metadata": {},
   "outputs": [
    {
     "name": "stdout",
     "output_type": "stream",
     "text": [
      "Введите основание степени: \n",
      "2\n",
      "Введите показатель степени: \n",
      "5\n",
      "Полученное число: 32.0\n"
     ]
    }
   ],
   "source": [
    "a = float(input('Введите основание степени: \\n'))\n",
    "b = float(input('Введите показатель степени: \\n'))\n",
    "# В функции print() можно в качестве аргументов \n",
    "# перечислять через запятую все нужные для вывода данные\n",
    "print('Полученное число:', a**b) "
   ]
  },
  {
   "cell_type": "code",
   "execution_count": 13,
   "metadata": {},
   "outputs": [
    {
     "name": "stdout",
     "output_type": "stream",
     "text": [
      "Введите своё имя: \n",
      "йцукен\n",
      "Сегодня Вас зовут йцукен\n"
     ]
    }
   ],
   "source": [
    "name = input('Введите своё имя: \\n')\n",
    "print ('Сегодня Вас зовут', name)"
   ]
  },
  {
   "cell_type": "code",
   "execution_count": 14,
   "metadata": {},
   "outputs": [
    {
     "name": "stdout",
     "output_type": "stream",
     "text": [
      "укеценуе\n",
      "8\n"
     ]
    }
   ],
   "source": [
    "word = input()\n",
    "print (len(word))"
   ]
  },
  {
   "cell_type": "code",
   "execution_count": 15,
   "metadata": {},
   "outputs": [
    {
     "name": "stdout",
     "output_type": "stream",
     "text": [
      "24.691358024691358\n"
     ]
    }
   ],
   "source": [
    "weight=80 \n",
    "height = 1.8\n",
    "print (weight/(height**2))"
   ]
  },
  {
   "cell_type": "code",
   "execution_count": 16,
   "metadata": {},
   "outputs": [
    {
     "name": "stdout",
     "output_type": "stream",
     "text": [
      "Привет! 7 16807\n"
     ]
    }
   ],
   "source": [
    "string = 'Привет!' \n",
    "power = 5\n",
    "print (string, len(string), len(string)**int(power))"
   ]
  },
  {
   "cell_type": "code",
   "execution_count": 17,
   "metadata": {},
   "outputs": [
    {
     "name": "stdout",
     "output_type": "stream",
     "text": [
      "Число нечётное.\n"
     ]
    }
   ],
   "source": [
    "a = 3\n",
    "if a % 2 == 0:\n",
    "    print('Число чётное.')\n",
    "else:\n",
    "    print('Число нечётное.')"
   ]
  },
  {
   "cell_type": "code",
   "execution_count": 18,
   "metadata": {},
   "outputs": [
    {
     "name": "stdout",
     "output_type": "stream",
     "text": [
      "Эх, это не очень редкое слово...\n"
     ]
    }
   ],
   "source": [
    "word = 'ОченьДлинноеСлово'\n",
    "if 'ф' in word:\n",
    "    print ('Ого! Вы ввели редкое слово!')\n",
    "else:\n",
    "    print ('Эх, это не очень редкое слово...')"
   ]
  },
  {
   "cell_type": "code",
   "execution_count": 19,
   "metadata": {},
   "outputs": [
    {
     "name": "stdout",
     "output_type": "stream",
     "text": [
      "13\n"
     ]
    }
   ],
   "source": [
    "number = 169\n",
    "if int(number**0.5)==(number**0.5):\n",
    "    print (int(number**0.5))\n",
    "else:\n",
    "    print ('Квадратный корень из', number, '- не целое число')"
   ]
  },
  {
   "cell_type": "code",
   "execution_count": 20,
   "metadata": {},
   "outputs": [
    {
     "name": "stdout",
     "output_type": "stream",
     "text": [
      "хорошо\n"
     ]
    }
   ],
   "source": [
    "mark = 7\n",
    "if 1<=mark<4:\n",
    "    print('неудовлетворительно')\n",
    "elif 4<=mark<=5:\n",
    "    print('удовлетворительно')\n",
    "elif 6<=mark<=7:\n",
    "    print('хорошо')\n",
    "elif 8<=mark<=10:\n",
    "    print('отлично')"
   ]
  },
  {
   "cell_type": "code",
   "execution_count": 21,
   "metadata": {},
   "outputs": [
    {
     "name": "stdout",
     "output_type": "stream",
     "text": [
      "1\n"
     ]
    }
   ],
   "source": [
    "x = 10\n",
    "y = 15\n",
    "\n",
    "\n",
    "if y > x**y - 1000 or \"test\" > \"push\":\n",
    "    print('1')\n",
    "else:\n",
    "    print('2')"
   ]
  },
  {
   "cell_type": "code",
   "execution_count": 22,
   "metadata": {},
   "outputs": [
    {
     "name": "stdout",
     "output_type": "stream",
     "text": [
      "Попробуем поискать ещё...\n"
     ]
    }
   ],
   "source": [
    "height = 180\n",
    "weight = 92\n",
    "color = 'синий'\n",
    "\n",
    "if height>170 and weight<80 and colour=='красный':\n",
    "    print('Ваша половинка нашлась!')\n",
    "else:\n",
    "    print('Попробуем поискать ещё...')"
   ]
  },
  {
   "cell_type": "code",
   "execution_count": 23,
   "metadata": {},
   "outputs": [
    {
     "name": "stdout",
     "output_type": "stream",
     "text": [
      "Вова, это нужное число\n"
     ]
    }
   ],
   "source": [
    "number = 346\n",
    "\n",
    "if number%2 or number%5 or number%173 or number%821:\n",
    "    print('Вова, это нужное число')\n",
    "else:\n",
    "    print('Вова, в этот раз ты не попал')"
   ]
  },
  {
   "cell_type": "code",
   "execution_count": 24,
   "metadata": {},
   "outputs": [
    {
     "name": "stdout",
     "output_type": "stream",
     "text": [
      "C++\n"
     ]
    }
   ],
   "source": [
    "fav_word = 'Аппликация'\n",
    "\n",
    "#print(fav_word)\n",
    "#print (type(fav_word))\n",
    "#if fav_word=='рептилия' or 'питон' or 'змея':\n",
    "#    print('Python')\n",
    "\n",
    "if fav_word == ('рубин' or 'кристалл'):\n",
    "    print('Ruby')\n",
    "elif fav_word == 'плюс' or 'плюсы':\n",
    "    print('C++')\n",
    "else:\n",
    "    print('Python')\n"
   ]
  },
  {
   "cell_type": "code",
   "execution_count": 25,
   "metadata": {},
   "outputs": [
    {
     "name": "stdout",
     "output_type": "stream",
     "text": [
      "Python\n"
     ]
    }
   ],
   "source": [
    "fav_word = 'Аппликация'\n",
    "\n",
    "\n",
    "if fav_word=='рубин' or fav_word=='кристалл':\n",
    "    print('Ruby')\n",
    "elif fav_word=='рептилия' or fav_word=='питон' or fav_word=='змея':\n",
    "    print('Python')\n",
    "elif fav_word=='плюс' or fav_word=='плюсы':\n",
    "    print('C++')\n",
    "else:\n",
    "    print('Python')"
   ]
  },
  {
   "cell_type": "code",
   "execution_count": 26,
   "metadata": {},
   "outputs": [
    {
     "name": "stdout",
     "output_type": "stream",
     "text": [
      "Преподаватель занят.\n"
     ]
    }
   ],
   "source": [
    "hour = 18 \n",
    "minute = 47\n",
    "\n",
    "if hour<10 or hour>=20 or (hour==10 and 30<=minute<=59) or hour==11 or (hour==12 and minute==0) or (hour==13 and 40<=minute<=59) or hour==14 or (hour==15 and minute==0) or hour==18 or (hour==19 and 30<=minute<=59):\n",
    "    print('Преподаватель занят.')\n",
    "else:\n",
    "    print('Преподаватель свободен.')"
   ]
  },
  {
   "cell_type": "code",
   "execution_count": 27,
   "metadata": {},
   "outputs": [
    {
     "name": "stdout",
     "output_type": "stream",
     "text": [
      "n = 8\n",
      "1 3 5 7 "
     ]
    }
   ],
   "source": [
    "n = int(input('n = '))\n",
    "for i in range(1, n, 2):\n",
    "    print(i, end=' ')\n",
    "else:\n",
    "    if n % 2:\n",
    "        print(n)"
   ]
  },
  {
   "cell_type": "code",
   "execution_count": 28,
   "metadata": {},
   "outputs": [
    {
     "name": "stdout",
     "output_type": "stream",
     "text": [
      "пдинк"
     ]
    }
   ],
   "source": [
    "word = 'подшипник'\n",
    "for i, letter in enumerate(word):\n",
    "    if (i+1)%2:\n",
    "        print(letter, end='')"
   ]
  },
  {
   "cell_type": "code",
   "execution_count": 29,
   "metadata": {},
   "outputs": [
    {
     "name": "stdout",
     "output_type": "stream",
     "text": [
      "2013 год невисокосный\n",
      "2014 год невисокосный\n",
      "2015 год невисокосный\n",
      "2016 год високосный\n",
      "2017 год невисокосный\n",
      "2018 год невисокосный\n",
      "2019 год невисокосный\n",
      "2020 год високосный\n"
     ]
    }
   ],
   "source": [
    "year_1 = 2013 \n",
    "year_2 = 2020\n",
    "\n",
    "for i in range (year_1, (year_2+1)):\n",
    "    if i%4==0:\n",
    "        print(i,'год високосный')\n",
    "    else:\n",
    "        print(i,'год невисокосный')"
   ]
  },
  {
   "cell_type": "code",
   "execution_count": 30,
   "metadata": {},
   "outputs": [
    {
     "name": "stdout",
     "output_type": "stream",
     "text": [
      "и\n",
      "у\n",
      "а\n",
      "и\n",
      "а\n"
     ]
    }
   ],
   "source": [
    "word = 'Зимушка-зима'\n",
    "\n",
    "for i, letter in enumerate(word):\n",
    "    if letter in('а','е','ё','и','о','у','ы','э','ю','я'):\n",
    "        print(letter)"
   ]
  },
  {
   "cell_type": "code",
   "execution_count": 31,
   "metadata": {},
   "outputs": [
    {
     "name": "stdout",
     "output_type": "stream",
     "text": [
      "Буква 1 в этом имени -С\n",
      "Буква 2 в этом имени -е\n",
      "Буква 3 в этом имени -р\n",
      "Буква 4 в этом имени -г\n",
      "Буква 5 в этом имени -е\n",
      "Буква 6 в этом имени -й\n"
     ]
    }
   ],
   "source": [
    "name = 'Сергей'\n",
    "for i, letter in enumerate(name):\n",
    "    print('Буква {} в этом имени -{}'.format((i+1),letter))"
   ]
  },
  {
   "cell_type": "code",
   "execution_count": 32,
   "metadata": {},
   "outputs": [
    {
     "name": "stdout",
     "output_type": "stream",
     "text": [
      "3\n",
      "5\n",
      "9\n",
      "15\n",
      "21\n",
      "25\n",
      "27\n",
      "33\n",
      "35\n",
      "39\n",
      "45\n"
     ]
    }
   ],
   "source": [
    "num_1 = 1 \n",
    "num_2 = 45\n",
    "if int(num_2)<int(num_1) or int(num_1)<0:\n",
    "    print('Введён неверный диапазон чисел')\n",
    "else:\n",
    "    for i in range(int(num_1), (int(num_2)+1)):\n",
    "        if ((i%3==0) or (i%5==0)) and (i%2==1):\n",
    "            print(i)"
   ]
  },
  {
   "cell_type": "code",
   "execution_count": 33,
   "metadata": {
    "scrolled": true
   },
   "outputs": [
    {
     "name": "stdout",
     "output_type": "stream",
     "text": [
      "1 1 1\n",
      "2 4 8\n",
      "3 9 27\n",
      "4 16 64\n",
      "5 25 125\n",
      "6 36 216\n",
      "7 49 343\n",
      "8 64 512\n",
      "9 81 729\n",
      "10 100 1000\n"
     ]
    }
   ],
   "source": [
    "for i in range(1, 11):\n",
    "    print(i, i**2, i**3)"
   ]
  },
  {
   "cell_type": "code",
   "execution_count": 34,
   "metadata": {
    "scrolled": true
   },
   "outputs": [
    {
     "name": "stdout",
     "output_type": "stream",
     "text": [
      "1\n",
      "2\n",
      "3\n",
      "4\n",
      "6\n",
      "12\n",
      "151\n",
      "302\n",
      "453\n",
      "604\n",
      "906\n",
      "1812\n"
     ]
    }
   ],
   "source": [
    "number = 1812\n",
    "for i in range(1, number+1):\n",
    "    if number%i==0:\n",
    "        print(i)"
   ]
  },
  {
   "cell_type": "code",
   "execution_count": 35,
   "metadata": {},
   "outputs": [
    {
     "name": "stdout",
     "output_type": "stream",
     "text": [
      "2\n"
     ]
    }
   ],
   "source": [
    "num_1 = 38\n",
    "num_2 = 12\n",
    "if num_1<num_2:\n",
    "    for i in range(2, num_2+1):\n",
    "        if num_1%i==0 and num_2%i==0:\n",
    "            print(i)\n",
    "else:\n",
    "    for i in range(2, num_1+1):\n",
    "        if num_1%i==0 and num_2%i==0:\n",
    "            print(i)"
   ]
  },
  {
   "cell_type": "code",
   "execution_count": 36,
   "metadata": {},
   "outputs": [
    {
     "name": "stdout",
     "output_type": "stream",
     "text": [
      "55\n"
     ]
    }
   ],
   "source": [
    "n = 10\n",
    "sum_fib=0\n",
    "for i in range(1, n+1):\n",
    "    sum_fib += i\n",
    "print(sum_fib)"
   ]
  },
  {
   "cell_type": "code",
   "execution_count": 37,
   "metadata": {},
   "outputs": [
    {
     "name": "stdout",
     "output_type": "stream",
     "text": [
      "n = 8\n",
      "1 => 1\n",
      "2 => 1\n",
      "3 => 2\n",
      "4 => 3\n",
      "5 => 5\n",
      "6 => 8\n",
      "7 => 13\n",
      "8 => 21\n"
     ]
    }
   ],
   "source": [
    "f = None\n",
    "f1, f2 = 1, 1\n",
    "n = int(input('n = '))\n",
    "print('1 =>', f1)\n",
    "print('2 =>', f2)\n",
    "for j in range(3, n + 1):\n",
    "    f  = f1 + f2\n",
    "    f1, f2 = f2, f\n",
    "    print(j, '=>', f)"
   ]
  },
  {
   "cell_type": "code",
   "execution_count": 38,
   "metadata": {},
   "outputs": [
    {
     "name": "stdout",
     "output_type": "stream",
     "text": [
      "15 X 1 = 15\n",
      "15 X 2 = 30\n",
      "15 X 3 = 45\n",
      "15 X 4 = 60\n",
      "15 X 5 = 75\n",
      "15 X 6 = 90\n",
      "15 X 7 = 105\n",
      "15 X 8 = 120\n",
      "15 X 9 = 135\n",
      "15 X 10 = 150\n"
     ]
    }
   ],
   "source": [
    "number = 15\n",
    "for i in range(1, 11):\n",
    "    print(number, 'X', i, '=', number*i)"
   ]
  },
  {
   "cell_type": "code",
   "execution_count": 39,
   "metadata": {},
   "outputs": [
    {
     "name": "stdout",
     "output_type": "stream",
     "text": [
      "4\n"
     ]
    }
   ],
   "source": [
    "num_1 = 1812\n",
    "num_2 = 2500\n",
    "for i in range(num_2, 1, -1):\n",
    "    if num_1%i==0 and num_2%i==0:\n",
    "        print(i)\n",
    "        break\n",
    "else:\n",
    "    print('Общих делителей не найдено')"
   ]
  },
  {
   "cell_type": "code",
   "execution_count": 40,
   "metadata": {},
   "outputs": [
    {
     "name": "stdout",
     "output_type": "stream",
     "text": [
      "стркция"
     ]
    }
   ],
   "source": [
    "string = 'абстракция'\n",
    "for i, letter in enumerate(string):\n",
    "    if letter not in ('а','б','в'):\n",
    "        print(letter, end='')"
   ]
  },
  {
   "cell_type": "code",
   "execution_count": 41,
   "metadata": {},
   "outputs": [
    {
     "name": "stdout",
     "output_type": "stream",
     "text": [
      "Увы, это неправильный ответ\n",
      "Увы, это неправильный ответ\n",
      "Увы, это неправильный ответ\n",
      "Увы, это неправильный ответ\n",
      "Увы, это неправильный ответ\n",
      "Это безнадёжно!\n"
     ]
    }
   ],
   "source": [
    "#string = input('Любите ли вы Python?')\n",
    "#string = 'Нет'\n",
    "\n",
    "for i in range(5, 0, -1):\n",
    "    string = 'Нет'\n",
    "    if string=='Да':\n",
    "        print('Это отлично!')\n",
    "        break\n",
    "#    if i==1:\n",
    "#        print('Это безнадёжно!')\n",
    "#        break\n",
    "    print('Увы, это неправильный ответ')\n",
    "else:\n",
    "    print('Это безнадёжно!')"
   ]
  },
  {
   "cell_type": "code",
   "execution_count": 42,
   "metadata": {},
   "outputs": [
    {
     "name": "stdout",
     "output_type": "stream",
     "text": [
      "Простое\n"
     ]
    }
   ],
   "source": [
    "number = 173\n",
    "for i in range(number-1, 1, -1):\n",
    "    if number%i==0:\n",
    "        print('Не является простым')\n",
    "        break\n",
    "else:\n",
    "    print('Простое')"
   ]
  },
  {
   "cell_type": "code",
   "execution_count": 43,
   "metadata": {},
   "outputs": [
    {
     "name": "stdout",
     "output_type": "stream",
     "text": [
      "Строка мне не нравится!\n"
     ]
    }
   ],
   "source": [
    "string = 'прелестная строка'\n",
    "for i, letter in enumerate(string):\n",
    "    if (letter in ('аеёиоуыэюя')) and i%2==0:\n",
    "        print('Строка мне не нравится!')\n",
    "        break\n",
    "else:\n",
    "    print('Какая хорошая строка!')"
   ]
  },
  {
   "cell_type": "code",
   "execution_count": 44,
   "metadata": {},
   "outputs": [
    {
     "name": "stdout",
     "output_type": "stream",
     "text": [
      "19\n"
     ]
    }
   ],
   "source": [
    "Y = 170000\n",
    "Z = 1000000\n",
    "year = 0\n",
    "yearly_multiplier = 1.1\n",
    "\n",
    "while Y < Z:\n",
    "    Y *= yearly_multiplier\n",
    "    year += 1\n",
    "else:\n",
    "    print(year)"
   ]
  },
  {
   "cell_type": "code",
   "execution_count": 45,
   "metadata": {},
   "outputs": [
    {
     "name": "stdout",
     "output_type": "stream",
     "text": [
      "Перевес 62 кг\n"
     ]
    }
   ],
   "source": [
    "weight = 77\n",
    "cur_weight = 0\n",
    "\n",
    "while cur_weight<400:\n",
    "    cur_weight += weight\n",
    "else:\n",
    "    print('Перевес', cur_weight-400, 'кг')"
   ]
  },
  {
   "cell_type": "code",
   "execution_count": 46,
   "metadata": {},
   "outputs": [
    {
     "name": "stdout",
     "output_type": "stream",
     "text": [
      "7\n"
     ]
    }
   ],
   "source": [
    "current_health = 500\n",
    "attack = 80\n",
    "time = 0\n",
    "\n",
    "while current_health>0:\n",
    "    current_health -= attack\n",
    "    time += 1\n",
    "else:\n",
    "    print(time)"
   ]
  },
  {
   "cell_type": "code",
   "execution_count": 47,
   "metadata": {},
   "outputs": [
    {
     "name": "stdout",
     "output_type": "stream",
     "text": [
      "10000\n",
      "7200\n",
      "4400\n",
      "1600\n",
      "Слишком большие расходы\n"
     ]
    }
   ],
   "source": [
    "balance = 10000\n",
    "spent = 2800\n",
    "\n",
    "while balance > 0:\n",
    "    print(balance)\n",
    "    balance -= spent\n",
    "else:\n",
    "    print('Слишком большие расходы')"
   ]
  },
  {
   "cell_type": "code",
   "execution_count": 48,
   "metadata": {},
   "outputs": [
    {
     "name": "stdout",
     "output_type": "stream",
     "text": [
      "20\n"
     ]
    }
   ],
   "source": [
    "volume = 1000\n",
    "robot = 5\n",
    "hod = 0\n",
    "\n",
    "while volume > 0:\n",
    "    volume -= robot\n",
    "    robot += 5\n",
    "    hod += 1\n",
    "else:\n",
    "    print(hod)"
   ]
  },
  {
   "cell_type": "code",
   "execution_count": 49,
   "metadata": {},
   "outputs": [
    {
     "name": "stdout",
     "output_type": "stream",
     "text": [
      "Александр\n"
     ]
    }
   ],
   "source": [
    "OurBestStudents = ['Александр', 'Константин', 'Мария', 'Диана', 'Алексей', \n",
    "                   'Максим', 'Светлана', 'Арина', 'Серафим', 'Doomer', \n",
    "                   'Павел', 'Виктория', 'Елена', 'Галина', 'Вячеслав']\n",
    "print(OurBestStudents[0])"
   ]
  },
  {
   "cell_type": "code",
   "execution_count": 50,
   "metadata": {},
   "outputs": [
    {
     "name": "stdout",
     "output_type": "stream",
     "text": [
      "408\n"
     ]
    }
   ],
   "source": [
    "spisok=[]\n",
    "for i in range(1, 51):\n",
    "    if i%3==0:\n",
    "        spisok.append(i)\n",
    "result=sum(spisok)\n",
    "print(result)"
   ]
  },
  {
   "cell_type": "code",
   "execution_count": 51,
   "metadata": {},
   "outputs": [],
   "source": [
    "raw_list = ['переменные', 'циклы', 'условия', 'списки', 'словари', 'файлы', 'функции']\n",
    "\n",
    "my_list=[]\n",
    "for length in raw_list:\n",
    "    my_list.append(len(length))\n",
    "resul=max(my_list)+min(my_list)"
   ]
  },
  {
   "cell_type": "code",
   "execution_count": 52,
   "metadata": {},
   "outputs": [],
   "source": [
    "raw_list = [2, 8, 10, 23, 64, 49, 11, 52, 71, 14]\n",
    "\n",
    "x_min=min(raw_list)\n",
    "x_max=max(raw_list)\n",
    "my_list=[]\n",
    "for i in raw_list:\n",
    "    if i%2==0:\n",
    "        my_list.append(i*x_min)\n",
    "    else:\n",
    "        my_list.append(i*x_max)\n",
    "result=max(my_list)\n",
    "\n"
   ]
  },
  {
   "cell_type": "code",
   "execution_count": 53,
   "metadata": {},
   "outputs": [
    {
     "name": "stdout",
     "output_type": "stream",
     "text": [
      "[3, 5, 7, 11, 13, 17, 19, 23, 29, 31, 37, 41, 43, 47, 53, 59, 61, 67, 71, 73, 79, 83, 89, 97]\n",
      "1058\n"
     ]
    }
   ],
   "source": [
    "numbers = [x for x in range(3,100) if [x%y for y in range(2,x)].count(0) == 0]\n",
    "print(numbers)\n",
    "print(sum(numbers))"
   ]
  },
  {
   "cell_type": "code",
   "execution_count": 54,
   "metadata": {},
   "outputs": [
    {
     "name": "stdout",
     "output_type": "stream",
     "text": [
      "[9, 10, 11, 12, 13, 14, 15, 16, 17, 18]\n"
     ]
    }
   ],
   "source": [
    "my_list = []\n",
    "for x in range(90, 100):\n",
    "    first_digit = x//10\n",
    "    last_digit = x%10\n",
    "    my_list.append(first_digit + last_digit)\n",
    "print(my_list)"
   ]
  },
  {
   "cell_type": "code",
   "execution_count": 55,
   "metadata": {},
   "outputs": [],
   "source": [
    "employee_base = { \n",
    "    'Мария Никитина': '+79033923029',\n",
    "    'Егор Савичев': '+78125849204',\n",
    "    'Александр Пахомов':'+79053049385',\n",
    "    'Алина Егорова':'+79265748370',\n",
    "    'Руслан Башаров':'+79030598495'\n",
    "}\n"
   ]
  },
  {
   "cell_type": "code",
   "execution_count": 56,
   "metadata": {},
   "outputs": [
    {
     "name": "stdout",
     "output_type": "stream",
     "text": [
      "+79033923029\n",
      "+78125849204\n",
      "Неизвестный сотрудник\n",
      "{'Мария Никитина': '+79033923029', 'Егор Савичев': '+78125849204', 'Александр Пахомов': '+79053049385', 'Алина Егорова': '+79265748370', 'Руслан Башаров': '+79030598495', 'Алексей Чернышевский': 'Неизвестный сотрудник'}\n"
     ]
    }
   ],
   "source": [
    "request = ['Мария Никитина', 'Егор Савичев', 'Алексей Чернышевский']\n",
    "for name in request:\n",
    "    employee_base.setdefault(name, 'Неизвестный сотрудник')\n",
    "    print(employee_base[name])\n",
    "print(employee_base)"
   ]
  },
  {
   "cell_type": "code",
   "execution_count": 57,
   "metadata": {},
   "outputs": [
    {
     "name": "stdout",
     "output_type": "stream",
     "text": [
      "{'Россия': 'A', 'Португалия': 'B', 'Франция': 'C', 'Дания': 'C', 'Египет': 'A', 'Италия': 'unknown'}\n",
      "unknown\n"
     ]
    }
   ],
   "source": [
    "draw_dict = {\n",
    "\t'Россия': 'A',\n",
    "\t'Португалия': 'B',\n",
    "\t'Франция': 'C',\n",
    "\t'Дания': 'C',\n",
    "\t'Египет': 'A'\n",
    "}\n",
    "country='Италия'\n",
    "draw_dict.setdefault(country, 'unknown')\n",
    "print(draw_dict)\n",
    "group=draw_dict['Италия']\n",
    "print(group)"
   ]
  },
  {
   "cell_type": "code",
   "execution_count": 58,
   "metadata": {},
   "outputs": [
    {
     "name": "stdout",
     "output_type": "stream",
     "text": [
      "{'Россия': 'A', 'Египет': 'A'}\n"
     ]
    }
   ],
   "source": [
    "draw_dict = {\n",
    "\t'Россия': 'A',\n",
    "\t'Португалия': 'B',\n",
    "\t'Франция': 'C',\n",
    "\t'Дания': 'C',\n",
    "\t'Египет': 'A'\n",
    "}\n",
    "\n",
    "draw_new={}\n",
    "for country in draw_dict.keys():\n",
    "    if draw_dict[country]=='A':\n",
    "        draw_new[country] = draw_dict[country]\n",
    "print(draw_new)"
   ]
  },
  {
   "cell_type": "code",
   "execution_count": 59,
   "metadata": {},
   "outputs": [
    {
     "name": "stdout",
     "output_type": "stream",
     "text": [
      "2\n"
     ]
    }
   ],
   "source": [
    "employee_base = {'Мария Никитина': 'менеджер', \n",
    "                 'Егор Савичев': 'разработчик', \n",
    "                 'Александр Пахомов': 'дизайнер', \n",
    "                 'Алина Егорова': 'разработчик', \n",
    "                 'Руслан Башаров': 'верстальщик'}\n",
    "razrab=0\n",
    "for position in employee_base.values():\n",
    "    if position == 'разработчик':\n",
    "        razrab+=1\n",
    "print(razrab)"
   ]
  },
  {
   "cell_type": "code",
   "execution_count": 60,
   "metadata": {},
   "outputs": [
    {
     "name": "stdout",
     "output_type": "stream",
     "text": [
      "{'Россия': 'A', 'Египет': 'A'}\n"
     ]
    }
   ],
   "source": [
    "draw_dict = {\n",
    "\t'Россия': 'A',\n",
    "\t'Португалия': 'B',\n",
    "\t'Франция': 'C',\n",
    "\t'Дания': 'C',\n",
    "\t'Египет': 'A'\n",
    "}\n",
    "\n",
    "draw_new={}\n",
    "for country, group in draw_dict.items():\n",
    "    if group == 'A':\n",
    "        draw_new[country] = group\n",
    "print(draw_new)"
   ]
  },
  {
   "cell_type": "code",
   "execution_count": 61,
   "metadata": {},
   "outputs": [
    {
     "name": "stdout",
     "output_type": "stream",
     "text": [
      "{'2019-04-01': 2504, '2019-04-02': 4994, '2019-04-03': 6343}\n",
      "dict_values([2504, 4994, 6343])\n",
      "13841\n"
     ]
    }
   ],
   "source": [
    "data=['2019-04-01', '2019-04-02', '2019-04-03']\n",
    "summ=[2504, 4994, 6343]\n",
    "dict_summ={}\n",
    "i=0\n",
    "for key in data:\n",
    "    dict_summ[key]=summ[i]\n",
    "    i+=1\n",
    "print(dict_summ)\n",
    "print(dict_summ.values())\n",
    "\n",
    "z=0\n",
    "for y in dict_summ.values():\n",
    "    z+=y\n",
    "print(z)"
   ]
  },
  {
   "cell_type": "code",
   "execution_count": 62,
   "metadata": {},
   "outputs": [
    {
     "name": "stdout",
     "output_type": "stream",
     "text": [
      "Номер верен\n"
     ]
    }
   ],
   "source": [
    "phones = {\n",
    "\t'Гордиенко Виктория': 5140,\n",
    "\t'Анисимов Кирилл': 5145,\n",
    "\t'Кузнецова Дарья': 5142\n",
    "}\n",
    "\n",
    "for record in phones:\n",
    "\tif record == 'Кузнецова Дарья' and phones[record] == 5142:\n",
    "\t\tprint('Номер верен')"
   ]
  },
  {
   "cell_type": "code",
   "execution_count": 63,
   "metadata": {},
   "outputs": [
    {
     "name": "stdout",
     "output_type": "stream",
     "text": [
      "[['100728', 'Скейтборд Jdbug RT03', 32], ['100732', 'Роллерсерф Razor RipStik Bright', 11], ['100803', 'Ботинки для сноуборда DC Tucknee', 20], ['100934', 'Пульсометр Beurer PM62', 17]]\n"
     ]
    }
   ],
   "source": [
    "csv_file = [\n",
    "    ['100412', 'Ботинки для горных лыж ATOMIC Hawx Prime 100', 9],\n",
    "    ['100728', 'Скейтборд Jdbug RT03', 32],\n",
    "    ['100732', 'Роллерсерф Razor RipStik Bright', 11],\n",
    "    ['100803', 'Ботинки для сноуборда DC Tucknee', 20],\n",
    "    ['100898', 'Шагомер Omron HJA-306', 2],\n",
    "    ['100934', 'Пульсометр Beurer PM62', 17],\n",
    "]\n",
    "\n",
    "csv_file_filtered=[]\n",
    "for record in csv_file:\n",
    "    if record[2]>10:\n",
    "        csv_file_filtered.append(record)\n",
    "print(csv_file_filtered)"
   ]
  },
  {
   "cell_type": "code",
   "execution_count": 64,
   "metadata": {},
   "outputs": [
    {
     "name": "stdout",
     "output_type": "stream",
     "text": [
      "[{'id': '100412', 'position': 'Ботинки для горных лыж ATOMIC Hawx Prime 100', 'count': 9}, {'id': '100803', 'position': 'Ботинки для сноуборда DC Tucknee', 'count': 20}]\n"
     ]
    }
   ],
   "source": [
    "csv_dict = [\n",
    "    {'id': '100412', 'position': 'Ботинки для горных лыж ATOMIC Hawx Prime 100', 'count': 9},\n",
    "    {'id': '100728', 'position': 'Скейтборд Jdbug RT03', 'count': 32},\n",
    "    {'id': '100732', 'position': 'Роллерсерф Razor RipStik Bright', 'count': 11},\n",
    "    {'id': '100803', 'position': 'Ботинки для сноуборда DC Tucknee', 'count': 20},\n",
    "    {'id': '100898', 'position': 'Шагомер Omron HJA-306', 'count': 2},\n",
    "    {'id': '100934', 'position': 'Пульсометр Beurer PM62', 'count': 17},\n",
    "]\n",
    "csv_dict_boots=[]\n",
    "\n",
    "for record in csv_dict:\n",
    "    if 'Ботинки' in record['position']:\n",
    "        csv_dict_boots.append(record)\n",
    "print(csv_dict_boots)"
   ]
  },
  {
   "cell_type": "code",
   "execution_count": 65,
   "metadata": {},
   "outputs": [],
   "source": [
    "contacts = {\n",
    "    'Борискин Владимир': {\n",
    "        'tel': '5387',\n",
    "        'position': 'менеджер'\n",
    "    },\n",
    "    \n",
    "    'Сомова Наталья': {\n",
    "        'tel': '5443',\n",
    "        'position': 'разработчик'\n",
    "    },\n",
    "}"
   ]
  },
  {
   "cell_type": "code",
   "execution_count": 66,
   "metadata": {},
   "outputs": [
    {
     "name": "stdout",
     "output_type": "stream",
     "text": [
      "98\n"
     ]
    }
   ],
   "source": [
    "results = [\n",
    "\t{'cost': 98, 'source': 'vk'},\n",
    "\t{'cost': 153, 'source': 'yandex'},\n",
    "\t{'cost': 110, 'source': 'facebook'},\n",
    "]\n",
    "\n",
    "result=[]\n",
    "for record in results:\n",
    "    result.append(record['cost'])\n",
    "print(min(result))"
   ]
  },
  {
   "cell_type": "code",
   "execution_count": 67,
   "metadata": {},
   "outputs": [
    {
     "name": "stdout",
     "output_type": "stream",
     "text": [
      "5\n"
     ]
    }
   ],
   "source": [
    "defect_stats = [\n",
    "\t{'step number': 1, 'damage': 0.98},\n",
    "\t{'step number': 2, 'damage': 0.99},\n",
    "\t{'step number': 3, 'damage': 0.99},\n",
    "\t{'step number': 4, 'damage': 0.96},\n",
    "\t{'step number': 5, 'damage': 0.97},\n",
    "\t{'step number': 6, 'damage': 0.97},\n",
    "    {'step number': 7, 'damage': 0.97},\n",
    "]\n",
    "\n",
    "razmer=1\n",
    "count=0\n",
    "for shag in defect_stats:\n",
    "    if razmer>0.9:\n",
    "        razmer*=shag['damage']\n",
    "        count+=1\n",
    "#        print(razmer)\n",
    "#    else:\n",
    "#        print(shag['step number']-1)\n",
    "#        break\n",
    "print(count)"
   ]
  },
  {
   "cell_type": "code",
   "execution_count": 68,
   "metadata": {},
   "outputs": [
    {
     "name": "stdout",
     "output_type": "stream",
     "text": [
      "0.98\n",
      "0.9603999999999999\n",
      "0.9411919999999999\n",
      "0.9223681599999999\n",
      "0.9039207967999998\n",
      "0.8858423808639998\n",
      "5\n"
     ]
    }
   ],
   "source": [
    "defect_stats = [\n",
    "\t{'step number': 1, 'damage': 0.98},\n",
    "\t{'step number': 2, 'damage': 0.99},\n",
    "\t{'step number': 3, 'damage': 0.99},\n",
    "\t{'step number': 4, 'damage': 0.96},\n",
    "\t{'step number': 5, 'damage': 0.97},\n",
    "\t{'step number': 6, 'damage': 0.97},\n",
    "    {'step number': 7, 'damage': 0.97},\n",
    "]\n",
    "\n",
    "razmer=1\n",
    "count=0\n",
    "for shag in defect_stats:\n",
    "    while razmer>0.9:\n",
    "        razmer*=shag['damage']\n",
    "        print(razmer)\n",
    "        count+=1\n",
    "print(count-1)\n",
    "        \n",
    "        "
   ]
  },
  {
   "cell_type": "code",
   "execution_count": 69,
   "metadata": {},
   "outputs": [
    {
     "name": "stdout",
     "output_type": "stream",
     "text": [
      "AMD\n"
     ]
    }
   ],
   "source": [
    "currency = {\n",
    "\t'AUD': {\n",
    "\t\t'Name': 'Австралийский доллар',\n",
    "\t\t'Nominal': 1,\n",
    "\t\t'Value': 45.5309\n",
    "\t},\n",
    "\n",
    "\t'INR': {\n",
    "\t\t'Name': 'Индийских рупий',\n",
    "\t\t'Nominal': 100,\n",
    "\t\t'Value': 92.9658\n",
    "\t},\n",
    "\n",
    "\t'MDL': {\n",
    "\t\t'Name': 'Молдавских леев',\n",
    "\t\t'Nominal': 10,\n",
    "\t\t'Value': 36.9305\n",
    "\t},\n",
    "\n",
    "    'AMD': {\n",
    "\t\t'Name': 'Армянских драмов',\n",
    "\t\t'Nominal': 100,\n",
    "\t\t'Value': 13.121\n",
    "\t},\n",
    "}\n",
    "\n",
    "\n",
    "answer = list(currency.keys())[0]\n",
    "min_rate = currency[answer]['Value']/currency[answer]['Nominal']\n",
    "for cur in currency:\n",
    "    current_rate = currency[cur]['Value']/currency[cur]['Nominal']\n",
    "    if current_rate < min_rate: answer = cur; min_rate = current_rate\n",
    "\n",
    "print(answer)\n",
    "\n",
    "#print(min(currency.items(), key=lambda x: x[1]['Value'] / x[1]['Nominal'])[0]) - короткий вариант"
   ]
  },
  {
   "cell_type": "code",
   "execution_count": 70,
   "metadata": {},
   "outputs": [
    {
     "name": "stdout",
     "output_type": "stream",
     "text": [
      "225\n"
     ]
    }
   ],
   "source": [
    "bodycount = {\n",
    "\t'Проклятие Черной жемчужины': {\n",
    "\t\t'человек': 17\n",
    "\t}, \n",
    "\n",
    "\t'Сундук мертвеца': {\n",
    "\t\t'человек': 56,\n",
    "\t\t'раков-отшельников': 1\n",
    "\t},\n",
    "\n",
    "\t'На краю света': {\n",
    "\t\t'человек': 88\n",
    "\t},\n",
    "\n",
    "\t'На странных берегах': {\n",
    "\t\t'человек': 56,\n",
    "\t\t'русалок': 2,\n",
    "\t\t'ядовитых жаб': 3,\n",
    "\t\t'пиратов зомби': 2\n",
    "\t}\n",
    "}\n",
    "\n",
    "answer=0\n",
    "for film in bodycount:\n",
    "    for i in bodycount[film].values():\n",
    "        answer+=i\n",
    "print(answer)"
   ]
  },
  {
   "cell_type": "code",
   "execution_count": 71,
   "metadata": {},
   "outputs": [
    {
     "name": "stdout",
     "output_type": "stream",
     "text": [
      "223\n"
     ]
    }
   ],
   "source": [
    "victims_number = 0\n",
    "for movie in bodycount:\n",
    "#    print(movie)\n",
    "    for victims in bodycount[movie]:\n",
    "#        print(victims)\n",
    "        if victims == 'пиратов зомби': continue\n",
    "        victims_number += bodycount[movie][victims]\n",
    "print(victims_number)"
   ]
  },
  {
   "cell_type": "code",
   "execution_count": 72,
   "metadata": {},
   "outputs": [
    {
     "name": "stdout",
     "output_type": "stream",
     "text": [
      "107\n"
     ]
    }
   ],
   "source": [
    "import json\n",
    "with open('data.json', 'rb') as infile:\n",
    "    data = json.load(infile)\n",
    "data_list=data['events_data']\n",
    "print(len(data_list))"
   ]
  },
  {
   "cell_type": "code",
   "execution_count": 73,
   "metadata": {},
   "outputs": [
    {
     "name": "stdout",
     "output_type": "stream",
     "text": [
      "['page', 'page', 'page', 'datepicker', 'table', 'table', 'table', 'table', 'datepicker', 'datepicker', 'datepicker', 'datepicker', 'datepicker', 'page', 'page', 'page', 'page', 'page', 'page', 'page', 'page', 'page', 'page', 'page', 'page', 'page', 'page', 'page', 'page', 'page', 'page', 'page', 'page', 'report', 'report', 'report', 'report', 'page', 'report', 'page', 'page', 'page', 'table', 'table', 'table', 'table', 'page', 'page', 'page', 'page', 'page', 'page', 'page', 'page', 'page', 'page', 'page', 'page', 'report', 'page', 'page', 'page', 'page', 'page', 'report', 'page', 'page', 'page', 'page', 'page', 'page', 'page', 'page', 'page', 'page', 'page', 'page', 'page', 'datepicker', 'datepicker', 'datepicker', 'datepicker', 'datepicker', 'datepicker', 'datepicker', 'page', 'page', 'page', 'page', 'page', 'page', 'report', 'table', 'table', 'datepicker', 'datepicker', 'page', 'page', 'page', 'page', 'page', 'page', 'page', 'page', 'page', 'page', 'page']\n"
     ]
    }
   ],
   "source": [
    "categories = []\n",
    "for item in data_list:\n",
    "    category = item['category']\n",
    "    categories.append(category)\n",
    "print (categories)"
   ]
  },
  {
   "cell_type": "code",
   "execution_count": 74,
   "metadata": {},
   "outputs": [
    {
     "name": "stdout",
     "output_type": "stream",
     "text": [
      "Counter({'page': 74, 'datepicker': 15, 'table': 10, 'report': 8})\n"
     ]
    }
   ],
   "source": [
    "import collections\n",
    "c = collections.Counter()\n",
    "for category in categories:\n",
    "    c[category] += 1\n",
    "print (c)"
   ]
  },
  {
   "cell_type": "code",
   "execution_count": 75,
   "metadata": {},
   "outputs": [
    {
     "name": "stdout",
     "output_type": "stream",
     "text": [
      "[27115, 27115, 27115, 27115, 60459, 60459, 60459, 60459, 58113, 58113]\n"
     ]
    }
   ],
   "source": [
    "table_clients = []\n",
    "for item in data_list:\n",
    "    client_id = item['client_id']\n",
    "    category = item['category']\n",
    "    if category == 'table':\n",
    "        table_clients.append(client_id)\n",
    "print (table_clients)"
   ]
  },
  {
   "cell_type": "code",
   "execution_count": 76,
   "metadata": {},
   "outputs": [
    {
     "name": "stdout",
     "output_type": "stream",
     "text": [
      "Counter({27115: 4, 60459: 4, 58113: 2})\n",
      "3\n",
      "27115 4\n",
      "60459 4\n",
      "58113 2\n"
     ]
    }
   ],
   "source": [
    "c = collections.Counter()\n",
    "for table_client in table_clients:\n",
    "    c[table_client] += 1\n",
    "print (c)\n",
    "print (len(c.keys()))\n",
    "for client in c:\n",
    "    print(client, c[client])"
   ]
  },
  {
   "cell_type": "code",
   "execution_count": 77,
   "metadata": {},
   "outputs": [
    {
     "name": "stdout",
     "output_type": "stream",
     "text": [
      "Counter({60459: 12, 27115: 11, 62602: 11, 56544: 8, 58113: 7, 18923: 5, 23207: 4, 52492: 3, 24500: 2, 53666: 2, 41737: 2, 62526: 1, 61944: 1, 62017: 1, 63120: 1, 59883: 1, 2913: 1, 62940: 1, 63149: 1, 45391: 1, 63019: 1, 15759: 1, 62007: 1, 62941: 1, 51009: 1, 62236: 1, 44682: 1, 39709: 1, 62144: 1, 25301: 1, 33645: 1, 62089: 1, 26705: 1, 1103: 1, 62439: 1, 44196: 1, 50149: 1, 57009: 1, 57207: 1, 32792: 1, 27323: 1, 58330: 1, 61245: 1, 19799: 1, 48128: 1, 57613: 1, 61244: 1, 53018: 1, 61078: 1, 20820: 1, 49700: 1})\n",
      "51\n",
      "12\n"
     ]
    }
   ],
   "source": [
    "table_clients = []\n",
    "for item in data_list:\n",
    "    client_id = item['client_id']\n",
    "    category = item['category']\n",
    "    if category != 'Null':\n",
    "        table_clients.append(client_id)\n",
    "c = collections.Counter()\n",
    "for table_client in table_clients:\n",
    "    c[table_client] += 1\n",
    "print (c)\n",
    "print (len(c.keys()))\n",
    "print(c[60459])"
   ]
  },
  {
   "cell_type": "code",
   "execution_count": 78,
   "metadata": {},
   "outputs": [
    {
     "name": "stdout",
     "output_type": "stream",
     "text": [
      "Counter({60459: 5, 62602: 2, 58113: 1})\n",
      "[58113, 60459, 62602]\n"
     ]
    }
   ],
   "source": [
    "table_clients = []\n",
    "for item in data_list:\n",
    "    client_id = item['client_id']\n",
    "    category = item['category']\n",
    "    if category == 'report':\n",
    "        table_clients.append(client_id)\n",
    "c = collections.Counter()\n",
    "for table_client in table_clients:\n",
    "    c[table_client] += 1\n",
    "print(c)\n",
    "sort_i=[]\n",
    "for i in c:\n",
    "    sort_i.append(i)\n",
    "sort_i.sort()\n",
    "print(sort_i)"
   ]
  },
  {
   "cell_type": "code",
   "execution_count": 79,
   "metadata": {},
   "outputs": [
    {
     "name": "stdout",
     "output_type": "stream",
     "text": [
      "рПгоарммсиыт- э оту тсорсйвт,ап ербоарузщюеик фоие н вок.д\n"
     ]
    }
   ],
   "source": [
    "proverb = 'Программисты - это устройства, преобразующие кофеин в код.'\n",
    "new_proverb = ''\n",
    "for i in range(0,len(proverb),2):\n",
    "    new_proverb = new_proverb+proverb[i+1]\n",
    "    new_proverb = new_proverb+proverb[i]\n",
    "print(new_proverb)"
   ]
  },
  {
   "cell_type": "code",
   "execution_count": 80,
   "metadata": {},
   "outputs": [
    {
     "name": "stdout",
     "output_type": "stream",
     "text": [
      "Слово \"программирование\" - это не палиндром\n"
     ]
    }
   ],
   "source": [
    "basic_word = 'программирование'\n",
    "#inverted_word = ''\n",
    "#\n",
    "#for i in range(1,len(basic_word)+1):\n",
    "#    inverted_word=inverted_word+basic_word[-i]\n",
    "inverted_word=basic_word[::-1]\n",
    "if basic_word==inverted_word:\n",
    "    print('Слово \"{}\" является палиндромом'.format(basic_word))\n",
    "else:\n",
    "    print('Слово \"{}\" - это не палиндром'.format(basic_word))"
   ]
  },
  {
   "cell_type": "code",
   "execution_count": 81,
   "metadata": {},
   "outputs": [
    {
     "name": "stdout",
     "output_type": "stream",
     "text": [
      "skillfactory.ru\n"
     ]
    }
   ],
   "source": [
    "#Находит домен в имейл\n",
    "\n",
    "email = 'VeryBigBoss@skillfactory.ru'\n",
    "pos = email.find('@')\n",
    "domain = email[pos+1:]\n",
    "print(domain)"
   ]
  },
  {
   "cell_type": "code",
   "execution_count": 82,
   "metadata": {},
   "outputs": [
    {
     "name": "stdout",
     "output_type": "stream",
     "text": [
      "4\n"
     ]
    }
   ],
   "source": [
    "#Считает кол-во искомых (Грек) сочетаний символов в строке\n",
    "\n",
    "tongue_twister = 'Ехал Грека через реку, видит Грека - в реке рак. Сунул Грека руку в реку, рак за руку Греку - цап!'\n",
    "counter = tongue_twister.count('Грек')\n",
    "print(counter)"
   ]
  },
  {
   "cell_type": "code",
   "execution_count": 83,
   "metadata": {},
   "outputs": [
    {
     "name": "stdout",
     "output_type": "stream",
     "text": [
      "-1\n",
      "это\n",
      ", написанная 2 раза\n"
     ]
    }
   ],
   "source": [
    "proverb = 'Хорошо написанная программа - это программа, написанная 2 раза'\n",
    "\n",
    "while True:\n",
    "    index = proverb.find('программа')\n",
    "    if index == -1:\n",
    "        break\n",
    "    secret = proverb[:index].split()[-1]\n",
    "    proverb = proverb[index+9:] \n",
    "print(index)\n",
    "print(secret)\n",
    "print(proverb)\n"
   ]
  },
  {
   "cell_type": "code",
   "execution_count": 84,
   "metadata": {},
   "outputs": [
    {
     "name": "stdout",
     "output_type": "stream",
     "text": [
      "14\n"
     ]
    }
   ],
   "source": [
    "number = 56.257\n",
    "summa=0\n",
    "for i in str(number)[str(number).find('.')+1:]:\n",
    "    summa+=int(i)\n",
    "print(summa)"
   ]
  },
  {
   "cell_type": "code",
   "execution_count": 85,
   "metadata": {},
   "outputs": [
    {
     "name": "stdout",
     "output_type": "stream",
     "text": [
      "['mail.ru', 'yandex.ru', 'yandex.ru', 'gmail.com', 'mail.ru', 'gmail.com', 'mail.ru', 'yandex.ru', 'yandex.ru', 'yandex.ru']\n",
      "{'mail.ru': 3, 'yandex.ru': 5, 'gmail.com': 2}\n"
     ]
    }
   ],
   "source": [
    "emails_list = ['vasya@mail.ru', \n",
    "          'akakiy@yandex.ru', \n",
    "          'spyderman@yandex.ru', \n",
    "          'XFiles@gmail.com', \n",
    "          'hello@mail.ru', \n",
    "          'noname@gmail.com', \n",
    "          'DonaldTrump@mail.ru', \n",
    "          'a768#af@yandex.ru', \n",
    "          'Ivan_Ivanovich@yandex.ru', \n",
    "          'thebestmail@yandex.ru']\n",
    "emails_dict={}\n",
    "domain_list=[emails_list[i][emails_list[i].find('@')+1:] for i in range(len(emails_list))]\n",
    "print(domain_list)\n",
    "for i in domain_list:\n",
    "    emails_dict[i]=domain_list.count(i)\n",
    "    \n",
    "print(emails_dict)"
   ]
  },
  {
   "cell_type": "code",
   "execution_count": 86,
   "metadata": {},
   "outputs": [
    {
     "name": "stdout",
     "output_type": "stream",
     "text": [
      "[3.14, 2.71, 6.02, 11.22, 123.987]\n"
     ]
    }
   ],
   "source": [
    "new_numbers = []\n",
    "for number in '3,14 2,71 6,02 11,22 123,987'.split():\n",
    "#    print(number)\n",
    "    new_numbers.append(float(number.replace(',', '.')))\n",
    "print(new_numbers)"
   ]
  },
  {
   "cell_type": "code",
   "execution_count": 87,
   "metadata": {},
   "outputs": [
    {
     "name": "stdout",
     "output_type": "stream",
     "text": [
      "Интернет-открытки - это ЛУЧШЕЕ средство для мужчины сказать женщине о своих чувствах прямо в глаза.\n"
     ]
    }
   ],
   "source": [
    "string = 'Интернет-открытки - это лучшее средство для мужчины сказать женщине о своих чувствах прямо в глаза.'\n",
    "secret = string[24:30]\n",
    "new_string = string.replace(secret.lower(), secret.upper()) \n",
    "\n",
    "print(new_string)"
   ]
  },
  {
   "cell_type": "code",
   "execution_count": 88,
   "metadata": {},
   "outputs": [
    {
     "name": "stdout",
     "output_type": "stream",
     "text": [
      "Тяжёлая интернет:)зависимость :) это когда ты выходишь из интернета:) а он из тебя нет:)\n"
     ]
    }
   ],
   "source": [
    "string = 'Тяжёлая интернет-зависимость - это когда ты выходишь из интернета, а он из тебя нет.'\n",
    "for i in (':.,-!?'):\n",
    "    string=string.replace(i,':)')\n",
    "print(string)"
   ]
  },
  {
   "cell_type": "code",
   "execution_count": 89,
   "metadata": {},
   "outputs": [
    {
     "name": "stdout",
     "output_type": "stream",
     "text": [
      "С - согласная буква\n",
      "е - гласная буква\n",
      "в - согласная буква\n",
      "а - гласная буква\n",
      "с - согласная буква\n",
      "т - согласная буква\n",
      "и - гласная буква\n",
      "а - гласная буква\n",
      "н - согласная буква\n"
     ]
    }
   ],
   "source": [
    "name = 'Севастиан'\n",
    "for i in name:\n",
    "    if i.lower() in 'аеёиоуыэюя':\n",
    "        print('{} - гласная буква'.format(i))\n",
    "    else:\n",
    "        print('{} - согласная буква'.format(i))"
   ]
  },
  {
   "cell_type": "code",
   "execution_count": 90,
   "metadata": {},
   "outputs": [],
   "source": [
    "import re "
   ]
  },
  {
   "cell_type": "code",
   "execution_count": 91,
   "metadata": {},
   "outputs": [],
   "source": [
    "string = '!!! Йо! Учиться, учиться и учиться! Вперёд! Только вперёд!' \n",
    "pattern = re.compile('[А-Я][а-я]*\\W')\n",
    "#pattern = re.compile('\\W\\W\\W')"
   ]
  },
  {
   "cell_type": "code",
   "execution_count": null,
   "metadata": {},
   "outputs": [],
   "source": []
  },
  {
   "cell_type": "code",
   "execution_count": 92,
   "metadata": {},
   "outputs": [],
   "source": [
    "pattern.match(string)"
   ]
  },
  {
   "cell_type": "code",
   "execution_count": 93,
   "metadata": {},
   "outputs": [
    {
     "data": {
      "text/plain": [
       "<re.Match object; span=(4, 7), match='Йо!'>"
      ]
     },
     "execution_count": 93,
     "metadata": {},
     "output_type": "execute_result"
    }
   ],
   "source": [
    "pattern.search(string)"
   ]
  },
  {
   "cell_type": "code",
   "execution_count": 94,
   "metadata": {},
   "outputs": [
    {
     "data": {
      "text/plain": [
       "['Йо!', 'Учиться,', 'Только ']"
      ]
     },
     "execution_count": 94,
     "metadata": {},
     "output_type": "execute_result"
    }
   ],
   "source": [
    "pattern.findall(string)"
   ]
  },
  {
   "cell_type": "code",
   "execution_count": 95,
   "metadata": {},
   "outputs": [],
   "source": [
    "text = 'Разработка языка Python была начата в конце 1980-х годов сотрудником голландского института CWI Гвидо ван Россумом. Для распределённой ОС Amoeba требовался расширяемый скриптовый язык, и Гвидо начал писать Python на досуге, позаимствовав некоторые наработки для языка ABC (Гвидо участвовал в разработке этого языка, ориентированного на обучение программированию). В феврале 1991 года Гвидо опубликовал исходный текст в группе новостей alt.sources. Название языка произошло вовсе не от вида пресмыкающихся. Автор назвал язык в честь популярного британского комедийного телешоу 1970-х \"Летающий цирк Монти Пайтона\".'\n"
   ]
  },
  {
   "cell_type": "code",
   "execution_count": 96,
   "metadata": {},
   "outputs": [
    {
     "name": "stdout",
     "output_type": "stream",
     "text": [
      "['а н', 'а в', 'о в', 'я р', 'я р', 'и Г', 'о н', 'а д', 'е н', 'и д', 'о н', 'е п', 'а Г', 'е н', 'а п', 'о в', 'е н', 'а п', 'о б', 'о к', 'о т', 'и П']\n",
      "22\n"
     ]
    }
   ],
   "source": [
    "#[А-Яа-яA-Za-z]*   [А-Яа-яA-Za-z]*\n",
    "#pattern = re.compile('[а-яё]*[аиеоуыэюя]\\ [йцкнгшщзхфвпрлджчсмтб]\\D[а-яё]*')  \n",
    "#print(pattern.findall(text.lower())) \n",
    "#print(len(pattern.findall(text.lower())))\n",
    "\n",
    "text_search=re.compile('[аеёиоуыэюяАЕЁИОУЫЭЮЯ]\\s[бвгджзйклмнпрстфхцчшщБВГДЖЗЙКЛМНПРСТФХЦЧШЩ]')\n",
    "print(text_search.findall(text))\n",
    "print(len(text_search.findall(text)))"
   ]
  },
  {
   "cell_type": "code",
   "execution_count": 97,
   "metadata": {},
   "outputs": [],
   "source": [
    "#f = open('StudentsPerformance.csv') \n",
    "#f.close()"
   ]
  },
  {
   "cell_type": "code",
   "execution_count": 98,
   "metadata": {},
   "outputs": [
    {
     "name": "stdout",
     "output_type": "stream",
     "text": [
      "\"gender\",\"race/ethnicity\",\"parental level of education\",\"lunch\",\"test preparation course\",\"math score\",\"reading score\",\"writing score\"\n",
      "\n",
      "\"female\",\"group B\",\"bachelor's degree\",\"standard\",\"none\",\"72\",\"72\",\"74\"\n",
      "\n",
      "\"female\",\"group C\",\"some college\",\"standard\",\"completed\",\"69\",\"90\",\"88\"\n",
      "\n"
     ]
    }
   ],
   "source": [
    "f = open('StudentsPerformance.csv') \n",
    "list=[]\n",
    "for line in f:\n",
    "    list.append(line)\n",
    "for i in range (3):\n",
    "    print(list[i])\n",
    "f.close()       "
   ]
  },
  {
   "cell_type": "code",
   "execution_count": 99,
   "metadata": {},
   "outputs": [
    {
     "name": "stdout",
     "output_type": "stream",
     "text": [
      "Мальчиков: 482, девочек: 518\n"
     ]
    }
   ],
   "source": [
    "f = open('StudentsPerformance.csv')\n",
    "males = 0\n",
    "females = 0\n",
    "for line in f:\n",
    "    info = line.split(',')\n",
    "    gender = info[0][1:-1]\n",
    "    if gender == 'female':\n",
    "        females += 1\n",
    "    elif gender == 'male':\n",
    "        males +=1\n",
    "print('Мальчиков: {}, девочек: {}'.format(males, females))\n",
    "f.close()"
   ]
  },
  {
   "cell_type": "code",
   "execution_count": 100,
   "metadata": {},
   "outputs": [
    {
     "name": "stdout",
     "output_type": "stream",
     "text": [
      "118\n"
     ]
    }
   ],
   "source": [
    "f = open('StudentsPerformance.csv')\n",
    "count=0\n",
    "for line in f:\n",
    "    info=line.split(',')\n",
    "    stepen=info[2][1:-1]\n",
    "    if stepen=='bachelor\\'s degree':\n",
    "        count+=1\n",
    "print(count)\n",
    "f.close()"
   ]
  },
  {
   "cell_type": "code",
   "execution_count": 101,
   "metadata": {},
   "outputs": [
    {
     "name": "stdout",
     "output_type": "stream",
     "text": [
      "{\"bachelor's degree\": 118, 'some college': 226, \"master's degree\": 59, \"associate's degree\": 222, 'high school': 196, 'some high school': 179}\n",
      "6\n"
     ]
    }
   ],
   "source": [
    "#Кол-во разных вариантов образования (\"parental level of education\") у родителей студентов.\n",
    "\n",
    "f = open('StudentsPerformance.csv') \n",
    "variants=[]\n",
    "kolichestvo={}\n",
    "for line in f:\n",
    "    info=line.split(',')\n",
    "    variants.append(info[2][1:-1])\n",
    "\n",
    "variants.remove(variants[0])\n",
    "for i in variants:\n",
    "    kolichestvo[i]=variants.count(i)\n",
    "\n",
    "print(kolichestvo)\n",
    "print(len(kolichestvo))\n",
    "    \n",
    "f.close()"
   ]
  },
  {
   "cell_type": "code",
   "execution_count": 102,
   "metadata": {},
   "outputs": [
    {
     "name": "stdout",
     "output_type": "stream",
     "text": [
      "6\n"
     ]
    }
   ],
   "source": [
    "#Кол-во разных вариантов образования (\"parental level of education\") у родителей студентов.\n",
    "\n",
    "with open('StudentsPerformance.csv', 'r') as f:\n",
    "    lines=f.readlines()\n",
    "    variation = []\n",
    "    for line in lines[1:]:\n",
    "        info = line.split(',')\n",
    "        degree = info[2]\n",
    "        if degree not in variation:\n",
    "            variation.append(degree)\n",
    "    print(len(variation))\n",
    "#f.close"
   ]
  },
  {
   "cell_type": "code",
   "execution_count": 103,
   "metadata": {},
   "outputs": [
    {
     "name": "stdout",
     "output_type": "stream",
     "text": [
      "\"gender\",\"race/ethnicity\",\"parental level of education\",\"lunch\",\"test preparation course\",\"math score\",\"reading score\",\"writing score\"\n",
      "\n",
      "\"female\",\"group B\",\"bachelor's degree\",\"standard\",\"none\",\"72\",\"72\",\"74\"\n",
      "\n",
      "\"female\",\"group C\",\"some college\",\"standard\",\"completed\",\"69\",\"90\",\"88\"\n",
      "\n"
     ]
    }
   ],
   "source": [
    "with open('StudentsPerformance.csv', 'r') as f:\n",
    "    list=[]\n",
    "    for line in f:\n",
    "        list.append(line)\n",
    "    for i in range (3):\n",
    "        print(list[i])"
   ]
  },
  {
   "cell_type": "code",
   "execution_count": 104,
   "metadata": {},
   "outputs": [
    {
     "name": "stdout",
     "output_type": "stream",
     "text": [
      "64,5%\n"
     ]
    }
   ],
   "source": [
    "#Сколько % студентов нормально пожрали (lunch=standart)?\n",
    "\n",
    "with open('StudentsPerformance.csv', 'r') as f:\n",
    "    lines=f.readlines()\n",
    "    lanch_count=0\n",
    "    for line in lines[1:]:\n",
    "        info=line.split(',')\n",
    "        lanch=info[3][1:-1]\n",
    "        if lanch=='standard':\n",
    "            lanch_count+=1\n",
    "print('{}%'.format(str(((lanch_count)/len(lines[1:]))*100).replace('.',',')))"
   ]
  },
  {
   "cell_type": "code",
   "execution_count": 105,
   "metadata": {},
   "outputs": [
    {
     "name": "stdout",
     "output_type": "stream",
     "text": [
      "319\n"
     ]
    }
   ],
   "source": [
    "#Сколько абитуриентов относится к этнической группе \"group C\"?\n",
    "\n",
    "with open('StudentsPerformance.csv', 'r') as f:\n",
    "    lines=f.readlines()\n",
    "    group_C=0\n",
    "    for line in lines[1:]:\n",
    "        info=line.split(',')\n",
    "        group=info[1][1:-1]\n",
    "        if group=='group C':\n",
    "            group_C+=1\n",
    "print(group_C)"
   ]
  },
  {
   "cell_type": "code",
   "execution_count": 106,
   "metadata": {},
   "outputs": [
    {
     "name": "stdout",
     "output_type": "stream",
     "text": [
      "5\n"
     ]
    }
   ],
   "source": [
    "#Сколько разных этнических групп встречается в файле?\n",
    "\n",
    "with open('StudentsPerformance.csv', 'r') as f:\n",
    "    lines=f.readlines()\n",
    "    variation = []\n",
    "    for line in lines[1:]:\n",
    "        info=line.split(',')\n",
    "        group=info[1][1:-1]\n",
    "        if group not in variation:\n",
    "            variation.append(group)\n",
    "print(len(variation))"
   ]
  },
  {
   "cell_type": "code",
   "execution_count": 107,
   "metadata": {},
   "outputs": [],
   "source": [
    "#Создаем список с оценками всех студентов по математике (пропускаем 1ю строку (гендер...)):\n",
    "\n",
    "math = []\n",
    "\n",
    "#f = open('StudentsPerformance.csv')\n",
    "with open('StudentsPerformance.csv', 'r') as f:\n",
    "    for line in f:\n",
    "        info = line.split(',')\n",
    "        if info[0] == '\"gender\"':\n",
    "            continue\n",
    "        else:\n",
    "            mark = int(info[5][1:-1])\n",
    "            math.append(mark)"
   ]
  },
  {
   "cell_type": "code",
   "execution_count": 108,
   "metadata": {},
   "outputs": [
    {
     "name": "stdout",
     "output_type": "stream",
     "text": [
      "66.089\n"
     ]
    }
   ],
   "source": [
    "#Средний балл по математике:\n",
    "math_avg = sum(math)/len(math)\n",
    "print(math_avg)"
   ]
  },
  {
   "cell_type": "code",
   "execution_count": 109,
   "metadata": {},
   "outputs": [
    {
     "name": "stdout",
     "output_type": "stream",
     "text": [
      "49,3%\n"
     ]
    }
   ],
   "source": [
    "#% студентов с оценкой по математике выше среднего (в % с заменой точки на запятую):\n",
    "\n",
    "above_avg = 0\n",
    "for mark in math:\n",
    "    if mark > math_avg:\n",
    "        above_avg += 1\n",
    "print('{}%'.format(str((above_avg / 1000)*100).replace('.',',')))"
   ]
  },
  {
   "cell_type": "code",
   "execution_count": 110,
   "metadata": {},
   "outputs": [
    {
     "name": "stdout",
     "output_type": "stream",
     "text": [
      "\"gender\",\"race/ethnicity\",\"parental level of education\",\"lunch\",\"test preparation course\",\"math score\",\"reading score\",\"writing score\"\n",
      "\n",
      "['female', 'group B', \"bachelor's degree\", 'standard', 'none', 72, 72, 74]\n"
     ]
    }
   ],
   "source": [
    "import re\n",
    "pattern = re.compile('\\d+')               #Создаем паттерн для поиска чисел\n",
    "\n",
    "exams = []\n",
    "with open('StudentsPerformance.csv', 'r') as f:\n",
    "    lines=f.readlines()\n",
    "    for line in lines:\n",
    "        info = line.split(',')                #каждую строку превращаем в список объектов, разделенных ','\n",
    "        if info[0] == '\"gender\"':             #Пропускаем первую строчку (заголовки, начинающиеся с \"gender\")\n",
    "            continue\n",
    "        else:\n",
    "#    for line in lines[1:]:                  #Можно применить, что-бы сразу отбросить 1ю строку!!!\n",
    "            new_line = []                    #Создаем временный список для отдельной строчки\n",
    "            for item in info:\n",
    "                if pattern.search(item) != None:                     #Если элемент списка соответствует паттерну\n",
    "                    new_line.append(int(pattern.search(item)[0]))    #Превращаем его в целое число и добавляем к временному списку\n",
    "                else:\n",
    "                    new_line.append(item[1:-1])                      #НЕ числа добавляем как есть (как строки)\n",
    "            exams.append(new_line)\n",
    "\n",
    "print(lines[0])\n",
    "print(exams[0])"
   ]
  },
  {
   "cell_type": "code",
   "execution_count": 111,
   "metadata": {},
   "outputs": [
    {
     "name": "stdout",
     "output_type": "stream",
     "text": [
      "69.169\n"
     ]
    }
   ],
   "source": [
    "#Средний балл за чтение:\n",
    "\n",
    "summ_reading=0\n",
    "#print(exams[1][6])\n",
    "for i in range(len(exams)):\n",
    "    summ_reading+=exams[i][6]\n",
    "reading_avg=summ_reading/len(exams)\n",
    "print(reading_avg)"
   ]
  },
  {
   "cell_type": "code",
   "execution_count": 112,
   "metadata": {},
   "outputs": [
    {
     "name": "stdout",
     "output_type": "stream",
     "text": [
      "487\n"
     ]
    }
   ],
   "source": [
    "#Сколько студентов получили за чтение ниже срежнего:\n",
    "\n",
    "counter=0\n",
    "for i in range(len(exams)):\n",
    "    if exams[i][6] < reading_avg:\n",
    "        counter+=1\n",
    "print(counter)"
   ]
  },
  {
   "cell_type": "code",
   "execution_count": 113,
   "metadata": {},
   "outputs": [
    {
     "name": "stdout",
     "output_type": "stream",
     "text": [
      "72.608\n"
     ]
    }
   ],
   "source": [
    "#Средний балл за чтение e девочек:\n",
    "\n",
    "\n",
    "summ_reading_girls=0\n",
    "girls_count=0\n",
    "for i in range(len(exams)):\n",
    "    if exams[i][0] == 'female':\n",
    "        summ_reading_girls+=exams[i][6]\n",
    "        girls_count+=1\n",
    "reading_avg_girls=round(summ_reading_girls/girls_count, 3)\n",
    "print(reading_avg_girls)"
   ]
  },
  {
   "cell_type": "code",
   "execution_count": 114,
   "metadata": {},
   "outputs": [
    {
     "name": "stdout",
     "output_type": "stream",
     "text": [
      "68\n"
     ]
    }
   ],
   "source": [
    "#Сколько абитуриентов получили на экзамене по письму (writing score) оценку выше 90?\n",
    "\n",
    "count=0\n",
    "for i in range(len(exams)):\n",
    "    if exams[i][-1] > 90:\n",
    "        count+=1\n",
    "print(count)"
   ]
  },
  {
   "cell_type": "code",
   "execution_count": 115,
   "metadata": {},
   "outputs": [
    {
     "name": "stdout",
     "output_type": "stream",
     "text": [
      "86.8\n"
     ]
    }
   ],
   "source": [
    "#Сколько процентов абитуриентов, получивших на экзамене по письму (writing score) оценку более 90, \n",
    "#хорошо пообедали перед экзаменом (lunch = standard)?\n",
    "\n",
    "count_score=0\n",
    "count_launch=0\n",
    "for i in range(len(exams)):\n",
    "    if exams[i][-1] > 90:\n",
    "        count_score+=1\n",
    "        if exams[i][3] == 'standard':\n",
    "            count_launch+=1\n",
    "print(round((count_launch/count_score)*100, 1))"
   ]
  },
  {
   "cell_type": "code",
   "execution_count": 116,
   "metadata": {},
   "outputs": [
    {
     "name": "stdout",
     "output_type": "stream",
     "text": [
      "group B: 190\n",
      "group C: 319\n",
      "group A: 89\n",
      "group D: 262\n",
      "group E: 140\n"
     ]
    }
   ],
   "source": [
    "#создать словарь, содержащий данные о количестве студентов, относящихся к разным этническим группам\n",
    "\n",
    "students = {}\n",
    "\n",
    "with open('StudentsPerformance.csv', 'r') as f:   #Открыли файл в переменной f\n",
    "    lines=f.readlines()                           #Построчно добавляем из f в список lines\n",
    "    \n",
    "#    print(lines[0])\n",
    "#    print(lines[1])\n",
    "    \n",
    "    for line in lines[1:]:                        #Отбрасываем 1ю строчку списка lines\n",
    "        info = line.split(',')                    #В цикле каждую строку превращаем в список объектов, разделенных ','\n",
    "        ethnicity = info[1][1:-1]                 #Извлекаем данные по этнической группе и отрезаем от них кавычки\n",
    "        if ethnicity in students:                 #Если в словаре уже есть такая этническая группа:\n",
    "            students[ethnicity] += 1              #Для существующего элемента ('этническая группа': количество) количество+1\n",
    "        else:                                     #Если в словаре нет такой энической группы:\n",
    "            students[ethnicity] = 1               #Создаем элемент словаря ('этническая группа': 1)\n",
    "\n",
    "for group, count in students.items():\n",
    "    print('{}: {}'.format(group, count))"
   ]
  },
  {
   "cell_type": "code",
   "execution_count": 117,
   "metadata": {},
   "outputs": [
    {
     "name": "stdout",
     "output_type": "stream",
     "text": [
      "group B: \n",
      "\t bachelor's degree:20\n",
      "\t master's degree:6\n",
      "\t associate's degree:41\n",
      "\t some college:37\n",
      "\t high school:48\n",
      "\t some high school:38\n",
      "group C: \n",
      "\t some college:69\n",
      "\t associate's degree:78\n",
      "\t some high school:49\n",
      "\t high school:64\n",
      "\t master's degree:19\n",
      "\t bachelor's degree:40\n",
      "group A: \n",
      "\t associate's degree:14\n",
      "\t some college:18\n",
      "\t master's degree:3\n",
      "\t some high school:24\n",
      "\t bachelor's degree:12\n",
      "\t high school:18\n",
      "group D: \n",
      "\t high school:44\n",
      "\t associate's degree:50\n",
      "\t some college:67\n",
      "\t bachelor's degree:28\n",
      "\t master's degree:23\n",
      "\t some high school:50\n",
      "group E: \n",
      "\t master's degree:8\n",
      "\t some college:35\n",
      "\t associate's degree:39\n",
      "\t bachelor's degree:18\n",
      "\t some high school:18\n",
      "\t high school:22\n"
     ]
    }
   ],
   "source": [
    "students = {}\n",
    "\n",
    "with open('StudentsPerformance.csv', 'r') as f:   #Открыли файл в переменной f\n",
    "    lines=f.readlines()                           #Построчно добавляем из f в список lines\n",
    "    \n",
    "    for line in lines[1:]:                        #Отбрасываем 1ю строчку списка lines\n",
    "        info = line.split(',')                    #В цикле каждую строку превращаем в список объектов, разделенных ','\n",
    "        ethnicity = info[1][1:-1]                 #Извлекаем данные по этнической группе и отрезаем от них кавычки\n",
    "        parents = info[2][1:-1]         #Извлекаем данные по образованию родителей и отрезаем от них кавычки\n",
    "        if ethnicity in students:                 #Если в словаре уже есть такая этническая группа:\n",
    "            if parents in students[ethnicity]:\n",
    "                students[ethnicity][parents] +=1\n",
    "            else:\n",
    "                students[ethnicity][parents] =1\n",
    "        else:\n",
    "            students[ethnicity]={}\n",
    "            students[ethnicity][parents]=1\n",
    "\n",
    "for group, level in students.items():\n",
    "    print('{}: '.format(group))    \n",
    "    for level, count in students[group].items():\n",
    "        print('\\t {}:{}'.format(level, students[group][level]), end='\\n')"
   ]
  },
  {
   "cell_type": "code",
   "execution_count": 118,
   "metadata": {},
   "outputs": [
    {
     "name": "stdout",
     "output_type": "stream",
     "text": [
      "2\n"
     ]
    }
   ],
   "source": [
    "#print(lines[0])\n",
    "#for i in range(10):\n",
    "#    print(exams[i])\n",
    "\n",
    "counter=0\n",
    "for i in range(len(exams)):\n",
    "    if exams[i][0]=='female' and exams[i][2]=='master\\'s degree' and exams[i][-3]>90:\n",
    "        counter+=1\n",
    "print(counter)"
   ]
  },
  {
   "cell_type": "code",
   "execution_count": 119,
   "metadata": {},
   "outputs": [
    {
     "name": "stdout",
     "output_type": "stream",
     "text": [
      "<class 'float'>\n"
     ]
    }
   ],
   "source": [
    "X ='55,66'\n",
    "X = float(X.replace(',', '.'))\n",
    "#print(type(X))\n",
    "print(type(X))"
   ]
  },
  {
   "cell_type": "code",
   "execution_count": 120,
   "metadata": {},
   "outputs": [
    {
     "data": {
      "text/plain": [
       "[]"
      ]
     },
     "execution_count": 120,
     "metadata": {},
     "output_type": "execute_result"
    }
   ],
   "source": [
    "pattern = re.compile('\\d\\d\\d')\n",
    "secret = pattern.findall('2 x 2 = 4') \n",
    "secret"
   ]
  },
  {
   "cell_type": "code",
   "execution_count": 121,
   "metadata": {},
   "outputs": [
    {
     "name": "stdout",
     "output_type": "stream",
     "text": [
      "\"gender\",\"race/ethnicity\",\"parental level of education\",\"lunch\",\"test preparation course\",\"math score\",\"reading score\",\"writing score\"\n",
      "\n",
      "['female', 'group B', \"bachelor's degree\", 'standard', 'none', 72, 72, 74]\n",
      "['female', 'group C', 'some college', 'standard', 'completed', 69, 90, 88]\n",
      "['female', 'group B', \"master's degree\", 'standard', 'none', 90, 95, 93]\n",
      "['male', 'group A', \"associate's degree\", 'free/reduced', 'none', 47, 57, 44]\n",
      "['male', 'group C', 'some college', 'standard', 'none', 76, 78, 75]\n",
      "['female', 'group B', \"associate's degree\", 'standard', 'none', 71, 83, 78]\n",
      "['female', 'group B', 'some college', 'standard', 'completed', 88, 95, 92]\n",
      "['male', 'group B', 'some college', 'free/reduced', 'none', 40, 43, 39]\n",
      "['male', 'group D', 'high school', 'free/reduced', 'completed', 64, 64, 67]\n",
      "['female', 'group B', 'high school', 'free/reduced', 'none', 38, 60, 50]\n",
      "2\n"
     ]
    }
   ],
   "source": [
    "print(lines[0])\n",
    "for i in range(10):\n",
    "    print(exams[i])\n",
    "\n",
    "counter=0\n",
    "for i in range(len(exams)):\n",
    "    if exams[i][0]=='female' and exams[i][2]=='master\\'s degree' and exams[i][-3]>90:\n",
    "        counter+=1\n",
    "print(counter)"
   ]
  },
  {
   "cell_type": "code",
   "execution_count": 123,
   "metadata": {},
   "outputs": [
    {
     "name": "stdout",
     "output_type": "stream",
     "text": [
      "63.02\n"
     ]
    }
   ],
   "source": [
    "counter=0\n",
    "score=0\n",
    "for i in range(len(exams)):\n",
    "    if exams[i][3]=='free/reduced':\n",
    "        counter+=1\n",
    "        score+=exams[i][-1]\n",
    "print(round(score/counter, 2))"
   ]
  },
  {
   "cell_type": "code",
   "execution_count": 124,
   "metadata": {},
   "outputs": [
    {
     "name": "stdout",
     "output_type": "stream",
     "text": [
      "Загадано число от 1 до 100\n",
      "1\n",
      "Угадываемое число больше 1 \n",
      "50\n",
      "Угадываемое число меньше 50 \n",
      "25\n",
      "Угадываемое число меньше 25 \n",
      "15\n",
      "Угадываемое число меньше 15 \n",
      "10\n",
      "Угадываемое число меньше 10 \n",
      "5\n",
      "Угадываемое число меньше 5 \n",
      "3\n",
      "Угадываемое число больше 3 \n",
      "4\n",
      "Вы угадали число 4 за 8 попыток.\n"
     ]
    }
   ],
   "source": [
    "import numpy as np\n",
    "count = 0                            # счетчик попыток\n",
    "number = np.random.randint(1,101)    # загадали число\n",
    "print (\"Загадано число от 1 до 100\")\n",
    "\n",
    "while True:                        # бесконечный цикл\n",
    "    predict = int(input())         # предполагаемое число\n",
    "    count += 1                     # плюсуем попытку\n",
    "    if number == predict: break    # выход из цикла, если угадали\n",
    "    elif number > predict: print (f\"Угадываемое число больше {predict} \")\n",
    "    elif number < predict: print (f\"Угадываемое число меньше {predict} \")\n",
    "        \n",
    "print (f\"Вы угадали число {number} за {count} попыток.\")"
   ]
  },
  {
   "cell_type": "code",
   "execution_count": 101,
   "metadata": {},
   "outputs": [],
   "source": [
    "import numpy as np\n",
    "\n",
    "def game_core_v1(number):\n",
    "    '''Просто угадываем на random, никак не используя информацию о больше или меньше.\n",
    "       Функция принимает загаданное число и возвращает число попыток'''\n",
    "    count = 0\n",
    "    while True:\n",
    "        count+=1\n",
    "        predict = np.random.randint(1,101) # предполагаемое число\n",
    "        if number == predict: \n",
    "            return(count) # выход из цикла, если угадали\n",
    "        \n",
    "\n",
    "def game_core_v2(number):\n",
    "    '''Сначала устанавливаем любое random число, а потом уменьшаем или увеличиваем его в зависимости от того, больше оно или меньше нужного.\n",
    "       Функция принимает загаданное число и возвращает число попыток'''\n",
    "    count = 1\n",
    "    predict = np.random.randint(1,101)\n",
    "    while number != predict:\n",
    "        count+=1\n",
    "        if number > predict: \n",
    "            predict += 1\n",
    "        elif number < predict: \n",
    "            predict -= 1\n",
    "    return(count) # выход из цикла, если угадали\n",
    "\n",
    "\n",
    "        \n",
    "def score_game(game_core):\n",
    "    '''Запускаем игру 1000 раз, чтобы узнать, как быстро игра угадывает число'''\n",
    "    count_ls = []\n",
    "    np.random.seed(1)  # фиксируем RANDOM SEED, чтобы ваш эксперимент был воспроизводим!\n",
    "    random_array = np.random.randint(1,101, size=(1000))\n",
    "    for number in random_array:\n",
    "        count_ls.append(game_core(number))\n",
    "    score = int(np.mean(count_ls))\n",
    "    print(f\"Ваш алгоритм угадывает число в среднем за {score} попыток\")\n",
    "    return(score)"
   ]
  },
  {
   "cell_type": "code",
   "execution_count": 113,
   "metadata": {},
   "outputs": [],
   "source": [
    "def my_game_core(number):\n",
    "    \n",
    "    count = 1\n",
    "    int_low = 1\n",
    "    int_high = 101\n",
    "    predict = 50\n",
    "    while number != predict:\n",
    "        count+=1\n",
    "        if number > predict:\n",
    "            int_low = predict\n",
    "            #print(f\"Заданное число больше {int_low} и находится в диапазоне от {int_low} до {int_high}\")\n",
    "            predict = int((int_low + int_high)/2)\n",
    "        elif number < predict:\n",
    "            int_high = predict\n",
    "            #print(f\"Заданное число меньше {int_high} и находится в диапазоне от {int_low} до {int_high}\")\n",
    "            predict = int((int_low + int_high)/2)\n",
    "    #print(f\"Ваш алгоритм угадывает число {number} за {count} попыток\")\n",
    "    return(count)\n",
    "        "
   ]
  },
  {
   "cell_type": "code",
   "execution_count": 123,
   "metadata": {},
   "outputs": [
    {
     "data": {
      "text/plain": [
       "7"
      ]
     },
     "execution_count": 123,
     "metadata": {},
     "output_type": "execute_result"
    }
   ],
   "source": [
    "number = np.random.randint(1,101)\n",
    "my_game_core(49)"
   ]
  },
  {
   "cell_type": "code",
   "execution_count": 114,
   "metadata": {},
   "outputs": [
    {
     "name": "stdout",
     "output_type": "stream",
     "text": [
      "Ваш алгоритм угадывает число в среднем за 5 попыток\n"
     ]
    },
    {
     "data": {
      "text/plain": [
       "5"
      ]
     },
     "execution_count": 114,
     "metadata": {},
     "output_type": "execute_result"
    }
   ],
   "source": [
    "score_game(my_game_core)"
   ]
  }
 ],
 "metadata": {
  "kernelspec": {
   "display_name": "Python 3",
   "language": "python",
   "name": "python3"
  },
  "language_info": {
   "codemirror_mode": {
    "name": "ipython",
    "version": 3
   },
   "file_extension": ".py",
   "mimetype": "text/x-python",
   "name": "python",
   "nbconvert_exporter": "python",
   "pygments_lexer": "ipython3",
   "version": "3.8.5"
  }
 },
 "nbformat": 4,
 "nbformat_minor": 4
}
